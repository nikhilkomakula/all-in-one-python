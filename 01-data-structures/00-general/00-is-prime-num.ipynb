{
 "cells": [
  {
   "cell_type": "markdown",
   "metadata": {},
   "source": [
    "# Check if a given number is a prime number"
   ]
  },
  {
   "cell_type": "markdown",
   "metadata": {},
   "source": [
    "#### **Method #1:** Brute force\n",
    "- Time Complexity - O(n)\n",
    "- Space Complexity - O(1)"
   ]
  },
  {
   "cell_type": "code",
   "execution_count": 3,
   "metadata": {},
   "outputs": [
    {
     "name": "stdout",
     "output_type": "stream",
     "text": [
      "17 is prime\n"
     ]
    }
   ],
   "source": [
    "def is_prime_bf(n):\n",
    "    if n <= 1:\n",
    "        return False\n",
    "    for i in range(2, n):\n",
    "        if n % i == 0:\n",
    "            return False\n",
    "    return True\n",
    "\n",
    "num = 17\n",
    "if is_prime_bf(num):\n",
    "    print(num, \"is prime\")\n",
    "else:\n",
    "    print(num, \"is not prime\")"
   ]
  },
  {
   "cell_type": "markdown",
   "metadata": {},
   "source": [
    "#### **Method #2:** Optimized Approach\n",
    "- Time Complexity - O(sqrt(n))\n",
    "- Space Complexity - O(1)"
   ]
  },
  {
   "cell_type": "code",
   "execution_count": 6,
   "metadata": {},
   "outputs": [
    {
     "name": "stdout",
     "output_type": "stream",
     "text": [
      "49 is not prime\n"
     ]
    }
   ],
   "source": [
    "import math\n",
    "\n",
    "def is_prime_oa(n):\n",
    "    # If n is 0 or 1, it is not prime.\n",
    "    if n <= 1:\n",
    "        return False\n",
    "    elif n <= 3:\n",
    "        return True\n",
    "    \n",
    "    # find the square root of n\n",
    "    sqrt_n = int(math.sqrt(n)) + 1\n",
    "    \n",
    "    # Iterate over all numbers from 2 to the square root of n.\n",
    "    for i in range(2, sqrt_n):\n",
    "        # If n is divisible by any number from 2 to its square root, it is not prime.\n",
    "        if n % i == 0:\n",
    "            return False\n",
    "\n",
    "    # If n is divisible by no number from 2 to its square root, it is prime.\n",
    "    return True\n",
    "\n",
    "# Example usage:\n",
    "num = 49\n",
    "if is_prime_oa(num):\n",
    "    print(num, \"is prime\")\n",
    "else:\n",
    "    print(num, \"is not prime\")"
   ]
  },
  {
   "cell_type": "code",
   "execution_count": null,
   "metadata": {},
   "outputs": [],
   "source": []
  }
 ],
 "metadata": {
  "kernelspec": {
   "display_name": ".aiop-venv",
   "language": "python",
   "name": "python3"
  },
  "language_info": {
   "codemirror_mode": {
    "name": "ipython",
    "version": 3
   },
   "file_extension": ".py",
   "mimetype": "text/x-python",
   "name": "python",
   "nbconvert_exporter": "python",
   "pygments_lexer": "ipython3",
   "version": "3.12.1"
  }
 },
 "nbformat": 4,
 "nbformat_minor": 2
}
