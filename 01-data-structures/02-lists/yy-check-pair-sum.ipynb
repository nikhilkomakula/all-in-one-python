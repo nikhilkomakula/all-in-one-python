{
 "cells": [
  {
   "cell_type": "markdown",
   "metadata": {},
   "source": [
    "# Check if pair with given Sum exists in Array (Two Sum)\n",
    "https://www.geeksforgeeks.org/check-if-pair-with-given-sum-exists-in-array/"
   ]
  },
  {
   "cell_type": "markdown",
   "metadata": {},
   "source": [
    "#### Given an array A[] of n numbers and another number x, the task is to check whether or not there exist two elements in A[] whose sum is exactly x."
   ]
  },
  {
   "cell_type": "markdown",
   "metadata": {},
   "source": [
    "**Example #1:**\n",
    "\n",
    "Input: arr[] = {0, -1, 2, -3, 1}, x= -2\n",
    "\n",
    "Output: Yes\n",
    "\n",
    "Explanation: If we calculate the sum of the output,1 + (-3) = -2"
   ]
  },
  {
   "cell_type": "markdown",
   "metadata": {},
   "source": [
    "**Example #2:**\n",
    "\n",
    "Input: arr[] = {1, -2, 1, 0, 5}, x = 0\n",
    "\n",
    "Output: No"
   ]
  },
  {
   "cell_type": "markdown",
   "metadata": {},
   "source": [
    "## Naive Approach"
   ]
  },
  {
   "cell_type": "code",
   "execution_count": null,
   "metadata": {},
   "outputs": [],
   "source": []
  }
 ],
 "metadata": {
  "kernelspec": {
   "display_name": ".aiop-venv",
   "language": "python",
   "name": "python3"
  },
  "language_info": {
   "name": "python",
   "version": "3.12.1"
  }
 },
 "nbformat": 4,
 "nbformat_minor": 2
}
