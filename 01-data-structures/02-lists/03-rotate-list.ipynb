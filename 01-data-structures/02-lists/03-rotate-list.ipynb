{
 "cells": [
  {
   "cell_type": "markdown",
   "metadata": {},
   "source": [
    "## Rotate a list"
   ]
  },
  {
   "cell_type": "markdown",
   "metadata": {},
   "source": [
    "**Method #1:** Brute force\n",
    "- Time Complexity: `O(n)`\n",
    "    - The time complexity of this function is O(n), where n is the length of the input list arr. This is because the function needs to slice the list twice and concatenate the two slices, which takes O(n) time.\n",
    "- Space Complexity: `O(n)`\n",
    "    - The space complexity of this function is also O(n), as the function creates a new list to store the rotated elements. The size of this new list is equal to the size of the input list arr, so the space complexity is O(n)."
   ]
  },
  {
   "cell_type": "code",
   "execution_count": 17,
   "metadata": {},
   "outputs": [],
   "source": [
    "def rotate_list_bf(arr: list, rotate: int) -> list:\n",
    "    if rotate > len(arr):\n",
    "        rotate %= len(arr)\n",
    "    return (arr[rotate:]+(arr[:rotate]))"
   ]
  },
  {
   "cell_type": "code",
   "execution_count": 19,
   "metadata": {},
   "outputs": [
    {
     "data": {
      "text/plain": [
       "[3, 4, 5, 1, 2]"
      ]
     },
     "execution_count": 19,
     "metadata": {},
     "output_type": "execute_result"
    }
   ],
   "source": [
    "arr = [1, 2, 3, 4, 5]\n",
    "rotate_list_bf(arr, 2)"
   ]
  },
  {
   "cell_type": "markdown",
   "metadata": {},
   "source": [
    "**Method #2:** Optimized Approach\n",
    "- Time Complexity: `O(n)`\n",
    "- Space Complexity: `O(1)`"
   ]
  },
  {
   "cell_type": "code",
   "execution_count": 31,
   "metadata": {},
   "outputs": [],
   "source": [
    "def rotate_list_oa(arr: list, rotate: int) -> list:\n",
    "    \n",
    "    def reverse_arr(arr: list, start: int, end: int) -> list:\n",
    "        while start < end:\n",
    "            arr[start], arr[end] = arr[end], arr[start]\n",
    "            start += 1\n",
    "            end -= 1\n",
    "    \n",
    "    # Adjust n to be within the range of array length\n",
    "    if rotate > len(arr):\n",
    "        rotate %= len(arr)\n",
    "        \n",
    "    # Reverse the first part of the array\n",
    "    reverse_arr(arr, 0, rotate - 1)\n",
    "    # Reverse the second part of the array\n",
    "    reverse_arr(arr, rotate, len(arr) - 1)\n",
    "    # Reverse the entire array\n",
    "    reverse_arr(arr, 0, len(arr) - 1)\n",
    "    \n",
    "    return arr"
   ]
  },
  {
   "cell_type": "code",
   "execution_count": 32,
   "metadata": {},
   "outputs": [
    {
     "data": {
      "text/plain": [
       "[4, 5, 1, 2, 3]"
      ]
     },
     "execution_count": 32,
     "metadata": {},
     "output_type": "execute_result"
    }
   ],
   "source": [
    "arr = [1, 2, 3, 4, 5]\n",
    "rotate_list_oa(arr, 3)"
   ]
  },
  {
   "cell_type": "code",
   "execution_count": null,
   "metadata": {},
   "outputs": [],
   "source": []
  }
 ],
 "metadata": {
  "kernelspec": {
   "display_name": ".aiop-venv",
   "language": "python",
   "name": "python3"
  },
  "language_info": {
   "codemirror_mode": {
    "name": "ipython",
    "version": 3
   },
   "file_extension": ".py",
   "mimetype": "text/x-python",
   "name": "python",
   "nbconvert_exporter": "python",
   "pygments_lexer": "ipython3",
   "version": "3.12.1"
  }
 },
 "nbformat": 4,
 "nbformat_minor": 2
}
