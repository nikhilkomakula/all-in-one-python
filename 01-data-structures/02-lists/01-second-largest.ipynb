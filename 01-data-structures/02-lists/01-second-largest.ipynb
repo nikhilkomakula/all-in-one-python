{
 "cells": [
  {
   "cell_type": "markdown",
   "metadata": {},
   "source": [
    "## Find second largest number in list"
   ]
  },
  {
   "cell_type": "markdown",
   "metadata": {},
   "source": [
    "**Method #1:** Naive approach (Two Traversals)\n",
    "- Time Complexity: `O(n)`\n",
    "- Space Complexity: `O(1)`"
   ]
  },
  {
   "cell_type": "code",
   "execution_count": 11,
   "metadata": {},
   "outputs": [],
   "source": [
    "from typing import Optional\n",
    "def find_second_largest_na(arr: list) -> Optional[int]:\n",
    "    \n",
    "    def get_max(arr: list) -> int:\n",
    "        largest = arr[0]\n",
    "        for element in arr:\n",
    "            if element > largest:\n",
    "                largest = element\n",
    "        return largest\n",
    "    \n",
    "    if len(arr) <= 1:\n",
    "        return None\n",
    "    else:\n",
    "        first_largest = get_max(arr)\n",
    "        second_largest = None\n",
    "        for element in arr:\n",
    "            if element != first_largest:\n",
    "                if second_largest == None:\n",
    "                    second_largest = element\n",
    "                else:\n",
    "                    second_largest = max(second_largest, element)\n",
    "        return second_largest   "
   ]
  },
  {
   "cell_type": "code",
   "execution_count": 10,
   "metadata": {},
   "outputs": [
    {
     "data": {
      "text/plain": [
       "12"
      ]
     },
     "execution_count": 10,
     "metadata": {},
     "output_type": "execute_result"
    }
   ],
   "source": [
    "arr = [5, 20, 12, 10, 20, 10, 12]\n",
    "find_second_largest_na(arr)"
   ]
  },
  {
   "cell_type": "markdown",
   "metadata": {},
   "source": [
    "**Method #2:** Efficient approach (One Traversal)\n",
    "- Time Complexity: `O(n)`\n",
    "- Space Complexity: `O(1)`"
   ]
  },
  {
   "cell_type": "code",
   "execution_count": 14,
   "metadata": {},
   "outputs": [],
   "source": [
    "from typing import Optional\n",
    "def find_second_largest_ea(arr: list) -> Optional[int]:    \n",
    "    if len(arr) <= 1:\n",
    "        return None\n",
    "    else:\n",
    "        first_largest = arr[0]\n",
    "        second_largest = None\n",
    "        for element in arr[1:]:\n",
    "            if element > first_largest:\n",
    "                second_largest = first_largest\n",
    "                first_largest = element\n",
    "            elif element != first_largest:\n",
    "                if second_largest == None or second_largest < element:\n",
    "                    second_largest = element\n",
    "        return second_largest   "
   ]
  },
  {
   "cell_type": "code",
   "execution_count": 15,
   "metadata": {},
   "outputs": [
    {
     "data": {
      "text/plain": [
       "12"
      ]
     },
     "execution_count": 15,
     "metadata": {},
     "output_type": "execute_result"
    }
   ],
   "source": [
    "arr = [5, 20, 12, 10, 20, 10, 12]\n",
    "find_second_largest_ea(arr)"
   ]
  }
 ],
 "metadata": {
  "kernelspec": {
   "display_name": ".aiop-venv",
   "language": "python",
   "name": "python3"
  },
  "language_info": {
   "codemirror_mode": {
    "name": "ipython",
    "version": 3
   },
   "file_extension": ".py",
   "mimetype": "text/x-python",
   "name": "python",
   "nbconvert_exporter": "python",
   "pygments_lexer": "ipython3",
   "version": "3.12.1"
  }
 },
 "nbformat": 4,
 "nbformat_minor": 2
}
