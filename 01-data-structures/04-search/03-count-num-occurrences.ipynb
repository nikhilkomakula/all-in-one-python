{
 "cells": [
  {
   "cell_type": "markdown",
   "metadata": {},
   "source": [
    "## Find the count of occurrences of a given number in a `sorted` array"
   ]
  },
  {
   "cell_type": "markdown",
   "metadata": {},
   "source": [
    "**Method #1:** Brute force (Linear Search)\n",
    "\n",
    "- Time Complexity : `O(n)`\n",
    "- Space Complexity : `O(1)`"
   ]
  },
  {
   "cell_type": "code",
   "execution_count": 1,
   "metadata": {},
   "outputs": [],
   "source": [
    "def linear_search(arr: list, num: int) -> int:\n",
    "    count = 0\n",
    "    for item in arr:\n",
    "        if item == num:\n",
    "            count += 1\n",
    "    return count"
   ]
  },
  {
   "cell_type": "code",
   "execution_count": 2,
   "metadata": {},
   "outputs": [
    {
     "name": "stdout",
     "output_type": "stream",
     "text": [
      "3\n"
     ]
    }
   ],
   "source": [
    "arr = [10, 20, 20, 20, 30, 30]\n",
    "num = 20\n",
    "print(linear_search(arr, num))"
   ]
  },
  {
   "cell_type": "markdown",
   "metadata": {},
   "source": [
    "**Method #2:** Optimized (Binary Search)\n",
    "\n",
    "- Time Complexity : `O(log n)`\n",
    "- Space Complexity : `O(1)`"
   ]
  },
  {
   "cell_type": "code",
   "execution_count": 3,
   "metadata": {},
   "outputs": [],
   "source": [
    "def first_occurrence(arr: list, num: int) -> int:\n",
    "    start, end = 0, len(arr) - 1\n",
    "    while start <= end:\n",
    "        mid = (start + end) // 2\n",
    "        if arr[mid] > num:\n",
    "            end = mid - 1\n",
    "        elif arr[mid] < num:\n",
    "            start = mid + 1\n",
    "        else:\n",
    "            if mid == 0 or arr[mid] != arr[mid-1]:\n",
    "                return mid\n",
    "            else:\n",
    "                end = mid - 1\n",
    "    return -1\n",
    "\n",
    "def last_occurrence(arr: list, num: int) -> int:\n",
    "    start, end = 0, len(arr) - 1\n",
    "    while start <= end:\n",
    "        mid = (start + end) // 2\n",
    "        if arr[mid] > num:\n",
    "            end = mid - 1\n",
    "        elif arr[mid] < num:\n",
    "            start = mid + 1\n",
    "        else:\n",
    "            if mid == len(arr) - 1 or arr[mid] != arr[mid+1]:\n",
    "                return mid\n",
    "            else:\n",
    "                start = mid + 1\n",
    "\n",
    "def count_occurrences(arr: list, num: int) -> int:\n",
    "    first_idx = first_occurrence(arr, num)\n",
    "    if first_idx == -1:\n",
    "        return 0\n",
    "    else:\n",
    "        last_idx = last_occurrence(arr, num)\n",
    "        return last_idx - first_idx + 1"
   ]
  },
  {
   "cell_type": "code",
   "execution_count": 4,
   "metadata": {},
   "outputs": [
    {
     "data": {
      "text/plain": [
       "3"
      ]
     },
     "execution_count": 4,
     "metadata": {},
     "output_type": "execute_result"
    }
   ],
   "source": [
    "arr = [10, 20, 20, 20, 30, 30]\n",
    "num = 20\n",
    "count_occurrences(arr, num)"
   ]
  },
  {
   "cell_type": "code",
   "execution_count": null,
   "metadata": {},
   "outputs": [],
   "source": []
  }
 ],
 "metadata": {
  "kernelspec": {
   "display_name": ".aiop-venv",
   "language": "python",
   "name": "python3"
  },
  "language_info": {
   "codemirror_mode": {
    "name": "ipython",
    "version": 3
   },
   "file_extension": ".py",
   "mimetype": "text/x-python",
   "name": "python",
   "nbconvert_exporter": "python",
   "pygments_lexer": "ipython3",
   "version": "3.12.1"
  }
 },
 "nbformat": 4,
 "nbformat_minor": 2
}
