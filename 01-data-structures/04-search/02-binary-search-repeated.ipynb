{
 "cells": [
  {
   "cell_type": "markdown",
   "metadata": {},
   "source": [
    "# Find `first` occurrence of a given number in a `sorted` array (not rotated)"
   ]
  },
  {
   "cell_type": "markdown",
   "metadata": {},
   "source": [
    "**Method #1:** Brute force (Linear Search)\n",
    "\n",
    "- Time Complexity : `O(n)`\n",
    "- Space Complexity : `O(1)`"
   ]
  },
  {
   "cell_type": "code",
   "execution_count": 1,
   "metadata": {},
   "outputs": [],
   "source": [
    "def linear_search(arr, num):\n",
    "    if arr and len(arr) > 0:\n",
    "        for i in range(len(arr)):\n",
    "            if arr[i] == num:\n",
    "                return i\n",
    "    return -1"
   ]
  },
  {
   "cell_type": "code",
   "execution_count": 2,
   "metadata": {},
   "outputs": [
    {
     "data": {
      "text/plain": [
       "3"
      ]
     },
     "execution_count": 2,
     "metadata": {},
     "output_type": "execute_result"
    }
   ],
   "source": [
    "arr = [13, 11, 10, 7, 4, 3, 1, 0]\n",
    "num = 7\n",
    "linear_search(arr, num)"
   ]
  },
  {
   "cell_type": "markdown",
   "metadata": {},
   "source": [
    "**Method #2.1:** Binary Search (supports repeated numbers)\n",
    "\n",
    "- Time Complexity : `O(log n)`\n",
    "- Space Complexity : `O(1)`"
   ]
  },
  {
   "cell_type": "code",
   "execution_count": 11,
   "metadata": {},
   "outputs": [],
   "source": [
    "# required if there are recurring numbers in the array and the search should return the index of 'first' occuring element\n",
    "def test_recurring_num(arr, num, mid):\n",
    "    if arr[mid] == num:\n",
    "        if mid-1 >= 0 and arr[mid-1] == num:\n",
    "            return 'left'\n",
    "        else:\n",
    "            return 'found'\n",
    "    elif arr[mid] < num:\n",
    "        return 'right'\n",
    "    else:\n",
    "        return 'left'\n",
    "\n",
    "def binary_search_recurring(arr, num):\n",
    "    start, end = 0, len(arr) - 1\n",
    "    while start <= end:\n",
    "        mid = (start + end) // 2\n",
    "        result = test_recurring_num(arr, num, mid)\n",
    "        if result == 'found':\n",
    "            return mid\n",
    "        elif result == 'left':\n",
    "            end = mid - 1\n",
    "        elif result == 'right':\n",
    "            start = mid + 1\n",
    "    return -1"
   ]
  },
  {
   "cell_type": "code",
   "execution_count": 12,
   "metadata": {},
   "outputs": [
    {
     "data": {
      "text/plain": [
       "7"
      ]
     },
     "execution_count": 12,
     "metadata": {},
     "output_type": "execute_result"
    }
   ],
   "source": [
    "arr = [1, 2, 2, 3, 4, 4, 4, 5, 5]\n",
    "num = 5\n",
    "binary_search_recurring(arr, num)"
   ]
  },
  {
   "cell_type": "code",
   "execution_count": 19,
   "metadata": {},
   "outputs": [
    {
     "data": {
      "text/plain": [
       "0"
      ]
     },
     "execution_count": 19,
     "metadata": {},
     "output_type": "execute_result"
    }
   ],
   "source": [
    "arr = [0, 0, 0, 2, 2, 2, 3, 6, 6, 6, 6, 6, 6, 8, 8]\n",
    "num = 0\n",
    "binary_search_recurring(arr, num)"
   ]
  },
  {
   "cell_type": "markdown",
   "metadata": {},
   "source": [
    "**Method #2.2:** Binary Search (BETTER) (supports repeated numbers)\n",
    "\n",
    "- Time Complexity : `O(log n)`\n",
    "- Space Complexity : `O(1)`"
   ]
  },
  {
   "cell_type": "code",
   "execution_count": 13,
   "metadata": {},
   "outputs": [],
   "source": [
    "\n",
    "def binary_search_recurring_better(arr, num):\n",
    "    start, end = 0, len(arr) - 1\n",
    "    while start <= end:\n",
    "        mid = (start + end) // 2\n",
    "        if arr[mid] > num:\n",
    "            end = mid - 1\n",
    "        elif arr[mid] < num:\n",
    "            start = mid + 1\n",
    "        else:\n",
    "            if mid == 0 or arr[mid-1] != arr[mid]:  # IMPORTANT\n",
    "                return mid\n",
    "            else:\n",
    "                end = mid - 1        \n",
    "    return -1"
   ]
  },
  {
   "cell_type": "code",
   "execution_count": 14,
   "metadata": {},
   "outputs": [
    {
     "data": {
      "text/plain": [
       "7"
      ]
     },
     "execution_count": 14,
     "metadata": {},
     "output_type": "execute_result"
    }
   ],
   "source": [
    "arr = [1, 2, 2, 3, 4, 4, 4, 5, 5]\n",
    "num = 5\n",
    "binary_search_recurring_better(arr, num)"
   ]
  },
  {
   "cell_type": "code",
   "execution_count": 18,
   "metadata": {},
   "outputs": [
    {
     "data": {
      "text/plain": [
       "0"
      ]
     },
     "execution_count": 18,
     "metadata": {},
     "output_type": "execute_result"
    }
   ],
   "source": [
    "arr = [0, 0, 0, 2, 2, 2, 3, 6, 6, 6, 6, 6, 6, 8, 8]\n",
    "num = 0\n",
    "binary_search_recurring_better(arr, num)"
   ]
  },
  {
   "cell_type": "markdown",
   "metadata": {},
   "source": [
    "# Find `last` occurrence of a given number in a `sorted` array (not rotated)"
   ]
  },
  {
   "cell_type": "markdown",
   "metadata": {},
   "source": [
    "**Method #1:** Brute force (Linear Search)\n",
    "\n",
    "- Time Complexity : `O(n)`\n",
    "- Space Complexity : `O(1)`"
   ]
  },
  {
   "cell_type": "code",
   "execution_count": null,
   "metadata": {},
   "outputs": [],
   "source": [
    "def linear_search(arr, num):\n",
    "    idx = -1\n",
    "    for i in range(len(arr)):\n",
    "        if arr[i] == num:\n",
    "            idx = i\n",
    "    return idx"
   ]
  },
  {
   "cell_type": "code",
   "execution_count": null,
   "metadata": {},
   "outputs": [
    {
     "data": {
      "text/plain": [
       "3"
      ]
     },
     "metadata": {},
     "output_type": "display_data"
    }
   ],
   "source": [
    "arr = [1, 1, 1, 1, 2, 3, 4, 4, 5]\n",
    "num = 1\n",
    "linear_search(arr, num)"
   ]
  },
  {
   "cell_type": "markdown",
   "metadata": {},
   "source": [
    "**Method #2:** Binary Search (supports repeated numbers)\n",
    "\n",
    "- Time Complexity : `O(log n)`\n",
    "- Space Complexity : `O(1)`"
   ]
  },
  {
   "cell_type": "code",
   "execution_count": null,
   "metadata": {},
   "outputs": [],
   "source": [
    "\n",
    "def binary_search_recurring_better(arr, num):\n",
    "    start, end = 0, len(arr) - 1\n",
    "    while start <= end:\n",
    "        mid = (start + end) // 2\n",
    "        if arr[mid] > num:\n",
    "            end = mid - 1\n",
    "        elif arr[mid] < num:\n",
    "            start = mid + 1\n",
    "        else:\n",
    "            if mid == len(arr) - 1 or arr[mid+1] != arr[mid]:   # IMPORTANT\n",
    "                return mid\n",
    "            else:\n",
    "                start = mid + 1        \n",
    "    return -1"
   ]
  },
  {
   "cell_type": "code",
   "execution_count": null,
   "metadata": {},
   "outputs": [
    {
     "data": {
      "text/plain": [
       "8"
      ]
     },
     "metadata": {},
     "output_type": "display_data"
    }
   ],
   "source": [
    "arr = [1, 2, 2, 3, 4, 4, 4, 5, 5]\n",
    "num = 5\n",
    "binary_search_recurring_better(arr, num)"
   ]
  },
  {
   "cell_type": "code",
   "execution_count": null,
   "metadata": {},
   "outputs": [
    {
     "data": {
      "text/plain": [
       "2"
      ]
     },
     "metadata": {},
     "output_type": "display_data"
    }
   ],
   "source": [
    "arr = [0, 0, 0, 2, 2, 2, 3, 6, 6, 6, 6, 6, 6, 8, 8]\n",
    "num = 0\n",
    "binary_search_recurring_better(arr, num)"
   ]
  },
  {
   "cell_type": "code",
   "execution_count": null,
   "metadata": {},
   "outputs": [],
   "source": []
  }
 ],
 "metadata": {
  "kernelspec": {
   "display_name": ".aiop-venv",
   "language": "python",
   "name": "python3"
  },
  "language_info": {
   "codemirror_mode": {
    "name": "ipython",
    "version": 3
   },
   "file_extension": ".py",
   "mimetype": "text/x-python",
   "name": "python",
   "nbconvert_exporter": "python",
   "pygments_lexer": "ipython3",
   "version": "3.12.1"
  }
 },
 "nbformat": 4,
 "nbformat_minor": 2
}
