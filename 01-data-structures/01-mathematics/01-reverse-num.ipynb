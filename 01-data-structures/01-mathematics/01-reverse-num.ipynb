{
 "cells": [
  {
   "cell_type": "markdown",
   "metadata": {},
   "source": [
    "## Reverse a number"
   ]
  },
  {
   "cell_type": "markdown",
   "metadata": {},
   "source": [
    "- Time Complexity - `O(log n)`\n",
    "    - Note: It is `O(log n)` because the number of iterations required to reverse a number is dependent on the number of digits in the given number. For example, if number is 123, then the below code would run for 3 iterations. As 100 (multiples of 10) is closest to 123, then if you do `(log10 100) + 1`, then you get `3`.\n",
    "    - Q: if the number of iterations is directly related to the number of digits, why can't we just say that it's O(n) where n is the number of digits and not the number itself?\n",
    "    - A: You could. But the big O notation was expressed in terms of the number, not the number of digits. So to get the number of digits you need to take the Log of the number.\n",
    "    - https://stackoverflow.com/questions/59851998/why-is-this-solution-to-reverse-integer-leet-code-olog10n\n",
    "- Space Complexity - `O(1)`"
   ]
  },
  {
   "cell_type": "code",
   "execution_count": 1,
   "metadata": {},
   "outputs": [],
   "source": [
    "def reverse_num(num: int) -> int:\n",
    "    reverse_num = 0\n",
    "    while num != 0:\n",
    "        last_digit = num % 10\n",
    "        reverse_num = reverse_num * 10 + last_digit\n",
    "        num = num // 10\n",
    "    return reverse_num"
   ]
  },
  {
   "cell_type": "code",
   "execution_count": 2,
   "metadata": {},
   "outputs": [
    {
     "data": {
      "text/plain": [
       "54321"
      ]
     },
     "execution_count": 2,
     "metadata": {},
     "output_type": "execute_result"
    }
   ],
   "source": [
    "reverse_num(12345)"
   ]
  },
  {
   "cell_type": "code",
   "execution_count": 4,
   "metadata": {},
   "outputs": [
    {
     "data": {
      "text/plain": [
       "1"
      ]
     },
     "execution_count": 4,
     "metadata": {},
     "output_type": "execute_result"
    }
   ],
   "source": [
    "reverse_num(1)"
   ]
  },
  {
   "cell_type": "code",
   "execution_count": null,
   "metadata": {},
   "outputs": [],
   "source": []
  }
 ],
 "metadata": {
  "kernelspec": {
   "display_name": ".aiop-venv",
   "language": "python",
   "name": "python3"
  },
  "language_info": {
   "codemirror_mode": {
    "name": "ipython",
    "version": 3
   },
   "file_extension": ".py",
   "mimetype": "text/x-python",
   "name": "python",
   "nbconvert_exporter": "python",
   "pygments_lexer": "ipython3",
   "version": "3.12.1"
  }
 },
 "nbformat": 4,
 "nbformat_minor": 2
}
