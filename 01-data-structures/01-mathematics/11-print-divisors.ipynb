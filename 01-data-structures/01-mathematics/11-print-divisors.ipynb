{
 "cells": [
  {
   "cell_type": "markdown",
   "metadata": {},
   "source": [
    "## Print all Divisors"
   ]
  },
  {
   "cell_type": "markdown",
   "metadata": {},
   "source": [
    "**Method #1:** Naive Approach\n",
    "- Time Complexity: `O(n)`\n",
    "- Space Complexity: `O(1)`"
   ]
  },
  {
   "cell_type": "code",
   "execution_count": 9,
   "metadata": {},
   "outputs": [],
   "source": [
    "def print_divisors_na(n: int) -> None:\n",
    "    for i in range(1, n+1):\n",
    "        if n % i == 0:\n",
    "            print(i, end=\" \")\n",
    "    print(\"\\n\", \"-\"*10)"
   ]
  },
  {
   "cell_type": "code",
   "execution_count": 10,
   "metadata": {},
   "outputs": [
    {
     "name": "stdout",
     "output_type": "stream",
     "text": [
      "\n",
      " ----------\n",
      "1 \n",
      " ----------\n",
      "1 2 \n",
      " ----------\n",
      "1 2 5 10 \n",
      " ----------\n",
      "1 7 49 \n",
      " ----------\n"
     ]
    }
   ],
   "source": [
    "print_divisors_na(0)\n",
    "print_divisors_na(1)\n",
    "print_divisors_na(2)\n",
    "print_divisors_na(10)\n",
    "print_divisors_na(49)"
   ]
  },
  {
   "cell_type": "markdown",
   "metadata": {},
   "source": [
    "**Method #2:** Optimized Approach (Output is NOT in ascending order)\n",
    "- Time Complexity: `O(sqrt(n))`\n",
    "- Space Complexity: `O(1)`"
   ]
  },
  {
   "cell_type": "code",
   "execution_count": 19,
   "metadata": {},
   "outputs": [],
   "source": [
    "def print_divisors_opt(n: int) -> None:\n",
    "    i = 1\n",
    "    while (i * i <= n):\n",
    "        if n % i == 0:\n",
    "            print(i, end=\" \")\n",
    "            if i != n/i:\n",
    "                print(n//i, end=\" \")\n",
    "        i += 1\n",
    "    print(\"\\n\", \"-\"*10)        "
   ]
  },
  {
   "cell_type": "code",
   "execution_count": 20,
   "metadata": {},
   "outputs": [
    {
     "name": "stdout",
     "output_type": "stream",
     "text": [
      "\n",
      " ----------\n",
      "1 \n",
      " ----------\n",
      "1 2 \n",
      " ----------\n",
      "1 10 2 5 \n",
      " ----------\n",
      "1 49 7 \n",
      " ----------\n"
     ]
    }
   ],
   "source": [
    "print_divisors_opt(0)\n",
    "print_divisors_opt(1)\n",
    "print_divisors_opt(2)\n",
    "print_divisors_opt(10)\n",
    "print_divisors_opt(49)"
   ]
  },
  {
   "cell_type": "markdown",
   "metadata": {},
   "source": [
    "**Method #3:** Optimized Approach (Output is in ascending order)\n",
    "- Time Complexity: `O(sqrt(n))`\n",
    "- Space Complexity: `O(1)`"
   ]
  },
  {
   "cell_type": "code",
   "execution_count": 17,
   "metadata": {},
   "outputs": [],
   "source": [
    "def print_divisors_opt_2(n: int) -> None:\n",
    "    i = 1\n",
    "    while (i * i < n):\n",
    "        if n % i == 0:\n",
    "            print(i, end=\" \")\n",
    "        i += 1\n",
    "    \n",
    "    while (i >= 1):\n",
    "        if n % i == 0:\n",
    "            print(n//i, end=\" \")\n",
    "        i -= 1\n",
    "    print(\"\\n\", \"-\"*10)        "
   ]
  },
  {
   "cell_type": "code",
   "execution_count": 18,
   "metadata": {},
   "outputs": [
    {
     "name": "stdout",
     "output_type": "stream",
     "text": [
      "0 \n",
      " ----------\n",
      "1 \n",
      " ----------\n",
      "1 1 2 \n",
      " ----------\n",
      "1 2 5 10 \n",
      " ----------\n",
      "1 7 49 \n",
      " ----------\n"
     ]
    }
   ],
   "source": [
    "print_divisors_opt_2(0)\n",
    "print_divisors_opt_2(1)\n",
    "print_divisors_opt_2(2)         # Wrong output: 1, 1, 2. Correct output: 1, 2\n",
    "print_divisors_opt_2(10)\n",
    "print_divisors_opt_2(49)"
   ]
  },
  {
   "cell_type": "code",
   "execution_count": null,
   "metadata": {},
   "outputs": [],
   "source": []
  }
 ],
 "metadata": {
  "kernelspec": {
   "display_name": ".aiop-venv",
   "language": "python",
   "name": "python3"
  },
  "language_info": {
   "codemirror_mode": {
    "name": "ipython",
    "version": 3
   },
   "file_extension": ".py",
   "mimetype": "text/x-python",
   "name": "python",
   "nbconvert_exporter": "python",
   "pygments_lexer": "ipython3",
   "version": "3.12.1"
  }
 },
 "nbformat": 4,
 "nbformat_minor": 2
}
