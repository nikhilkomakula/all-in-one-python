{
 "cells": [
  {
   "cell_type": "markdown",
   "metadata": {},
   "source": [
    "## Find the sum of first `n` natural numbers"
   ]
  },
  {
   "cell_type": "markdown",
   "metadata": {},
   "source": [
    "**Method #1:** Brute force\n",
    "- Time Complexity : `O(n)`\n",
    "- Space Complexity : `O(1)`"
   ]
  },
  {
   "cell_type": "code",
   "execution_count": 3,
   "metadata": {},
   "outputs": [],
   "source": [
    "def sum_bf(n: int) -> int:\n",
    "    total = 0\n",
    "    if n and n > 0:\n",
    "        for i in range(1, n+1):\n",
    "            total += i\n",
    "    return total"
   ]
  },
  {
   "cell_type": "code",
   "execution_count": 4,
   "metadata": {},
   "outputs": [
    {
     "data": {
      "text/plain": [
       "55"
      ]
     },
     "execution_count": 4,
     "metadata": {},
     "output_type": "execute_result"
    }
   ],
   "source": [
    "sum_bf(10)"
   ]
  },
  {
   "cell_type": "markdown",
   "metadata": {},
   "source": [
    "**Method #2:** Optimized\n",
    "- Time Complexity : `O(1)`\n",
    "- Space Complexity : `O(1)`"
   ]
  },
  {
   "cell_type": "code",
   "execution_count": 5,
   "metadata": {},
   "outputs": [],
   "source": [
    "def sum_opt(n: int) -> int:\n",
    "    if n and n > 0:\n",
    "        return n * (n + 1) / 2\n",
    "    return 0"
   ]
  },
  {
   "cell_type": "code",
   "execution_count": 10,
   "metadata": {},
   "outputs": [
    {
     "data": {
      "text/plain": [
       "1073628291.0"
      ]
     },
     "execution_count": 10,
     "metadata": {},
     "output_type": "execute_result"
    }
   ],
   "source": [
    "sum_opt(46338)"
   ]
  },
  {
   "cell_type": "markdown",
   "metadata": {},
   "source": [
    "**Method #3:** Optimized (Avoiding Overflow)\n",
    "- Time Complexity : `O(1)`\n",
    "- Space Complexity : `O(1)`"
   ]
  },
  {
   "cell_type": "code",
   "execution_count": 7,
   "metadata": {},
   "outputs": [],
   "source": [
    "# Efficient Python program to find the sum\n",
    "# of first n natural numbers that avoid\n",
    "# overflow if the result is going to be\n",
    "# within limits.\n",
    "\n",
    "# Returns sum of first n natural numbers\n",
    "def sum_opt_of(n) :\n",
    "\tif (n % 2 == 0) :\n",
    "\t\treturn (n / 2) * (n + 1)\n",
    "    # If n is odd, (n+1) must be even\n",
    "\telse :\n",
    "\t    return ((n + 1) / 2) * n\n"
   ]
  },
  {
   "cell_type": "code",
   "execution_count": 9,
   "metadata": {},
   "outputs": [
    {
     "data": {
      "text/plain": [
       "1073628291.0"
      ]
     },
     "execution_count": 9,
     "metadata": {},
     "output_type": "execute_result"
    }
   ],
   "source": [
    "sum_opt_of(46338)"
   ]
  },
  {
   "cell_type": "markdown",
   "metadata": {},
   "source": [
    "**Understanding overflow**\n",
    "\n",
    "Let's say we are working with 32-bit signed integers, where the maximum value is 2**31−1=2,147,483,647231−1=2,147,483,647.\n",
    "\n",
    "max integer limit ==  2,147,483,647 \n",
    "\n",
    "let n= 46338  \n",
    "\n",
    "**Case 1:**\n",
    "\n",
    "n * (n+1) /2\n",
    "\n",
    "= 46338 * (46338 +1) /2\n",
    "\n",
    "= (46338*46339 )/ 2\n",
    "\n",
    "= 2,147,479,682 /2    \n",
    "\n",
    "here the overflow occurs 2,147,479,682 is  greater than Integer limit\n",
    "\n",
    " \n",
    "**Case 2:**\n",
    "\n",
    "n/2 *(n+1)\n",
    "\n",
    "=46338/2 * (46338+1)\n",
    "\n",
    "=23169 * 46339\n",
    "\n",
    "=1,073,713,022\n",
    "\n",
    "here overflow didn'n occur . we get desired output"
   ]
  },
  {
   "cell_type": "markdown",
   "metadata": {},
   "source": [
    "You can run both the code given in article with value n=46338 , you will see the difference"
   ]
  }
 ],
 "metadata": {
  "kernelspec": {
   "display_name": ".aiop-venv",
   "language": "python",
   "name": "python3"
  },
  "language_info": {
   "codemirror_mode": {
    "name": "ipython",
    "version": 3
   },
   "file_extension": ".py",
   "mimetype": "text/x-python",
   "name": "python",
   "nbconvert_exporter": "python",
   "pygments_lexer": "ipython3",
   "version": "3.12.1"
  }
 },
 "nbformat": 4,
 "nbformat_minor": 2
}
