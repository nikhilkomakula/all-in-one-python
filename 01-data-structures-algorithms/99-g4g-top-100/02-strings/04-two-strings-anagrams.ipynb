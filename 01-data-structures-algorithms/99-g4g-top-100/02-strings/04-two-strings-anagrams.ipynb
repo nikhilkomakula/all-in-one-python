{
 "cells": [
  {
   "cell_type": "markdown",
   "metadata": {},
   "source": [
    "## [Check whether two Strings are anagram of each other](https://www.geeksforgeeks.org/check-whether-two-strings-are-anagram-of-each-other/)"
   ]
  },
  {
   "cell_type": "markdown",
   "metadata": {},
   "source": [
    "#### Given two strings s1 and s2 consisting of lowercase characters, the task is to check whether the two given strings are anagrams of each other or not. An anagram of a string is another string that contains the same characters, only the order of characters can be different. For example, “act” and “tac” are anagrams of each other."
   ]
  },
  {
   "cell_type": "markdown",
   "metadata": {},
   "source": [
    "- Example 1:\n",
    "    - Input: str1 = “listen”  str2 = “silent”\n",
    "    - Output: “Anagram”\n",
    "    - Explanation: All characters of “listen” and “silent” are the same.\n",
    "- Example 2:\n",
    "    - Input: str1 = “gram”  str2 = “arm”\n",
    "    - Output: “Not Anagram”"
   ]
  },
  {
   "cell_type": "markdown",
   "metadata": {},
   "source": [
    "**Method #1:** Sorting Approach\n",
    "- Time Complexity : `O(n * log n)`\n",
    "- Space Complexity : `O(1)`"
   ]
  },
  {
   "cell_type": "code",
   "execution_count": 26,
   "metadata": {},
   "outputs": [],
   "source": [
    "# Function to check if two strings are anagrams\n",
    "def are_two_strings_anagrams_sort(s1, s2):\n",
    "    # Sort both strings and compare\n",
    "    return sorted(s1) == sorted(s2)"
   ]
  },
  {
   "cell_type": "code",
   "execution_count": null,
   "metadata": {},
   "outputs": [],
   "source": [
    "print(are_two_strings_anagrams_sort(\"listen\", \"silent\"))\n",
    "print(are_two_strings_anagrams_sort(\"listen\", \"silentk\"))\n",
    "print(are_two_strings_anagrams_sort(\"listen\", \"\"))"
   ]
  },
  {
   "cell_type": "markdown",
   "metadata": {},
   "source": [
    "**Method #2:** Iterative Approach\n",
    "- Time Complexity : `O(m + n)`\n",
    "- Space Complexity : `O(m + n)`"
   ]
  },
  {
   "cell_type": "code",
   "execution_count": 22,
   "metadata": {},
   "outputs": [],
   "source": [
    "def are_two_strings_anagrams_iterative(s1, s2) -> bool:\n",
    "    # Check if either string is empty\n",
    "    if len(s1) == 0 or len(s2) == 0:\n",
    "        return False\n",
    "    \n",
    "    # Check if lengths of both strings are different\n",
    "    if len(s1) != len(s2):\n",
    "        return False\n",
    "    \n",
    "    # Create a frequency dictionary characters in s1\n",
    "    temp = {}\n",
    "    for char in s1:\n",
    "        if char not in temp:\n",
    "            temp[char] = 1\n",
    "        else:\n",
    "            temp[char] += 1\n",
    "    \n",
    "    # Decrement the frequency based on characters in s2\n",
    "    for char in s2:\n",
    "        if char in temp:\n",
    "            temp[char] -= 1\n",
    "            if temp[char] == 0:\n",
    "                del temp[char]\n",
    "        else:\n",
    "            return False  # If a character in s2 is not found in temp, they are not anagrams\n",
    "    \n",
    "    # If temp is empty, s1 and s2 are anagrams\n",
    "    return len(temp) == 0"
   ]
  },
  {
   "cell_type": "code",
   "execution_count": 23,
   "metadata": {},
   "outputs": [
    {
     "data": {
      "text/plain": [
       "False"
      ]
     },
     "execution_count": 23,
     "metadata": {},
     "output_type": "execute_result"
    }
   ],
   "source": [
    "print(are_two_strings_anagrams_iterative(\"listen\", \"silent\"))\n",
    "print(are_two_strings_anagrams_iterative(\"listen\", \"silentk\"))\n",
    "print(are_two_strings_anagrams_iterative(\"listen\", \"\"))"
   ]
  },
  {
   "cell_type": "markdown",
   "metadata": {},
   "source": [
    "**Method #3:** Optimized Approach\n",
    "- Time Complexity : `O(n)`\n",
    "- Space Complexity : `O(1)`"
   ]
  },
  {
   "cell_type": "code",
   "execution_count": 29,
   "metadata": {},
   "outputs": [],
   "source": [
    "def are_two_strings_anagrams_opt(s1, s2) -> bool:\n",
    "    # If lengths are different, they can't be anagrams\n",
    "    if len(s1) != len(s2):\n",
    "        return False\n",
    "\n",
    "    # Create a fixed-size frequency array for 26 lowercase English letters\n",
    "    count = [0] * 26\n",
    "    \n",
    "    # Increment the count for characters in s1 and decrement for characters in s2\n",
    "    for i in range(len(s1)):\n",
    "        count[ord(s1[i]) - ord('a')] += 1       # \"ord\" returns the integer that represents the character\n",
    "        count[ord(s2[i]) - ord('a')] -= 1\n",
    "    \n",
    "    return sum(count) == 0"
   ]
  },
  {
   "cell_type": "code",
   "execution_count": 30,
   "metadata": {},
   "outputs": [
    {
     "name": "stdout",
     "output_type": "stream",
     "text": [
      "True\n",
      "False\n",
      "False\n"
     ]
    }
   ],
   "source": [
    "print(are_two_strings_anagrams_opt(\"listen\", \"silent\"))\n",
    "print(are_two_strings_anagrams_opt(\"listen\", \"silentk\"))\n",
    "print(are_two_strings_anagrams_opt(\"listen\", \"\"))"
   ]
  }
 ],
 "metadata": {
  "kernelspec": {
   "display_name": ".aiop-venv",
   "language": "python",
   "name": "python3"
  },
  "language_info": {
   "codemirror_mode": {
    "name": "ipython",
    "version": 3
   },
   "file_extension": ".py",
   "mimetype": "text/x-python",
   "name": "python",
   "nbconvert_exporter": "python",
   "pygments_lexer": "ipython3",
   "version": "3.11.9"
  }
 },
 "nbformat": 4,
 "nbformat_minor": 2
}
