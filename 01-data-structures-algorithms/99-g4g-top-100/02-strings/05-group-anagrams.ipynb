{
 "cells": [
  {
   "cell_type": "markdown",
   "metadata": {},
   "source": [
    "## [Group Anagrams or Given a sequence of words, print all anagrams together](https://www.geeksforgeeks.org/given-a-sequence-of-words-print-all-anagrams-together/)"
   ]
  },
  {
   "cell_type": "markdown",
   "metadata": {},
   "source": [
    "#### Given an array of words, print all anagrams together."
   ]
  },
  {
   "cell_type": "markdown",
   "metadata": {},
   "source": [
    "- Example 1:\n",
    "    - Input : {“cat”, “dog”, “tac”, “god”, “act”}\n",
    "    - Output : {“cat”, “tac”, “act”, ‘”dog”, “god”}"
   ]
  },
  {
   "cell_type": "markdown",
   "metadata": {},
   "source": [
    "**Method #1:** Iterative Approach\n",
    "- Time Complexity : `O(n * m)`\n",
    "    - The time complexity of this function is O(n * m), where n is the number of words in the input array and m is the average length of each word. This is because for each word, we iterate through its characters to count the frequency of each character, which takes O(m) time. We then check if the key (tuple of character frequencies) is already in the table, which takes O(1) time on average. Overall, the time complexity is O(n * m).\n",
    "- Space Complexity : `O(n * m)`\n",
    "    - The space complexity of this function is also O(n * m) because we are storing the character frequencies for each word in the table. In the worst case scenario, each word is unique and we need to store the character frequencies for each word separately, resulting in O(n * m) space complexity."
   ]
  },
  {
   "cell_type": "code",
   "execution_count": 5,
   "metadata": {},
   "outputs": [],
   "source": [
    "def group_anagrams_together(arr):\n",
    "    table = {}\n",
    "    for word in arr:\n",
    "        count = [0] * 26\n",
    "        for char in word:\n",
    "            count[ord(char) - ord('a')] += 1\n",
    "        key = tuple(count)\n",
    "        if key in table:\n",
    "            if word not in table[key]:\n",
    "                table[key].append(word)\n",
    "        else:\n",
    "            table[key] = [word]\n",
    "            \n",
    "    return list(table.values())              "
   ]
  },
  {
   "cell_type": "markdown",
   "metadata": {},
   "source": [
    "In the provided code, the count list is converted to a tuple using key = tuple(count). This conversion is necessary for a couple of reasons:\n",
    "\n",
    "**Immutability:**\n",
    "\n",
    "- Lists are mutable, meaning their contents can be changed after creation.\n",
    "- Tuples are immutable, meaning their contents cannot be changed after creation.\n",
    "- In Python, dictionary keys must be immutable. Since tuples are immutable, they can be used as keys in a dictionary. Lists, being mutable, cannot be used as dictionary keys.\n",
    "\n",
    "**Hashability:**\n",
    "\n",
    "- Only immutable types can be hashed, and dictionary keys must be hashable.\n",
    "- Tuples can be hashed because they are immutable, whereas lists cannot be hashed because they are mutable.\n",
    "- By converting the count list to a tuple, you ensure that it can be used as a key in the table dictionary. This allows the code to group anagrams together based on their character counts."
   ]
  },
  {
   "cell_type": "code",
   "execution_count": 6,
   "metadata": {},
   "outputs": [
    {
     "data": {
      "text/plain": [
       "[['eat', 'tea', 'ate'], ['tan', 'nat'], ['bat']]"
      ]
     },
     "execution_count": 6,
     "metadata": {},
     "output_type": "execute_result"
    }
   ],
   "source": [
    "group_anagrams_together([\"eat\", \"tea\", \"tan\", \"ate\", \"nat\", \"bat\"])"
   ]
  },
  {
   "cell_type": "markdown",
   "metadata": {},
   "source": [
    "**Optimized Method: Using Sorted as Keys**\n",
    "- Time Complexity : `O(n * m * log(m))`\n",
    "    - The time complexity of this function is O(n * m * log(m)), where n is the number of words in the input array and m is the average length of each word. This is because for each word, we are sorting it (which takes O(m * log(m)) time) and then checking if the sorted word is already in the table (which takes O(1) time on average). Since we do this for each word in the input array, the overall time complexity is O(n * m * log(m)).\n",
    "- Space Complexity : `O(n * m)`\n",
    "    - The space complexity of this function is O(n * m), where n is the number of words in the input array and m is the average length of each word. This is because we are storing each word in the table, along with its sorted version as the key. Since we do this for each word in the input array, the overall space complexity is O(n * m)."
   ]
  },
  {
   "cell_type": "code",
   "execution_count": 8,
   "metadata": {},
   "outputs": [],
   "source": [
    "def group_anagrams_together_opt(arr):\n",
    "    table = {}\n",
    "    \n",
    "    for word in arr:\n",
    "        # Sort the word and use it as the key\n",
    "        key = tuple(sorted(word))\n",
    "        \n",
    "        if key in table:\n",
    "            table[key].append(word)\n",
    "        else:\n",
    "            table[key] = [word]\n",
    "    \n",
    "    return list(table.values())"
   ]
  },
  {
   "cell_type": "code",
   "execution_count": 9,
   "metadata": {},
   "outputs": [
    {
     "data": {
      "text/plain": [
       "[['eat', 'tea', 'ate'], ['tan', 'nat'], ['bat']]"
      ]
     },
     "execution_count": 9,
     "metadata": {},
     "output_type": "execute_result"
    }
   ],
   "source": [
    "group_anagrams_together_opt([\"eat\", \"tea\", \"tan\", \"ate\", \"nat\", \"bat\"])"
   ]
  },
  {
   "cell_type": "code",
   "execution_count": null,
   "metadata": {},
   "outputs": [],
   "source": []
  }
 ],
 "metadata": {
  "kernelspec": {
   "display_name": ".aiop-venv",
   "language": "python",
   "name": "python3"
  },
  "language_info": {
   "codemirror_mode": {
    "name": "ipython",
    "version": 3
   },
   "file_extension": ".py",
   "mimetype": "text/x-python",
   "name": "python",
   "nbconvert_exporter": "python",
   "pygments_lexer": "ipython3",
   "version": "3.11.9"
  }
 },
 "nbformat": 4,
 "nbformat_minor": 2
}
