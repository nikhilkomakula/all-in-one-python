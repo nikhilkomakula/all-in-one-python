{
 "cells": [
  {
   "cell_type": "markdown",
   "metadata": {},
   "source": [
    "## [Maximum consecutive repeating character in string](https://www.geeksforgeeks.org/maximum-consecutive-repeating-character-string/)"
   ]
  },
  {
   "cell_type": "markdown",
   "metadata": {},
   "source": [
    "#### Given a string, the task is to find the maximum consecutive repeating character in a string.\n",
    "**Note:** We do not need to consider the overall count, but the count of repeating that appears in one place."
   ]
  },
  {
   "cell_type": "markdown",
   "metadata": {},
   "source": [
    "- Example 1:\n",
    "    - Input : str = \"geeekk\"\n",
    "    - Output : e\n",
    "- Example 2:\n",
    "    - Input : str = \"aaaabbcbbb\"\n",
    "    - Output : a"
   ]
  },
  {
   "cell_type": "markdown",
   "metadata": {},
   "source": [
    "**Method #1:** Naive Approach\n",
    "- Time Complexity : `O(n^2)`\n",
    "- Space Complexity : `O(n)`"
   ]
  },
  {
   "cell_type": "code",
   "execution_count": 17,
   "metadata": {},
   "outputs": [],
   "source": [
    "def max_repeating_char_naive(string: str) -> str:\n",
    "    max_rep = 1\n",
    "    for i in range(len(string)):\n",
    "        seen = [string[i]]\n",
    "        for j in range(i+1, len(string)):\n",
    "            if string[j] in seen:\n",
    "                seen.append(string[j])\n",
    "                if len(seen) > max_rep:\n",
    "                    max_rep = len(seen)\n",
    "            else:\n",
    "                break\n",
    "    return max_rep"
   ]
  },
  {
   "cell_type": "code",
   "execution_count": 18,
   "metadata": {},
   "outputs": [],
   "source": [
    "string = \"geeekk\"\n",
    "# string = \"aaaabbcbbb\""
   ]
  },
  {
   "cell_type": "code",
   "execution_count": 19,
   "metadata": {},
   "outputs": [
    {
     "data": {
      "text/plain": [
       "3"
      ]
     },
     "execution_count": 19,
     "metadata": {},
     "output_type": "execute_result"
    }
   ],
   "source": [
    "max_repeating_char_naive(string)"
   ]
  },
  {
   "cell_type": "code",
   "execution_count": 20,
   "metadata": {},
   "outputs": [
    {
     "name": "stdout",
     "output_type": "stream",
     "text": [
      "3\n",
      "1\n",
      "3\n"
     ]
    }
   ],
   "source": [
    "print(max_repeating_char_naive(\"aaabbcc\"))       # Output: 3\n",
    "print(max_repeating_char_naive(\"abcd\"))          # Output: 1\n",
    "print(max_repeating_char_naive(\"aabbbaaaccc\"))   # Output: 3"
   ]
  },
  {
   "cell_type": "code",
   "execution_count": 21,
   "metadata": {},
   "outputs": [
    {
     "name": "stdout",
     "output_type": "stream",
     "text": [
      "3\n",
      "1\n",
      "3\n"
     ]
    }
   ],
   "source": [
    "# Test cases\n",
    "print(max_repeating_char_naive(\"aaabbcc\"))      # Output: \"aaa\"\n",
    "print(max_repeating_char_naive(\"abcd\"))         # Output: \"a\" (or any single character)\n",
    "print(max_repeating_char_naive(\"aabbbaaaccc\"))  # Output: \"aaa\""
   ]
  },
  {
   "cell_type": "code",
   "execution_count": 22,
   "metadata": {},
   "outputs": [
    {
     "name": "stdout",
     "output_type": "stream",
     "text": [
      "3\n",
      "1\n",
      "3\n"
     ]
    }
   ],
   "source": [
    "# Test cases\n",
    "print(max_repeating_char_naive(\"aaabbcc\"))      # Output: \"aaa\"\n",
    "print(max_repeating_char_naive(\"abcd\"))         # Output: \"a\" (or any single character)\n",
    "print(max_repeating_char_naive(\"aabbbaaaccc\"))  # Output: \"bbb\""
   ]
  },
  {
   "cell_type": "markdown",
   "metadata": {},
   "source": [
    "**Method #2:** Naive++ Approach\n",
    "- Time Complexity : `O(n^2)`\n",
    "- Space Complexity : `O(1)`"
   ]
  },
  {
   "cell_type": "code",
   "execution_count": 28,
   "metadata": {},
   "outputs": [],
   "source": [
    "def max_repeating_char_naive_pp(string: str):\n",
    "    max_count = 0\n",
    "    rep_char = \"\"\n",
    "    for i in range(len(string)):\n",
    "        cur_count = 1\n",
    "        for j in range(i+1, len(string)):\n",
    "            if string[j] == string[i]:\n",
    "                cur_count += 1\n",
    "            else:\n",
    "                break\n",
    "        if cur_count > max_count:\n",
    "            max_count = cur_count\n",
    "            rep_char = string[i]\n",
    "    return max_count, rep_char"
   ]
  },
  {
   "cell_type": "code",
   "execution_count": 30,
   "metadata": {},
   "outputs": [
    {
     "name": "stdout",
     "output_type": "stream",
     "text": [
      "<class 'tuple'>\n",
      "(1, 'a')\n",
      "(3, 'b')\n"
     ]
    }
   ],
   "source": [
    "# Test cases\n",
    "print(max_repeating_char_naive_pp(\"aaabbcc\"))      # Output: \"aaa\"\n",
    "print(max_repeating_char_naive_pp(\"abcd\"))         # Output: \"a\" (or any single character)\n",
    "print(max_repeating_char_naive_pp(\"aabbbaaaccc\"))  # Output: \"bbb\""
   ]
  },
  {
   "cell_type": "markdown",
   "metadata": {},
   "source": [
    "**Method #3:** Optimized Approach\n",
    "- Time Complexity : `O(n)`\n",
    "- Space Complexity : `O(1)`"
   ]
  },
  {
   "cell_type": "code",
   "execution_count": 41,
   "metadata": {},
   "outputs": [],
   "source": [
    "# # this code seems to be confusing\n",
    "# def max_repeating_char_opt(string) -> tuple:\n",
    "#     max_count = 0\n",
    "#     cur_count = 1\n",
    "#     rep_char = string[0]\n",
    "#     for i in range(1, len(string)):\n",
    "#         if string[i] == string[i-1]:\n",
    "#             cur_count += 1\n",
    "#         else:\n",
    "#             if cur_count > max_count:\n",
    "#                 max_count = cur_count            \n",
    "#                 rep_char = string[i-1]\n",
    "#             cur_count = 1\n",
    "#     # check for the last character\n",
    "#     if cur_count > max_count:\n",
    "#         max_count = cur_count\n",
    "#         rep_char = string[-1]\n",
    "#     return max_count, rep_char"
   ]
  },
  {
   "cell_type": "code",
   "execution_count": 1,
   "metadata": {},
   "outputs": [],
   "source": [
    "def max_repeating_char_opt(s):\n",
    "    if not s:\n",
    "        return (0, None)\n",
    "    \n",
    "    max_len = 1\n",
    "    max_char = s[0]\n",
    "    \n",
    "    seen = s[0]\n",
    "    cur_count = 1\n",
    "    \n",
    "    for i in range(1, len(s)):\n",
    "        if s[i] == seen:\n",
    "            cur_count += 1\n",
    "            if cur_count > max_len:\n",
    "                max_len = cur_count\n",
    "                max_char = seen\n",
    "        else:\n",
    "            seen = s[i]\n",
    "            cur_count = 1\n",
    "    return (max_len, max_char)"
   ]
  },
  {
   "cell_type": "code",
   "execution_count": 2,
   "metadata": {},
   "outputs": [
    {
     "name": "stdout",
     "output_type": "stream",
     "text": [
      "3\n",
      "1\n",
      "4\n"
     ]
    }
   ],
   "source": [
    "# Test cases\n",
    "print(max_repeating_char_opt(\"aaabbcc\"))      # Output: \"aaa\"\n",
    "print(max_repeating_char_opt(\"abcd\"))         # Output: \"a\" (or any single character)\n",
    "print(max_repeating_char_opt(\"aabbbaaacccc\"))  # Output: \"cccc\""
   ]
  },
  {
   "cell_type": "code",
   "execution_count": null,
   "metadata": {},
   "outputs": [],
   "source": []
  }
 ],
 "metadata": {
  "kernelspec": {
   "display_name": ".aiop-venv",
   "language": "python",
   "name": "python3"
  },
  "language_info": {
   "codemirror_mode": {
    "name": "ipython",
    "version": 3
   },
   "file_extension": ".py",
   "mimetype": "text/x-python",
   "name": "python",
   "nbconvert_exporter": "python",
   "pygments_lexer": "ipython3",
   "version": "3.11.9"
  }
 },
 "nbformat": 4,
 "nbformat_minor": 2
}
