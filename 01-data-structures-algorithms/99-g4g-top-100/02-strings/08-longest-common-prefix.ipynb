{
 "cells": [
  {
   "cell_type": "markdown",
   "metadata": {},
   "source": [
    "## [Longest Common Prefix using Sorting](https://www.geeksforgeeks.org/longest-common-prefix-using-sorting/)"
   ]
  },
  {
   "cell_type": "markdown",
   "metadata": {},
   "source": [
    "#### Given an array of strings strs[]. The task is to return the longest common prefix among each and every strings present in the array. If there’s no prefix common in all the strings, return “-1”."
   ]
  },
  {
   "cell_type": "markdown",
   "metadata": {},
   "source": [
    "- Example 1:\n",
    "    - Input: strs[] = [“geeksforgeeks”, “geeks”, “geek”, “geezer”]\n",
    "    - Output: gee\n",
    "    - Explanation: “gee” is the longest common prefix in all the given strings.\n",
    "- Example 2:\n",
    "    - Input: strs[] = [“hello”, “world”]\n",
    "    - Output: -1\n",
    "    - Explanation: There’s no common prefix in the given strings."
   ]
  },
  {
   "cell_type": "markdown",
   "metadata": {},
   "source": [
    "**Method #1:** Sorting Approach\n",
    "- Time Complexity : `O(n * log n)`\n",
    "- Space Complexity : `O(1)`"
   ]
  },
  {
   "cell_type": "code",
   "execution_count": 3,
   "metadata": {},
   "outputs": [],
   "source": [
    "def longest_common_prefix(strings):\n",
    "    # Return \"-1\" if the list is empty\n",
    "    if not strings:\n",
    "        return \"-1\"\n",
    "\n",
    "    # Sort the list of strings\n",
    "    strings.sort()\n",
    "\n",
    "    # Get the first and last strings after sorting\n",
    "    first_string = strings[0]\n",
    "    last_string = strings[-1]\n",
    "    min_length = min(len(first_string), len(last_string))\n",
    "\n",
    "    index = 0\n",
    "    # Find the common prefix between the first and last strings\n",
    "    while index < min_length and first_string[index] == last_string[index]:\n",
    "        index += 1\n",
    "\n",
    "    # Return \"-1\" if there's no common prefix\n",
    "    if index == 0:\n",
    "        return \"-1\"\n",
    "\n",
    "    # Return the common prefix\n",
    "    return first_string[:index]"
   ]
  },
  {
   "cell_type": "code",
   "execution_count": 4,
   "metadata": {},
   "outputs": [
    {
     "name": "stdout",
     "output_type": "stream",
     "text": [
      "The longest common prefix is: gee\n"
     ]
    }
   ],
   "source": [
    "string_list = [\"geeksforgeeks\", \"geeks\", \"geek\", \"geezer\"]\n",
    "print(\"The longest common prefix is:\", longest_common_prefix(string_list))"
   ]
  },
  {
   "cell_type": "markdown",
   "metadata": {},
   "source": [
    "**Method #1:** Optimized Approach\n",
    "- Time Complexity : `O(n * m)`\n",
    "    - The first loop iterates through the array of strings to find the minimum and maximum strings. This takes O(n * m) time, where n is the number of strings in the array and m is the average length of the strings, since each string is compared character by character.\n",
    "    - The second loop compares the characters of the minimum and maximum strings to find the longest common prefix. In the worst case, this loop can run for the length of the minimum string, which is O(m).\n",
    "- Space Complexity : `O(1)`"
   ]
  },
  {
   "cell_type": "code",
   "execution_count": 8,
   "metadata": {},
   "outputs": [],
   "source": [
    "def longest_common_prefix_optimized(arr):\n",
    "  if not arr:\n",
    "      return \"\"\n",
    "      \n",
    "  # Find min and max strings\n",
    "  min_str = max_str = arr[0]\n",
    "  for s in arr:\n",
    "      if s < min_str:\n",
    "          min_str = s\n",
    "      if s > max_str:\n",
    "          max_str = s\n",
    "          \n",
    "  # Compare min and max strings\n",
    "  result = \"\"\n",
    "  for i in range(len(min_str)):\n",
    "      if i >= len(max_str) or min_str[i] != max_str[i]:\n",
    "          break\n",
    "      result += min_str[i]\n",
    "  return result"
   ]
  },
  {
   "cell_type": "code",
   "execution_count": 9,
   "metadata": {},
   "outputs": [
    {
     "data": {
      "text/plain": [
       "'gee'"
      ]
     },
     "execution_count": 9,
     "metadata": {},
     "output_type": "execute_result"
    }
   ],
   "source": [
    "longest_common_prefix_optimized(string_list)"
   ]
  },
  {
   "cell_type": "markdown",
   "metadata": {},
   "source": [
    "The line `if s < min_str:` performs a lexicographical comparison between two strings. Let me explain with examples:\n",
    "\n",
    "**Lexicographical Comparison:**\n",
    "\n",
    "- Strings are compared character by character from left to right\n",
    "- It's similar to how words are ordered in a dictionary\n",
    "- Uses ASCII/Unicode values of characters"
   ]
  },
  {
   "cell_type": "code",
   "execution_count": null,
   "metadata": {},
   "outputs": [],
   "source": []
  }
 ],
 "metadata": {
  "kernelspec": {
   "display_name": ".aiop-venv",
   "language": "python",
   "name": "python3"
  },
  "language_info": {
   "codemirror_mode": {
    "name": "ipython",
    "version": 3
   },
   "file_extension": ".py",
   "mimetype": "text/x-python",
   "name": "python",
   "nbconvert_exporter": "python",
   "pygments_lexer": "ipython3",
   "version": "3.11.9"
  }
 },
 "nbformat": 4,
 "nbformat_minor": 2
}
