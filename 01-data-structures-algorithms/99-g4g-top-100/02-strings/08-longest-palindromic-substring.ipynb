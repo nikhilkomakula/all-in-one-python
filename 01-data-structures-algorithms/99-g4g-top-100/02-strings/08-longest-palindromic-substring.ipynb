{
 "cells": [
  {
   "cell_type": "markdown",
   "metadata": {},
   "source": [
    "## [Longest Palindromic Substring](https://www.geeksforgeeks.org/longest-palindromic-substring/)"
   ]
  },
  {
   "cell_type": "markdown",
   "metadata": {},
   "source": [
    "#### Given a string str, the task is to find the longest substring which is a palindrome. If there are multiple answers, then return the first appearing substring."
   ]
  },
  {
   "cell_type": "markdown",
   "metadata": {},
   "source": [
    "- Example 1:\n",
    "    - Input: str = “forgeeksskeegfor” \n",
    "    - Output: “geeksskeeg”\n",
    "    - Explanation: There are several possible palindromic substrings like “kssk”, “ss”, “eeksskee” etc. But the substring “geeksskeeg” is the longest among all.\n",
    "- Example 2:\n",
    "    - Input: str = “Geeks” \n",
    "    - Output: “ee”\n",
    "- Example 3:\n",
    "    - Input: str = “abc” \n",
    "    - Output: “a”\n",
    "- Example 4:\n",
    "    - Input: str = “” \n",
    "    - Output: “”"
   ]
  },
  {
   "cell_type": "markdown",
   "metadata": {},
   "source": [
    "**Method #1:** Naive Approach\n",
    "- Time Complexity : `O(n^3)`\n",
    "- Space Complexity : `O(1)`"
   ]
  },
  {
   "cell_type": "markdown",
   "metadata": {},
   "source": [
    "**Approach:**\n",
    "- Generate all substrings.\n",
    "- For each substring, check if it is palindrome or not.\n",
    "- If substring is Palindrome, then update the result on the basis of longest palindromic substring found till now."
   ]
  },
  {
   "cell_type": "code",
   "execution_count": 1,
   "metadata": {},
   "outputs": [],
   "source": [
    "def longest_palindrome_substring_naive(s):\n",
    "    def is_palindrome(s):\n",
    "        left, right = 0, len(s) - 1\n",
    "        while left < right:\n",
    "            if s[left] != s[right]:\n",
    "                return False\n",
    "            left += 1\n",
    "            right -= 1\n",
    "        return True\n",
    "    \n",
    "    result = \"\"\n",
    "    for i in range(len(s)):\n",
    "        substring = s[i]\n",
    "        for j in range(i+1, len(s)):\n",
    "            substring += s[j]\n",
    "            if is_palindrome(substring) and len(substring) > len(result):\n",
    "                result = substring\n",
    "    return result\n",
    "            "
   ]
  },
  {
   "cell_type": "code",
   "execution_count": 2,
   "metadata": {},
   "outputs": [],
   "source": [
    "s = \"forgeeksskeegfor\""
   ]
  },
  {
   "cell_type": "code",
   "execution_count": 3,
   "metadata": {},
   "outputs": [
    {
     "data": {
      "text/plain": [
       "'geeksskeeg'"
      ]
     },
     "execution_count": 3,
     "metadata": {},
     "output_type": "execute_result"
    }
   ],
   "source": [
    "longest_palindrome_substring_naive(s)"
   ]
  },
  {
   "cell_type": "markdown",
   "metadata": {},
   "source": [
    "**Method #2:** Expand Around Center\n",
    "- Time Complexity : `O(n^2)`\n",
    "- Space Complexity : `O(1)`"
   ]
  },
  {
   "cell_type": "markdown",
   "metadata": {},
   "source": [
    "[https://www.youtube.com/watch?v=E-tmN1OM9aA](https://www.youtube.com/watch?v=E-tmN1OM9aA)"
   ]
  },
  {
   "cell_type": "code",
   "execution_count": 4,
   "metadata": {},
   "outputs": [],
   "source": [
    "def longest_palindromic_substring_expand_around_center(s: str) -> str:\n",
    "    def expand_around_center(left: int, right: int) -> str:\n",
    "        while left >=0 and right < len(s) and s[left] == s[right]:\n",
    "            left -= 1\n",
    "            right += 1\n",
    "        return s[left + 1:right]\n",
    "    \n",
    "    longest = \"\"\n",
    "    for i in range(len(s)):\n",
    "        # Odd length palindromes\n",
    "        palindrome_odd = expand_around_center(i, i)\n",
    "        print('palindrome_odd', palindrome_odd)\n",
    "        if len(palindrome_odd) > len(longest):\n",
    "            longest = palindrome_odd\n",
    "        \n",
    "        # Even length palindromes\n",
    "        palindrome_even = expand_around_center(i, i + 1)\n",
    "        print('palindrome_even', palindrome_even)\n",
    "        if len(palindrome_even) > len(longest):\n",
    "            longest = palindrome_even\n",
    "\n",
    "    return longest"
   ]
  },
  {
   "cell_type": "code",
   "execution_count": 5,
   "metadata": {},
   "outputs": [
    {
     "name": "stdout",
     "output_type": "stream",
     "text": [
      "palindrome_odd f\n",
      "palindrome_even \n",
      "palindrome_odd o\n",
      "palindrome_even \n",
      "palindrome_odd r\n",
      "palindrome_even \n",
      "palindrome_odd g\n",
      "palindrome_even \n",
      "palindrome_odd e\n",
      "palindrome_even ee\n",
      "palindrome_odd e\n",
      "palindrome_even \n",
      "palindrome_odd k\n",
      "palindrome_even \n",
      "palindrome_odd s\n",
      "palindrome_even geeksskeeg\n",
      "palindrome_odd s\n",
      "palindrome_even \n",
      "palindrome_odd k\n",
      "palindrome_even \n",
      "palindrome_odd e\n",
      "palindrome_even ee\n",
      "palindrome_odd e\n",
      "palindrome_even \n",
      "palindrome_odd g\n",
      "palindrome_even \n",
      "palindrome_odd f\n",
      "palindrome_even \n",
      "palindrome_odd o\n",
      "palindrome_even \n",
      "palindrome_odd r\n",
      "palindrome_even \n"
     ]
    },
    {
     "data": {
      "text/plain": [
       "'geeksskeeg'"
      ]
     },
     "execution_count": 5,
     "metadata": {},
     "output_type": "execute_result"
    }
   ],
   "source": [
    "longest_palindromic_substring_expand_around_center(s)"
   ]
  },
  {
   "cell_type": "markdown",
   "metadata": {},
   "source": [
    "**Method #3:** Manacher's Algorithm `(HARD)`\n",
    "- Time Complexity : `O(n)`\n",
    "- Space Complexity : `O(1)`"
   ]
  },
  {
   "cell_type": "code",
   "execution_count": null,
   "metadata": {},
   "outputs": [],
   "source": []
  }
 ],
 "metadata": {
  "kernelspec": {
   "display_name": ".aiop-venv",
   "language": "python",
   "name": "python3"
  },
  "language_info": {
   "codemirror_mode": {
    "name": "ipython",
    "version": 3
   },
   "file_extension": ".py",
   "mimetype": "text/x-python",
   "name": "python",
   "nbconvert_exporter": "python",
   "pygments_lexer": "ipython3",
   "version": "3.11.9"
  }
 },
 "nbformat": 4,
 "nbformat_minor": 2
}
