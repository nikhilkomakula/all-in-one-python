{
 "cells": [
  {
   "cell_type": "markdown",
   "metadata": {},
   "source": [
    "## [Longest substring without repeating characters](https://www.geeksforgeeks.org/length-of-the-longest-substring-without-repeating-characters/)"
   ]
  },
  {
   "cell_type": "markdown",
   "metadata": {},
   "source": [
    "#### Given a string s, find the length of the longest substring without repeating characters."
   ]
  },
  {
   "cell_type": "markdown",
   "metadata": {},
   "source": [
    "- Example 1:\n",
    "    - Input: “ABCBC”\n",
    "    - Output: 3\n",
    "    - Explanation: The longest substring without repeating characters is “ABC”\n",
    "- Example 2:\n",
    "    - Input: “AAA”\n",
    "    - Output: 1\n",
    "    - Explanation: The longest substring without repeating characters is “A”\n",
    "- Example 3:\n",
    "    - Input: “GEEKSFORGEEKS”\n",
    "    - Output: 7\n",
    "    - Explanation: The longest substrings without repeating characters are “EKSFORG” and “KSFORGE”, with lengths of 7."
   ]
  },
  {
   "cell_type": "markdown",
   "metadata": {},
   "source": [
    "**Method #1:** Naive Approach\n",
    "- Time Complexity : `O(n^2)`\n",
    "- Space Complexity : `O(n)`"
   ]
  },
  {
   "cell_type": "code",
   "execution_count": 17,
   "metadata": {},
   "outputs": [],
   "source": [
    "def longest_substring_naive(string: str) -> int:\n",
    "    max_len = 0\n",
    "    \n",
    "    for i in range(len(string)):\n",
    "        seen = set()\n",
    "        for j in range(i, len(string)):\n",
    "            if string[j] not in seen:\n",
    "                seen.add(string[j])\n",
    "                max_len = max(max_len, j - i + 1)\n",
    "            else:\n",
    "                break\n",
    "    \n",
    "    return max_len"
   ]
  },
  {
   "cell_type": "code",
   "execution_count": 18,
   "metadata": {},
   "outputs": [],
   "source": [
    "string = \"abcabcbb\"\n",
    "string = \"bbbbbb\"\n",
    "string = \"pwwkew\""
   ]
  },
  {
   "cell_type": "code",
   "execution_count": 19,
   "metadata": {},
   "outputs": [
    {
     "data": {
      "text/plain": [
       "3"
      ]
     },
     "execution_count": 19,
     "metadata": {},
     "output_type": "execute_result"
    }
   ],
   "source": [
    "longest_substring_naive(string)"
   ]
  },
  {
   "cell_type": "markdown",
   "metadata": {},
   "source": [
    "**Method #1:** Optimized Approach\n",
    "- Time Complexity : `O(n)`\n",
    "- Space Complexity : `O(n)`"
   ]
  },
  {
   "cell_type": "markdown",
   "metadata": {},
   "source": [
    "**Better Approach:** [https://www.youtube.com/watch?v=pY2dYa1m2VM](https://www.youtube.com/watch?v=pY2dYa1m2VM)"
   ]
  },
  {
   "cell_type": "code",
   "execution_count": 20,
   "metadata": {},
   "outputs": [],
   "source": [
    "def longest_substring_opt(string: str) -> int:\n",
    "    seen = {}\n",
    "    left = 0\n",
    "    max_len = 0\n",
    "    for right in range(len(string)):\n",
    "        char = string[right]\n",
    "        if char in seen and seen[char] >= left:\n",
    "            left = seen[char] + 1\n",
    "        else:\n",
    "            max_len = max(max_len, right - left + 1)\n",
    "        seen[char] = right\n",
    "    return max_len"
   ]
  },
  {
   "cell_type": "code",
   "execution_count": 16,
   "metadata": {},
   "outputs": [
    {
     "data": {
      "text/plain": [
       "3"
      ]
     },
     "execution_count": 16,
     "metadata": {},
     "output_type": "execute_result"
    }
   ],
   "source": [
    "longest_substring_opt(string)"
   ]
  },
  {
   "cell_type": "code",
   "execution_count": null,
   "metadata": {},
   "outputs": [],
   "source": []
  }
 ],
 "metadata": {
  "kernelspec": {
   "display_name": ".aiop-venv",
   "language": "python",
   "name": "python3"
  },
  "language_info": {
   "codemirror_mode": {
    "name": "ipython",
    "version": 3
   },
   "file_extension": ".py",
   "mimetype": "text/x-python",
   "name": "python",
   "nbconvert_exporter": "python",
   "pygments_lexer": "ipython3",
   "version": "3.11.9"
  }
 },
 "nbformat": 4,
 "nbformat_minor": 2
}
