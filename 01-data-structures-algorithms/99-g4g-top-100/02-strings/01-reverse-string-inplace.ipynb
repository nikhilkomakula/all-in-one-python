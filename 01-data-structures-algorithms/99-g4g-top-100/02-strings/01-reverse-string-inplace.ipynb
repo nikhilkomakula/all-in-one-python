{
 "cells": [
  {
   "cell_type": "markdown",
   "id": "91b96a13",
   "metadata": {},
   "source": [
    "## Reverse a string in-place"
   ]
  },
  {
   "cell_type": "markdown",
   "id": "7c684c73",
   "metadata": {},
   "source": [
    "Write a function that reverses a string. The input string is given as an array of characters s.\n",
    "\n",
    "You must do this by modifying the input array in-place with O(1) extra memory."
   ]
  },
  {
   "cell_type": "markdown",
   "id": "9ea8f125",
   "metadata": {},
   "source": [
    "Example 1:\n",
    "\n",
    "- Input: s = [\"h\",\"e\",\"l\",\"l\",\"o\"]\n",
    "- Output: [\"o\",\"l\",\"l\",\"e\",\"h\"]\n",
    "\n",
    "Example 2:\n",
    "\n",
    "- Input: s = [\"H\",\"a\",\"n\",\"n\",\"a\",\"h\"]\n",
    "- Output: [\"h\",\"a\",\"n\",\"n\",\"a\",\"H\"]"
   ]
  },
  {
   "cell_type": "markdown",
   "id": "bffff8b0",
   "metadata": {},
   "source": [
    "**Method #1:** Naive approach\n",
    "- Time Complexity: `O(n)`\n",
    "- Space Complexity: `O(n)`"
   ]
  },
  {
   "cell_type": "code",
   "execution_count": 9,
   "id": "703bb931",
   "metadata": {},
   "outputs": [],
   "source": [
    "def reverse_string(s: list[str]) -> list[str]:\n",
    "    return list(reversed(s))"
   ]
  },
  {
   "cell_type": "code",
   "execution_count": 10,
   "id": "c6650241",
   "metadata": {},
   "outputs": [],
   "source": [
    "s = [\"h\",\"e\",\"l\",\"l\",\"o\"]"
   ]
  },
  {
   "cell_type": "code",
   "execution_count": null,
   "id": "0b945607",
   "metadata": {},
   "outputs": [
    {
     "data": {
      "text/plain": [
       "['o', 'l', 'l', 'e', 'h']"
      ]
     },
     "execution_count": 11,
     "metadata": {},
     "output_type": "execute_result"
    }
   ],
   "source": [
    "reverse_string(s)"
   ]
  },
  {
   "cell_type": "markdown",
   "id": "01108839",
   "metadata": {},
   "source": [
    "**Method #2:** Optimized approach\n",
    "- Time Complexity: `O(n)`\n",
    "- Space Complexity: `O(1)`"
   ]
  },
  {
   "cell_type": "code",
   "execution_count": 12,
   "id": "bf922f9a",
   "metadata": {},
   "outputs": [],
   "source": [
    "def reverse_string_opt(s: list[str]) -> list[str]:\n",
    "    if not s:\n",
    "        raise ValueError(\"s cannot be None\")\n",
    "    else:\n",
    "        left, right = 0, len(s) - 1\n",
    "        while left < right:\n",
    "            s[left], s[right] = s[right], s[left]\n",
    "            left += 1\n",
    "            right -= 1\n",
    "        return s"
   ]
  },
  {
   "cell_type": "code",
   "execution_count": 13,
   "id": "3cf6d976",
   "metadata": {},
   "outputs": [
    {
     "data": {
      "text/plain": [
       "['o', 'l', 'l', 'e', 'h']"
      ]
     },
     "execution_count": 13,
     "metadata": {},
     "output_type": "execute_result"
    }
   ],
   "source": [
    "reverse_string_opt(s)"
   ]
  },
  {
   "cell_type": "code",
   "execution_count": null,
   "id": "7237425c",
   "metadata": {},
   "outputs": [],
   "source": []
  }
 ],
 "metadata": {
  "kernelspec": {
   "display_name": ".aiop-venv",
   "language": "python",
   "name": "python3"
  },
  "language_info": {
   "codemirror_mode": {
    "name": "ipython",
    "version": 3
   },
   "file_extension": ".py",
   "mimetype": "text/x-python",
   "name": "python",
   "nbconvert_exporter": "python",
   "pygments_lexer": "ipython3",
   "version": "3.11.9"
  }
 },
 "nbformat": 4,
 "nbformat_minor": 5
}
