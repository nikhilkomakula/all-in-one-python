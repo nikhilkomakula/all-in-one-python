{
 "cells": [
  {
   "cell_type": "markdown",
   "metadata": {},
   "source": [
    "## Maximum depth of a Binary Tree"
   ]
  },
  {
   "cell_type": "markdown",
   "metadata": {},
   "source": [
    "**Method #1:** Recursion\n",
    "- Time Complexity: `O(n)` where `n` is number of nodes in the tree\n",
    "- Space Complexity: `O(h)` where `h` is the height of the tree"
   ]
  },
  {
   "cell_type": "markdown",
   "metadata": {},
   "source": [
    "https://youtu.be/eD3tmO66aBA"
   ]
  },
  {
   "cell_type": "code",
   "execution_count": 5,
   "metadata": {},
   "outputs": [],
   "source": [
    "# Definition for a binary tree node.\n",
    "class TreeNode:\n",
    "    def __init__(self, val=0, left=None, right=None):\n",
    "        self.val = val\n",
    "        self.left = left\n",
    "        self.right = right\n",
    "\n",
    "def max_depth(root: TreeNode) -> int:\n",
    "    # If the current node is None, it means this is an empty tree or we've reached the end of a branch.\n",
    "    # Return 0 in this case as it contributes no depth.\n",
    "    if root is None:\n",
    "        return 0\n",
    "\n",
    "    # Recursively find the depth of the left subtree.\n",
    "    # This will traverse all the way down to the leftmost leaf node.\n",
    "    left_depth = max_depth(root.left)\n",
    "\n",
    "    # Recursively find the depth of the right subtree.\n",
    "    # This will traverse all the way down to the rightmost leaf node.\n",
    "    right_depth = max_depth(root.right)\n",
    "\n",
    "    # The maximum depth of the current node will be 1 (for the current node) plus the maximum\n",
    "    # of the depths of its left and right subtrees.\n",
    "    # This ensures that the longest path from root to leaf is counted.\n",
    "    return 1 + max(left_depth, right_depth)"
   ]
  },
  {
   "cell_type": "code",
   "execution_count": 6,
   "metadata": {},
   "outputs": [],
   "source": [
    "# Create nodes\n",
    "root = TreeNode(3)\n",
    "root.left = TreeNode(9)\n",
    "root.right = TreeNode(20)\n",
    "root.right.left = TreeNode(15)\n",
    "root.right.right = TreeNode(7)"
   ]
  },
  {
   "cell_type": "code",
   "execution_count": 7,
   "metadata": {},
   "outputs": [
    {
     "name": "stdout",
     "output_type": "stream",
     "text": [
      "The maximum depth of the tree is: 3\n"
     ]
    }
   ],
   "source": [
    "depth = max_depth(root)\n",
    "print(f\"The maximum depth of the tree is: {depth}\")"
   ]
  },
  {
   "cell_type": "code",
   "execution_count": null,
   "metadata": {},
   "outputs": [],
   "source": []
  }
 ],
 "metadata": {
  "kernelspec": {
   "display_name": ".aiop-venv",
   "language": "python",
   "name": "python3"
  },
  "language_info": {
   "codemirror_mode": {
    "name": "ipython",
    "version": 3
   },
   "file_extension": ".py",
   "mimetype": "text/x-python",
   "name": "python",
   "nbconvert_exporter": "python",
   "pygments_lexer": "ipython3",
   "version": "3.11.9"
  }
 },
 "nbformat": 4,
 "nbformat_minor": 2
}
