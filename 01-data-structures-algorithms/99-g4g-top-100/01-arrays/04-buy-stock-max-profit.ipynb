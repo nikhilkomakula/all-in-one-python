{
 "cells": [
  {
   "cell_type": "markdown",
   "metadata": {},
   "source": [
    "## Stocks to buy to maximize profit"
   ]
  },
  {
   "cell_type": "markdown",
   "metadata": {},
   "source": [
    "You are given a stock trading problem with the following parameters:\n",
    "- An initial savings amount (S)\n",
    "- An array of current stock prices (C)\n",
    "- An array of future stock prices (F)\n",
    "\n",
    "Write a Python program that determines which stocks to buy to maximize profit, considering you can only spend up to your savings amount. You can buy multiple stocks, but you can only buy each stock once.\n",
    "\n",
    "#### Example\n",
    "```python\n",
    "Input:\n",
    "savings = 500\n",
    "current_prices = [100, 200, 150, 300]\n",
    "future_prices = [150, 400, 120, 450]\n",
    "\n",
    "Output:\n",
    "Maximum profit: $250\n",
    "Stocks bought: [1, 3]\n",
    "\n",
    "Explanation:\n",
    "- With $500 savings, we can buy stock at index 1 ($200) and index 3 ($300)\n",
    "- Stock 1: Buy at $200, sell at $400, profit = $200\n",
    "- Stock 3: Buy at $300, sell at $450, profit = $150\n",
    "- Total profit = $200 + $150 = $250\n",
    "```\n",
    "\n",
    "#### Follow-up Questions\n",
    "1. How would you handle cases where all stocks are losing money?\n",
    "2. Can you optimize the solution if we're allowed to buy fractional shares?\n",
    "3. What if we can buy the same stock multiple times?"
   ]
  },
  {
   "cell_type": "code",
   "execution_count": 1,
   "metadata": {},
   "outputs": [],
   "source": [
    "def maximize_profit(savings, current_prices, future_prices):\n",
    "    n = len(current_prices)\n",
    "    # Create a list of tuples containing (profit_ratio, current_price, future_price, index)\n",
    "    stocks = []\n",
    "    \n",
    "    for i in range(n):\n",
    "        if current_prices[i] > 0:  # Avoid division by zero                                 # REMEMBER\n",
    "            profit_ratio = (future_prices[i] - current_prices[i]) / current_prices[i]\n",
    "            stocks.append((profit_ratio, current_prices[i], future_prices[i], i))\n",
    "    \n",
    "    # Sort stocks by profit ratio in descending order\n",
    "    stocks.sort(reverse=True)\n",
    "    \n",
    "    total_profit = 0\n",
    "    stocks_bought = []\n",
    "    remaining_savings = savings\n",
    "    \n",
    "    # Buy stocks with highest profit ratio while we have savings\n",
    "    for ratio, curr_price, future_price, index in stocks:\n",
    "        if curr_price <= remaining_savings and ratio > 0:                                   # REMEMBER 'ratio > 0'\n",
    "            # Buy this stock\n",
    "            remaining_savings -= curr_price\n",
    "            total_profit += (future_price - curr_price)\n",
    "            stocks_bought.append(index)            \n",
    "    return total_profit, stocks_bought"
   ]
  },
  {
   "cell_type": "code",
   "execution_count": 2,
   "metadata": {},
   "outputs": [
    {
     "name": "stdout",
     "output_type": "stream",
     "text": [
      "Maximum profit: $600\n",
      "Stocks bought (indices): [3, 1, 0, 4]\n"
     ]
    }
   ],
   "source": [
    "# Example usage\n",
    "savings = 1000\n",
    "current_prices = [100, 200, 300, 150, 250]\n",
    "future_prices = [200, 400, 250, 400, 300]\n",
    "\n",
    "profit, bought_stocks = maximize_profit(savings, current_prices, future_prices)\n",
    "print(f\"Maximum profit: ${profit}\")\n",
    "print(f\"Stocks bought (indices): {bought_stocks}\")"
   ]
  },
  {
   "cell_type": "markdown",
   "metadata": {},
   "source": [
    "## Purpose of the Ratio Check (ratio > 0)\n",
    "\n",
    "- The ratio > 0 condition serves two critical purposes:\n",
    "    - Prevents Loss-Making Transactions:\n",
    "        - A positive ratio means future_price > current_price\n",
    "        - If ratio ≤ 0, it indicates that either:\n",
    "            - The stock will lose value (future_price < current_price)\n",
    "            - The stock will maintain the same value (future_price = current_price)\n",
    "    - Optimizes Profit:\n",
    "        - The algorithm only buys stocks that will generate actual profits\n",
    "        - Any transaction with ratio ≤ 0 would either:\n",
    "            - Reduce the total profit\n",
    "            - Waste available savings that could be used for profitable trades"
   ]
  },
  {
   "cell_type": "markdown",
   "metadata": {},
   "source": [
    "## Without Profit Ratio. Just using Profit (NOT IDEAL)"
   ]
  },
  {
   "cell_type": "markdown",
   "metadata": {},
   "source": [
    "### Issues\n",
    "- The code only considers buying stocks when there's a positive profit, but doesn't optimize for maximum profit across all possibilities\n",
    "- It doesn't handle the case where buying multiple lower-priced stocks might be better than buying one higher-priced stock"
   ]
  },
  {
   "cell_type": "code",
   "execution_count": 3,
   "metadata": {},
   "outputs": [
    {
     "name": "stdout",
     "output_type": "stream",
     "text": [
      "600 [4, 0, 1, 3]\n"
     ]
    }
   ],
   "source": [
    "def max_profit(s, cp, fp):\n",
    "    profits = []\n",
    "    for i in range(len(cp)):\n",
    "        profit = fp[i] - cp[i]\n",
    "        profits.append([profit, fp[i], cp[i], i])\n",
    "    profits.sort()\n",
    "    \n",
    "    balance = s\n",
    "    idx = []\n",
    "    total_profit = 0\n",
    "    \n",
    "    for pr, f, c, i in profits:\n",
    "        if balance >= c and pr >= 0:                    # REMEMBER, profit >= 0\n",
    "            total_profit += pr\n",
    "            idx.append(i)\n",
    "            \n",
    "    print(total_profit, idx)\n",
    "    \n",
    "max_profit(savings, current_prices, future_prices)"
   ]
  },
  {
   "cell_type": "markdown",
   "metadata": {},
   "source": [
    "## Allow more number of stocks to buy"
   ]
  },
  {
   "cell_type": "code",
   "execution_count": null,
   "metadata": {},
   "outputs": [],
   "source": [
    "def max_profit(savings, current_prices, future_prices):\n",
    "    if savings <= 0 or not current_prices or not future_prices:\n",
    "        return 0\n",
    "    \n",
    "    profits = []\n",
    "    for idx, (cp, fp) in enumerate(zip(current_prices, future_prices)):\n",
    "        if cp > 0:\n",
    "            pr = (fp - cp)/cp\n",
    "            profits.append((pr, cp, fp, idx))\n",
    "    \n",
    "    profits.sort(reverse=True)\n",
    "    balance = savings\n",
    "    profit = 0\n",
    "    \n",
    "    for pr, cp, fp, idx in profits:\n",
    "        if balance >= cp and pr > 0:  # Check if we have enough money and if it's profitable\n",
    "            # Buy as many as possible of this item\n",
    "            num_items = balance // cp\n",
    "            profit += (fp - cp) * num_items\n",
    "            balance -= cp * num_items\n",
    "            \n",
    "    return profit"
   ]
  }
 ],
 "metadata": {
  "kernelspec": {
   "display_name": ".aiop-venv",
   "language": "python",
   "name": "python3"
  },
  "language_info": {
   "codemirror_mode": {
    "name": "ipython",
    "version": 3
   },
   "file_extension": ".py",
   "mimetype": "text/x-python",
   "name": "python",
   "nbconvert_exporter": "python",
   "pygments_lexer": "ipython3",
   "version": "3.11.9"
  }
 },
 "nbformat": 4,
 "nbformat_minor": 2
}
