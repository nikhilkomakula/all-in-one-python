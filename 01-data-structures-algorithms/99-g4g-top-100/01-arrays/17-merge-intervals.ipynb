{
 "cells": [
  {
   "cell_type": "markdown",
   "metadata": {},
   "source": [
    "## [Merge Overlapping Intervals](https://www.geeksforgeeks.org/merging-intervals/)"
   ]
  },
  {
   "cell_type": "markdown",
   "metadata": {},
   "source": [
    "#### Given a set of time intervals in any order, our task is to merge all overlapping intervals into one and output the result which should have only mutually exclusive intervals."
   ]
  },
  {
   "cell_type": "markdown",
   "metadata": {},
   "source": [
    "- Example 1:\n",
    "    - Input: arr = {{1,3},{2,4},{6,8},{9,10}}\n",
    "    - Output: {{1, 4}, {6, 8}, {9, 10}}\n",
    "    - Explanation: Given intervals: [1,3],[2,4],[6,8],[9,10], we have only two overlapping intervals here,[1,3] and [2,4]. Therefore we will merge these two and return [1,4],[6,8], [9,10].\n",
    "- Example 2:\n",
    "    - Input: arr = {{6,8},{1,9},{2,4},{4,7}}\n",
    "    - Output: {{1, 9}} "
   ]
  },
  {
   "cell_type": "markdown",
   "metadata": {},
   "source": [
    "**Method #1:** Iterative Approach\n",
    "- Time Complexity : `O(n * log n)` if sorting, else `O(n)`\n",
    "- Space Complexity : `O(n)`"
   ]
  },
  {
   "cell_type": "code",
   "execution_count": 1,
   "metadata": {},
   "outputs": [],
   "source": [
    "def merge_intervals(arr):\n",
    "    if not arr:\n",
    "        return []\n",
    "    \n",
    "    # Sort the intervals based on their start times\n",
    "    arr.sort(key=lambda x: x[0])\n",
    "    \n",
    "    result = []\n",
    "    i, n = 0, len(arr)\n",
    "    \n",
    "    while i < n:\n",
    "        if not result or result[-1][1] < arr[i][0]:\n",
    "            result.append(arr[i])\n",
    "        else:\n",
    "            result[-1][1] = max(result[-1][1], arr[i][1])\n",
    "        i += 1\n",
    "        \n",
    "    return result"
   ]
  },
  {
   "cell_type": "code",
   "execution_count": 2,
   "metadata": {},
   "outputs": [],
   "source": [
    "arr = [[1, 3], [2, 6], [8, 10], [15, 18]]"
   ]
  },
  {
   "cell_type": "code",
   "execution_count": 3,
   "metadata": {},
   "outputs": [
    {
     "name": "stdout",
     "output_type": "stream",
     "text": [
      "[[1, 6], [8, 10], [15, 18]]\n"
     ]
    }
   ],
   "source": [
    "\n",
    "print(merge_intervals(arr))"
   ]
  },
  {
   "cell_type": "code",
   "execution_count": null,
   "metadata": {},
   "outputs": [],
   "source": []
  }
 ],
 "metadata": {
  "kernelspec": {
   "display_name": ".aiop-venv",
   "language": "python",
   "name": "python3"
  },
  "language_info": {
   "codemirror_mode": {
    "name": "ipython",
    "version": 3
   },
   "file_extension": ".py",
   "mimetype": "text/x-python",
   "name": "python",
   "nbconvert_exporter": "python",
   "pygments_lexer": "ipython3",
   "version": "3.11.9"
  }
 },
 "nbformat": 4,
 "nbformat_minor": 2
}
