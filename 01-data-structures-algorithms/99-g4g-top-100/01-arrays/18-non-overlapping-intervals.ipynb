{
 "cells": [
  {
   "cell_type": "markdown",
   "metadata": {},
   "source": [
    "## [Non-overlapping intervals](https://www.geeksforgeeks.org/find-non-overlapping-intervals-among-a-given-set-of-intervals/)"
   ]
  },
  {
   "cell_type": "markdown",
   "metadata": {},
   "source": [
    "#### Given N set of time intervals, the task is to find the intervals which don’t overlap with the given set of intervals."
   ]
  },
  {
   "cell_type": "markdown",
   "metadata": {},
   "source": [
    "- Example 1:\n",
    "    - Input: interval arr[] = { {1, 3}, {2, 4}, {3, 5}, {7, 9} } \n",
    "    - Output: [5, 7] \n",
    "    - Explanation: The only interval which doesn’t overlaps with the other intervals is [5, 7].\n",
    "- Example 2:\n",
    "    - Input: interval arr[] = { {1, 3}, {9, 12}, {2, 4}, {6, 8} } \n",
    "    - Output: [4, 6] [8, 9] \n",
    "    - Explanation: There are two intervals which don’t overlap with other intervals are [4, 6], [8, 9]."
   ]
  },
  {
   "cell_type": "markdown",
   "metadata": {},
   "source": [
    "**Method #1:** Iterative Approach\n",
    "- Time Complexity : `O(n * log n)` if sorting is needed, otherwise `O(n)`\n",
    "- Space Complexity : `O(1)`"
   ]
  },
  {
   "cell_type": "code",
   "execution_count": 1,
   "metadata": {},
   "outputs": [],
   "source": [
    "def non_overlapping_intervals(arr):\n",
    "    arr.sort(key=lambda x: x[0])            # sort if intervals are not already sorted\n",
    "    \n",
    "    result = []\n",
    "    for i in range(len(arr) - 1):\n",
    "        if arr[i][1] < arr[i+1][0]:\n",
    "            result.append([arr[i][1], arr[i+1][0]])\n",
    "            \n",
    "    return result"
   ]
  },
  {
   "cell_type": "code",
   "execution_count": 2,
   "metadata": {},
   "outputs": [],
   "source": [
    "arr = [[1, 3], [9, 12], [2, 4], [6, 8]]"
   ]
  },
  {
   "cell_type": "code",
   "execution_count": 3,
   "metadata": {},
   "outputs": [
    {
     "name": "stdout",
     "output_type": "stream",
     "text": [
      "[[4, 6], [8, 9]]\n"
     ]
    }
   ],
   "source": [
    "print(non_overlapping_intervals(arr))"
   ]
  },
  {
   "cell_type": "code",
   "execution_count": null,
   "metadata": {},
   "outputs": [],
   "source": []
  }
 ],
 "metadata": {
  "kernelspec": {
   "display_name": ".aiop-venv",
   "language": "python",
   "name": "python3"
  },
  "language_info": {
   "codemirror_mode": {
    "name": "ipython",
    "version": 3
   },
   "file_extension": ".py",
   "mimetype": "text/x-python",
   "name": "python",
   "nbconvert_exporter": "python",
   "pygments_lexer": "ipython3",
   "version": "3.11.9"
  }
 },
 "nbformat": 4,
 "nbformat_minor": 2
}
