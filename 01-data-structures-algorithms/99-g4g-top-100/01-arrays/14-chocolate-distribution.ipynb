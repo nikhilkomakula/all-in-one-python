{
 "cells": [
  {
   "cell_type": "markdown",
   "metadata": {},
   "source": [
    "## [Chocolate Distribution Problem](https://www.geeksforgeeks.org/chocolate-distribution-problem/)"
   ]
  },
  {
   "cell_type": "markdown",
   "metadata": {},
   "source": [
    "#### Given an array of N integers where each value represents the number of chocolates in a packet. Each packet can have a variable number of chocolates. There are m students, the task is to distribute chocolate packets such that: \n",
    "- Each student gets one packet. \n",
    "- The difference between the number of chocolates in the packet with maximum chocolates and the packet with minimum chocolates given to the students is minimum."
   ]
  },
  {
   "cell_type": "markdown",
   "metadata": {},
   "source": [
    "- Example 1: \n",
    "    - Input : arr = {7, 3, 2, 4, 9, 12, 56}, m = 3 \n",
    "    - Output: Minimum Difference is 2 \n",
    "    - Explanation: We have seven packets of chocolates and we need to pick three packets for 3 students If we pick 2, 3 and 4, we get the minimum difference between maximum and minimum packet sizes. \n",
    "\n",
    "- Example 2:\n",
    "    - Input: arrl = {3, 4, 1, 9, 56, 7, 9, 12}, m = 5 \n",
    "    - Output: Minimum Difference is 6"
   ]
  },
  {
   "cell_type": "markdown",
   "metadata": {},
   "source": [
    "**Method #1:**\n",
    "- Time Complexity : `O(n * log n)`      # depends on sorting algorithm\n",
    "- Space Complexity : `O(n)`             # depends on sorting algorithm"
   ]
  },
  {
   "cell_type": "code",
   "execution_count": null,
   "metadata": {},
   "outputs": [],
   "source": [
    "def min_chocolate_difference(arr: list, m: int) -> int:\n",
    "    # If there are no students or no chocolates\n",
    "    if m == 0 or len(arr) == 0:\n",
    "        return 0\n",
    "    \n",
    "    # Number of packets should be at least equal to the number of students\n",
    "    if len(arr) < m:\n",
    "        return -1  # Not enough packets to distribute\n",
    "    \n",
    "    # Sort the array\n",
    "    arr.sort()\n",
    "    \n",
    "    # Initialize the minimum difference to a large value\n",
    "    min_diff = float('inf')\n",
    "    \n",
    "    # Find the minimum difference between max and min in any window of size m\n",
    "    for i in range(len(arr) - m + 1):\n",
    "        diff = arr[i + m - 1] - arr[i]\n",
    "        if diff < min_diff:\n",
    "            min_diff = diff\n",
    "    \n",
    "    return min_diff"
   ]
  }
 ],
 "metadata": {
  "language_info": {
   "name": "python"
  }
 },
 "nbformat": 4,
 "nbformat_minor": 2
}
