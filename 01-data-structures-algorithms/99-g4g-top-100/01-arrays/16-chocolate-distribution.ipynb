{
 "cells": [
  {
   "cell_type": "markdown",
   "metadata": {},
   "source": [
    "## [Chocolate Distribution Problem](https://www.geeksforgeeks.org/chocolate-distribution-problem/)"
   ]
  },
  {
   "cell_type": "markdown",
   "metadata": {},
   "source": [
    "#### Given an array of N integers where each value represents the number of chocolates in a packet. Each packet can have a variable number of chocolates. There are m students, the task is to distribute chocolate packets such that: \n",
    "- Each student gets one packet. \n",
    "- The difference between the number of chocolates in the packet with maximum chocolates and the packet with minimum chocolates given to the students is minimum."
   ]
  },
  {
   "cell_type": "markdown",
   "metadata": {},
   "source": [
    "- Example 1: \n",
    "    - Input : arr = {7, 3, 2, 4, 9, 12, 56}, m = 3 \n",
    "    - Output: Minimum Difference is 2 \n",
    "    - Explanation: We have seven packets of chocolates and we need to pick three packets for 3 students If we pick 2, 3 and 4, we get the minimum difference between maximum and minimum packet sizes. \n",
    "\n",
    "- Example 2:\n",
    "    - Input: arr = {3, 4, 1, 9, 56, 7, 9, 12}, m = 5 \n",
    "    - Output: Minimum Difference is 6"
   ]
  },
  {
   "cell_type": "markdown",
   "metadata": {},
   "source": [
    "**Method #1:**\n",
    "- Time Complexity : `O(n * log n)`      # depends on sorting algorithm\n",
    "- Space Complexity : `O(n)`             # depends on sorting algorithm"
   ]
  },
  {
   "cell_type": "code",
   "execution_count": 1,
   "metadata": {},
   "outputs": [],
   "source": [
    "def min_chocolate_difference(arr: list, m: int) -> int:\n",
    "    # If there are no students or no chocolates\n",
    "    if m == 0 or len(arr) == 0:\n",
    "        return 0\n",
    "    \n",
    "    # Number of packets should be at least equal to the number of students\n",
    "    if len(arr) < m:\n",
    "        return -1  # Not enough packets to distribute\n",
    "    \n",
    "    # Sort the array\n",
    "    arr.sort()                                                                  # REMEMBER\n",
    "    \n",
    "    # Initialize the minimum difference to a large value\n",
    "    min_diff = float('inf')\n",
    "    \n",
    "    # sliding window problem\n",
    "    # Find the minimum difference between max and min in any window of size m\n",
    "    for i in range(len(arr) - m + 1):                                           # REMEMBER\n",
    "        diff = arr[i + m - 1] - arr[i]                                          # REMEMBER\n",
    "        if diff < min_diff:\n",
    "            min_diff = diff\n",
    "    \n",
    "    return min_diff"
   ]
  },
  {
   "cell_type": "code",
   "execution_count": 2,
   "metadata": {},
   "outputs": [],
   "source": [
    "arr = [3, 4, 1, 9, 56, 7, 9, 12]\n",
    "m = 5"
   ]
  },
  {
   "cell_type": "code",
   "execution_count": 3,
   "metadata": {},
   "outputs": [
    {
     "data": {
      "text/plain": [
       "6"
      ]
     },
     "execution_count": 3,
     "metadata": {},
     "output_type": "execute_result"
    }
   ],
   "source": [
    "min_chocolate_difference(arr, m)"
   ]
  },
  {
   "cell_type": "code",
   "execution_count": null,
   "metadata": {},
   "outputs": [],
   "source": []
  }
 ],
 "metadata": {
  "kernelspec": {
   "display_name": ".aiop-venv",
   "language": "python",
   "name": "python3"
  },
  "language_info": {
   "codemirror_mode": {
    "name": "ipython",
    "version": 3
   },
   "file_extension": ".py",
   "mimetype": "text/x-python",
   "name": "python",
   "nbconvert_exporter": "python",
   "pygments_lexer": "ipython3",
   "version": "3.11.9"
  }
 },
 "nbformat": 4,
 "nbformat_minor": 2
}
