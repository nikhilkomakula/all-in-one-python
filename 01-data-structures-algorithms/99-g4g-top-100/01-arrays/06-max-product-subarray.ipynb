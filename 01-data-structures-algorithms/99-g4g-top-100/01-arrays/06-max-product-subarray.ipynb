{
 "cells": [
  {
   "cell_type": "markdown",
   "metadata": {},
   "source": [
    "## [Maximum Product Subarray](https://www.geeksforgeeks.org/maximum-product-subarray/)"
   ]
  },
  {
   "cell_type": "markdown",
   "metadata": {},
   "source": [
    "### Given an array that contains both positive and negative integers, the task is to find the product of the maximum product subarray. "
   ]
  },
  {
   "cell_type": "markdown",
   "metadata": {},
   "source": [
    "**Example 1:**\n",
    "- Input: arr[] = {6, -3, -10, 0, 2}\n",
    "- Output:  180\n",
    "- Explanation: The subarray is {6, -3, -10}"
   ]
  },
  {
   "cell_type": "markdown",
   "metadata": {},
   "source": [
    "**Example 2:**\n",
    "- Input: arr[] = {-1, -3, -10, 0, 60}\n",
    "- Output:   60\n",
    "- Explanation: The subarray is {60}"
   ]
  },
  {
   "cell_type": "markdown",
   "metadata": {},
   "source": [
    "**Method #1:** Naive approach\n",
    "- Time Complexity: `O(n^2)`\n",
    "- Space Complexity: `O(n)`"
   ]
  },
  {
   "cell_type": "code",
   "execution_count": 1,
   "metadata": {},
   "outputs": [],
   "source": [
    "def max_product_subarray_naive(arr):\n",
    "    result = []\n",
    "    for i in range(len(arr)):\n",
    "        temp = arr[i]\n",
    "        temp_arr = [temp]\n",
    "        for j in range(i+1, len(arr)):\n",
    "            temp *= arr[j]\n",
    "            temp_arr.append(temp)\n",
    "        result.append(max(temp_arr))\n",
    "    return max(result)          \n",
    "        "
   ]
  },
  {
   "cell_type": "code",
   "execution_count": 12,
   "metadata": {},
   "outputs": [],
   "source": [
    "# arr = [6, -3, -10, 0, 2]\n",
    "arr = [-6, -3, -10, 0, -2]"
   ]
  },
  {
   "cell_type": "code",
   "execution_count": 13,
   "metadata": {},
   "outputs": [
    {
     "name": "stdout",
     "output_type": "stream",
     "text": [
      "30\n"
     ]
    }
   ],
   "source": [
    "print(max_product_subarray_naive(arr))"
   ]
  },
  {
   "cell_type": "markdown",
   "metadata": {},
   "source": [
    "**Method #2:** Optimized approach (Kaden's Algorithm)\n",
    "- Time Complexity: `O(n)`\n",
    "- Space Complexity: `O(1)`"
   ]
  },
  {
   "cell_type": "code",
   "execution_count": 22,
   "metadata": {},
   "outputs": [
    {
     "data": {
      "text/plain": [
       "[-6, -3, -10, 0, -2]"
      ]
     },
     "execution_count": 22,
     "metadata": {},
     "output_type": "execute_result"
    }
   ],
   "source": [
    "arr"
   ]
  },
  {
   "cell_type": "code",
   "execution_count": 31,
   "metadata": {},
   "outputs": [],
   "source": [
    "def max_product_subarray_opt(arr):\n",
    "    if not arr:\n",
    "        return 0\n",
    "    \n",
    "    max_product = min_product = result = arr[0]\n",
    "    \n",
    "    for num in arr[1:]:\n",
    "        temp_max = max(num, max_product * num, min_product * num)\n",
    "        min_product = min(num, max_product * num, min_product * num)\n",
    "        max_product = temp_max\n",
    "        \n",
    "        result = max(result, max_product)\n",
    "    \n",
    "    return result"
   ]
  },
  {
   "cell_type": "markdown",
   "metadata": {},
   "source": [
    "**Code Explaination**\n",
    "- For each element `num`:\n",
    "    - Calculate `temp_max`:\n",
    "        - `temp_max` stores the potential maximum product at the current position, which could be:\n",
    "            - The current element `num` itself.\n",
    "            - The product of `num` and the previous `max_product`.\n",
    "            - The product of `num` and the previous `min_product`.\n",
    "    - Update `min_product`:\n",
    "        - `min_product` is updated similarly to `temp_max`, but it tracks the minimum product because a negative product might become the maximum if multiplied by a negative number in subsequent steps.\n",
    "    - Update `max_product`:\n",
    "        - `max_product` is updated to the value of `temp_max`, which is the maximum product ending at the current position.\n",
    "    - Update result:\n",
    "        - `result` is updated to the maximum value between the current `result` and the current `max_product`."
   ]
  },
  {
   "cell_type": "code",
   "execution_count": 32,
   "metadata": {},
   "outputs": [
    {
     "name": "stdout",
     "output_type": "stream",
     "text": [
      "30\n"
     ]
    }
   ],
   "source": [
    "print(max_product_subarray_opt(arr))"
   ]
  },
  {
   "cell_type": "code",
   "execution_count": null,
   "metadata": {},
   "outputs": [],
   "source": []
  }
 ],
 "metadata": {
  "kernelspec": {
   "display_name": ".aiop-venv",
   "language": "python",
   "name": "python3"
  },
  "language_info": {
   "codemirror_mode": {
    "name": "ipython",
    "version": 3
   },
   "file_extension": ".py",
   "mimetype": "text/x-python",
   "name": "python",
   "nbconvert_exporter": "python",
   "pygments_lexer": "ipython3",
   "version": "3.11.9"
  }
 },
 "nbformat": 4,
 "nbformat_minor": 2
}
