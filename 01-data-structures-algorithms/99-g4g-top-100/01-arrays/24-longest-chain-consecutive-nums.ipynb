{
 "cells": [
  {
   "cell_type": "markdown",
   "metadata": {},
   "source": [
    "## Longest Chain of Consecutive Numbers"
   ]
  },
  {
   "cell_type": "markdown",
   "metadata": {},
   "source": [
    "Find the longest chain of consecutive numbers in an*array. Two numbers are consecutive if they have a difference of 1.\n",
    "\n",
    "- Example:\n",
    "    - Input: nums = [1, 6, 2, 5, 8, 7, 10, 3]\n",
    "    - Output: 4\n",
    "    - Explanation: The longest chain of consecutive numbers is 5, 6, 7, 8."
   ]
  },
  {
   "cell_type": "markdown",
   "metadata": {},
   "source": [
    "**Method #1:** Naive approach\n",
    "- Time Complexity: `O(n * log n)`\n",
    "- Space Complexity: `O(n)`"
   ]
  },
  {
   "cell_type": "code",
   "execution_count": 17,
   "metadata": {},
   "outputs": [],
   "source": [
    "def longest_chain_of_consecutive_numbers(arr: list[int]) -> int:\n",
    "    if not arr:\n",
    "        raise ValueError(\"Empty array provided\")\n",
    "    elif len(arr) == 1:\n",
    "        return 1\n",
    "    else:\n",
    "        arr.sort()\n",
    "        prev = arr[0]\n",
    "        final_count = 1  # At minimum, we have 1 number\n",
    "        cur_count = 1    # Start with 1 for first element\n",
    "        \n",
    "        for cur in arr[1:]:\n",
    "            if cur - prev == 1:\n",
    "                cur_count += 1\n",
    "            elif cur != prev:  # Skip duplicates\n",
    "                cur_count = 1\n",
    "            # If same as prev, keep current count\n",
    "            \n",
    "            prev = cur\n",
    "            final_count = max(final_count, cur_count)\n",
    "        return final_count"
   ]
  },
  {
   "cell_type": "code",
   "execution_count": 18,
   "metadata": {},
   "outputs": [],
   "source": [
    "# def longest_chain_of_consecutive_numbers(nums: list[int]) -> int:\n",
    "#     if not nums:  # Handle empty input\n",
    "#         return 0\n",
    "        \n",
    "#     nums.sort()\n",
    "#     result = []\n",
    "#     temp = [nums[0]]\n",
    "    \n",
    "#     for i in range(1, len(nums)):\n",
    "#         if nums[i] == nums[i-1]:\n",
    "#             continue\n",
    "#         elif nums[i] == nums[i-1] + 1:\n",
    "#             temp.append(nums[i])\n",
    "#         else:\n",
    "#             result.append(temp)\n",
    "#             temp = [nums[i]]\n",
    "    \n",
    "#     result.append(temp)  # Don't forget to append the last chain\n",
    "#     return max(len(x) for x in result)"
   ]
  },
  {
   "cell_type": "code",
   "execution_count": 19,
   "metadata": {},
   "outputs": [],
   "source": [
    "nums = [1, 6, 2, 5, 8, 7, 10, 3]"
   ]
  },
  {
   "cell_type": "code",
   "execution_count": 20,
   "metadata": {},
   "outputs": [
    {
     "data": {
      "text/plain": [
       "4"
      ]
     },
     "execution_count": 20,
     "metadata": {},
     "output_type": "execute_result"
    }
   ],
   "source": [
    "longest_chain_of_consecutive_numbers(nums)"
   ]
  },
  {
   "cell_type": "markdown",
   "metadata": {},
   "source": [
    "**Method #2:** Optimized approach\n",
    "- Time Complexity: `O(n)`\n",
    "- Space Complexity: `O(n)`"
   ]
  },
  {
   "cell_type": "code",
   "execution_count": 21,
   "metadata": {},
   "outputs": [],
   "source": [
    "def longest_chain_of_consecutive_numbers_opt(arr: list[int]) -> int:\n",
    "    if not arr:\n",
    "        raise ValueError(\"Empty array provided\")\n",
    "    \n",
    "    # Convert array to set for O(1) lookups\n",
    "    num_set = set(arr)\n",
    "    max_count = 0\n",
    "    \n",
    "    # Check each number to see if it's the start of a sequence\n",
    "    for num in num_set:\n",
    "        # Only process numbers that are the start of a sequence\n",
    "        if num - 1 not in num_set:\n",
    "            current_num = num\n",
    "            current_count = 1\n",
    "            \n",
    "            # Count consecutive numbers\n",
    "            while current_num + 1 in num_set:\n",
    "                current_num += 1\n",
    "                current_count += 1\n",
    "            \n",
    "            # Update maximum count\n",
    "            max_count = max(max_count, current_count)\n",
    "    \n",
    "    return max_count\n"
   ]
  },
  {
   "cell_type": "code",
   "execution_count": 22,
   "metadata": {},
   "outputs": [
    {
     "data": {
      "text/plain": [
       "4"
      ]
     },
     "execution_count": 22,
     "metadata": {},
     "output_type": "execute_result"
    }
   ],
   "source": [
    "longest_chain_of_consecutive_numbers_opt(nums)"
   ]
  }
 ],
 "metadata": {
  "kernelspec": {
   "display_name": ".aiop-venv",
   "language": "python",
   "name": "python3"
  },
  "language_info": {
   "codemirror_mode": {
    "name": "ipython",
    "version": 3
   },
   "file_extension": ".py",
   "mimetype": "text/x-python",
   "name": "python",
   "nbconvert_exporter": "python",
   "pygments_lexer": "ipython3",
   "version": "3.11.9"
  }
 },
 "nbformat": 4,
 "nbformat_minor": 2
}
