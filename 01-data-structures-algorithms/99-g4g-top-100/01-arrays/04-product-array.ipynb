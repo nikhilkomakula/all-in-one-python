{
 "cells": [
  {
   "cell_type": "markdown",
   "metadata": {},
   "source": [
    "## [Product of Array except itself](https://www.geeksforgeeks.org/a-product-array-puzzle/)"
   ]
  },
  {
   "cell_type": "markdown",
   "metadata": {},
   "source": [
    "#### Given an array arr[] of `n` integers, construct a Product Array prod[] (of the same size) such that prod[i] is equal to the product of all the elements of arr[] except arr[i]. \n",
    "\n",
    "Note: Solve it without the division operator in `O(n)` time."
   ]
  },
  {
   "cell_type": "markdown",
   "metadata": {},
   "source": [
    "**Example 1:**\n",
    "- Input: arr[]  = {10, 3, 5, 6, 2}\n",
    "- Output: prod[] = {180, 600, 360, 300, 900}"
   ]
  },
  {
   "cell_type": "markdown",
   "metadata": {},
   "source": [
    "**Example 2:**\n",
    "- Input: arr[] = {1, 2, 3, 4, 5}\n",
    "- Output: prod[] = {120, 60, 40, 30, 24}"
   ]
  },
  {
   "cell_type": "markdown",
   "metadata": {},
   "source": [
    "**Method #1:** Naive approach\n",
    "- Time Complexity: `O(n^2)`\n",
    "- Space Complexity: `O(n)`"
   ]
  },
  {
   "cell_type": "code",
   "execution_count": 7,
   "metadata": {},
   "outputs": [],
   "source": [
    "def arr_product_naive(arr):\n",
    "    result = []\n",
    "    for i in range(len(arr)):\n",
    "        product = 1\n",
    "        for j in range(len(arr)):\n",
    "            if i != j:\n",
    "                product *= arr[j]\n",
    "        result.append(product)\n",
    "    return result              \n",
    "            "
   ]
  },
  {
   "cell_type": "code",
   "execution_count": 8,
   "metadata": {},
   "outputs": [],
   "source": [
    "arr = [10, 3, 5, 6, 2]"
   ]
  },
  {
   "cell_type": "code",
   "execution_count": 9,
   "metadata": {},
   "outputs": [
    {
     "name": "stdout",
     "output_type": "stream",
     "text": [
      "[180, 600, 360, 300, 900]\n"
     ]
    }
   ],
   "source": [
    "print(arr_product_naive(arr))"
   ]
  },
  {
   "cell_type": "markdown",
   "metadata": {},
   "source": [
    "**Method #2:** Optimized approach\n",
    "- Time Complexity: `O(n)`\n",
    "- Space Complexity: `O(1)`"
   ]
  },
  {
   "cell_type": "code",
   "execution_count": 14,
   "metadata": {},
   "outputs": [],
   "source": [
    "def arr_product_opt(arr):\n",
    "    result = [1] * len(arr)\n",
    "    left, right = 0, len(arr) - 1\n",
    "    left_product = right_product = 1\n",
    "    while left < len(arr):              # compare with len(arr)\n",
    "        result[left] *= left_product\n",
    "        left_product *= arr[left]\n",
    "        result[right] *= right_product\n",
    "        right_product *= arr[right]\n",
    "        left += 1\n",
    "        right -= 1\n",
    "    return result"
   ]
  },
  {
   "cell_type": "code",
   "execution_count": 15,
   "metadata": {},
   "outputs": [
    {
     "name": "stdout",
     "output_type": "stream",
     "text": [
      "[1, 1, 1, 1, 1]\n",
      "[1, 10, 1, 2, 1]\n",
      "[1, 10, 360, 2, 1]\n",
      "[1, 600, 360, 300, 1]\n",
      "[180, 600, 360, 300, 900]\n",
      "[180, 600, 360, 300, 900]\n"
     ]
    }
   ],
   "source": [
    "print(arr_product_opt(arr))"
   ]
  },
  {
   "cell_type": "code",
   "execution_count": null,
   "metadata": {},
   "outputs": [],
   "source": []
  }
 ],
 "metadata": {
  "kernelspec": {
   "display_name": ".aiop-venv",
   "language": "python",
   "name": "python3"
  },
  "language_info": {
   "codemirror_mode": {
    "name": "ipython",
    "version": 3
   },
   "file_extension": ".py",
   "mimetype": "text/x-python",
   "name": "python",
   "nbconvert_exporter": "python",
   "pygments_lexer": "ipython3",
   "version": "3.11.9"
  }
 },
 "nbformat": 4,
 "nbformat_minor": 2
}
