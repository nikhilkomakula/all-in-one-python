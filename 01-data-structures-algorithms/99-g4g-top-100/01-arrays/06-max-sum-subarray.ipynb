{
 "cells": [
  {
   "cell_type": "markdown",
   "metadata": {},
   "source": [
    "## [Largest Sum Contiguous Subarray](https://www.geeksforgeeks.org/largest-sum-contiguous-subarray/)"
   ]
  },
  {
   "cell_type": "markdown",
   "metadata": {},
   "source": [
    "#### Given an array arr[] of size N. The task is to find the sum of the contiguous subarray within a arr[] with the largest sum. "
   ]
  },
  {
   "cell_type": "markdown",
   "metadata": {},
   "source": [
    "**Example 1:**\n",
    "- Input: arr = {-2,-3,4,-1,-2,1,5,-3}\n",
    "- Output: 7\n",
    "- Explanation: The subarray {4,-1, -2, 1, 5} has the largest sum 7."
   ]
  },
  {
   "cell_type": "markdown",
   "metadata": {},
   "source": [
    "**Example 2:**\n",
    "- Input: arr = {2}\n",
    "- Output: 2\n",
    "- Explanation: The subarray {2} has the largest sum 2."
   ]
  },
  {
   "cell_type": "markdown",
   "metadata": {},
   "source": [
    "**Example 3:**\n",
    "- Input: arr = {5,4,1,7,8}\n",
    "- Output: 25\n",
    "- Explanation: The subarray {5,4,1,7,8} has the largest sum 25."
   ]
  },
  {
   "cell_type": "markdown",
   "metadata": {},
   "source": [
    "**Method #1:** Naive approach\n",
    "- Time Complexity: `O(n^2)`\n",
    "- Space Complexity: `O(n)`"
   ]
  },
  {
   "cell_type": "code",
   "execution_count": 9,
   "metadata": {},
   "outputs": [],
   "source": [
    "def largest_sum_subarray_naive(arr):\n",
    "  result = []\n",
    "  for i in range(len(arr)):\n",
    "      temp = 0  # Initialize temp to 0\n",
    "      temp_arr = []\n",
    "      for j in range(i, len(arr)):\n",
    "          temp += arr[j]\n",
    "          temp_arr.append(temp)\n",
    "      result.append(max(temp_arr))\n",
    "  return max(result)"
   ]
  },
  {
   "cell_type": "code",
   "execution_count": 10,
   "metadata": {},
   "outputs": [],
   "source": [
    "# arr = [2]\n",
    "# arr = [1, 2, 3, 4, 5]\n",
    "arr = [-2, -3, 4, -1, -2, 1, 5, -3]\n",
    "# arr = [-1, -1, 2, 3]"
   ]
  },
  {
   "cell_type": "code",
   "execution_count": 11,
   "metadata": {},
   "outputs": [
    {
     "name": "stdout",
     "output_type": "stream",
     "text": [
      "7\n"
     ]
    }
   ],
   "source": [
    "print(largest_sum_subarray_naive(arr))"
   ]
  },
  {
   "cell_type": "markdown",
   "metadata": {},
   "source": [
    "**Method #2:** Optimized approach (Kaden's Algorithm)\n",
    "- Time Complexity: `O(n)`\n",
    "- Space Complexity: `O(1)`\n",
    "- `NOTE: If all elements are negative numbers, then make maxSum = -INT_MIN [-float('inf')]?`"
   ]
  },
  {
   "cell_type": "code",
   "execution_count": 7,
   "metadata": {},
   "outputs": [],
   "source": [
    "def largest_sum_subarray_opt(arr):\n",
    "    cur_sum = 0\n",
    "    max_sum = arr[0]  # Initialize to the first element to handle all negative arrays\n",
    "    for num in arr:\n",
    "        cur_sum += num\n",
    "        if cur_sum > max_sum:\n",
    "            max_sum = cur_sum\n",
    "        if cur_sum < 0:\n",
    "            cur_sum = 0  # Reset cur_sum to 0 if it becomes negative\n",
    "    return max_sum"
   ]
  },
  {
   "cell_type": "code",
   "execution_count": 8,
   "metadata": {},
   "outputs": [
    {
     "name": "stdout",
     "output_type": "stream",
     "text": [
      "7\n"
     ]
    }
   ],
   "source": [
    "print(largest_sum_subarray_opt(arr))"
   ]
  },
  {
   "cell_type": "code",
   "execution_count": null,
   "metadata": {},
   "outputs": [],
   "source": []
  }
 ],
 "metadata": {
  "kernelspec": {
   "display_name": ".aiop-venv",
   "language": "python",
   "name": "python3"
  },
  "language_info": {
   "codemirror_mode": {
    "name": "ipython",
    "version": 3
   },
   "file_extension": ".py",
   "mimetype": "text/x-python",
   "name": "python",
   "nbconvert_exporter": "python",
   "pygments_lexer": "ipython3",
   "version": "3.11.9"
  }
 },
 "nbformat": 4,
 "nbformat_minor": 2
}
