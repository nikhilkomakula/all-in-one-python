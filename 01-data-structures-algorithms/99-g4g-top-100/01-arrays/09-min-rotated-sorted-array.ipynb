{
 "cells": [
  {
   "cell_type": "markdown",
   "metadata": {},
   "source": [
    "## [Minimum in a Sorted and Rotated Array](https://www.geeksforgeeks.org/find-minimum-element-in-a-sorted-and-rotated-array/)"
   ]
  },
  {
   "cell_type": "markdown",
   "metadata": {},
   "source": [
    "#### Given a sorted array arr[] (may be distinct or may contain duplicates) of size N that is rotated at some unknown point, the task is to find the minimum element in it. "
   ]
  },
  {
   "cell_type": "markdown",
   "metadata": {},
   "source": [
    "- Example 1:\n",
    "    - Input: arr[] = {5, 6, 1, 2, 3, 4}\n",
    "    - Output: 1\n",
    "    - Explanation: 1 is the minimum element present in the array."
   ]
  },
  {
   "cell_type": "markdown",
   "metadata": {},
   "source": [
    "- Example 2:\n",
    "    - Input: arr[] = {1, 2, 3, 4}\n",
    "    - Output: 1"
   ]
  },
  {
   "cell_type": "markdown",
   "metadata": {},
   "source": [
    "- Example 3:\n",
    "    - Input: arr[] = {2, 1}\n",
    "    - Output: 1"
   ]
  },
  {
   "cell_type": "markdown",
   "metadata": {},
   "source": [
    "**Method #1:** Naive approach\n",
    "- Time Complexity: `O(n)`\n",
    "- Space Complexity: `O(1)`"
   ]
  },
  {
   "cell_type": "code",
   "execution_count": 52,
   "metadata": {},
   "outputs": [],
   "source": [
    "def min_rotated_sorted_array_naive(arr):\n",
    "    min_num = arr[0]\n",
    "    for num in arr[1:]:\n",
    "        if num < min_num:\n",
    "            min_num = num\n",
    "    return min_num"
   ]
  },
  {
   "cell_type": "code",
   "execution_count": null,
   "metadata": {},
   "outputs": [],
   "source": [
    "# arr = [5, 6, 1, 2, 3, 4]\n",
    "# arr = [2, 1]\n",
    "arr = [4, 5, 6, 7, 0, 1, 2]"
   ]
  },
  {
   "cell_type": "code",
   "execution_count": 54,
   "metadata": {},
   "outputs": [
    {
     "name": "stdout",
     "output_type": "stream",
     "text": [
      "0\n"
     ]
    }
   ],
   "source": [
    "print(min_rotated_sorted_array_naive(arr))"
   ]
  },
  {
   "cell_type": "markdown",
   "metadata": {},
   "source": [
    "**Method #2:** Binary Search\n",
    "- Time Complexity: `O(log n)`\n",
    "- Space Complexity: `O(1)`"
   ]
  },
  {
   "cell_type": "code",
   "execution_count": 55,
   "metadata": {},
   "outputs": [],
   "source": [
    "def min_rotated_sorted_array_binary(arr) -> int:\n",
    "        left, right = 0, len(arr) - 1\n",
    "        while left < right:\n",
    "            mid = (left + right) // 2\n",
    "            if arr[mid] > arr[right]:\n",
    "                left = mid + 1\n",
    "            else:\n",
    "                right = mid                     # REMEMBER\n",
    "        return arr[left]                        # REMEMBER"
   ]
  },
  {
   "cell_type": "code",
   "execution_count": 56,
   "metadata": {},
   "outputs": [],
   "source": [
    "# # This version is failing for input [4,5,6,7,0,1,2]\n",
    "# def min_rotated_sorted_array_binary(arr):\n",
    "#     if not arr:\n",
    "#         return -1\n",
    "#     if len(arr) == 1:\n",
    "#         return arr[0]\n",
    "    \n",
    "#     left, right = 0, len(arr) - 1\n",
    "    \n",
    "#     # If the array is not rotated\n",
    "#     if arr[left] < arr[right]:\n",
    "#         return arr[left]\n",
    "    \n",
    "#     while left <= right:\n",
    "#         mid = (left + right) // 2\n",
    "        \n",
    "#         # Check if mid is the minimum element\n",
    "#         if mid > 0 and arr[mid] < arr[mid - 1]:         # REMEMBER `mid > 0`\n",
    "#             return arr[mid]      \n",
    "#         # Decide which side to go\n",
    "#         elif arr[mid] >= arr[left]:\n",
    "#             left = mid + 1\n",
    "#         else:\n",
    "#             right = mid - 1\n",
    "          \n",
    "#     return -1"
   ]
  },
  {
   "cell_type": "code",
   "execution_count": 57,
   "metadata": {},
   "outputs": [
    {
     "name": "stdout",
     "output_type": "stream",
     "text": [
      "0\n"
     ]
    }
   ],
   "source": [
    "print(min_rotated_sorted_array_binary(arr))"
   ]
  }
 ],
 "metadata": {
  "kernelspec": {
   "display_name": ".aiop-venv",
   "language": "python",
   "name": "python3"
  },
  "language_info": {
   "codemirror_mode": {
    "name": "ipython",
    "version": 3
   },
   "file_extension": ".py",
   "mimetype": "text/x-python",
   "name": "python",
   "nbconvert_exporter": "python",
   "pygments_lexer": "ipython3",
   "version": "3.11.9"
  }
 },
 "nbformat": 4,
 "nbformat_minor": 2
}
