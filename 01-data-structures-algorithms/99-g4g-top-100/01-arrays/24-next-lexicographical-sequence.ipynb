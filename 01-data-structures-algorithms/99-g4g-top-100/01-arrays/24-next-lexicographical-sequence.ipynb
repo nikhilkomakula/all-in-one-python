{
 "cells": [
  {
   "cell_type": "markdown",
   "metadata": {},
   "source": [
    "## Next Lexicographical Sequence"
   ]
  },
  {
   "cell_type": "markdown",
   "metadata": {},
   "source": [
    "Given a string of lowercase English letters, rearrange the characters to form a new string representing the next immediate sequence in lexicographical (alphabetical) order. If the given string is already last in lexicographical order among all possible arrangements, return the arrangement that's first in lexicographical order."
   ]
  },
  {
   "cell_type": "markdown",
   "metadata": {},
   "source": [
    "- Example 1:\n",
    "    - Input: s = 'abcd'\n",
    "    - Output: 'abdc'\n",
    "    - Explanation: \"abdc\" is the next sequence in lexicographical order after rearranging \"abcd\".\n",
    "- Example 2:\n",
    "    - Input: s = 'dcba'\n",
    "    - Output: 'abcd'\n",
    "    - Explanation: Since \"dcba\" is the last sequence in lexicographical order, we return the first sequence: \"abcd\"."
   ]
  },
  {
   "cell_type": "markdown",
   "metadata": {},
   "source": [
    "**Method #1:** Iterative approach\n",
    "- Time Complexity: `O(n)`\n",
    "- Space Complexity: `O(n)`"
   ]
  },
  {
   "cell_type": "code",
   "execution_count": 6,
   "metadata": {},
   "outputs": [],
   "source": [
    "def nextPermutation(s):\n",
    "    # Convert string to list for easier manipulation\n",
    "    arr = list(s)\n",
    "    n = len(arr)\n",
    "    \n",
    "    # Find first decreasing element from right\n",
    "    i = n - 2\n",
    "    while i >= 0 and arr[i] >= arr[i + 1]:\n",
    "        i -= 1\n",
    "    \n",
    "    if i >= 0:\n",
    "        # Find smallest element greater than arr[i]\n",
    "        j = n - 1\n",
    "        while j >= 0 and arr[j] <= arr[i]:\n",
    "            j -= 1\n",
    "        \n",
    "        # Swap the elements\n",
    "        arr[i], arr[j] = arr[j], arr[i]\n",
    "    \n",
    "    # Reverse the substring after position i\n",
    "    left = i + 1\n",
    "    right = n - 1\n",
    "    while left < right:\n",
    "        arr[left], arr[right] = arr[right], arr[left]\n",
    "        left += 1\n",
    "        right -= 1\n",
    "    \n",
    "    return ''.join(arr)"
   ]
  },
  {
   "cell_type": "code",
   "execution_count": null,
   "metadata": {},
   "outputs": [],
   "source": [
    "# s = 'abcd'\n",
    "s = 'dcba'"
   ]
  },
  {
   "cell_type": "code",
   "execution_count": 8,
   "metadata": {},
   "outputs": [
    {
     "data": {
      "text/plain": [
       "'abcd'"
      ]
     },
     "execution_count": 8,
     "metadata": {},
     "output_type": "execute_result"
    }
   ],
   "source": [
    "nextPermutation(s)"
   ]
  }
 ],
 "metadata": {
  "kernelspec": {
   "display_name": ".aiop-venv",
   "language": "python",
   "name": "python3"
  },
  "language_info": {
   "codemirror_mode": {
    "name": "ipython",
    "version": 3
   },
   "file_extension": ".py",
   "mimetype": "text/x-python",
   "name": "python",
   "nbconvert_exporter": "python",
   "pygments_lexer": "ipython3",
   "version": "3.11.9"
  }
 },
 "nbformat": 4,
 "nbformat_minor": 2
}
