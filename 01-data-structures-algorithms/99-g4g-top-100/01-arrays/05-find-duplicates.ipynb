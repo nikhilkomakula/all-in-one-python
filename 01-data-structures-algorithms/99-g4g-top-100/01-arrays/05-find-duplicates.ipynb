{
 "cells": [
  {
   "cell_type": "markdown",
   "metadata": {},
   "source": [
    "## [Find duplicates](https://www.geeksforgeeks.org/find-duplicates-in-on-time-and-constant-extra-space/)"
   ]
  },
  {
   "cell_type": "markdown",
   "metadata": {},
   "source": [
    "#### Given an array of `n` elements that contains numbers from `0` to `n-1`, with any of these numbers appearing any number of times. Find these repeating numbers in O(n) and use only constant memory space.\n",
    "\n",
    "Note: The repeating element should be printed only once."
   ]
  },
  {
   "cell_type": "markdown",
   "metadata": {},
   "source": [
    "**Example 1:**\n",
    "- Input: n = 7 , array[] = {1, 2, 3, 6, 3, 6, 1}\n",
    "- Output: 1, 3, 6\n",
    "- Explanation: The numbers 1 , 3 and 6 appears more than once in the array."
   ]
  },
  {
   "cell_type": "markdown",
   "metadata": {},
   "source": [
    "**Example 2:**\n",
    "- Input : n = 5 and array[] = {1, 2, 3, 4 ,3}\n",
    "- Output: 3\n",
    "- Explanation: The number 3 appears more than once in the array."
   ]
  },
  {
   "cell_type": "markdown",
   "metadata": {},
   "source": [
    "**Method #1:** Naive approach\n",
    "- Time Complexity: `O(n^2)`\n",
    "- Space Complexity: `O(n)`"
   ]
  },
  {
   "cell_type": "code",
   "execution_count": 14,
   "metadata": {},
   "outputs": [],
   "source": [
    "def find_dups_naive(arr):\n",
    "    dups = []\n",
    "    for i in range(len(arr) - 1):\n",
    "        for j in range(i+1, len(arr)):\n",
    "            if arr[i] == arr[j] and arr[i] not in dups:\n",
    "                dups.append(arr[i])\n",
    "    return dups"
   ]
  },
  {
   "cell_type": "code",
   "execution_count": 15,
   "metadata": {},
   "outputs": [],
   "source": [
    "arr = [1, 2, 3, 6, 3, 6, 1, 3, 6]"
   ]
  },
  {
   "cell_type": "code",
   "execution_count": 16,
   "metadata": {},
   "outputs": [
    {
     "name": "stdout",
     "output_type": "stream",
     "text": [
      "[1, 3, 6]\n"
     ]
    }
   ],
   "source": [
    "print(find_dups_naive(arr))"
   ]
  },
  {
   "cell_type": "markdown",
   "metadata": {},
   "source": [
    "**Method #2:** Sort Approach\n",
    "- Time Complexity: `O(n * log n)`\n",
    "- Space Complexity: `O(n)`"
   ]
  },
  {
   "cell_type": "code",
   "execution_count": 17,
   "metadata": {},
   "outputs": [],
   "source": [
    "def find_dups_sort(arr):\n",
    "    dups = []\n",
    "    arr.sort()\n",
    "    for i in range(1, len(arr)):\n",
    "        if arr[i] == arr[i-1] and arr[i] not in dups:\n",
    "            dups.append(arr[i])\n",
    "    return dups"
   ]
  },
  {
   "cell_type": "code",
   "execution_count": 18,
   "metadata": {},
   "outputs": [
    {
     "name": "stdout",
     "output_type": "stream",
     "text": [
      "[1, 3, 6]\n"
     ]
    }
   ],
   "source": [
    "print(find_dups_sort(arr))"
   ]
  },
  {
   "cell_type": "markdown",
   "metadata": {},
   "source": [
    "**Method #3:** Dictionary Approach\n",
    "- Time Complexity: `O(n)`\n",
    "- Space Complexity: `O(n)`"
   ]
  },
  {
   "cell_type": "code",
   "execution_count": 19,
   "metadata": {},
   "outputs": [],
   "source": [
    "def find_dups_dic(arr):\n",
    "    dic = {}\n",
    "    dups = []\n",
    "    for item in arr:\n",
    "        if item in dic and item not in dups:\n",
    "            dups.append(item)\n",
    "        else:\n",
    "            dic[item] = 1\n",
    "    return dups"
   ]
  },
  {
   "cell_type": "code",
   "execution_count": 20,
   "metadata": {},
   "outputs": [
    {
     "name": "stdout",
     "output_type": "stream",
     "text": [
      "[1, 3, 6]\n"
     ]
    }
   ],
   "source": [
    "print(find_dups_dic(arr))"
   ]
  },
  {
   "cell_type": "markdown",
   "metadata": {},
   "source": [
    "**Method #4:** Optimized Approach\n",
    "- Time Complexity: `O(n)`\n",
    "- Space Complexity: `O(1)`\n",
    "\n",
    "**Assumptions:**\n",
    "- All numbers are positive integers\n",
    "- All numbers lie within the range `0` to `len(arr)`"
   ]
  },
  {
   "cell_type": "code",
   "execution_count": 21,
   "metadata": {},
   "outputs": [],
   "source": [
    "def find_dups_opt(arr):\n",
    "    dups = set()\n",
    "    for num in arr:\n",
    "        num = abs(num)\n",
    "        if arr[num - 1] > 0:\n",
    "            arr[num - 1] *= -1\n",
    "        else:\n",
    "            dups.add(num)\n",
    "    return dups"
   ]
  },
  {
   "cell_type": "code",
   "execution_count": 22,
   "metadata": {},
   "outputs": [
    {
     "name": "stdout",
     "output_type": "stream",
     "text": [
      "{1, 3, 6}\n"
     ]
    }
   ],
   "source": [
    "print(find_dups_opt(arr))"
   ]
  },
  {
   "cell_type": "code",
   "execution_count": null,
   "metadata": {},
   "outputs": [],
   "source": []
  }
 ],
 "metadata": {
  "kernelspec": {
   "display_name": ".aiop-venv",
   "language": "python",
   "name": "python3"
  },
  "language_info": {
   "codemirror_mode": {
    "name": "ipython",
    "version": 3
   },
   "file_extension": ".py",
   "mimetype": "text/x-python",
   "name": "python",
   "nbconvert_exporter": "python",
   "pygments_lexer": "ipython3",
   "version": "3.11.9"
  }
 },
 "nbformat": 4,
 "nbformat_minor": 2
}
