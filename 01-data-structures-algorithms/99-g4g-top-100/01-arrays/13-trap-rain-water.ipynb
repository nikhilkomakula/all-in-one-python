{
 "cells": [
  {
   "cell_type": "markdown",
   "metadata": {},
   "source": [
    "## Trap rain water"
   ]
  },
  {
   "cell_type": "markdown",
   "metadata": {},
   "source": [
    "#### Given n non-negative integers representing an elevation map where the width of each bar is 1, compute how much water it can trap after raining."
   ]
  },
  {
   "attachments": {
    "1_oLVyUXno0uhUATSv5yhgvg.png": {
     "image/png": "[encoded data removed]"
    }
   },
   "cell_type": "markdown",
   "metadata": {},
   "source": [
    "![1_oLVyUXno0uhUATSv5yhgvg.png](attachment:1_oLVyUXno0uhUATSv5yhgvg.png)"
   ]
  },
  {
   "cell_type": "markdown",
   "metadata": {},
   "source": [
    "- Example 1:\n",
    "    - Input: height = [0,1,0,2,1,0,1,3,2,1,2,1] \n",
    "    - Output: 6 \n",
    "    - Explanation: The above elevation map (black section) is represented by array 10,1,0,2, 1,0,1,3,2, 1,2, 11. In this case, 6 units of rain water (blue section) are being trapped."
   ]
  },
  {
   "cell_type": "markdown",
   "metadata": {},
   "source": [
    "**Method #1:**\n",
    "- Time Complexity: `O(n)`\n",
    "- Space Complexity: `O(n)`"
   ]
  },
  {
   "cell_type": "code",
   "execution_count": null,
   "metadata": {},
   "outputs": [],
   "source": [
    "# time complexity - O(n)\n",
    "# space complexity - O(n)\n",
    "def trap_water(blocks: list) -> int:\n",
    "    \n",
    "    n = len(blocks)\n",
    "    \n",
    "    left = [0] * n\n",
    "    right = [0] * n\n",
    "    \n",
    "    # take the max from current position and left[current position - 1]\n",
    "    left[0] = blocks[0]\n",
    "    for i in range(1, n):\n",
    "        left[i] = max(left[i-1], blocks[i])                             # REMEMBER `max`\n",
    "    print('left', left)\n",
    "        \n",
    "    # take the max from current position and right[current position + 1]\n",
    "    right[n - 1] = blocks[n - 1]\n",
    "    for j in range(n-2, -1, -1):                                        # REMEMBER `(n-2, -1, -1)`\n",
    "        right[j] = max(right[j+1], blocks[j])                           # REMEMBER `max`\n",
    "    print('right', right)\n",
    "    \n",
    "    # calculate trapped water\n",
    "    # water can stay only upto min height\n",
    "    # exclude any blocks in current position\n",
    "    reserve = 0\n",
    "    for k in range(n):\n",
    "        reserve += min(left[k], right[k]) - blocks[k]\n",
    "        \n",
    "    return reserve"
   ]
  },
  {
   "cell_type": "code",
   "execution_count": 4,
   "metadata": {},
   "outputs": [
    {
     "name": "stdout",
     "output_type": "stream",
     "text": [
      "left [3, 3, 3, 4, 4, 4, 4, 4]\n",
      "right [4, 4, 4, 4, 3, 3, 3, 2]\n",
      "[3, 3, 3, 4, 4, 4, 4, 4] [4, 4, 4, 4, 3, 3, 3, 2]\n",
      "8\n"
     ]
    }
   ],
   "source": [
    "blocks = [3, 1, 2, 4, 0, 1, 3, 2]\n",
    "print(trap_water(blocks))"
   ]
  },
  {
   "cell_type": "code",
   "execution_count": null,
   "metadata": {},
   "outputs": [],
   "source": []
  }
 ],
 "metadata": {
  "kernelspec": {
   "display_name": ".aiop-venv",
   "language": "python",
   "name": "python3"
  },
  "language_info": {
   "codemirror_mode": {
    "name": "ipython",
    "version": 3
   },
   "file_extension": ".py",
   "mimetype": "text/x-python",
   "name": "python",
   "nbconvert_exporter": "python",
   "pygments_lexer": "ipython3",
   "version": "3.11.9"
  }
 },
 "nbformat": 4,
 "nbformat_minor": 2
}
