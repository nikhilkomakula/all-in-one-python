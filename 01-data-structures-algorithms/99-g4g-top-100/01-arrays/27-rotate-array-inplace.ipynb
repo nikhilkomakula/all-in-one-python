{
 "cells": [
  {
   "cell_type": "markdown",
   "id": "55d18107",
   "metadata": {},
   "source": [
    "## Rotate an array in place"
   ]
  },
  {
   "cell_type": "markdown",
   "id": "3e67d9c1",
   "metadata": {},
   "source": [
    "Given an integer array nums, rotate the array to the right by k steps, where k is non-negative."
   ]
  },
  {
   "cell_type": "markdown",
   "id": "912290f8",
   "metadata": {},
   "source": [
    "Example 1:\n",
    "\n",
    "- Input: nums = [1,2,3,4,5,6,7], k = 3\n",
    "- Output: [5,6,7,1,2,3,4]\n",
    "    - Explanation:\n",
    "        - rotate 1 steps to the right: [7,1,2,3,4,5,6]\n",
    "        - rotate 2 steps to the right: [6,7,1,2,3,4,5]\n",
    "        - rotate 3 steps to the right: [5,6,7,1,2,3,4]\n",
    "\n",
    "Example 2:\n",
    "\n",
    "- Input: nums = [-1,-100,3,99], k = 2\n",
    "- Output: [3,99,-1,-100]\n",
    "    - Explanation: \n",
    "        - rotate 1 steps to the right: [99,-1,-100,3]\n",
    "        - rotate 2 steps to the right: [3,99,-1,-100]"
   ]
  },
  {
   "cell_type": "markdown",
   "id": "edba4fe9",
   "metadata": {},
   "source": [
    "**Method #1:** Naive approach\n",
    "- Time Complexity: `O(n)`\n",
    "- Space Complexity: `O(n)`"
   ]
  },
  {
   "cell_type": "code",
   "execution_count": 1,
   "id": "2b3f6fb0",
   "metadata": {},
   "outputs": [],
   "source": [
    "arr = [1,2,3,4,5,6,7]\n",
    "k = 3"
   ]
  },
  {
   "cell_type": "code",
   "execution_count": 2,
   "id": "6ca6f1c6",
   "metadata": {},
   "outputs": [
    {
     "name": "stdout",
     "output_type": "stream",
     "text": [
      "[5, 6, 7, 1, 2, 3, 4]\n"
     ]
    }
   ],
   "source": [
    "def rotate_arr(arr, k):\n",
    "    k = k % len(arr)    # Handle case where k > n\n",
    "    print(arr[len(arr)-k:]+arr[:len(arr)-k])\n",
    "    \n",
    "rotate_arr(arr, k)"
   ]
  },
  {
   "cell_type": "markdown",
   "id": "571b86df",
   "metadata": {},
   "source": [
    "**Method #2:** Optimized approach\n",
    "- Time Complexity: `O(n)`\n",
    "- Space Complexity: `O(1)`"
   ]
  },
  {
   "cell_type": "code",
   "execution_count": 3,
   "id": "b2196a23",
   "metadata": {},
   "outputs": [
    {
     "name": "stdout",
     "output_type": "stream",
     "text": [
      "[5, 6, 7, 1, 2, 3, 4]\n"
     ]
    }
   ],
   "source": [
    "def rotate_arr_opt(arr, k):\n",
    "    k = k % len(arr)  # Handle case where k > n\n",
    "    \n",
    "    # Reverse the entire array\n",
    "    arr.reverse()\n",
    "    \n",
    "    # Reverse first k elements\n",
    "    arr[:k] = reversed(arr[:k])\n",
    "    \n",
    "    # Reverse remaining elements\n",
    "    arr[k:] = reversed(arr[k:])\n",
    "    \n",
    "    print(arr)\n",
    "\n",
    "rotate_arr_opt(arr, k)"
   ]
  },
  {
   "cell_type": "code",
   "execution_count": null,
   "id": "0e3829b1",
   "metadata": {},
   "outputs": [],
   "source": []
  }
 ],
 "metadata": {
  "kernelspec": {
   "display_name": ".aiop-venv",
   "language": "python",
   "name": "python3"
  },
  "language_info": {
   "codemirror_mode": {
    "name": "ipython",
    "version": 3
   },
   "file_extension": ".py",
   "mimetype": "text/x-python",
   "name": "python",
   "nbconvert_exporter": "python",
   "pygments_lexer": "ipython3",
   "version": "3.11.9"
  }
 },
 "nbformat": 4,
 "nbformat_minor": 5
}
