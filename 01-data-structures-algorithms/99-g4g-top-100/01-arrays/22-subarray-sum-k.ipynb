{
 "cells": [
  {
   "cell_type": "markdown",
   "metadata": {},
   "source": [
    "## [Subarray Sum Equals K](https://leetcode.com/problems/subarray-sum-equals-k/description/)"
   ]
  },
  {
   "cell_type": "markdown",
   "metadata": {},
   "source": [
    "#### Given an array of integers `nums` and an integer `k`, return the total number of subarrays whose sum equals to `k`.\n",
    "\n",
    "A subarray is a contiguous non-empty sequence of elements within an array."
   ]
  },
  {
   "cell_type": "markdown",
   "metadata": {},
   "source": [
    "- Example 1:\n",
    "    - Input: nums = [1,1,1], k = 2\n",
    "    - Output: 2\n",
    "- Example 2:\n",
    "    - Input: nums = [1,2,3], k = 3\n",
    "    - Output: 2     [[1, 2], [3]]"
   ]
  },
  {
   "cell_type": "markdown",
   "metadata": {},
   "source": [
    "**Method #1:** Naive approach\n",
    "- Time Complexity: `O(n^2)`\n",
    "- Space Complexity: `O(1)`"
   ]
  },
  {
   "cell_type": "code",
   "execution_count": 7,
   "metadata": {},
   "outputs": [],
   "source": [
    "def subarray_sum_naive(arr: list, k: int) -> int:\n",
    "    count = 0\n",
    "    for i in range(len(arr)):\n",
    "        temp = 0\n",
    "        for j in range(i, len(arr)):\n",
    "            temp += arr[j]\n",
    "            if temp == k:\n",
    "                count += 1\n",
    "    return count"
   ]
  },
  {
   "cell_type": "code",
   "execution_count": 8,
   "metadata": {},
   "outputs": [],
   "source": [
    "arr = [1,1,1]\n",
    "k = 2"
   ]
  },
  {
   "cell_type": "code",
   "execution_count": 9,
   "metadata": {},
   "outputs": [
    {
     "data": {
      "text/plain": [
       "2"
      ]
     },
     "execution_count": 9,
     "metadata": {},
     "output_type": "execute_result"
    }
   ],
   "source": [
    "subarray_sum_naive(arr, k)"
   ]
  },
  {
   "cell_type": "markdown",
   "metadata": {},
   "source": [
    "**Method #2:** Optimized approach\n",
    "- Time Complexity: `O(n)`\n",
    "- Space Complexity: `O(n)`"
   ]
  },
  {
   "cell_type": "code",
   "execution_count": null,
   "metadata": {},
   "outputs": [],
   "source": [
    "def subarray_sum_opt(arr: list, k: int) -> int:\n",
    "    count = 0  # To keep track of subarrays that sum to k\n",
    "    prefix_sum = 0  # Running sum of elements\n",
    "    prefix_sum_count = {0: 1}  # Hash map to store prefix sum frequencies (TRICKY TO REMEMBER)\n",
    "    # The prefix_sum_count is initialized with {0: 1}. This is crucial because it accounts for the case where a subarray starting from the beginning of the array sums to k.\n",
    "    for num in arr:\n",
    "        prefix_sum += num\n",
    "        \n",
    "        if (prefix_sum - k) in prefix_sum_count:\n",
    "            count += prefix_sum_count[prefix_sum - k]               # REMEMBER '+='\n",
    "            \n",
    "        if prefix_sum in prefix_sum_count:\n",
    "            prefix_sum_count[prefix_sum] += 1\n",
    "        else:\n",
    "            prefix_sum_count[prefix_sum] = 1\n",
    "    return count"
   ]
  },
  {
   "cell_type": "markdown",
   "metadata": {},
   "source": [
    "The key idea here is that if at any point `prefix_sum - k` exists in our `prefix_sum_count`, it means we've found a subarray that sums to k. The value in `prefix_sum_count` tells us how many such subarrays end at the current position."
   ]
  },
  {
   "cell_type": "code",
   "execution_count": 11,
   "metadata": {},
   "outputs": [
    {
     "data": {
      "text/plain": [
       "2"
      ]
     },
     "execution_count": 11,
     "metadata": {},
     "output_type": "execute_result"
    }
   ],
   "source": [
    "subarray_sum_opt(arr, k)"
   ]
  },
  {
   "cell_type": "markdown",
   "metadata": {},
   "source": [
    "The initialization of `prefix_sum_count = { 0 : 1 }` in the given code is a crucial part of the algorithm for counting subarrays with a given sum. Let's break down the reasoning behind this initialization:\n",
    "\n",
    "1. Purpose of the algorithm:\n",
    "   This algorithm is designed to count the number of subarrays in the given array `arr` that have a sum equal to `k`.\n",
    "\n",
    "2. Prefix sum concept:\n",
    "   The algorithm uses the concept of prefix sums. A prefix sum at any index is the sum of all elements from the beginning of the array up to that index.\n",
    "\n",
    "3. Role of `prefix_sum_count`:\n",
    "   This dictionary keeps track of the frequency of each prefix sum encountered so far.\n",
    "\n",
    "4. Why initialize with `{ 0 : 1 }`:\n",
    "   - The key `0` represents a prefix sum of 0.\n",
    "   - The value `1` indicates that we've encountered this prefix sum (0) once.\n",
    "\n",
    "5. Importance initialization:\n",
    "   - It handles the case where the entire subarray from the beginning of the array sums to `k`.\n",
    "   - It's necessary for correctly counting subarrays that start from the beginning of the array.\n",
    "\n",
    "6. How it works in the algorithm:\n",
    "   - When we encounter a prefix sum that equals `k`, we need to count it.\n",
    "   - By initializing `prefix_sum_count[0] = 1`, we ensure that such subarrays are counted correctly.\n",
    "\n",
    "7. Example scenario:\n",
    "   If the first elements of the array sum up to `k`, we want to count this as a valid subarray. The initialization allows us to do this by making `prefix_sum - k = 0`, which is already in our `prefix_sum_count`.\n",
    "\n",
    "In essence, initializing `prefix_sum_count = { 0 : 1 }` is a way of saying \"we've seen a prefix sum of 0 once before we even start\", which is logically true (the sum of no elements is 0) and necessary for the algorithm to work correctly for all cases, including subarrays that start at the beginning of the input array."
   ]
  },
  {
   "cell_type": "code",
   "execution_count": null,
   "metadata": {},
   "outputs": [],
   "source": []
  }
 ],
 "metadata": {
  "kernelspec": {
   "display_name": ".aiop-venv",
   "language": "python",
   "name": "python3"
  },
  "language_info": {
   "codemirror_mode": {
    "name": "ipython",
    "version": 3
   },
   "file_extension": ".py",
   "mimetype": "text/x-python",
   "name": "python",
   "nbconvert_exporter": "python",
   "pygments_lexer": "ipython3",
   "version": "3.11.9"
  }
 },
 "nbformat": 4,
 "nbformat_minor": 2
}
