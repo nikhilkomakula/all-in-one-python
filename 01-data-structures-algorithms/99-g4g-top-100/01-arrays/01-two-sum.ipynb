{
 "cells": [
  {
   "cell_type": "markdown",
   "metadata": {},
   "source": [
    "## [Pair with given Sum (Two Sum)](https://www.geeksforgeeks.org/check-if-pair-with-given-sum-exists-in-array/)"
   ]
  },
  {
   "cell_type": "markdown",
   "metadata": {},
   "source": [
    "#### Given an array A[] of `n` numbers and another number `x`, the task is to check whether or not there exist two elements in A[] whose sum is exactly `x`. \n",
    "\n",
    "**Examples:**\n",
    "\n",
    "- Input: arr[] = {0, -1, 2, -3, 1}, x= -2\n",
    "- Output: Yes\n",
    "\n",
    "- Input: arr[] = {1, -2, 1, 0, 5}, x = 0\n",
    "- Output: No"
   ]
  },
  {
   "cell_type": "markdown",
   "metadata": {},
   "source": [
    "**Method #1:** Naive approach\n",
    "- Time Complexity: `O(n^2)`\n",
    "- Space Complexity: `O(1)`"
   ]
  },
  {
   "cell_type": "code",
   "execution_count": 1,
   "metadata": {},
   "outputs": [],
   "source": [
    "def two_sum_naive(arr, target):\n",
    "    for i in range(len(arr) - 1):\n",
    "        for j in range(i+1, len(arr)):\n",
    "            if arr[i] + arr[j] == target:\n",
    "                return arr[i], arr[j]\n",
    "    return None, None"
   ]
  },
  {
   "cell_type": "markdown",
   "metadata": {},
   "source": [
    "**Method #2:** Hash Map\n",
    "- Time Complexity: `O(n)`\n",
    "- Space Complexity: `O(n)`"
   ]
  },
  {
   "cell_type": "code",
   "execution_count": 14,
   "metadata": {},
   "outputs": [],
   "source": [
    "def two_sum_map(arr, target):\n",
    "    num_map = {}\n",
    "    for num in arr:\n",
    "        diff = target - num\n",
    "        if diff in num_map:\n",
    "            return num, diff\n",
    "        else:\n",
    "            num_map[num] = 1\n",
    "    return None, None"
   ]
  },
  {
   "cell_type": "code",
   "execution_count": 11,
   "metadata": {},
   "outputs": [],
   "source": [
    "arr = [0, -1, 2, -3, 1]\n",
    "target = -2"
   ]
  },
  {
   "cell_type": "code",
   "execution_count": 12,
   "metadata": {},
   "outputs": [
    {
     "name": "stdout",
     "output_type": "stream",
     "text": [
      "(-3, 1)\n"
     ]
    }
   ],
   "source": [
    "print(two_sum_naive(arr, target))"
   ]
  },
  {
   "cell_type": "code",
   "execution_count": 13,
   "metadata": {},
   "outputs": [
    {
     "name": "stdout",
     "output_type": "stream",
     "text": [
      "(-3, 1)\n"
     ]
    }
   ],
   "source": [
    "print(two_sum_map(arr, target))"
   ]
  },
  {
   "cell_type": "markdown",
   "metadata": {},
   "source": [
    "**Method #3:** Using Binary Search\n",
    "- Time Complexity: `O(n * log n)`\n",
    "- Space Complexity: `O(1)`"
   ]
  },
  {
   "cell_type": "markdown",
   "metadata": {},
   "source": [
    "**Method #4:** Using Hashing\n",
    "- Time Complexity: `O(n)`\n",
    "- Space Complexity: `O(n)`"
   ]
  },
  {
   "cell_type": "code",
   "execution_count": null,
   "metadata": {},
   "outputs": [],
   "source": []
  }
 ],
 "metadata": {
  "kernelspec": {
   "display_name": ".aiop-venv",
   "language": "python",
   "name": "python3"
  },
  "language_info": {
   "codemirror_mode": {
    "name": "ipython",
    "version": 3
   },
   "file_extension": ".py",
   "mimetype": "text/x-python",
   "name": "python",
   "nbconvert_exporter": "python",
   "pygments_lexer": "ipython3",
   "version": "3.11.9"
  }
 },
 "nbformat": 4,
 "nbformat_minor": 2
}
