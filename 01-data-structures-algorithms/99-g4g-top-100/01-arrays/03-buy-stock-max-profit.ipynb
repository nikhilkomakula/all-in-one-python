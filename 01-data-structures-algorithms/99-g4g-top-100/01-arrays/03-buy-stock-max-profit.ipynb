{
 "cells": [
  {
   "cell_type": "markdown",
   "metadata": {},
   "source": [
    "## Stocks to buy to maximize profit"
   ]
  },
  {
   "cell_type": "markdown",
   "metadata": {},
   "source": [
    "Let me rephrase the stock problem as an interview question with an example:\n",
    "\n",
    "#### Question\n",
    "You are given a stock trading problem with the following parameters:\n",
    "- An initial savings amount (S)\n",
    "- An array of current stock prices (C)\n",
    "- An array of future stock prices (F)\n",
    "\n",
    "Write a Python program that determines which stocks to buy to maximize profit, considering you can only spend up to your savings amount. You can buy multiple stocks, but you can only buy each stock once.\n",
    "\n",
    "#### Example\n",
    "```python\n",
    "Input:\n",
    "savings = 500\n",
    "current_prices = [100, 200, 150, 300]\n",
    "future_prices = [150, 400, 120, 450]\n",
    "\n",
    "Output:\n",
    "Maximum profit: $250\n",
    "Stocks bought: [1, 3]\n",
    "\n",
    "Explanation:\n",
    "- With $500 savings, we can buy stock at index 1 ($200) and index 3 ($300)\n",
    "- Stock 1: Buy at $200, sell at $400, profit = $200\n",
    "- Stock 3: Buy at $300, sell at $450, profit = $150\n",
    "- Total profit = $200 + $150 = $250\n",
    "```\n",
    "\n",
    "#### Follow-up Questions\n",
    "1. How would you handle cases where all stocks are losing money?\n",
    "2. Can you optimize the solution if we're allowed to buy fractional shares?\n",
    "3. What if we can buy the same stock multiple times?\n",
    "\n",
    "This problem tests your ability to:\n",
    "- Implement a greedy algorithm\n",
    "- Handle constraints (savings limit)\n",
    "- Calculate and maximize profits\n",
    "- Work with arrays and sorting\n",
    "\n",
    "Would you like to try solving this problem?"
   ]
  },
  {
   "cell_type": "code",
   "execution_count": 1,
   "metadata": {},
   "outputs": [],
   "source": [
    "def maximize_profit(savings, current_prices, future_prices):\n",
    "    n = len(current_prices)\n",
    "    # Create a list of tuples containing (profit_ratio, current_price, future_price, index)\n",
    "    stocks = []\n",
    "    \n",
    "    for i in range(n):\n",
    "        if current_prices[i] > 0:  # Avoid division by zero\n",
    "            profit_ratio = (future_prices[i] - current_prices[i]) / current_prices[i]\n",
    "            stocks.append((profit_ratio, current_prices[i], future_prices[i], i))\n",
    "    \n",
    "    # Sort stocks by profit ratio in descending order\n",
    "    stocks.sort(reverse=True)\n",
    "    \n",
    "    total_profit = 0\n",
    "    stocks_bought = []\n",
    "    remaining_savings = savings\n",
    "    \n",
    "    # Buy stocks with highest profit ratio while we have savings\n",
    "    for ratio, curr_price, future_price, index in stocks:\n",
    "        if curr_price <= remaining_savings and ratio > 0:\n",
    "            # Buy this stock\n",
    "            remaining_savings -= curr_price\n",
    "            total_profit += (future_price - curr_price)\n",
    "            stocks_bought.append(index)            \n",
    "    return total_profit, stocks_bought"
   ]
  },
  {
   "cell_type": "code",
   "execution_count": 2,
   "metadata": {},
   "outputs": [
    {
     "name": "stdout",
     "output_type": "stream",
     "text": [
      "Maximum profit: $600\n",
      "Stocks bought (indices): [3, 1, 0, 4]\n"
     ]
    }
   ],
   "source": [
    "# Example usage\n",
    "savings = 1000\n",
    "current_prices = [100, 200, 300, 150, 250]\n",
    "future_prices = [200, 400, 250, 400, 300]\n",
    "\n",
    "profit, bought_stocks = maximize_profit(savings, current_prices, future_prices)\n",
    "print(f\"Maximum profit: ${profit}\")\n",
    "print(f\"Stocks bought (indices): {bought_stocks}\")"
   ]
  }
 ],
 "metadata": {
  "kernelspec": {
   "display_name": ".aiop-venv",
   "language": "python",
   "name": "python3"
  },
  "language_info": {
   "codemirror_mode": {
    "name": "ipython",
    "version": 3
   },
   "file_extension": ".py",
   "mimetype": "text/x-python",
   "name": "python",
   "nbconvert_exporter": "python",
   "pygments_lexer": "ipython3",
   "version": "3.11.9"
  }
 },
 "nbformat": 4,
 "nbformat_minor": 2
}
