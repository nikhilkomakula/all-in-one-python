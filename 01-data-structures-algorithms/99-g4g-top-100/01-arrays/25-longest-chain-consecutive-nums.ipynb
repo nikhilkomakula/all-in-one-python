{
 "cells": [
  {
   "cell_type": "markdown",
   "metadata": {},
   "source": [
    "## Longest Chain of Consecutive Numbers"
   ]
  },
  {
   "cell_type": "markdown",
   "metadata": {},
   "source": [
    "Find the longest chain of consecutive numbers in an*array. Two numbers are consecutive if they have a difference of 1.\n",
    "\n",
    "- Example:\n",
    "    - Input: nums = [1, 6, 2, 5, 8, 7, 10, 3]\n",
    "    - Output: 4\n",
    "    - Explanation: The longest chain of consecutive numbers is 5, 6, 7, 8."
   ]
  },
  {
   "cell_type": "markdown",
   "metadata": {},
   "source": [
    "**Method #1:** Naive approach\n",
    "- Time Complexity: `O(n * log n)`\n",
    "- Space Complexity: `O(n)`"
   ]
  },
  {
   "cell_type": "code",
   "execution_count": 3,
   "metadata": {},
   "outputs": [],
   "source": [
    "from typing import List\n",
    "\n",
    "def longest_chain_of_consecutive_numbers(nums: List[int]) -> int:\n",
    "    if not nums:  # Handle empty input\n",
    "        return 0\n",
    "        \n",
    "    nums.sort()\n",
    "    result = []\n",
    "    temp = [nums[0]]\n",
    "    \n",
    "    for i in range(1, len(nums)):\n",
    "        if nums[i] == nums[i-1]:\n",
    "            continue\n",
    "        elif nums[i] == nums[i-1] + 1:\n",
    "            temp.append(nums[i])\n",
    "        else:\n",
    "            result.append(temp)\n",
    "            temp = [nums[i]]\n",
    "    \n",
    "    result.append(temp)  # Don't forget to append the last chain\n",
    "    return max(len(x) for x in result)"
   ]
  },
  {
   "cell_type": "code",
   "execution_count": 4,
   "metadata": {},
   "outputs": [],
   "source": [
    "nums = [1, 6, 2, 5, 8, 7, 10, 3]"
   ]
  },
  {
   "cell_type": "code",
   "execution_count": 5,
   "metadata": {},
   "outputs": [
    {
     "data": {
      "text/plain": [
       "4"
      ]
     },
     "execution_count": 5,
     "metadata": {},
     "output_type": "execute_result"
    }
   ],
   "source": [
    "longest_chain_of_consecutive_numbers(nums)"
   ]
  },
  {
   "cell_type": "code",
   "execution_count": null,
   "metadata": {},
   "outputs": [],
   "source": []
  }
 ],
 "metadata": {
  "kernelspec": {
   "display_name": ".aiop-venv",
   "language": "python",
   "name": "python3"
  },
  "language_info": {
   "codemirror_mode": {
    "name": "ipython",
    "version": 3
   },
   "file_extension": ".py",
   "mimetype": "text/x-python",
   "name": "python",
   "nbconvert_exporter": "python",
   "pygments_lexer": "ipython3",
   "version": "3.11.9"
  }
 },
 "nbformat": 4,
 "nbformat_minor": 2
}
