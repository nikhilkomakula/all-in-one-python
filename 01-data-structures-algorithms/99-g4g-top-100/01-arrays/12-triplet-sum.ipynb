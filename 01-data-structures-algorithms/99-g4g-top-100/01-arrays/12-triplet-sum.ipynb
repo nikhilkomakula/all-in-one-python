{
 "cells": [
  {
   "cell_type": "markdown",
   "metadata": {},
   "source": [
    "## [Sum of Three Numbers](https://www.geeksforgeeks.org/find-triplets-array-whose-sum-equal-zero/)"
   ]
  },
  {
   "cell_type": "markdown",
   "metadata": {},
   "source": [
    "#### Given an array of distinct elements. The task is to find triplets in the array whose sum is target."
   ]
  },
  {
   "cell_type": "markdown",
   "metadata": {},
   "source": [
    "- Example 1:\n",
    "    - Input: arr[] = {0, -1, 2, -3, 1}\n",
    "    - Target: 0\n",
    "    - Output: [[0, -1, 1], [2, -3, 1]]\n",
    "    - Explanation: The triplets with zero sum are 0 + -1 + 1 = 0 and 2 + -3 + 1 = 0"
   ]
  },
  {
   "cell_type": "markdown",
   "metadata": {},
   "source": [
    "**Method #1:** Naive approach\n",
    "- Time Complexity: `O(n^3)`\n",
    "- Space Complexity: `O(1)`"
   ]
  },
  {
   "cell_type": "code",
   "execution_count": 8,
   "metadata": {},
   "outputs": [],
   "source": [
    "def find_three_sum_naive(arr: list, target: int) -> list:\n",
    "    result = []\n",
    "    for i in range(len(arr)-2):\n",
    "        for j in range(i+1, len(arr)-1):\n",
    "            for k in range(j+1, len(arr)):\n",
    "                if arr[i] + arr[j] + arr[k] == target:\n",
    "                    result.append([arr[i], arr[j], arr[k]])\n",
    "    return result"
   ]
  },
  {
   "cell_type": "code",
   "execution_count": 9,
   "metadata": {},
   "outputs": [],
   "source": [
    "arr = [0, -1, 2, -3, 1]\n",
    "target = 0"
   ]
  },
  {
   "cell_type": "code",
   "execution_count": 10,
   "metadata": {},
   "outputs": [
    {
     "data": {
      "text/plain": [
       "[[0, -1, 1], [2, -3, 1]]"
      ]
     },
     "execution_count": 10,
     "metadata": {},
     "output_type": "execute_result"
    }
   ],
   "source": [
    "find_three_sum_naive(arr, target)"
   ]
  },
  {
   "cell_type": "markdown",
   "metadata": {},
   "source": [
    "**Method #2:** Optimized approach\n",
    "- Time Complexity: `O(n^2)`\n",
    "- Space Complexity: `O(1)`"
   ]
  },
  {
   "cell_type": "code",
   "execution_count": 11,
   "metadata": {},
   "outputs": [],
   "source": [
    "# duplicates are retained\n",
    "def find_three_sum_opt_with_dups(arr: list, target: int) -> list:\n",
    "    result = []\n",
    "    arr.sort()\n",
    "    for i in range(len(arr)-2):\n",
    "        left, right = i+1, len(arr) - 1\n",
    "        while left < right:\n",
    "            if arr[i] + arr[left] + arr[right] == target:\n",
    "                result.append([arr[i], arr[left], arr[right]])\n",
    "                left += 1\n",
    "                right -= 1\n",
    "            elif arr[i] + arr[left] + arr[right] < target:\n",
    "                left += 1\n",
    "            else:\n",
    "                right -= 1\n",
    "    return result"
   ]
  },
  {
   "cell_type": "code",
   "execution_count": 12,
   "metadata": {},
   "outputs": [
    {
     "data": {
      "text/plain": [
       "[[-3, 1, 2], [-1, 0, 1]]"
      ]
     },
     "execution_count": 12,
     "metadata": {},
     "output_type": "execute_result"
    }
   ],
   "source": [
    "find_three_sum_opt_with_dups(arr, target)"
   ]
  },
  {
   "cell_type": "code",
   "execution_count": null,
   "metadata": {},
   "outputs": [],
   "source": [
    "# duplicates are eliminated\n",
    "def find_three_sum_opt_without_dups(nums, target):\n",
    "    nums.sort()  # Sort array first                                     # REMEMBER\n",
    "    result = []\n",
    "    \n",
    "    for i in range(len(nums) - 2):\n",
    "        # Skip duplicates for i\n",
    "        if i > 0 and nums[i] == nums[i-1]:                              # REMEMBER\n",
    "            continue\n",
    "            \n",
    "        left = i + 1\n",
    "        right = len(nums) - 1\n",
    "        \n",
    "        while left < right:\n",
    "            curr_sum = nums[i] + nums[left] + nums[right]\n",
    "            \n",
    "            if curr_sum == target:\n",
    "                result.append([nums[i], nums[left], nums[right]])\n",
    "                \n",
    "                # Skip duplicates for left\n",
    "                while left < right and nums[left] == nums[left + 1]:    # REMEMBER\n",
    "                    left += 1\n",
    "                # Skip duplicates for right\n",
    "                while left < right and nums[right] == nums[right - 1]:  # REMEMBER\n",
    "                    right -= 1\n",
    "                    \n",
    "                left += 1                                               # REMEMBER\n",
    "                right -= 1                                              # REMEMBER\n",
    "            elif curr_sum < target:                                     # REMEMBER\n",
    "                left += 1\n",
    "            else:\n",
    "                right -= 1\n",
    "                \n",
    "    return result"
   ]
  },
  {
   "cell_type": "code",
   "execution_count": 14,
   "metadata": {},
   "outputs": [
    {
     "data": {
      "text/plain": [
       "[[-3, 1, 2], [-1, 0, 1]]"
      ]
     },
     "execution_count": 14,
     "metadata": {},
     "output_type": "execute_result"
    }
   ],
   "source": [
    "find_three_sum_opt_without_dups(arr, target)"
   ]
  }
 ],
 "metadata": {
  "kernelspec": {
   "display_name": ".aiop-venv",
   "language": "python",
   "name": "python3"
  },
  "language_info": {
   "codemirror_mode": {
    "name": "ipython",
    "version": 3
   },
   "file_extension": ".py",
   "mimetype": "text/x-python",
   "name": "python",
   "nbconvert_exporter": "python",
   "pygments_lexer": "ipython3",
   "version": "3.11.9"
  }
 },
 "nbformat": 4,
 "nbformat_minor": 2
}
