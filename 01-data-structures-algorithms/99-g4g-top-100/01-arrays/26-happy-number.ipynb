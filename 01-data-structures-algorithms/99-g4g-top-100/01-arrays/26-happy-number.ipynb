{
 "cells": [
  {
   "cell_type": "markdown",
   "metadata": {},
   "source": [
    "## Happy Number"
   ]
  },
  {
   "cell_type": "markdown",
   "metadata": {},
   "source": [
    "In number theory, a happy number is defined as a number that, when repeatedly subjected to the process of squaring its digits and summing those squares, eventually leads to 1. An unhappy number will never reach 1 during this process, and will get stuck in an infinite loop.\n",
    "\n",
    "Given an integer, determine if it's a happy number.\n",
    "\n",
    "Example:\n",
    "\n",
    "Input: n = 23\n",
    "Output: True\n",
    "\n",
    "Explanation: 2^2 +3^2 = 13 → 1^2 +3^2 = 10 → 1^2 + 0^2=1"
   ]
  },
  {
   "cell_type": "markdown",
   "metadata": {},
   "source": [
    "**Method #1:** Naive approach\n",
    "- Time Complexity: `O(log n)`\n",
    "- Space Complexity: `O(log n)`"
   ]
  },
  {
   "cell_type": "code",
   "execution_count": 3,
   "metadata": {},
   "outputs": [],
   "source": [
    "def is_happy_num(n):\n",
    "    seen = set()  # To detect cycles\n",
    "    \n",
    "    while n != 1:                                                   # REMEMBER\n",
    "        # If we see a number we've seen before, we're in a cycle\n",
    "        if n in seen:\n",
    "            return False\n",
    "        \n",
    "        seen.add(n)\n",
    "        # Calculate sum of squares of digits\n",
    "        n = sum(int(digit)**2 for digit in str(n))\n",
    "    \n",
    "    return True"
   ]
  },
  {
   "cell_type": "code",
   "execution_count": 4,
   "metadata": {},
   "outputs": [],
   "source": [
    "num = 23"
   ]
  },
  {
   "cell_type": "code",
   "execution_count": 5,
   "metadata": {},
   "outputs": [
    {
     "data": {
      "text/plain": [
       "True"
      ]
     },
     "execution_count": 5,
     "metadata": {},
     "output_type": "execute_result"
    }
   ],
   "source": [
    "is_happy_num(num)"
   ]
  },
  {
   "cell_type": "code",
   "execution_count": 6,
   "metadata": {},
   "outputs": [],
   "source": [
    "def is_happy_num_1(num):\n",
    "    def sum_of_squares(n):\n",
    "        total = 0\n",
    "        while n > 0:\n",
    "            digit = n % 10  # Get the last digit\n",
    "            total += digit * digit  # Square and add to total\n",
    "            n //= 10  # Remove the last digit\n",
    "        return total\n",
    "    \n",
    "    seen = set()\n",
    "    while num != 1:\n",
    "        if num in seen:\n",
    "            return False\n",
    "        seen.add(num)\n",
    "        num = sum_of_squares(num)\n",
    "    return True"
   ]
  },
  {
   "cell_type": "code",
   "execution_count": 7,
   "metadata": {},
   "outputs": [
    {
     "data": {
      "text/plain": [
       "True"
      ]
     },
     "execution_count": 7,
     "metadata": {},
     "output_type": "execute_result"
    }
   ],
   "source": [
    "is_happy_num_1(num)"
   ]
  },
  {
   "cell_type": "code",
   "execution_count": null,
   "metadata": {},
   "outputs": [],
   "source": []
  }
 ],
 "metadata": {
  "kernelspec": {
   "display_name": ".aiop-venv",
   "language": "python",
   "name": "python3"
  },
  "language_info": {
   "codemirror_mode": {
    "name": "ipython",
    "version": 3
   },
   "file_extension": ".py",
   "mimetype": "text/x-python",
   "name": "python",
   "nbconvert_exporter": "python",
   "pygments_lexer": "ipython3",
   "version": "3.11.9"
  }
 },
 "nbformat": 4,
 "nbformat_minor": 2
}
