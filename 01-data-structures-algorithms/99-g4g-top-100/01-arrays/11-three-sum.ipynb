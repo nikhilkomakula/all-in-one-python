{
 "cells": [
  {
   "cell_type": "markdown",
   "metadata": {},
   "source": [
    "## [Sum of Three Numbers](https://www.geeksforgeeks.org/find-triplets-array-whose-sum-equal-zero/)"
   ]
  },
  {
   "cell_type": "markdown",
   "metadata": {},
   "source": [
    "#### Given an array of distinct elements. The task is to find triplets in the array whose sum is target."
   ]
  },
  {
   "cell_type": "markdown",
   "metadata": {},
   "source": [
    "- Example 1:\n",
    "    - Input: arr[] = {0, -1, 2, -3, 1}\n",
    "    - Target: 0\n",
    "    - Output: [[0, -1, 1], [2, -3, 1]]\n",
    "    - Explanation: The triplets with zero sum are 0 + -1 + 1 = 0 and 2 + -3 + 1 = 0"
   ]
  },
  {
   "cell_type": "markdown",
   "metadata": {},
   "source": [
    "**Method #1:** Naive approach\n",
    "- Time Complexity: `O(n^3)`\n",
    "- Space Complexity: `O(1)`"
   ]
  },
  {
   "cell_type": "code",
   "execution_count": 9,
   "metadata": {},
   "outputs": [],
   "source": [
    "def find_three_sum_naive(arr: list, target: int) -> list:\n",
    "    result = []\n",
    "    for i in range(len(arr)-2):\n",
    "        for j in range(i+1, len(arr)-1):\n",
    "            for k in range(j+1, len(arr)):\n",
    "                if arr[i] + arr[j] + arr[k] == target:\n",
    "                    result.append([arr[i], arr[j], arr[k]])\n",
    "    return result"
   ]
  },
  {
   "cell_type": "code",
   "execution_count": 10,
   "metadata": {},
   "outputs": [],
   "source": [
    "arr = [0, -1, 2, -3, 1]\n",
    "target = 0"
   ]
  },
  {
   "cell_type": "code",
   "execution_count": 12,
   "metadata": {},
   "outputs": [
    {
     "data": {
      "text/plain": [
       "[[0, -1, 1], [2, -3, 1]]"
      ]
     },
     "execution_count": 12,
     "metadata": {},
     "output_type": "execute_result"
    }
   ],
   "source": [
    "find_three_sum_naive(arr, target)"
   ]
  },
  {
   "cell_type": "markdown",
   "metadata": {},
   "source": [
    "**Method #2:** Optimized approach\n",
    "- Time Complexity: `O(n^2)`\n",
    "- Space Complexity: `O(1)`"
   ]
  },
  {
   "cell_type": "code",
   "execution_count": 19,
   "metadata": {},
   "outputs": [],
   "source": [
    "def find_three_sum_opt(arr: list, target: int) -> list:\n",
    "    result = []\n",
    "    arr.sort()\n",
    "    for i in range(len(arr)-2):\n",
    "        left, right = i+1, len(arr) - 1\n",
    "        while left < right:\n",
    "            if arr[i] + arr[left] + arr[right] == target:\n",
    "                result.append([arr[i], arr[left], arr[right]])\n",
    "                left += 1\n",
    "                right -= 1\n",
    "            elif arr[i] + arr[left] + arr[right] < target:\n",
    "                left += 1\n",
    "            else:\n",
    "                right -= 1\n",
    "    return result"
   ]
  },
  {
   "cell_type": "code",
   "execution_count": 20,
   "metadata": {},
   "outputs": [
    {
     "data": {
      "text/plain": [
       "[[-3, 1, 2], [-1, 0, 1]]"
      ]
     },
     "execution_count": 20,
     "metadata": {},
     "output_type": "execute_result"
    }
   ],
   "source": [
    "find_three_sum_opt(arr, target)"
   ]
  },
  {
   "cell_type": "code",
   "execution_count": null,
   "metadata": {},
   "outputs": [],
   "source": [
    "# if you want to skip duplicates, here is the udpated version of the above code\n",
    "def find_three_sum_opt_2(arr: list, target: int) -> list:\n",
    "    result = []\n",
    "    arr.sort()\n",
    "    for i in range(len(arr) - 2):\n",
    "        # Skip duplicates for the first element\n",
    "        if i > 0 and arr[i] == arr[i - 1]:\n",
    "            continue\n",
    "        \n",
    "        left, right = i + 1, len(arr) - 1\n",
    "        while left < right:\n",
    "            current_sum = arr[i] + arr[left] + arr[right]\n",
    "            if current_sum == target:\n",
    "                result.append([arr[i], arr[left], arr[right]])\n",
    "                left += 1\n",
    "                right -= 1\n",
    "                # Skip duplicates for the second element\n",
    "                while left < right and arr[left] == arr[left - 1]:\n",
    "                    left += 1\n",
    "                # Skip duplicates for the third element\n",
    "                while left < right and arr[right] == arr[right + 1]:\n",
    "                    right -= 1\n",
    "            elif current_sum < target:\n",
    "                left += 1\n",
    "            else:\n",
    "                right -= 1\n",
    "    return result"
   ]
  }
 ],
 "metadata": {
  "kernelspec": {
   "display_name": ".aiop-venv",
   "language": "python",
   "name": "python3"
  },
  "language_info": {
   "codemirror_mode": {
    "name": "ipython",
    "version": 3
   },
   "file_extension": ".py",
   "mimetype": "text/x-python",
   "name": "python",
   "nbconvert_exporter": "python",
   "pygments_lexer": "ipython3",
   "version": "3.11.9"
  }
 },
 "nbformat": 4,
 "nbformat_minor": 2
}
