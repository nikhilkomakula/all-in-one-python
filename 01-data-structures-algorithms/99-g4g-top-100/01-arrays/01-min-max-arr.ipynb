{
 "cells": [
  {
   "cell_type": "markdown",
   "metadata": {},
   "source": [
    "## Find Min Max in an efficient way"
   ]
  },
  {
   "cell_type": "markdown",
   "metadata": {},
   "source": [
    "**Method #1:** Naive approach\n",
    "- Time Complexity: `O(n)`\n",
    "    - The time complexity of the `find_min_max` function is O(n), where n is the number of elements in the input array `arr`. This is because the function iterates through the array once, performing a constant amount of work (comparing and possibly updating the minimum and maximum values) for each element.\n",
    "- Space Complexity: `O(1)`\n",
    "    - The space complexity of the function is O(1), as it uses a fixed amount of space regardless of the size of the input array. The only additional space used is for the variables `minimum` and `maximum`, which store the current minimum and maximum values. Thus, the function is efficient in both time and space."
   ]
  },
  {
   "cell_type": "code",
   "execution_count": 4,
   "metadata": {},
   "outputs": [],
   "source": [
    "def find_min_max(arr):\n",
    "    # Initialize min and max with first element\n",
    "    minimum = arr[0]\n",
    "    maximum = arr[0]\n",
    "    \n",
    "    # Iterate through array starting from second element\n",
    "    for num in arr[1:]:\n",
    "        # Update minimum if current number is smaller\n",
    "        if num < minimum:\n",
    "            minimum = num\n",
    "        # Update maximum if current number is larger\n",
    "        if num > maximum:\n",
    "            maximum = num\n",
    "            \n",
    "    return minimum, maximum"
   ]
  },
  {
   "cell_type": "code",
   "execution_count": 5,
   "metadata": {},
   "outputs": [],
   "source": [
    "# Example usage\n",
    "my_array = [23, 45, 12, 56, 78, 34, 65, 32]"
   ]
  },
  {
   "cell_type": "code",
   "execution_count": 6,
   "metadata": {},
   "outputs": [
    {
     "name": "stdout",
     "output_type": "stream",
     "text": [
      "Minimum: 12, Maximum: 78\n"
     ]
    }
   ],
   "source": [
    "min_val, max_val = find_min_max(my_array)\n",
    "print(f\"Minimum: {min_val}, Maximum: {max_val}\")"
   ]
  },
  {
   "cell_type": "markdown",
   "metadata": {},
   "source": [
    "[https://www.youtube.com/watch?v=X17cM3tKRF4](https://www.youtube.com/watch?v=X17cM3tKRF4)"
   ]
  },
  {
   "cell_type": "markdown",
   "metadata": {},
   "source": [
    "**Method #2:** Optimized approach\n",
    "- Time Complexity: `O(n)`\n",
    "    - The function `find_min_max_optimized` has a time complexity of O(n), where n is the number of elements in the input array. This is because the function iterates through the array in pairs, performing a constant amount of work (comparing and updating minimum and maximum values) for each pair. Thus, the total number of comparisons is proportional to the size of the array.\n",
    "- Space Complexity: `O(1)`\n",
    "    - The space complexity of the function is O(1), as it uses a fixed amount of additional space regardless of the input size. The only extra space used is for a few variables to store the minimum and maximum values, as well as the index for iteration. Therefore, the function is efficient in both time and space."
   ]
  },
  {
   "cell_type": "code",
   "execution_count": 7,
   "metadata": {},
   "outputs": [],
   "source": [
    "def find_min_max_optimized(arr):\n",
    "    n = len(arr)\n",
    "    \n",
    "    # Initialize min and max based on first two elements\n",
    "    if n % 2 == 0:\n",
    "        minimum = min(arr[0], arr[1])\n",
    "        maximum = max(arr[0], arr[1])\n",
    "        i = 2\n",
    "    else:\n",
    "        minimum = maximum = arr[0]\n",
    "        i = 1\n",
    "        \n",
    "    # Compare elements in pairs\n",
    "    while i < n-1:\n",
    "        if arr[i] < arr[i+1]:\n",
    "            minimum = min(minimum, arr[i])\n",
    "            maximum = max(maximum, arr[i+1])\n",
    "        else:\n",
    "            minimum = min(minimum, arr[i+1])\n",
    "            maximum = max(maximum, arr[i])\n",
    "        i += 2\n",
    "        \n",
    "    return minimum, maximum"
   ]
  },
  {
   "cell_type": "code",
   "execution_count": 8,
   "metadata": {},
   "outputs": [
    {
     "name": "stdout",
     "output_type": "stream",
     "text": [
      "Minimum: 12, Maximum: 78\n"
     ]
    }
   ],
   "source": [
    "min_val, max_val = find_min_max_optimized(my_array)\n",
    "print(f\"Minimum: {min_val}, Maximum: {max_val}\")"
   ]
  }
 ],
 "metadata": {
  "kernelspec": {
   "display_name": ".aiop-venv",
   "language": "python",
   "name": "python3"
  },
  "language_info": {
   "codemirror_mode": {
    "name": "ipython",
    "version": 3
   },
   "file_extension": ".py",
   "mimetype": "text/x-python",
   "name": "python",
   "nbconvert_exporter": "python",
   "pygments_lexer": "ipython3",
   "version": "3.11.9"
  }
 },
 "nbformat": 4,
 "nbformat_minor": 2
}
