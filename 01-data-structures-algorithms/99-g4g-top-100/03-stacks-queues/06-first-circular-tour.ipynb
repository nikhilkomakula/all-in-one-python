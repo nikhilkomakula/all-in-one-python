{
 "cells": [
  {
   "cell_type": "markdown",
   "metadata": {},
   "source": [
    "## [Find the first circular tour that visits all petrol pumps](https://www.geeksforgeeks.org/find-a-tour-that-visits-all-stations/)"
   ]
  },
  {
   "cell_type": "markdown",
   "metadata": {},
   "source": [
    "#### Given information about N petrol pumps (say arr[]) that are present in a circular path. The information consists of the distance of the next petrol pump from the current one (in arr[i][1]) and the amount of petrol stored in that petrol pump (in arr[i][0]). Consider a truck with infinite capacity that consumes 1 unit of petrol to travel 1 unit distance. The task is to find the index of the first starting point such that the truck can visit all the petrol pumps and come back to that starting point.\n",
    "\n",
    "Note: Return -1 if no such tour exists."
   ]
  },
  {
   "cell_type": "markdown",
   "metadata": {},
   "source": [
    "- Example 1:\n",
    "    - Input: arr[] = {{4, 6}, {6, 5}, {7, 3}, {4, 5}}. \n",
    "    - Output: 1\n",
    "    - Explanation: If started from 1st index then a circular tour can be covered.\n",
    "- Example 2:\n",
    "    - Input: arr[] {{6, 4}, {3, 6}, {7, 3}}\n",
    "    - Output: 2"
   ]
  },
  {
   "cell_type": "markdown",
   "metadata": {},
   "source": [
    "**Method #1:** Optimized Approach\n",
    "- Time Complexity : `O(n)`\n",
    "- Space Complexity : `O(1)`"
   ]
  },
  {
   "cell_type": "code",
   "execution_count": 1,
   "metadata": {},
   "outputs": [],
   "source": [
    "def first_circular_tour(pumps):\n",
    "    start = 0\n",
    "    fuel = 0\n",
    "    deficit = 0\n",
    "    \n",
    "    for i in range(len(pumps)):\n",
    "        fuel += pumps[i][0] - pumps[i][1]\n",
    "        if fuel < 0:\n",
    "            start = i + 1\n",
    "            deficit += fuel\n",
    "            fuel = 0\n",
    "    \n",
    "    return start if (fuel + deficit) >= 0 else -1"
   ]
  },
  {
   "cell_type": "code",
   "execution_count": 2,
   "metadata": {},
   "outputs": [
    {
     "name": "stdout",
     "output_type": "stream",
     "text": [
      "Start at pump 2\n"
     ]
    }
   ],
   "source": [
    "# Example usage\n",
    "pumps = [[6, 4], [3, 6], [7, 3]]\n",
    "start = first_circular_tour(pumps)\n",
    "print(\"No Solution Possible\" if start == -1 else f\"Start at pump {start}\")"
   ]
  },
  {
   "cell_type": "code",
   "execution_count": null,
   "metadata": {},
   "outputs": [],
   "source": []
  }
 ],
 "metadata": {
  "kernelspec": {
   "display_name": ".aiop-venv",
   "language": "python",
   "name": "python3"
  },
  "language_info": {
   "codemirror_mode": {
    "name": "ipython",
    "version": 3
   },
   "file_extension": ".py",
   "mimetype": "text/x-python",
   "name": "python",
   "nbconvert_exporter": "python",
   "pygments_lexer": "ipython3",
   "version": "3.11.9"
  }
 },
 "nbformat": 4,
 "nbformat_minor": 2
}
