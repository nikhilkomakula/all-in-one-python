{
 "cells": [
  {
   "cell_type": "markdown",
   "metadata": {},
   "source": [
    "## [Convert Infix expression to Postfix expression](https://www.geeksforgeeks.org/convert-infix-expression-to-postfix-expression/)"
   ]
  },
  {
   "cell_type": "markdown",
   "metadata": {},
   "source": [
    "#### Write a program to convert an Infix expression to Postfix form.\n",
    "\n",
    "`Infix expression: The expression of the form “a operator b” (a + b) i.e., when an operator is in-between every pair of operands.`\n",
    "\n",
    "`Postfix expression: The expression of the form “a b operator” (ab+) i.e., When every pair of operands is followed by an operator.`"
   ]
  },
  {
   "cell_type": "markdown",
   "metadata": {},
   "source": [
    "- Example 1:\n",
    "    - Input: A + B * C + D\n",
    "    - Output: ABC*+D+\n",
    "- Example 2:\n",
    "    - Input: ((A + B) – C * (D / E)) + F\n",
    "    - Output: AB+CDE/*-F+  "
   ]
  },
  {
   "cell_type": "markdown",
   "metadata": {},
   "source": [
    "**Priority of Operands**\n",
    "- 1 : Parentheses ()\n",
    "- 2 : Exponentiation (^) # consider `right-to-left` when there are multiple\n",
    "- 3 : Multiplication & Division & Percentile (* & / & %) # consider `left-to-right` processing as both have same priority\n",
    "- 4 : Addition & Subtraction (+ & -) # consider `left-to-right` processing as both have same priority"
   ]
  },
  {
   "cell_type": "markdown",
   "metadata": {},
   "source": [
    "**Example:** `A + B / C * D - E / (F + G)`\n",
    "- Order of Execution\n",
    "    - 1 : (F + G)\n",
    "    - 2 : B / C     # b'coz left to right rule as same operators\n",
    "    - 3 : 2 * D\n",
    "    - 4 : E / 1\n",
    "    - 5 : A + 3\n",
    "    - 6 : 5 - 4"
   ]
  },
  {
   "cell_type": "markdown",
   "metadata": {},
   "source": [
    "**Part 1:** [https://www.youtube.com/watch?v=XfX5jlzWQsg](https://www.youtube.com/watch?v=XfX5jlzWQsg)\n",
    "\n",
    "**Part 2:** [https://www.youtube.com/watch?v=IQ3p9yCLYuQ](https://www.youtube.com/watch?v=IQ3p9yCLYuQ)\n",
    "\n",
    "**Part 3:** [https://www.youtube.com/watch?v=aq8S_RJN7bE](https://www.youtube.com/watch?v=aq8S_RJN7bE)"
   ]
  },
  {
   "cell_type": "markdown",
   "metadata": {},
   "source": [
    "**Infix:** `A + B / C * D - E / (F + G)`\n",
    "\n",
    "**Postfix:** `ABC/D*+EFG+/-` # No parentheses are required"
   ]
  },
  {
   "cell_type": "markdown",
   "metadata": {},
   "source": [
    "**Golden rule of thumb:** \n",
    "\n",
    "`The expression will be scanned from left to right and as soon as we will encounter an operator, we will apply it to the last two operands.`"
   ]
  },
  {
   "cell_type": "markdown",
   "metadata": {},
   "source": [
    "**To Better Understand, Watch:** [https://www.youtube.com/watch?v=PAceaOSnxQs](https://www.youtube.com/watch?v=PAceaOSnxQs)"
   ]
  },
  {
   "cell_type": "markdown",
   "metadata": {},
   "source": [
    "**Method #1:**\n",
    "- Time Complexity: `O(n)`\n",
    "- Space Complexity: `O(n)`"
   ]
  },
  {
   "cell_type": "code",
   "execution_count": null,
   "metadata": {},
   "outputs": [],
   "source": [
    "Operators = set(['+', '-', '*', '/', '%', '**', '(', ')'])  # collection of Operators (** = ^)\n",
    "Priority = {'+':1, '-':1, '*':2, '/':2, '%':2, '**':3} # dictionary having priorities of Operators\n",
    "\n",
    "def infixToPostfix(expression): \n",
    "    if not expression:\n",
    "        return \"\"\n",
    "\n",
    "    stack = [] # initialization of empty stack\n",
    "    output = ''     \n",
    "\n",
    "    for character in expression:\n",
    "        if character not in Operators:  # if char is a digit/alphabet\n",
    "            output += character\n",
    "        elif character == '(':  # else Operators push onto stack\n",
    "            stack.append('(')\n",
    "        elif character == ')':\n",
    "            while stack and stack[-1] != '(':   # if precedece of incoming operator is > than top of stack, pop the stack n continue this until the precedence condition is honored\n",
    "                output += stack.pop()\n",
    "            if not stack or stack[-1] != '(':\n",
    "                raise ValueError(\"Unbalanced parentheses in expression\")\n",
    "            stack.pop()                         # i think for removing the '('\n",
    "        else: \n",
    "            while stack and stack[-1] != '(' and Priority[character] <= Priority[stack[-1]]:    # REMEMBER '<='\n",
    "                output += stack.pop()\n",
    "            stack.append(character)\n",
    "    while stack:\n",
    "        if stack[-1] == '(':\n",
    "            raise ValueError(\"Unbalanced parentheses in expression\")\n",
    "        output += stack.pop()\n",
    "    return output"
   ]
  },
  {
   "cell_type": "code",
   "execution_count": 8,
   "metadata": {},
   "outputs": [],
   "source": [
    "expression = \"m*n+(p-q)+r\""
   ]
  },
  {
   "cell_type": "code",
   "execution_count": 9,
   "metadata": {},
   "outputs": [
    {
     "name": "stdout",
     "output_type": "stream",
     "text": [
      "postfix notation:  mn*pq-+r+\n"
     ]
    }
   ],
   "source": [
    "print('postfix notation: ', infixToPostfix(expression))"
   ]
  },
  {
   "cell_type": "code",
   "execution_count": null,
   "metadata": {},
   "outputs": [],
   "source": []
  }
 ],
 "metadata": {
  "kernelspec": {
   "display_name": ".aiop-venv",
   "language": "python",
   "name": "python3"
  },
  "language_info": {
   "codemirror_mode": {
    "name": "ipython",
    "version": 3
   },
   "file_extension": ".py",
   "mimetype": "text/x-python",
   "name": "python",
   "nbconvert_exporter": "python",
   "pygments_lexer": "ipython3",
   "version": "3.11.9"
  }
 },
 "nbformat": 4,
 "nbformat_minor": 2
}
