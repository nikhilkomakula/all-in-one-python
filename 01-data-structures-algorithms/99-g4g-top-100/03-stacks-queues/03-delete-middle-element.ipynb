{
 "cells": [
  {
   "cell_type": "markdown",
   "metadata": {},
   "source": [
    "## [Delete middle element of a stack](https://www.geeksforgeeks.org/delete-middle-element-stack/)"
   ]
  },
  {
   "cell_type": "markdown",
   "metadata": {},
   "source": [
    "#### Given a stack with push(), pop(), and empty() operations, The task is to delete the middle element of it without using any additional data structure."
   ]
  },
  {
   "cell_type": "markdown",
   "metadata": {},
   "source": [
    "- Example 1:\n",
    "    - Input  : Stack[] = [1, 2, 3, 4, 5]\n",
    "    - Output : Stack[] = [1, 2, 4, 5]\n",
    "- Example 2:\n",
    "    - Input  : Stack[] = [1, 2, 3, 4, 5, 6]\n",
    "    - Output : Stack[] = [1, 2, 4, 5, 6]"
   ]
  },
  {
   "cell_type": "markdown",
   "metadata": {},
   "source": [
    "**Method #1:** Using Additional Data Structure\n",
    "- Time Complexity: `O(n)`\n",
    "- Space Complexity: `O(n)`"
   ]
  },
  {
   "cell_type": "code",
   "execution_count": 1,
   "metadata": {},
   "outputs": [
    {
     "name": "stdout",
     "output_type": "stream",
     "text": [
      "[1, 2, 5, 6]\n"
     ]
    }
   ],
   "source": [
    "arr = [1, 2, 3, 4, 5, 6]\n",
    "middle = len(arr) // 2\n",
    "\n",
    "if len(arr) % 2 == 0:\n",
    "  result = arr[:middle-1] + arr[middle+1:]\n",
    "else:\n",
    "  result = arr[:middle] + arr[middle+1:]\n",
    "\n",
    "print(result)"
   ]
  },
  {
   "cell_type": "markdown",
   "metadata": {},
   "source": [
    "**Method #2:** Using Recursion\n",
    "- Time Complexity: `O(n)`\n",
    "- Space Complexity: `O(n)`"
   ]
  },
  {
   "cell_type": "code",
   "execution_count": 2,
   "metadata": {},
   "outputs": [],
   "source": [
    "def delete_middle(stack, current_index, size):\n",
    "    # Base case: if current index is equal to size/2, skip this element\n",
    "    if current_index == size // 2:\n",
    "        stack.pop()\n",
    "        return\n",
    "    \n",
    "    # Pop the top element\n",
    "    top = stack.pop()\n",
    "    \n",
    "    # Recursive call to delete middle element\n",
    "    delete_middle(stack, current_index + 1, size)\n",
    "    \n",
    "    # Push the top element back after middle is deleted\n",
    "    stack.append(top)\n",
    "\n",
    "def delete_middle_element(stack):\n",
    "    if len(stack) == 0:\n",
    "        return\n",
    "    \n",
    "    # Call the recursive function with initial index 0 and stack size\n",
    "    delete_middle(stack, 0, len(stack))"
   ]
  },
  {
   "cell_type": "code",
   "execution_count": 3,
   "metadata": {},
   "outputs": [
    {
     "name": "stdout",
     "output_type": "stream",
     "text": [
      "Original stack: [1, 2, 3, 4, 5, 6]\n",
      "Stack after deleting middle element: [1, 2, 4, 5, 6]\n"
     ]
    }
   ],
   "source": [
    "# Example usage\n",
    "stack = [1, 2, 3, 4, 5, 6]\n",
    "print(\"Original stack:\", stack)\n",
    "delete_middle_element(stack)\n",
    "print(\"Stack after deleting middle element:\", stack)"
   ]
  },
  {
   "cell_type": "code",
   "execution_count": null,
   "metadata": {},
   "outputs": [],
   "source": []
  }
 ],
 "metadata": {
  "kernelspec": {
   "display_name": ".aiop-venv",
   "language": "python",
   "name": "python3"
  },
  "language_info": {
   "codemirror_mode": {
    "name": "ipython",
    "version": 3
   },
   "file_extension": ".py",
   "mimetype": "text/x-python",
   "name": "python",
   "nbconvert_exporter": "python",
   "pygments_lexer": "ipython3",
   "version": "3.11.9"
  }
 },
 "nbformat": 4,
 "nbformat_minor": 2
}
