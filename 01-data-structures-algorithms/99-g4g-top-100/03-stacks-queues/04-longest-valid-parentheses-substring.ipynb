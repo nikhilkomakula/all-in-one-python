{
 "cells": [
  {
   "cell_type": "markdown",
   "metadata": {},
   "source": [
    "## [Longest Valid Parentheses Substring](https://www.geeksforgeeks.org/length-of-the-longest-valid-substring/)"
   ]
  },
  {
   "cell_type": "markdown",
   "metadata": {},
   "source": [
    "#### Given a string str consisting of opening and closing parenthesis ‘(‘ and ‘)‘. Find the length of the longest valid parenthesis substring."
   ]
  },
  {
   "cell_type": "markdown",
   "metadata": {},
   "source": [
    "- Example 1:\n",
    "    - Input: ((()\n",
    "    - Output : 2\n",
    "    - Explanation : Longest Valid Parentheses Substring is ().\n",
    "- Example 2:\n",
    "    - Input: )()())\n",
    "    - Output : 4\n",
    "    - Explanation: Longest Valid Parentheses Substring is ()() ."
   ]
  },
  {
   "cell_type": "markdown",
   "metadata": {},
   "source": [
    "**Method #1:** Iterative Approach\n",
    "- Time Complexity : `O(n)`\n",
    "- Space Complexity : `O(n)`"
   ]
  },
  {
   "cell_type": "code",
   "execution_count": 7,
   "metadata": {},
   "outputs": [],
   "source": [
    "def longest_valid_parentheses(s: str) -> int:\n",
    "    # Stack to store indices of unmatched parentheses\n",
    "    stack = [-1]                                        # REMEMBER\n",
    "    max_length = 0\n",
    "    \n",
    "    for i, char in enumerate(s):\n",
    "        if char == '(':\n",
    "            # Push index of '(' onto the stack\n",
    "            stack.append(i)\n",
    "        else:\n",
    "            # Pop the top of the stack (matching '(' index or previous unmatched index)\n",
    "            stack.pop()\n",
    "            \n",
    "            if len(stack) == 0:\n",
    "                # If the stack is empty, push the current index to mark it as unmatched\n",
    "                stack.append(i)\n",
    "            else:\n",
    "                # Calculate the length of the current valid substring\n",
    "                max_length = max(max_length, i - stack[-1])\n",
    "    \n",
    "    return max_length"
   ]
  },
  {
   "cell_type": "code",
   "execution_count": null,
   "metadata": {},
   "outputs": [
    {
     "name": "stdout",
     "output_type": "stream",
     "text": [
      "Length of longest valid parentheses substring: 6\n"
     ]
    }
   ],
   "source": [
    "# Example usage\n",
    "s = \"(()())\"\n",
    "print(f\"Length of longest valid parentheses substring: {longest_valid_parentheses(s)}\")"
   ]
  },
  {
   "cell_type": "code",
   "execution_count": 9,
   "metadata": {},
   "outputs": [
    {
     "name": "stdout",
     "output_type": "stream",
     "text": [
      "Length of longest valid parentheses substring: 2\n"
     ]
    }
   ],
   "source": [
    "# Example usage\n",
    "s = \"()\"\n",
    "print(f\"Length of longest valid parentheses substring: {longest_valid_parentheses(s)}\")"
   ]
  },
  {
   "cell_type": "code",
   "execution_count": null,
   "metadata": {},
   "outputs": [],
   "source": []
  }
 ],
 "metadata": {
  "kernelspec": {
   "display_name": ".aiop-venv",
   "language": "python",
   "name": "python3"
  },
  "language_info": {
   "codemirror_mode": {
    "name": "ipython",
    "version": 3
   },
   "file_extension": ".py",
   "mimetype": "text/x-python",
   "name": "python",
   "nbconvert_exporter": "python",
   "pygments_lexer": "ipython3",
   "version": "3.11.9"
  }
 },
 "nbformat": 4,
 "nbformat_minor": 2
}
