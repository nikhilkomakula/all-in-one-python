{
 "cells": [
  {
   "cell_type": "markdown",
   "metadata": {},
   "source": [
    "## [Next Greater Element (NGE) for every element in given Array](https://www.geeksforgeeks.org/next-greater-element/)"
   ]
  },
  {
   "cell_type": "markdown",
   "metadata": {},
   "source": [
    "#### Given an array, print the Next Greater Element (NGE) for every element. \n",
    "\n",
    "The Next greater Element for an element x is the first greater element on the right side of x in the array. Elements for which no greater element exist, consider the next greater element as -1. "
   ]
  },
  {
   "cell_type": "markdown",
   "metadata": {},
   "source": [
    "- Example 1:\n",
    "    - Input: arr[] = [ 4 , 5 , 2 , 25 ]\n",
    "    - Output:  \n",
    "        - 4 –> 5\n",
    "        - 5 –> 25\n",
    "        - 2 –> 25\n",
    "        - 25 –> -1\n",
    "    - Explanation: except 25 every element has an element greater than them present on the right side\n",
    "- Example 2:\n",
    "    - Input: arr[] = [ 13 , 7, 6 , 12 ]\n",
    "    - Output:  \n",
    "        - 13 –> -1\n",
    "        - 7 –> 12\n",
    "        - 6 –> 12\n",
    "        - 12 –> -1\n",
    "    - Explanation: 13 and 12 don’t have any element greater than them present on the right side"
   ]
  },
  {
   "cell_type": "markdown",
   "metadata": {},
   "source": [
    "**Method #1:**\n",
    "- Time Complexity: `O(n^2)`\n",
    "- Space Complexity: `O(1)`"
   ]
  },
  {
   "cell_type": "code",
   "execution_count": 10,
   "metadata": {},
   "outputs": [],
   "source": [
    "def next_greater_element_naive(arr: list) -> None:\n",
    "    for i in range(len(arr)):\n",
    "        nge = -1\n",
    "        for j in range(i+1, len(arr)):\n",
    "            if arr[j] > arr[i]:\n",
    "                nge = arr[j]\n",
    "                break\n",
    "        print(arr[i], '->', nge)              "
   ]
  },
  {
   "cell_type": "code",
   "execution_count": 33,
   "metadata": {},
   "outputs": [],
   "source": [
    "arr = [11, 13, 21, 3]"
   ]
  },
  {
   "cell_type": "code",
   "execution_count": 34,
   "metadata": {},
   "outputs": [
    {
     "name": "stdout",
     "output_type": "stream",
     "text": [
      "11 -> 13\n",
      "13 -> 21\n",
      "21 -> -1\n",
      "3 -> -1\n"
     ]
    }
   ],
   "source": [
    "next_greater_element_naive(arr)"
   ]
  },
  {
   "cell_type": "markdown",
   "metadata": {},
   "source": [
    "**Method #2:** Using Stack\n",
    "- Time Complexity: `O(n)`\n",
    "- Space Complexity: `O(n)`"
   ]
  },
  {
   "cell_type": "code",
   "execution_count": 35,
   "metadata": {},
   "outputs": [],
   "source": [
    "def next_greater_element_opt(arr):\n",
    "    n = len(arr)\n",
    "    result = [-1] * n  # Initialize all elements in result as -1\n",
    "    stack = []\n",
    "\n",
    "    for i in range(n):\n",
    "        # Check if the current element is greater than elements in the stack\n",
    "        while stack and arr[i] > arr[stack[-1]]:\n",
    "            index = stack.pop()\n",
    "            result[index] = arr[i]\n",
    "        \n",
    "        stack.append(i)\n",
    "\n",
    "    return result"
   ]
  },
  {
   "cell_type": "code",
   "execution_count": 36,
   "metadata": {},
   "outputs": [
    {
     "data": {
      "text/plain": [
       "[13, 21, -1, -1]"
      ]
     },
     "execution_count": 36,
     "metadata": {},
     "output_type": "execute_result"
    }
   ],
   "source": [
    "next_greater_element_opt(arr)"
   ]
  },
  {
   "cell_type": "code",
   "execution_count": null,
   "metadata": {},
   "outputs": [],
   "source": []
  }
 ],
 "metadata": {
  "kernelspec": {
   "display_name": ".aiop-venv",
   "language": "python",
   "name": "python3"
  },
  "language_info": {
   "codemirror_mode": {
    "name": "ipython",
    "version": 3
   },
   "file_extension": ".py",
   "mimetype": "text/x-python",
   "name": "python",
   "nbconvert_exporter": "python",
   "pygments_lexer": "ipython3",
   "version": "3.11.9"
  }
 },
 "nbformat": 4,
 "nbformat_minor": 2
}
