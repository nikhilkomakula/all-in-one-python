{
 "cells": [
  {
   "cell_type": "markdown",
   "metadata": {},
   "source": [
    "## [The Celebrity Problem](https://www.geeksforgeeks.org/the-celebrity-problem/)"
   ]
  },
  {
   "cell_type": "markdown",
   "metadata": {},
   "source": [
    "#### Given a square matrix M[][] of size N X N, such that M[i][j] = 1 means ith person knows jth person, the task is to find the celebrity. A celebrity is a person who is known to all but does not know anyone. Return the index of the celebrity, if there is no celebrity return -1.\n",
    "\n",
    "Note: Follow 0 based indexing and M[i][i] will always be 0."
   ]
  },
  {
   "cell_type": "markdown",
   "metadata": {},
   "source": [
    "- Example 1:\n",
    "    - Input: MATRIX = { {0, 0, 1, 0}, {0, 0, 1, 0}, {0, 0, 0, 0}, {0, 0, 1, 0} }\n",
    "    - Output: id = 2\n",
    "    - Explanation: The person with ID 2 does not know anyone but everyone knows him\n",
    "- Example 2:\n",
    "    - Input: MATRIX = { {0, 0, 1, 0}, {0, 0, 1, 0}, {0, 1, 0, 0}, {0, 0, 1, 0} }\n",
    "    - Output: No celebrity\n",
    "    - Explanation: There is no celebrity."
   ]
  },
  {
   "cell_type": "markdown",
   "metadata": {},
   "source": [
    "**Celebrity** means:\n",
    "- known by all (all 1's in the column except for itself)\n",
    "- knows no one (all 0's in the row)\n",
    "\n",
    "*There can be ONLY ONE celebrity at MAX*"
   ]
  },
  {
   "cell_type": "markdown",
   "metadata": {},
   "source": [
    "[https://www.youtube.com/watch?v=cEadsbTeze4](https://www.youtube.com/watch?v=cEadsbTeze4)"
   ]
  },
  {
   "cell_type": "markdown",
   "metadata": {},
   "source": [
    "**Method #1:** Iterative Approach\n",
    "- Time Complexity : `O(n^2)`\n",
    "- Space Complexity : `O(n)`"
   ]
  },
  {
   "cell_type": "code",
   "execution_count": 17,
   "metadata": {},
   "outputs": [],
   "source": [
    "def celebrity_problem_naive(arr):\n",
    "    know_me = [0] * len(arr)\n",
    "    i_know = [0] * len(arr)\n",
    "    # Iterate over rows\n",
    "    for i in range(len(arr)):\n",
    "        # Iterate over columns in the row\n",
    "        for j in range(len(arr[i])):\n",
    "            # print(f\"arr[{i}][{j}] = {arr[i][j]}\")\n",
    "            if i != j and arr[i][j] == 1:\n",
    "                i_know[i] += 1\n",
    "                know_me[j] += 1\n",
    "    for k in range(len(know_me)):\n",
    "        if know_me[k] == len(arr) - 1 and i_know[k] == 0:\n",
    "            return k\n",
    "    return -1           "
   ]
  },
  {
   "cell_type": "code",
   "execution_count": 15,
   "metadata": {},
   "outputs": [],
   "source": [
    "# arr = [ \n",
    "#         [0, 0, 1, 0], \n",
    "#         [0, 0, 1, 0], \n",
    "#         [0, 0, 0, 0], \n",
    "#         [0, 0, 1, 0] \n",
    "#     ]\n",
    "\n",
    "arr = [ \n",
    "        [0, 0, 1, 0], \n",
    "        [0, 0, 1, 0], \n",
    "        [0, 1, 0, 0], \n",
    "        [0, 0, 1, 0] \n",
    "    ]"
   ]
  },
  {
   "cell_type": "code",
   "execution_count": 18,
   "metadata": {},
   "outputs": [
    {
     "data": {
      "text/plain": [
       "-1"
      ]
     },
     "execution_count": 18,
     "metadata": {},
     "output_type": "execute_result"
    }
   ],
   "source": [
    "celebrity_problem_naive(arr)"
   ]
  },
  {
   "cell_type": "markdown",
   "metadata": {},
   "source": [
    "**Method #2:** Optimized Approach\n",
    "- Time Complexity : `O(n)`\n",
    "- Space Complexity : `O(1)`"
   ]
  },
  {
   "cell_type": "code",
   "execution_count": 19,
   "metadata": {},
   "outputs": [],
   "source": [
    "def celebrity_problem_opt(arr):\n",
    "    n = len(arr)\n",
    "    \n",
    "    # Step 1: Find the potential celebrity\n",
    "    top, down = 0, n - 1\n",
    "    while top < down:\n",
    "        if arr[top][down] == 1:\n",
    "            # top knows down, so top can't be a celebrity, move top forward\n",
    "            top += 1\n",
    "        else:\n",
    "            # top doesn't know down, so down can't be a celebrity, move down backward\n",
    "            down -= 1\n",
    "    \n",
    "    # Now, top is the potential celebrity candidate\n",
    "    potential_celebrity = top\n",
    "    \n",
    "    # Step 2: Verify if the candidate is a real celebrity\n",
    "    for k in range(n):\n",
    "        if k != potential_celebrity:        # (all 1's in the column except for itself)\n",
    "            # Check if the candidate knows anyone or someone doesn't know the candidate\n",
    "            if arr[potential_celebrity][k] == 1 or arr[k][potential_celebrity] == 0:\n",
    "                return -1  # Not a celebrity\n",
    "    \n",
    "    return potential_celebrity"
   ]
  },
  {
   "cell_type": "code",
   "execution_count": 20,
   "metadata": {},
   "outputs": [
    {
     "data": {
      "text/plain": [
       "-1"
      ]
     },
     "execution_count": 20,
     "metadata": {},
     "output_type": "execute_result"
    }
   ],
   "source": [
    "celebrity_problem_opt(arr)"
   ]
  },
  {
   "cell_type": "code",
   "execution_count": null,
   "metadata": {},
   "outputs": [],
   "source": []
  }
 ],
 "metadata": {
  "kernelspec": {
   "display_name": ".aiop-venv",
   "language": "python",
   "name": "python3"
  },
  "language_info": {
   "codemirror_mode": {
    "name": "ipython",
    "version": 3
   },
   "file_extension": ".py",
   "mimetype": "text/x-python",
   "name": "python",
   "nbconvert_exporter": "python",
   "pygments_lexer": "ipython3",
   "version": "3.11.9"
  }
 },
 "nbformat": 4,
 "nbformat_minor": 2
}
