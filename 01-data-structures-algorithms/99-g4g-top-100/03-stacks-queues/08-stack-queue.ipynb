{
 "cells": [
  {
   "cell_type": "markdown",
   "metadata": {},
   "source": [
    "## Implement queue using stack and vice versa"
   ]
  },
  {
   "cell_type": "markdown",
   "metadata": {},
   "source": [
    "`Queue from Stack:`"
   ]
  },
  {
   "cell_type": "markdown",
   "metadata": {},
   "source": [
    "- peek(): Does not modify the queue structure - it only views the element \n",
    "- dequeue(): Removes and returns the element from the front of the queue"
   ]
  },
  {
   "cell_type": "code",
   "execution_count": 1,
   "metadata": {},
   "outputs": [],
   "source": [
    "class Queue:\n",
    "    def __init__(self):\n",
    "        self.stack1 = []  # for enqueue operations\n",
    "        self.stack2 = []  # for dequeue operations\n",
    "\n",
    "    def enqueue(self, x: int) -> None:\n",
    "        self.stack1.append(x)\n",
    "\n",
    "    def dequeue(self) -> int:\n",
    "        if not self.stack2:\n",
    "            # Transfer elements from stack1 to stack2 only if stack2 is empty\n",
    "            while self.stack1:\n",
    "                self.stack2.append(self.stack1.pop())\n",
    "        if not self.stack2:\n",
    "            raise Exception(\"Queue is empty\")\n",
    "        return self.stack2.pop()                                                    # REMEMBER `pop()`\n",
    "\n",
    "    def peek(self) -> int:\n",
    "        if not self.stack2:\n",
    "            # Transfer elements from stack1 to stack2 only if stack2 is empty\n",
    "            while self.stack1:\n",
    "                self.stack2.append(self.stack1.pop())\n",
    "        if not self.stack2:\n",
    "            raise Exception(\"Queue is empty\")\n",
    "        return self.stack2[-1]                                                      # REMEMBER `[-1]`\n",
    "\n",
    "    def empty(self) -> bool:\n",
    "        return len(self.stack1) == 0 and len(self.stack2) == 0"
   ]
  },
  {
   "cell_type": "code",
   "execution_count": 2,
   "metadata": {},
   "outputs": [
    {
     "name": "stdout",
     "output_type": "stream",
     "text": [
      "1\n",
      "2\n"
     ]
    }
   ],
   "source": [
    "# Create a queue instance\n",
    "q = Queue()\n",
    "\n",
    "# Add elements\n",
    "q.enqueue(1)\n",
    "q.enqueue(2)\n",
    "q.enqueue(3)\n",
    "\n",
    "# Remove elements\n",
    "print(q.dequeue())  # Output: 1\n",
    "print(q.dequeue())  # Output: 2"
   ]
  },
  {
   "cell_type": "markdown",
   "metadata": {},
   "source": [
    "`Stack from Queue`"
   ]
  },
  {
   "cell_type": "markdown",
   "metadata": {},
   "source": [
    "**Implementation Using Single Queue**"
   ]
  },
  {
   "cell_type": "code",
   "execution_count": 3,
   "metadata": {},
   "outputs": [],
   "source": [
    "from collections import deque\n",
    "\n",
    "class Stack:\n",
    "    def __init__(self):\n",
    "        self.queue = deque()\n",
    "    \n",
    "    def push(self, x):\n",
    "        # Add the new element\n",
    "        self.queue.append(x)\n",
    "        # Rotate the queue to make the last element first\n",
    "        for _ in range(len(self.queue) - 1):\n",
    "            self.queue.append(self.queue.popleft())\n",
    "    \n",
    "    def pop(self):\n",
    "        if not self.queue:\n",
    "            return None\n",
    "        return self.queue.popleft()\n",
    "    \n",
    "    def top(self):\n",
    "        if not self.queue:\n",
    "            return None\n",
    "        return self.queue[0]\n",
    "    \n",
    "    def empty(self):\n",
    "        return len(self.queue) == 0"
   ]
  },
  {
   "cell_type": "markdown",
   "metadata": {},
   "source": [
    "**Implementation Using Two Queues**"
   ]
  },
  {
   "cell_type": "code",
   "execution_count": 4,
   "metadata": {},
   "outputs": [],
   "source": [
    "from collections import deque\n",
    "\n",
    "class Stack:\n",
    "    def __init__(self):\n",
    "        self.q1 = deque()  # Main queue\n",
    "        self.q2 = deque()  # Helper queue\n",
    "    \n",
    "    def push(self, x):\n",
    "        # Add new element to q2\n",
    "        self.q2.append(x)\n",
    "        # Move all elements from q1 to q2\n",
    "        while self.q1:\n",
    "            self.q2.append(self.q1.popleft())\n",
    "        # Swap q1 and q2\n",
    "        self.q1, self.q2 = self.q2, self.q1\n",
    "    \n",
    "    def pop(self):\n",
    "        if not self.q1:\n",
    "            return None\n",
    "        return self.q1.popleft()\n",
    "    \n",
    "    def top(self):\n",
    "        if not self.q1:\n",
    "            return None\n",
    "        return self.q1[0]\n",
    "    \n",
    "    def empty(self):\n",
    "        return len(self.q1) == 0"
   ]
  },
  {
   "cell_type": "code",
   "execution_count": 5,
   "metadata": {},
   "outputs": [
    {
     "name": "stdout",
     "output_type": "stream",
     "text": [
      "3\n",
      "2\n"
     ]
    }
   ],
   "source": [
    "# Create a stack instance\n",
    "s = Stack()\n",
    "\n",
    "# Push elements\n",
    "s.push(1)\n",
    "s.push(2)\n",
    "s.push(3)\n",
    "\n",
    "# Pop elements\n",
    "print(s.pop())  # Output: 3\n",
    "print(s.pop())  # Output: 2"
   ]
  }
 ],
 "metadata": {
  "kernelspec": {
   "display_name": ".aiop-venv",
   "language": "python",
   "name": "python3"
  },
  "language_info": {
   "codemirror_mode": {
    "name": "ipython",
    "version": 3
   },
   "file_extension": ".py",
   "mimetype": "text/x-python",
   "name": "python",
   "nbconvert_exporter": "python",
   "pygments_lexer": "ipython3",
   "version": "3.11.9"
  }
 },
 "nbformat": 4,
 "nbformat_minor": 2
}
