{
 "cells": [
  {
   "cell_type": "markdown",
   "metadata": {},
   "source": [
    "## [Detect loop or cycle in a linked list](https://www.geeksforgeeks.org/detect-loop-in-a-linked-list/)"
   ]
  },
  {
   "cell_type": "markdown",
   "metadata": {},
   "source": [
    "#### Given a singly linked list, check if the linked list has a loop (cycle) or not. A loop means that the last node of the linked list is connected back to a node in the same list."
   ]
  },
  {
   "cell_type": "markdown",
   "metadata": {},
   "source": [
    "- Example 1:\n",
    "    - Input: head: 1 -> 3 -> 4 -> 3 -> NULL \n",
    "    - Output: true\n",
    "- Example 2:\n",
    "    - Input: head: 1 -> 8 -> 3 -> 4 -> NULL \n",
    "    - Output: false"
   ]
  },
  {
   "cell_type": "markdown",
   "metadata": {},
   "source": [
    "**Method #1:** Iterative Method\n",
    "- Time Complexity: `O(n)`\n",
    "- Space Complexity: `O(1)`"
   ]
  },
  {
   "cell_type": "code",
   "execution_count": null,
   "metadata": {},
   "outputs": [
    {
     "name": "stdout",
     "output_type": "stream",
     "text": [
      "1 2 3 (2) \n",
      "Has cycle: True\n"
     ]
    }
   ],
   "source": [
    "class Node:\n",
    "  def __init__(self, value):\n",
    "      self.value = value\n",
    "      self.next = None\n",
    "\n",
    "def detect_cycle(head):\n",
    "  slow, fast = head, head\n",
    "  while fast and fast.next:\n",
    "      slow = slow.next\n",
    "      fast = fast.next.next\n",
    "      if slow == fast:\n",
    "          return True\n",
    "  return False\n",
    "\n",
    "# Create a linked list with a cycle\n",
    "head = Node(1)\n",
    "head.next = Node(2)\n",
    "head.next.next = Node(3)\n",
    "head.next.next.next = head.next           # REMEMBER: Create a cycle by pointing to the second node\n",
    "\n",
    "def print_ll(node):\n",
    "  visited = set()\n",
    "  while node is not None:\n",
    "      if node in visited:\n",
    "          print(f\"({node.value})\", end=' ')\n",
    "          break\n",
    "      print(node.value, end=' ')\n",
    "      visited.add(node)\n",
    "      node = node.next\n",
    "  print()\n",
    "\n",
    "print_ll(head)\n",
    "print(\"Has cycle:\", detect_cycle(head))"
   ]
  }
 ],
 "metadata": {
  "kernelspec": {
   "display_name": ".aiop-venv",
   "language": "python",
   "name": "python3"
  },
  "language_info": {
   "codemirror_mode": {
    "name": "ipython",
    "version": 3
   },
   "file_extension": ".py",
   "mimetype": "text/x-python",
   "name": "python",
   "nbconvert_exporter": "python",
   "pygments_lexer": "ipython3",
   "version": "3.11.9"
  }
 },
 "nbformat": 4,
 "nbformat_minor": 2
}
