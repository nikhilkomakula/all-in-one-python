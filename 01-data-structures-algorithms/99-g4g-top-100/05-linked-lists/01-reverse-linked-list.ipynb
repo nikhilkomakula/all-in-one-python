{
 "cells": [
  {
   "cell_type": "markdown",
   "metadata": {},
   "source": [
    "## [Reverse a Linked List](https://www.geeksforgeeks.org/reverse-a-linked-list/)"
   ]
  },
  {
   "cell_type": "markdown",
   "metadata": {},
   "source": [
    "#### Given a linked list, the task is to reverse the linked list by changing the links between nodes."
   ]
  },
  {
   "cell_type": "markdown",
   "metadata": {},
   "source": [
    "- Example 1:\n",
    "    - Input: Linked List = 1 -> 2 -> 3 -> 4 -> NULL \n",
    "    - Output: Reversed Linked List = 4 -> 3 -> 2 -> 1 -> NULL\n",
    "- Example 2:\n",
    "    - Input: Linked List = 1 -> 2 -> 3 -> 4 -> 5 -> NULL \n",
    "    - Output: Reversed Linked List = 5 -> 4 -> 3 -> 2 -> 1 -> NULL\n",
    "- Example 3:\n",
    "    - Input: Linked List = NULL \n",
    "    - Output: Reversed Linked List = NULL\n",
    "- Example 4:\n",
    "    - Input: Linked List = 1->NULL \n",
    "    - Output: Reversed Linked List = 1->NULL "
   ]
  },
  {
   "cell_type": "code",
   "execution_count": 15,
   "metadata": {},
   "outputs": [],
   "source": [
    "# Node class definition\n",
    "class LinkedList():\n",
    "    def __init__(self, value=None, next=None):\n",
    "        self.value = value\n",
    "        self.next = next"
   ]
  },
  {
   "cell_type": "code",
   "execution_count": 16,
   "metadata": {},
   "outputs": [],
   "source": [
    "def print_list(head):\n",
    "    current = head\n",
    "    while current:\n",
    "        print(current.value, end=\" -> \")\n",
    "        current = current.next\n",
    "    print(\"None\")"
   ]
  },
  {
   "cell_type": "markdown",
   "metadata": {},
   "source": [
    "**Method #1:** Additional Space Method\n",
    "- Time Complexity: `O(n)`\n",
    "- Space Complexity: `O(n)`"
   ]
  },
  {
   "cell_type": "code",
   "execution_count": 17,
   "metadata": {},
   "outputs": [],
   "source": [
    "def reverse_using_stack(head):\n",
    "    # Check if list is empty or has single node\n",
    "    if not head or not head.next:\n",
    "        return head\n",
    "    \n",
    "    # Create an empty stack\n",
    "    stack = []\n",
    "    \n",
    "    # Step 1: Push all nodes to stack\n",
    "    current = head\n",
    "    while current:\n",
    "        stack.append(current.value)\n",
    "        current = current.next\n",
    "    \n",
    "    # Step 2: Pop from stack and update values\n",
    "    current = head\n",
    "    while current:\n",
    "        current.value = stack.pop()\n",
    "        current = current.next\n",
    "    \n",
    "    return head"
   ]
  },
  {
   "cell_type": "code",
   "execution_count": 18,
   "metadata": {},
   "outputs": [
    {
     "name": "stdout",
     "output_type": "stream",
     "text": [
      "Original Linked List:\n",
      "1 -> 2 -> 3 -> 4 -> 5 -> None\n"
     ]
    }
   ],
   "source": [
    "# Create a sample linked list: 1 -> 2 -> 3 -> 4 -> 5\n",
    "head = LinkedList(1)\n",
    "head.next = LinkedList(2)\n",
    "head.next.next = LinkedList(3)\n",
    "head.next.next.next = LinkedList(4)\n",
    "head.next.next.next.next = LinkedList(5)\n",
    "\n",
    "print(\"Original Linked List:\")\n",
    "print_list(head)"
   ]
  },
  {
   "cell_type": "code",
   "execution_count": 19,
   "metadata": {},
   "outputs": [
    {
     "name": "stdout",
     "output_type": "stream",
     "text": [
      "Reversed Linked List:\n",
      "5 -> 4 -> 3 -> 2 -> 1 -> None\n"
     ]
    }
   ],
   "source": [
    "print(\"Reversed Linked List:\")\n",
    "print_list(reverse_using_stack(head))"
   ]
  },
  {
   "cell_type": "markdown",
   "metadata": {},
   "source": [
    "**Method #2:** Optimized Approach\n",
    "- Time Complexity: `O(n)`\n",
    "- Space Complexity: `O(1)`"
   ]
  },
  {
   "cell_type": "code",
   "execution_count": 20,
   "metadata": {},
   "outputs": [],
   "source": [
    "def reverse_linked_list(head):\n",
    "    # Initialize three pointers\n",
    "    prev = None\n",
    "    current = head\n",
    "    \n",
    "    while current:\n",
    "        # Store next node\n",
    "        next_node = current.next\n",
    "        # Reverse the link\n",
    "        current.next = prev\n",
    "        # Move prev and current one step forward\n",
    "        prev = current\n",
    "        current = next_node\n",
    "    \n",
    "    return prev"
   ]
  },
  {
   "cell_type": "code",
   "execution_count": 21,
   "metadata": {},
   "outputs": [
    {
     "name": "stdout",
     "output_type": "stream",
     "text": [
      "Original Linked List:\n",
      "1 -> 2 -> 3 -> 4 -> 5 -> None\n"
     ]
    }
   ],
   "source": [
    "# Create a sample linked list: 1 -> 2 -> 3 -> 4 -> 5\n",
    "head = LinkedList(1)\n",
    "head.next = LinkedList(2)\n",
    "head.next.next = LinkedList(3)\n",
    "head.next.next.next = LinkedList(4)\n",
    "head.next.next.next.next = LinkedList(5)\n",
    "\n",
    "print(\"Original Linked List:\")\n",
    "print_list(head)"
   ]
  },
  {
   "cell_type": "code",
   "execution_count": 22,
   "metadata": {},
   "outputs": [
    {
     "name": "stdout",
     "output_type": "stream",
     "text": [
      "Reversed Linked List:\n",
      "5 -> 4 -> 3 -> 2 -> 1 -> None\n"
     ]
    }
   ],
   "source": [
    "print(\"Reversed Linked List:\")\n",
    "print_list(reverse_linked_list(head))"
   ]
  }
 ],
 "metadata": {
  "kernelspec": {
   "display_name": ".aiop-venv",
   "language": "python",
   "name": "python3"
  },
  "language_info": {
   "codemirror_mode": {
    "name": "ipython",
    "version": 3
   },
   "file_extension": ".py",
   "mimetype": "text/x-python",
   "name": "python",
   "nbconvert_exporter": "python",
   "pygments_lexer": "ipython3",
   "version": "3.11.9"
  }
 },
 "nbformat": 4,
 "nbformat_minor": 2
}
