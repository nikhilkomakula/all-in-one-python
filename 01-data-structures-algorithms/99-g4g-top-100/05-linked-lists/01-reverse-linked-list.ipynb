{
 "cells": [
  {
   "cell_type": "markdown",
   "metadata": {},
   "source": [
    "## [Reverse a Linked List](https://www.geeksforgeeks.org/reverse-a-linked-list/)"
   ]
  },
  {
   "cell_type": "markdown",
   "metadata": {},
   "source": [
    "#### Given a linked list, the task is to reverse the linked list by changing the links between nodes."
   ]
  },
  {
   "cell_type": "markdown",
   "metadata": {},
   "source": [
    "- Example 1:\n",
    "    - Input: Linked List = 1 -> 2 -> 3 -> 4 -> NULL \n",
    "    - Output: Reversed Linked List = 4 -> 3 -> 2 -> 1 -> NULL\n",
    "- Example 2:\n",
    "    - Input: Linked List = 1 -> 2 -> 3 -> 4 -> 5 -> NULL \n",
    "    - Output: Reversed Linked List = 5 -> 4 -> 3 -> 2 -> 1 -> NULL\n",
    "- Example 3:\n",
    "    - Input: Linked List = NULL \n",
    "    - Output: Reversed Linked List = NULL\n",
    "- Example 4:\n",
    "    - Input: Linked List = 1->NULL \n",
    "    - Output: Reversed Linked List = 1->NULL "
   ]
  },
  {
   "cell_type": "markdown",
   "metadata": {},
   "source": [
    "**Method #1:** Iterative Method\n",
    "- Time Complexity: `O(n)`\n",
    "- Space Complexity: `O(1)`"
   ]
  },
  {
   "cell_type": "code",
   "execution_count": 2,
   "metadata": {},
   "outputs": [],
   "source": [
    "class Node:\n",
    "    def __init__(self, data):\n",
    "        self.data = data\n",
    "        self.next = None\n",
    "\n",
    "def reverse_linked_list(head):\n",
    "    # Initialize three pointers: curr, prev and next\n",
    "    prev_node = None\n",
    "    cur_node = head    \n",
    "    \n",
    "    while cur_node is not None:\n",
    "        next_node = cur_node.next\n",
    "        cur_node.next = prev_node\n",
    "        prev_node = cur_node\n",
    "        cur_node = next_node\n",
    "    return prev_node   "
   ]
  },
  {
   "cell_type": "code",
   "execution_count": 3,
   "metadata": {},
   "outputs": [
    {
     "name": "stdout",
     "output_type": "stream",
     "text": [
      "Given Linked list: 1 2 3 4 5\n",
      "Reversed Linked List: 5 4 3 2 1\n"
     ]
    }
   ],
   "source": [
    "def print_list(node):\n",
    "    while node is not None:\n",
    "        print(f\" {node.data}\", end=\"\")\n",
    "        node = node.next\n",
    "    print()\n",
    "\n",
    "# Create a hard-coded linked list:\n",
    "# 1 -> 2 -> 3 -> 4 -> 5\n",
    "head = Node(1)\n",
    "head.next = Node(2)\n",
    "head.next.next = Node(3)\n",
    "head.next.next.next = Node(4)\n",
    "head.next.next.next.next = Node(5)\n",
    "\n",
    "print(\"Given Linked list:\", end=\"\")\n",
    "print_list(head)\n",
    "\n",
    "head = reverse_linked_list(head)\n",
    "\n",
    "print(\"Reversed Linked List:\", end=\"\")\n",
    "print_list(head)"
   ]
  },
  {
   "cell_type": "code",
   "execution_count": null,
   "metadata": {},
   "outputs": [],
   "source": []
  }
 ],
 "metadata": {
  "kernelspec": {
   "display_name": ".aiop-venv",
   "language": "python",
   "name": "python3"
  },
  "language_info": {
   "codemirror_mode": {
    "name": "ipython",
    "version": 3
   },
   "file_extension": ".py",
   "mimetype": "text/x-python",
   "name": "python",
   "nbconvert_exporter": "python",
   "pygments_lexer": "ipython3",
   "version": "3.11.9"
  }
 },
 "nbformat": 4,
 "nbformat_minor": 2
}
