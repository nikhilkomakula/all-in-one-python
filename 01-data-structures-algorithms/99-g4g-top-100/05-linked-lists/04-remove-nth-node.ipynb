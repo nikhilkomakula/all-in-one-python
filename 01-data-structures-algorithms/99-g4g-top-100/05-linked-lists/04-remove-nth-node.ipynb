{
 "cells": [
  {
   "cell_type": "markdown",
   "id": "4f2e447b",
   "metadata": {},
   "source": [
    "## Remove Nth Node From End of List"
   ]
  },
  {
   "cell_type": "markdown",
   "id": "11dcab51",
   "metadata": {},
   "source": [
    "Example 1:\n",
    "- Input: head = [1,2,3,4,5], n = 2\n",
    "- Output: [1,2,3,5]\n",
    "\n",
    "Example 2:\n",
    "- Input: head = [1], n = 1\n",
    "- Output: []\n",
    "\n",
    "Example 3:\n",
    "- Input: head = [1,2], n = 1\n",
    "- Output: [1]"
   ]
  },
  {
   "cell_type": "markdown",
   "id": "39ea792f",
   "metadata": {},
   "source": [
    "https://takeuforward.org/data-structure/remove-n-th-node-from-the-end-of-a-linked-list/"
   ]
  },
  {
   "cell_type": "markdown",
   "id": "018982fe",
   "metadata": {},
   "source": [
    "**Method #1:** Naive approach\n",
    "- Time Complexity: `O(n)`\n",
    "- Space Complexity: `O(1)`"
   ]
  },
  {
   "cell_type": "code",
   "execution_count": 2,
   "id": "7c6972bd",
   "metadata": {},
   "outputs": [
    {
     "name": "stdout",
     "output_type": "stream",
     "text": [
      "1 2 4 5 "
     ]
    }
   ],
   "source": [
    "class Node:\n",
    "    def __init__(self, data, next_node=None):\n",
    "        self.data = data\n",
    "        self.next = next_node\n",
    "\n",
    "# Function to print the linked list\n",
    "def printLL(head):\n",
    "    while head is not None:\n",
    "        print(head.data, end=' ')\n",
    "        head = head.next\n",
    "\n",
    "# Function to delete the Nth node from the end of the linked list\n",
    "def DeleteNthNodefromEnd(head, N):\n",
    "    if head is None:\n",
    "        return None\n",
    "    cnt = 0\n",
    "    temp = head\n",
    "\n",
    "    # Count the number of nodes in the linked list\n",
    "    while temp is not None:\n",
    "        cnt += 1\n",
    "        temp = temp.next\n",
    "\n",
    "    # If N equals the total number of nodes, delete the head\n",
    "    if cnt == N:\n",
    "        newhead = head.next\n",
    "        head = None\n",
    "        return newhead\n",
    "\n",
    "    # Calculate the position of the node to delete (res)\n",
    "    res = cnt - N\n",
    "    temp = head\n",
    "\n",
    "    # Traverse to the node just before the one to delete\n",
    "    while temp is not None:\n",
    "        res -= 1\n",
    "        if res == 0:\n",
    "            break\n",
    "        temp = temp.next\n",
    "\n",
    "    # Delete the Nth node from the end\n",
    "    delNode = temp.next\n",
    "    temp.next = temp.next.next\n",
    "    delNode = None\n",
    "    return head\n",
    "\n",
    "arr = [1, 2, 3, 4, 5]\n",
    "N = 3\n",
    "head = Node(arr[0])\n",
    "head.next = Node(arr[1])\n",
    "head.next.next = Node(arr[2])\n",
    "head.next.next.next = Node(arr[3])\n",
    "head.next.next.next.next = Node(arr[4])\n",
    "\n",
    "# Delete the Nth node from the end and print the modified linked list\n",
    "head = DeleteNthNodefromEnd(head, N)\n",
    "printLL(head)"
   ]
  },
  {
   "cell_type": "markdown",
   "id": "0c630485",
   "metadata": {},
   "source": [
    "**Method #2:** Optimal approach\n",
    "- Time Complexity: `O(n)`\n",
    "- Space Complexity: `O(1)`"
   ]
  },
  {
   "cell_type": "code",
   "execution_count": null,
   "id": "9ef66e5d",
   "metadata": {},
   "outputs": [
    {
     "name": "stdout",
     "output_type": "stream",
     "text": [
      "1 2 4 5 "
     ]
    }
   ],
   "source": [
    "class Node:\n",
    "    def __init__(self, data, next_node=None):\n",
    "        self.data = data\n",
    "        self.next = next_node\n",
    "\n",
    "# Function to print the linked list\n",
    "def printLL(head):\n",
    "    while head is not None:\n",
    "        print(head.data, end=' ')\n",
    "        head = head.next\n",
    "\n",
    "# Function to delete the Nth node from the end of the linked list\n",
    "def DeleteNthNodefromEnd(head, N):\n",
    "    # Create two pointers, fastp and slowp\n",
    "    fastp = head\n",
    "    slowp = head\n",
    "\n",
    "    # Move the fastp pointer N nodes ahead\n",
    "    for i in range(N):\n",
    "        fastp = fastp.next\n",
    "\n",
    "    # If fastp becomes None, the Nth node from the end is the head\n",
    "    if fastp is None:\n",
    "        return head.next\n",
    "\n",
    "    # Move both pointers until fastp reaches the end\n",
    "    while fastp.next is not None:\n",
    "        fastp = fastp.next\n",
    "        slowp = slowp.next\n",
    "\n",
    "    # Delete the Nth node from the end\n",
    "    slowp.next = slowp.next.next\n",
    "    return head\n",
    "\n",
    "arr = [1, 2, 3, 4, 5]\n",
    "N = 3\n",
    "head = Node(arr[0])\n",
    "head.next = Node(arr[1])\n",
    "head.next.next = Node(arr[2])\n",
    "head.next.next.next = Node(arr[3])\n",
    "head.next.next.next.next = Node(arr[4])\n",
    "\n",
    "# Delete the Nth node from the end and print the modified linked list\n",
    "head = DeleteNthNodefromEnd(head, N)\n",
    "printLL(head)"
   ]
  },
  {
   "cell_type": "code",
   "execution_count": null,
   "id": "fe092a56",
   "metadata": {},
   "outputs": [],
   "source": []
  }
 ],
 "metadata": {
  "kernelspec": {
   "display_name": ".aiop-venv",
   "language": "python",
   "name": "python3"
  },
  "language_info": {
   "codemirror_mode": {
    "name": "ipython",
    "version": 3
   },
   "file_extension": ".py",
   "mimetype": "text/x-python",
   "name": "python",
   "nbconvert_exporter": "python",
   "pygments_lexer": "ipython3",
   "version": "3.11.9"
  }
 },
 "nbformat": 4,
 "nbformat_minor": 5
}
