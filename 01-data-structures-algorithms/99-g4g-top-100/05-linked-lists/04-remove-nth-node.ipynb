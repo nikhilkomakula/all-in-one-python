{
 "cells": [
  {
   "cell_type": "markdown",
   "id": "4f2e447b",
   "metadata": {},
   "source": [
    "## Remove Nth Node From End of List"
   ]
  },
  {
   "cell_type": "markdown",
   "id": "11dcab51",
   "metadata": {},
   "source": [
    "Example 1:\n",
    "- Input: head = [1,2,3,4,5], n = 2\n",
    "- Output: [1,2,3,5]\n",
    "\n",
    "Example 2:\n",
    "- Input: head = [1], n = 1\n",
    "- Output: []\n",
    "\n",
    "Example 3:\n",
    "- Input: head = [1,2], n = 1\n",
    "- Output: [1]"
   ]
  },
  {
   "cell_type": "markdown",
   "id": "39ea792f",
   "metadata": {},
   "source": [
    "https://takeuforward.org/data-structure/remove-n-th-node-from-the-end-of-a-linked-list/"
   ]
  },
  {
   "cell_type": "markdown",
   "id": "018982fe",
   "metadata": {},
   "source": [
    "**Method #1:** Naive approach\n",
    "- Time Complexity: `O(n)`\n",
    "- Space Complexity: `O(1)`"
   ]
  },
  {
   "cell_type": "code",
   "execution_count": 32,
   "id": "97cd2f13",
   "metadata": {},
   "outputs": [],
   "source": [
    "class Node:\n",
    "    def __init__(self, data, next_node=None):\n",
    "        self.data = data\n",
    "        self.next = next_node\n",
    "\n",
    "# Function to print the linked list\n",
    "def printLL(head):\n",
    "    while head is not None:\n",
    "        print(head.data, end=' ')\n",
    "        head = head.next"
   ]
  },
  {
   "cell_type": "code",
   "execution_count": 33,
   "id": "7c6972bd",
   "metadata": {},
   "outputs": [],
   "source": [
    "# Function to delete the Nth node from the end of the linked list\n",
    "def delete_nth_node_from_end(head, N):\n",
    "    if head is None:\n",
    "        return None\n",
    "    \n",
    "    count = 0\n",
    "    temp = head\n",
    "\n",
    "    # Count the number of nodes in the linked list\n",
    "    while temp is not None:\n",
    "        count += 1\n",
    "        temp = temp.next\n",
    "\n",
    "    # If N equals the total number of nodes, delete the head\n",
    "    if count == N:\n",
    "        newhead = head.next\n",
    "        head = None\n",
    "        return newhead\n",
    "\n",
    "    # Calculate the position of the node to delete (res)\n",
    "    res = count - N\n",
    "    \n",
    "    temp = head\n",
    "    # Traverse to the node just before the one to delete\n",
    "    while temp is not None:\n",
    "        res -= 1\n",
    "        if res == 0:\n",
    "            break\n",
    "        temp = temp.next\n",
    "\n",
    "    # Delete the Nth node from the end\n",
    "    temp.next = temp.next.next\n",
    "    \n",
    "    return head"
   ]
  },
  {
   "cell_type": "code",
   "execution_count": 34,
   "id": "d1cd7f35",
   "metadata": {},
   "outputs": [],
   "source": [
    "arr = [1, 2, 3, 4, 5]\n",
    "N = 3\n",
    "head = Node(arr[0])\n",
    "head.next = Node(arr[1])\n",
    "head.next.next = Node(arr[2])\n",
    "head.next.next.next = Node(arr[3])\n",
    "head.next.next.next.next = Node(arr[4])"
   ]
  },
  {
   "cell_type": "code",
   "execution_count": 35,
   "id": "5e7a6027",
   "metadata": {},
   "outputs": [
    {
     "name": "stdout",
     "output_type": "stream",
     "text": [
      "1 2 4 5 "
     ]
    }
   ],
   "source": [
    "# Delete the Nth node from the end and print the modified linked list\n",
    "head = delete_nth_node_from_end(head, N)\n",
    "printLL(head)"
   ]
  },
  {
   "cell_type": "markdown",
   "id": "0c630485",
   "metadata": {},
   "source": [
    "**Method #2:** Optimal approach\n",
    "- Time Complexity: `O(n)`\n",
    "- Space Complexity: `O(1)`"
   ]
  },
  {
   "cell_type": "code",
   "execution_count": null,
   "id": "9ef66e5d",
   "metadata": {},
   "outputs": [],
   "source": [
    "# Function to delete the Nth node from the end of the linked list\n",
    "def delete_nth_node_from_end_opt(head, N):\n",
    "    # Input validation\n",
    "    if head is None:\n",
    "        return None\n",
    "    if N <= 0:\n",
    "        return head  # Invalid N, return original list\n",
    "    \n",
    "    # Create two pointers, fast and slow\n",
    "    slow, fast = head, head\n",
    "\n",
    "    # Move the fast pointer N nodes ahead\n",
    "    for i in range(N):\n",
    "        if fast is None:  # N is greater than the length of the list\n",
    "            return head  # or raise an exception depending on requirements\n",
    "        fast = fast.next\n",
    "\n",
    "    # If fast becomes None, the Nth node from the end is the head\n",
    "    if fast is None:\n",
    "        return head.next\n",
    "\n",
    "    # Move both pointers until fast reaches the end\n",
    "    while fast.next is not None:\n",
    "        fast = fast.next\n",
    "        slow = slow.next\n",
    "\n",
    "    # Delete the Nth node from the end\n",
    "    slow.next = slow.next.next\n",
    "    \n",
    "    return head"
   ]
  },
  {
   "cell_type": "code",
   "execution_count": 37,
   "id": "265b0872",
   "metadata": {},
   "outputs": [],
   "source": [
    "arr = [1, 2, 3, 4, 5]\n",
    "N = 3\n",
    "head = Node(arr[0])\n",
    "head.next = Node(arr[1])\n",
    "head.next.next = Node(arr[2])\n",
    "head.next.next.next = Node(arr[3])\n",
    "head.next.next.next.next = Node(arr[4])"
   ]
  },
  {
   "cell_type": "code",
   "execution_count": 38,
   "id": "fe092a56",
   "metadata": {},
   "outputs": [
    {
     "name": "stdout",
     "output_type": "stream",
     "text": [
      "1 2 4 5 "
     ]
    }
   ],
   "source": [
    "# Delete the Nth node from the end and print the modified linked list\n",
    "head = delete_nth_node_from_end_opt(head, N)\n",
    "printLL(head)"
   ]
  }
 ],
 "metadata": {
  "kernelspec": {
   "display_name": ".aiop-venv",
   "language": "python",
   "name": "python3"
  },
  "language_info": {
   "codemirror_mode": {
    "name": "ipython",
    "version": 3
   },
   "file_extension": ".py",
   "mimetype": "text/x-python",
   "name": "python",
   "nbconvert_exporter": "python",
   "pygments_lexer": "ipython3",
   "version": "3.11.9"
  }
 },
 "nbformat": 4,
 "nbformat_minor": 5
}
