{
 "cells": [
  {
   "cell_type": "markdown",
   "metadata": {},
   "source": [
    "## [Merge two sorted linked lists](https://www.geeksforgeeks.org/merge-two-sorted-linked-lists/)"
   ]
  },
  {
   "cell_type": "markdown",
   "metadata": {},
   "source": [
    "#### Given two sorted linked lists consisting of N and M nodes respectively. The task is to merge both of the lists (in place) and return the head of the merged list."
   ]
  },
  {
   "cell_type": "markdown",
   "metadata": {},
   "source": [
    "- Example 1:\n",
    "    - Input: a: 5->10->15,  b: 2->3->20\n",
    "    - Output: 2->3->5->10->15->20\n",
    "- Example 2:\n",
    "    - Input: a: 1->1, b: 2->4\n",
    "    - Output: 1->1->2->4\n",
    "- Example 3:\n",
    "    - Input: a: 1->2->3, b: null\n",
    "    - Output: 1->2->3"
   ]
  },
  {
   "cell_type": "markdown",
   "metadata": {},
   "source": [
    "**Method #1:** Iterative Method\n",
    "- Time Complexity: `O(n + m)`\n",
    "- Space Complexity: `O(1)`"
   ]
  },
  {
   "cell_type": "code",
   "execution_count": 1,
   "metadata": {},
   "outputs": [],
   "source": [
    "class ListNode:\n",
    "  def __init__(self, value=0, next=None):\n",
    "      self.value = value\n",
    "      self.next = next\n",
    "\n",
    "def merge_two_sorted_lists(l1, l2):\n",
    "  # Create a dummy node to serve as the start of the merged list\n",
    "  dummy = ListNode()\n",
    "  current = dummy       # used to return the head of the dummy list\n",
    "\n",
    "  # Traverse both lists and append the smaller value to the merged list\n",
    "  while l1 and l2:\n",
    "      if l1.value < l2.value:\n",
    "          current.next = l1\n",
    "          l1 = l1.next\n",
    "      else:\n",
    "          current.next = l2\n",
    "          l2 = l2.next\n",
    "      current = current.next\n",
    "\n",
    "  # If there are remaining nodes in either list, append them\n",
    "  if l1:\n",
    "      current.next = l1\n",
    "  elif l2:\n",
    "      current.next = l2\n",
    "\n",
    "  # Return the merged list, which starts at dummy.next\n",
    "  return dummy.next"
   ]
  },
  {
   "cell_type": "code",
   "execution_count": 2,
   "metadata": {},
   "outputs": [
    {
     "name": "stdout",
     "output_type": "stream",
     "text": [
      "1 -> 2 -> 3 -> 4 -> 5 -> 6 -> None\n"
     ]
    }
   ],
   "source": [
    "# Helper function to print the linked list\n",
    "def print_linked_list(node):\n",
    "  while node:\n",
    "      print(node.value, end=\" -> \")\n",
    "      node = node.next\n",
    "  print(\"None\")\n",
    "\n",
    "# Example usage:\n",
    "# Creating two sorted linked lists\n",
    "l1 = ListNode(1, ListNode(3, ListNode(5)))\n",
    "l2 = ListNode(2, ListNode(4, ListNode(6)))\n",
    "\n",
    "# Merging the lists\n",
    "merged_list = merge_two_sorted_lists(l1, l2)\n",
    "\n",
    "# Printing the merged list\n",
    "print_linked_list(merged_list)"
   ]
  },
  {
   "cell_type": "code",
   "execution_count": null,
   "metadata": {},
   "outputs": [],
   "source": []
  }
 ],
 "metadata": {
  "kernelspec": {
   "display_name": ".aiop-venv",
   "language": "python",
   "name": "python3"
  },
  "language_info": {
   "codemirror_mode": {
    "name": "ipython",
    "version": 3
   },
   "file_extension": ".py",
   "mimetype": "text/x-python",
   "name": "python",
   "nbconvert_exporter": "python",
   "pygments_lexer": "ipython3",
   "version": "3.11.9"
  }
 },
 "nbformat": 4,
 "nbformat_minor": 2
}
