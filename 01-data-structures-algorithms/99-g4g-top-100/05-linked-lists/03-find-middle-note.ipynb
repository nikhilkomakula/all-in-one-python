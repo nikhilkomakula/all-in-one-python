{
 "cells": [
  {
   "cell_type": "markdown",
   "metadata": {},
   "source": [
    "## [Find Middle of the Linked List](https://www.geeksforgeeks.org/write-a-c-function-to-print-the-middle-of-the-linked-list/)"
   ]
  },
  {
   "cell_type": "markdown",
   "metadata": {},
   "source": [
    "#### Given a singly linked list, the task is to find the middle of the linked list. If the number of nodes are even, then there would be two middle nodes, so return the second middle node."
   ]
  },
  {
   "cell_type": "markdown",
   "metadata": {},
   "source": [
    "- Example 1:\n",
    "    - Input: linked list: 1->2->3->4->5\n",
    "    - Output: 3 \n",
    "    - Explanation: There are 5 nodes in the linked list and there is one middle node whose value is 3.\n",
    "- Example 2:\n",
    "    - Input: linked list = 10 -> 20 -> 30 -> 40 -> 50 -> 60\n",
    "    - Output: 40\n",
    "    - Explanation: There are 6 nodes in the linked list, so we have two middle nodes: 30 and 40, but we will return the second middle node which is 40."
   ]
  },
  {
   "cell_type": "markdown",
   "metadata": {},
   "source": [
    "**Method #1:** Iterative Method\n",
    "- Time Complexity: `O(n)`\n",
    "- Space Complexity: `O(1)`"
   ]
  },
  {
   "cell_type": "code",
   "execution_count": null,
   "metadata": {},
   "outputs": [],
   "source": [
    "def find_middle_node(head):\n",
    "    slow, fast = head, head\n",
    "    while fast and fast.next:\n",
    "        slow = slow.next\n",
    "        fast = fast.next.next\n",
    "    return slow                 # Remember to return 'slow'"
   ]
  }
 ],
 "metadata": {
  "language_info": {
   "name": "python"
  }
 },
 "nbformat": 4,
 "nbformat_minor": 2
}
