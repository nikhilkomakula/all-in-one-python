{
 "cells": [
  {
   "cell_type": "markdown",
   "metadata": {},
   "source": [
    "## [Merge K sorted linked lists](https://www.geeksforgeeks.org/merge-k-sorted-linked-lists/)"
   ]
  },
  {
   "cell_type": "markdown",
   "metadata": {},
   "source": [
    "#### Given k sorted linked lists of different sizes, the task is to merge them all maintaining their sorted order."
   ]
  },
  {
   "cell_type": "markdown",
   "metadata": {},
   "source": [
    "- Example 1:\n",
    "    - Input: k = 3,\n",
    "    - list1 = 1->3->5->7->NULL\n",
    "    - list2 = 2->4->6->8->NULL\n",
    "    - list3 = 0->9->10->11->NULL\n",
    "    - Output: 0->1->2->3->4->5->6->7->8->9->10->11\n",
    "    - Merged lists in a sorted order where every element is greater than the previous element.\n",
    "- Example 2:\n",
    "    - Input: k = 3\n",
    "    - list1 = 1->3->7->NULL\n",
    "    - list2 = 2->4->8->NULL\n",
    "    - list3 = 9->NULL\n",
    "    - Output: 1->2->3->4->7->8->9\n",
    "    - Merged lists in a sorted order where every element is greater than the previous element."
   ]
  },
  {
   "cell_type": "markdown",
   "metadata": {},
   "source": [
    "**Method #1:** Using Heap\n",
    "- Time Complexity: `O(n log k)`\n",
    "    - The time complexity of this solution is O(n log k), where n is the total number of nodes in all the input lists and k is the number of input lists. This is because we are iterating through all the nodes in the input lists and each node is pushed and popped from the heap, which has a log k time complexity for each operation.\n",
    "- Space Complexity: `O(k)`\n",
    "    - The space complexity is O(k), where k is the number of input lists. This is because the heap can contain at most k nodes at any given time."
   ]
  },
  {
   "cell_type": "code",
   "execution_count": null,
   "metadata": {},
   "outputs": [],
   "source": [
    "from heapq import heappush, heappop\n",
    "\n",
    "\n",
    "class ListNode:\n",
    "    def __init__(self, val=0, next=None):\n",
    "        self.val = val\n",
    "        self.next = next\n",
    "\n",
    "    def __lt__(self, other):\n",
    "        return self.val < other.val\n",
    "\n",
    "\n",
    "def merge_k_lists(lists):\n",
    "    min_heap = []\n",
    "\n",
    "    # Initialize the heap with the first node of each list\n",
    "    for i, l in enumerate(lists):\n",
    "        if l:\n",
    "            heappush(min_heap, (l.val, i, l))\n",
    "\n",
    "    # Dummy node to help with the result list\n",
    "    dummy = ListNode()\n",
    "    current = dummy\n",
    "\n",
    "    while min_heap:\n",
    "        # Extract the smallest node from the heap\n",
    "        _, i, node = heappop(min_heap)\n",
    "\n",
    "        # Add the smallest node to the merged list\n",
    "        current.next = node\n",
    "        current = current.next\n",
    "\n",
    "        # If there is a next node, push it into the heap\n",
    "        if node.next:\n",
    "            heappush(min_heap, (node.next.val, i, node.next))\n",
    "\n",
    "    return dummy.next\n",
    "\n",
    "\n",
    "# Example usage:\n",
    "# Assuming you have k sorted linked lists as input\n",
    "# lists = [list1, list2, ..., listk]\n",
    "# merged_list = mergeKLists(lists)"
   ]
  }
 ],
 "metadata": {
  "language_info": {
   "name": "python"
  }
 },
 "nbformat": 4,
 "nbformat_minor": 2
}
