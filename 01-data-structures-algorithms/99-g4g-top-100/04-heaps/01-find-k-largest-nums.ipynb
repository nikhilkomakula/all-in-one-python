{
 "cells": [
  {
   "cell_type": "markdown",
   "metadata": {},
   "source": [
    "## [Print K largest(or smallest) elements in an array](https://www.geeksforgeeks.org/k-largestor-smallest-elements-in-an-array/)"
   ]
  },
  {
   "cell_type": "markdown",
   "metadata": {},
   "source": [
    "- **To find `k-largest`, use `min-heap`**\n",
    "- **To find `k-smallest`, use `max-heap`**"
   ]
  },
  {
   "cell_type": "markdown",
   "metadata": {},
   "source": [
    "#### Given an array arr[] of size N, the task is to printing K largest elements in an array.\n",
    "Note: Elements in output array can be in any order"
   ]
  },
  {
   "cell_type": "markdown",
   "metadata": {},
   "source": [
    "- Example 1:\n",
    "    - Input:  [1, 23, 12, 9, 30, 2, 50], K = 3\n",
    "    - Output: 50, 30, 23\n",
    "- Example 2:\n",
    "    - Input:  [11, 5, 12, 9, 44, 17, 2], K = 2\n",
    "    - Output: 44, 17"
   ]
  },
  {
   "cell_type": "markdown",
   "metadata": {},
   "source": [
    "**Method #1:** Sorting Method\n",
    "- Time Complexity: `O(n * log n)`\n",
    "- Space Complexity: `O(n)`"
   ]
  },
  {
   "cell_type": "code",
   "execution_count": 4,
   "metadata": {},
   "outputs": [],
   "source": [
    "def find_k_largest_sort(arr, k):\n",
    "    arr.sort(reverse=True)\n",
    "    return arr[:k]"
   ]
  },
  {
   "cell_type": "code",
   "execution_count": 5,
   "metadata": {},
   "outputs": [],
   "source": [
    "arr = [11, 3, 2, 1, 15, 5, 4, 45, 88, 96, 50, 45]\n",
    "k = 3"
   ]
  },
  {
   "cell_type": "code",
   "execution_count": 6,
   "metadata": {},
   "outputs": [
    {
     "data": {
      "text/plain": [
       "[96, 88, 50]"
      ]
     },
     "execution_count": 6,
     "metadata": {},
     "output_type": "execute_result"
    }
   ],
   "source": [
    "find_k_largest_sort(arr, 3)"
   ]
  },
  {
   "cell_type": "markdown",
   "metadata": {},
   "source": [
    "**Method #2:** Using Heap (min-heap)\n",
    "- Time Complexity: `O(n * log k)`\n",
    "- Space Complexity: `O(k)`"
   ]
  },
  {
   "cell_type": "code",
   "execution_count": 21,
   "metadata": {},
   "outputs": [],
   "source": [
    "import heapq\n",
    "\n",
    "def find_k_largest_heap(arr, k):\n",
    "    pq = []                         # initialize an empty list to represent a min-heap (priority queue)\n",
    "    heapq.heapify(pq)               # convert the empty list into a heap, although not strictly necessary since it's empty\n",
    "    \n",
    "    for num in arr:\n",
    "        heapq.heappush(pq, num)     # push each element into the heap (min-heap property is maintained)\n",
    "        \n",
    "        if len(pq) > k:             # if the heap size exceeds k, remove the smallest element (root of the heap)\n",
    "            heapq.heappop(pq)       # this ensures only the k-largest elements remain in the heap\n",
    "    \n",
    "    return pq                       # return the heap, which contains the k-largest elements in arbitrary order"
   ]
  },
  {
   "cell_type": "code",
   "execution_count": 22,
   "metadata": {},
   "outputs": [
    {
     "data": {
      "text/plain": [
       "[50, 96, 88]"
      ]
     },
     "execution_count": 22,
     "metadata": {},
     "output_type": "execute_result"
    }
   ],
   "source": [
    "find_k_largest_heap(arr, k)"
   ]
  },
  {
   "cell_type": "code",
   "execution_count": null,
   "metadata": {},
   "outputs": [],
   "source": []
  }
 ],
 "metadata": {
  "kernelspec": {
   "display_name": ".aiop-venv",
   "language": "python",
   "name": "python3"
  },
  "language_info": {
   "codemirror_mode": {
    "name": "ipython",
    "version": 3
   },
   "file_extension": ".py",
   "mimetype": "text/x-python",
   "name": "python",
   "nbconvert_exporter": "python",
   "pygments_lexer": "ipython3",
   "version": "3.11.9"
  }
 },
 "nbformat": 4,
 "nbformat_minor": 2
}
