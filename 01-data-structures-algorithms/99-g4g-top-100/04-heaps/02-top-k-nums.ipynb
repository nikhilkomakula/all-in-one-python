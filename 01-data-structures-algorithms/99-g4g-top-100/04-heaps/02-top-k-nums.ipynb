{
 "cells": [
  {
   "cell_type": "markdown",
   "metadata": {},
   "source": [
    "## [Top K Frequent Elements in Array](https://www.geeksforgeeks.org/problems/top-k-frequent-elements-in-array/1)"
   ]
  },
  {
   "cell_type": "markdown",
   "metadata": {},
   "source": [
    "#### Given a non-empty array nums[] of integers of length N, find the top k elements which have the highest frequency in the array. If two numbers have same frequencies, then the larger number should be given more preference."
   ]
  },
  {
   "cell_type": "markdown",
   "metadata": {},
   "source": [
    "- Example 1:\n",
    "    - Input:\n",
    "    - N = 6\n",
    "    - nums = {1,1,1,2,2,3}\n",
    "    - k = 2\n",
    "    - Output: {1, 2}\n",
    "- Example 2:\n",
    "    - Input:\n",
    "    - N = 8\n",
    "    - nums = {1,1,2,2,3,3,3,4}\n",
    "    - k = 2\n",
    "    - Output: {3, 2}\n",
    "    - Explanation: Elements 1 and 2 have the same frequency ie. 2. Therefore, in this case, the answer includes the element 2 as 2 > 1."
   ]
  },
  {
   "cell_type": "markdown",
   "metadata": {},
   "source": [
    "**Method #1:** Sorting Method\n",
    "- Time Complexity: `O(n * log n)`\n",
    "- Space Complexity: `O(n)`"
   ]
  },
  {
   "cell_type": "code",
   "execution_count": 3,
   "metadata": {},
   "outputs": [],
   "source": [
    "def top_k_frequency_sort(arr, k):\n",
    "    freq_count = {}\n",
    "    for num in arr:\n",
    "        if num not in freq_count:\n",
    "            freq_count[num] = 1\n",
    "        else:\n",
    "            freq_count[num] += 1\n",
    "    num_count_arr = [(key, value) for key, value in freq_count.items()]\n",
    "    result = sorted(num_count_arr, key=lambda x: x[0], reverse=True)        # sort by num\n",
    "    result = sorted(result, key=lambda x: x[1], reverse=True)           # sort by count\n",
    "    return [num[0] for num in result][:k]"
   ]
  },
  {
   "cell_type": "code",
   "execution_count": 4,
   "metadata": {},
   "outputs": [],
   "source": [
    "arr = [1, 1, 2, 2, 3, 3, 3, 4]\n",
    "k = 2"
   ]
  },
  {
   "cell_type": "code",
   "execution_count": 5,
   "metadata": {},
   "outputs": [
    {
     "data": {
      "text/plain": [
       "[3, 2]"
      ]
     },
     "execution_count": 5,
     "metadata": {},
     "output_type": "execute_result"
    }
   ],
   "source": [
    "top_k_frequency_sort(arr, k)"
   ]
  },
  {
   "cell_type": "markdown",
   "metadata": {},
   "source": [
    "**Method #2:** Using max-heap\n",
    "- Time Complexity: `O(n * log k)`\n",
    "- Space Complexity: `O(n + k)`"
   ]
  },
  {
   "cell_type": "code",
   "execution_count": 17,
   "metadata": {},
   "outputs": [],
   "source": [
    "import heapq\n",
    "\n",
    "def top_k_frequency_heap_opt(arr, k):\n",
    "    # Step 1: Count frequencies of each element in the array\n",
    "    freq_count = {}\n",
    "    for num in arr:\n",
    "        if num not in freq_count:\n",
    "            freq_count[num] = 1\n",
    "        else:\n",
    "            freq_count[num] += 1\n",
    "    \n",
    "    # Step 2: Use a heap to keep track of the top k elements by frequency\n",
    "    heap = []\n",
    "    for key, value in freq_count.items():\n",
    "        heapq.heappush(heap, (value, key))                              # REMEMBER: Push (frequency, element) into the heap\n",
    "        \n",
    "        # If heap size exceeds k, remove the smallest element (min-heap)\n",
    "        if len(heap) > k:\n",
    "            heapq.heappop(heap)\n",
    "    \n",
    "    # Step 3: Extract the elements from the heap\n",
    "    return [x[1] for x in heapq.nlargest(k, heap)]  # Return elements in descending order by frequency"
   ]
  },
  {
   "cell_type": "code",
   "execution_count": 18,
   "metadata": {},
   "outputs": [
    {
     "data": {
      "text/plain": [
       "[3, 2]"
      ]
     },
     "execution_count": 18,
     "metadata": {},
     "output_type": "execute_result"
    }
   ],
   "source": [
    "top_k_frequency_heap_opt(arr, k)"
   ]
  },
  {
   "cell_type": "code",
   "execution_count": null,
   "metadata": {},
   "outputs": [],
   "source": []
  }
 ],
 "metadata": {
  "kernelspec": {
   "display_name": ".aiop-venv",
   "language": "python",
   "name": "python3"
  },
  "language_info": {
   "codemirror_mode": {
    "name": "ipython",
    "version": 3
   },
   "file_extension": ".py",
   "mimetype": "text/x-python",
   "name": "python",
   "nbconvert_exporter": "python",
   "pygments_lexer": "ipython3",
   "version": "3.11.9"
  }
 },
 "nbformat": 4,
 "nbformat_minor": 2
}
