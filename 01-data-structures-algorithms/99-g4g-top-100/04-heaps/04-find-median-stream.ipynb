{
 "cells": [
  {
   "cell_type": "markdown",
   "metadata": {},
   "source": [
    "## [Find Median from Running Data Stream](https://www.geeksforgeeks.org/median-of-stream-of-integers-running-integers/)"
   ]
  },
  {
   "cell_type": "markdown",
   "metadata": {},
   "source": [
    "#### Given that integers are read from a data stream. Find the median of elements read so far in an efficient way. \n",
    "\n",
    "There are two cases for median on the basis of data set size.\n",
    "\n",
    "If the data set has an odd number then the middle one will be consider as median.\n",
    "If the data set has an even number then there is no distinct middle value and the median will be the arithmetic mean of the two middle values."
   ]
  },
  {
   "cell_type": "markdown",
   "metadata": {},
   "source": [
    "- Example 1:\n",
    "    - Input Data Stream: 5, 15, 1, 3\n",
    "    - Output: 5, 10,5, 4\n",
    "    - Explanation:\n",
    "        - After reading 1st element of stream – 5 -> median = 5\n",
    "        - After reading 2nd element of stream – 5, 15 -> median = (5+15)/2 = 10\n",
    "        - After reading 3rd element of stream – 5, 15, 1 -> median = 5\n",
    "        - After reading 4th element of stream – 5, 15, 1, 3 -> median = (3+5)/2 = 4\n",
    "- Example 2:\n",
    "    - Input Data Stream: 2, 2, 2, 2\n",
    "    - Output: 2, 2, 2, 2\n",
    "    - Explanation:\n",
    "        - After reading 1st element of stream – 2 -> median = 2\n",
    "        - After reading 2nd element of stream – 2, 2 -> median = (2+2)/2 = 2\n",
    "        - After reading 3rd element of stream – 2, 2, 2 -> median = 2\n",
    "        - After reading 4th element of stream – 2, 2, 2, 2 -> median = (2+2)/2 = 2"
   ]
  },
  {
   "cell_type": "markdown",
   "metadata": {},
   "source": [
    "**Method #1:** Binary Search + Shifting Elements\n",
    "- Time Complexity: `O(n^2)`\n",
    "    - The time complexity of the binarySearch function is O(log n) because it is a binary search algorithm that divides the search space in half with each iteration. The time complexity of the printMedian function is O(n^2) because for each element in the input array, it performs a binary search to find the correct position to insert the element, which takes O(log n) time, and then shifts the elements to the right, which takes O(n) time in the worst case.\n",
    "- Space Complexity: `O(1)`\n",
    "    - The space complexity of both functions is O(1) because they do not use any extra space that grows with the input size."
   ]
  },
  {
   "cell_type": "code",
   "execution_count": 6,
   "metadata": {},
   "outputs": [],
   "source": [
    "# Function to find position to insert current element of\n",
    "# stream using binary search\n",
    "def binary_search(arr, item, low, high):\n",
    "\n",
    "\tif (low >= high):\n",
    "\t\treturn (low + 1) if (item > arr[low]) else low\n",
    "\n",
    "\tmid = (low + high) // 2\n",
    "\n",
    "\tif (item == arr[mid]):\n",
    "\t\treturn mid + 1\n",
    "\n",
    "\tif (item > arr[mid]):\n",
    "\t\treturn binary_search(arr, item, mid + 1, high)\n",
    "\n",
    "\treturn binary_search(arr, item, low, mid - 1)\n",
    "\n",
    "# Function to print median of stream of integers\n",
    "def print_median(arr, n):\n",
    "\n",
    "\ti, j, pos, num = 0, 0, 0, 0\n",
    "\tcount = 1\n",
    "\n",
    "\tprint(f\"Median after reading 1 element is {arr[0]}.0\")\n",
    "\n",
    "\tfor i in range(1, n):\n",
    "\t\tmedian = 0\n",
    "\t\tj = i - 1\n",
    "\t\tnum = arr[i]\n",
    "\n",
    "\t\t# find position to insert current element in sorted\n",
    "\t\t# part of array\n",
    "\t\tpos = binary_search(arr, num, 0, j)\n",
    "\n",
    "\t\t# move elements to right to create space to insert\n",
    "\t\t# the current element\n",
    "\t\twhile (j >= pos):\n",
    "\t\t\tarr[j + 1] = arr[j]\n",
    "\t\t\tj -= 1\n",
    "\n",
    "\t\tarr[j + 1] = num\n",
    "\n",
    "\t\t# increment count of sorted elements in array\n",
    "\t\tcount += 1\n",
    "\n",
    "\t\t# if odd number of integers are read from stream\n",
    "\t\t# then middle element in sorted order is median\n",
    "\t\t# else average of middle elements is median\n",
    "\t\tif (count % 2 != 0):\n",
    "\t\t\tmedian = arr[count // 2] / 1\n",
    "\n",
    "\t\telse:\n",
    "\t\t\tmedian = (arr[(count // 2) - 1] + arr[count // 2]) / 2\n",
    "\n",
    "\t\tprint(f\"Median after reading {i + 1} elements is {median} \")\n"
   ]
  },
  {
   "cell_type": "code",
   "execution_count": 7,
   "metadata": {},
   "outputs": [
    {
     "name": "stdout",
     "output_type": "stream",
     "text": [
      "Median after reading 1 element is 5.0\n",
      "Median after reading 2 elements is 10.0 \n",
      "Median after reading 3 elements is 5.0 \n",
      "Median after reading 4 elements is 4.0 \n",
      "Median after reading 5 elements is 3.0 \n",
      "Median after reading 6 elements is 4.0 \n",
      "Median after reading 7 elements is 5.0 \n",
      "Median after reading 8 elements is 6.0 \n",
      "Median after reading 9 elements is 7.0 \n",
      "Median after reading 10 elements is 6.5 \n",
      "Median after reading 11 elements is 7.0 \n",
      "Median after reading 12 elements is 6.5 \n"
     ]
    }
   ],
   "source": [
    "arr = [5, 15, 1, 3, 2, 8, 7, 9, 10, 6, 11, 4]\n",
    "n = len(arr)\n",
    "\n",
    "print_median(arr, n)"
   ]
  },
  {
   "cell_type": "markdown",
   "metadata": {},
   "source": [
    "**Method #2:** Using Heap\n",
    "- Time Complexity: `O(n * log n)`\n",
    "    - The time complexity of the given approach is O(N*log(N)), where N is the number of elements in the stream of data. This is because for each element in the stream, we perform heap operations which have a time complexity of O(log(N)).\n",
    "- Space Complexity: `O(n)`\n",
    "    - The space complexity of the approach is O(N), as we are storing all the elements of the stream in two min heaps of size N/2 each."
   ]
  },
  {
   "cell_type": "code",
   "execution_count": 8,
   "metadata": {},
   "outputs": [],
   "source": [
    "import heapq\n",
    "\n",
    "def find_median_stream_heap(arr):\n",
    "    max_heap = []  # stores the smaller half of numbers\n",
    "    min_heap = []  # stores the larger half of numbers\n",
    "    medians = []\n",
    "    \n",
    "    for num in arr:\n",
    "        # Add number to max_heap\n",
    "        heapq.heappush(max_heap, -num)\n",
    "        \n",
    "        # Balance heaps\n",
    "        heapq.heappush(min_heap, -heapq.heappop(max_heap))\n",
    "        if len(min_heap) > len(max_heap):\n",
    "            heapq.heappush(max_heap, -heapq.heappop(min_heap))\n",
    "        \n",
    "        # Calculate median\n",
    "        if len(max_heap) > len(min_heap):\n",
    "            median = -max_heap[0]\n",
    "        else:\n",
    "            median = (-max_heap[0] + min_heap[0]) / 2\n",
    "        medians.append(median)\n",
    "    \n",
    "    return medians"
   ]
  },
  {
   "cell_type": "code",
   "execution_count": 9,
   "metadata": {},
   "outputs": [],
   "source": [
    "# # heapq always implements min-heap. To make it max-heap, we negate the numbers before inserting\n",
    "# from heapq import heappush, heappop\n",
    "\n",
    "# # Function to find the median of stream of data\n",
    "# def find_median_stream_heap(arr):\n",
    "#     # Declaring two heaps:\n",
    "#     max_heap = []  # Max-heap (negated) for the smaller half (left side)\n",
    "#     min_heap = []  # Min-heap for the larger half (right side)\n",
    "    \n",
    "#     for i in range(len(arr)):\n",
    "#         # Add new element to the max-heap (negated to act as max-heap)\n",
    "#         heappush(max_heap, -arr[i])                                                         # check the '-' sign\n",
    "\n",
    "#         # Balance the heaps by moving the largest in max_heap to min_heap\n",
    "#         heappush(min_heap, -heappop(max_heap))                                              # check the '-' sign\n",
    "\n",
    "#         # If the min-heap has more elements, move the smallest from min_heap to max_heap\n",
    "#         if len(min_heap) > len(max_heap):\n",
    "#             heappush(max_heap, -heappop(min_heap))                                          # check the '-' sign\n",
    "\n",
    "#         # Print the median\n",
    "#         if len(max_heap) > len(min_heap):  # Max-heap has the median\n",
    "#             print(-max_heap[0])\n",
    "#         else:  # Even number of elements, median is the average of tops of both heaps\n",
    "#             print((-max_heap[0] + min_heap[0]) / 2)"
   ]
  },
  {
   "cell_type": "code",
   "execution_count": 10,
   "metadata": {},
   "outputs": [
    {
     "data": {
      "text/plain": [
       "[1, 1.5, 2, 2.5, 3, 3.5, 4, 4.5, 5, 5.5, 6, 6.5]"
      ]
     },
     "execution_count": 10,
     "metadata": {},
     "output_type": "execute_result"
    }
   ],
   "source": [
    "find_median_stream_heap(arr)"
   ]
  },
  {
   "cell_type": "code",
   "execution_count": null,
   "metadata": {},
   "outputs": [],
   "source": []
  }
 ],
 "metadata": {
  "kernelspec": {
   "display_name": ".aiop-venv",
   "language": "python",
   "name": "python3"
  },
  "language_info": {
   "codemirror_mode": {
    "name": "ipython",
    "version": 3
   },
   "file_extension": ".py",
   "mimetype": "text/x-python",
   "name": "python",
   "nbconvert_exporter": "python",
   "pygments_lexer": "ipython3",
   "version": "3.11.9"
  }
 },
 "nbformat": 4,
 "nbformat_minor": 2
}
