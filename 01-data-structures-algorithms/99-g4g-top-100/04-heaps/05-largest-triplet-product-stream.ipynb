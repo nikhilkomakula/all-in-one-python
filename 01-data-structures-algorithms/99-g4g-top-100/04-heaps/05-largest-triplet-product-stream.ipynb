{
 "cells": [
  {
   "cell_type": "markdown",
   "metadata": {},
   "source": [
    "## [Largest triplet product in a stream](https://www.geeksforgeeks.org/largest-triplet-product-stream/)"
   ]
  },
  {
   "cell_type": "markdown",
   "metadata": {},
   "source": [
    "#### Given a stream of integers represented as arr[]. For each index i from 0 to n-1, print the multiplication of largest, second largest, third largest element of the subarray arr[0…i]. If i < 2 print -1. "
   ]
  },
  {
   "cell_type": "markdown",
   "metadata": {},
   "source": [
    "- Example 1:\n",
    "    - Input : arr[] = {1, 2, 3, 4, 5}\n",
    "    - Output :\n",
    "        - -1\n",
    "        - -1\n",
    "        - 6\n",
    "        - 24\n",
    "        - 60\n",
    "    - Explanation : for i = 2 only three elements are there {1, 2, 3} so answer is 6. For i = 3 largest three elements are {2, 3, } their product is 2 * 3 * 4 = 24 ....so on  "
   ]
  },
  {
   "cell_type": "markdown",
   "metadata": {},
   "source": [
    "**`heapq` in Python implements a `min-heap` by default**"
   ]
  },
  {
   "cell_type": "markdown",
   "metadata": {},
   "source": [
    "**Method #1:** Using Heap (min-heap)\n",
    "- Time Complexity: `O(n * log k)`\n",
    "- Space Complexity: `O(k)`"
   ]
  },
  {
   "cell_type": "code",
   "execution_count": 32,
   "metadata": {},
   "outputs": [],
   "source": [
    "from heapq import heappush, heappop\n",
    "\n",
    "def largest_triplet_product_stream_heap_1(arr):\n",
    "    pq = []  # Min-heap to store the largest three elements\n",
    "\n",
    "    for num in arr:\n",
    "        # Push the number into the heap\n",
    "        heappush(pq, num)\n",
    "        \n",
    "        # Keep only the three largest elements in the heap\n",
    "        if len(pq) > 3:\n",
    "            heappop(pq)  # Remove the smallest element\n",
    "\n",
    "    # If we have at least three elements, compute the product of the largest three\n",
    "    if len(pq) == 3:\n",
    "        return pq[0] * pq[1] * pq[2]\n",
    "        \n",
    "    return -1  # Not enough elements to form a triplet"
   ]
  },
  {
   "cell_type": "code",
   "execution_count": 28,
   "metadata": {},
   "outputs": [],
   "source": [
    "arr = [1, 2, 3, 4, 5]\n",
    "arr = [10, 3, 5, 6, 20]"
   ]
  },
  {
   "cell_type": "code",
   "execution_count": 33,
   "metadata": {},
   "outputs": [
    {
     "data": {
      "text/plain": [
       "1200"
      ]
     },
     "execution_count": 33,
     "metadata": {},
     "output_type": "execute_result"
    }
   ],
   "source": [
    "largest_triplet_product_stream_heap_1(arr)"
   ]
  },
  {
   "cell_type": "code",
   "execution_count": null,
   "metadata": {},
   "outputs": [],
   "source": []
  }
 ],
 "metadata": {
  "kernelspec": {
   "display_name": ".aiop-venv",
   "language": "python",
   "name": "python3"
  },
  "language_info": {
   "codemirror_mode": {
    "name": "ipython",
    "version": 3
   },
   "file_extension": ".py",
   "mimetype": "text/x-python",
   "name": "python",
   "nbconvert_exporter": "python",
   "pygments_lexer": "ipython3",
   "version": "3.11.9"
  }
 },
 "nbformat": 4,
 "nbformat_minor": 2
}
