{
 "cells": [
  {
   "cell_type": "markdown",
   "metadata": {},
   "source": [
    "## Top K Frequent Strings"
   ]
  },
  {
   "cell_type": "markdown",
   "metadata": {},
   "source": [
    "Find the k most frequently occurring strings in an array, and return them sorted by frequency in descending order. If two strings have the same frequency, sort them in lexicographical order."
   ]
  },
  {
   "cell_type": "markdown",
   "metadata": {},
   "source": [
    "- Example:\n",
    "    - Input: strs = ['go', 'coding', 'byte', 'byte', 'go', 'interview', 'go'], k = 2\n",
    "    - Output: ['go', 'byte']\n",
    "    - Explanation: The strings \"go\" and \"byte\" appear the most frequently, with frequencies of 3 and 2, respectively."
   ]
  },
  {
   "cell_type": "markdown",
   "metadata": {},
   "source": [
    "**Method #1:** Iterative approach\n",
    "- Time Complexity: `O(n * log n)`\n",
    "- Space Complexity: `O(m), which can be O(n) in the worst case.`\n",
    "    - `m` is number of unique words"
   ]
  },
  {
   "cell_type": "code",
   "execution_count": 18,
   "metadata": {},
   "outputs": [],
   "source": [
    "def kMostFrequent_wo_heap(arr, k):\n",
    "    # Simplify dictionary creation using get()\n",
    "    str_freq = {}\n",
    "    for word in arr:\n",
    "        str_freq[word] = str_freq.get(word, 0) + 1\n",
    "    \n",
    "    # Create list of tuples (freq, word) and sort by both criteria at once\n",
    "    result = [(freq, word) for word, freq in str_freq.items()]\n",
    "    result = sorted(result, key=lambda x: (-x[0], x[1]))                    # REMEMBER\n",
    "    \n",
    "    # Extract just the words from the sorted list\n",
    "    return [word for freq, word in result[:k]]"
   ]
  },
  {
   "cell_type": "code",
   "execution_count": 19,
   "metadata": {},
   "outputs": [],
   "source": [
    "strs = [\"byte\",\"byte\",\"go\",\"city\"]\n",
    "k = 2"
   ]
  },
  {
   "cell_type": "code",
   "execution_count": 20,
   "metadata": {},
   "outputs": [
    {
     "data": {
      "text/plain": [
       "['byte', 'city']"
      ]
     },
     "execution_count": 20,
     "metadata": {},
     "output_type": "execute_result"
    }
   ],
   "source": [
    "kMostFrequent_wo_heap(strs, k)"
   ]
  },
  {
   "cell_type": "markdown",
   "metadata": {},
   "source": [
    "**Method #2:** Heap approach\n",
    "- Time Complexity: `O(k * log n)`\n",
    "- Space Complexity: `O(n)`"
   ]
  },
  {
   "cell_type": "code",
   "execution_count": 21,
   "metadata": {},
   "outputs": [],
   "source": [
    "import heapq\n",
    "from collections import Counter\n",
    "\n",
    "def kMostFrequent_w_heap(words, k: int):\n",
    "    #Have a dict of word and its freq\n",
    "    counts = Counter(words)\n",
    "    \n",
    "    #get a array wchich will have a tuple of word and count\n",
    "    heap = [(-count, word) for word, count in counts.items()]           # REMEMBER\n",
    "    \n",
    "    #as default heap structure in python min heap and we want max heap\n",
    "    # to get top frequent word, we will do a make the counter negative\n",
    "    #so that the topmost element will come up (i.e -8 < -2 so in min heap -8 will come up wich is actually 8)    \n",
    "    heapq.heapify(heap) #creating heap in place by deualt it will sort by fre then word\n",
    "    \n",
    "    return [heapq.heappop(heap)[1] for _ in range(k)]                   # REMEMBER"
   ]
  },
  {
   "cell_type": "code",
   "execution_count": 22,
   "metadata": {},
   "outputs": [
    {
     "data": {
      "text/plain": [
       "['byte', 'city']"
      ]
     },
     "execution_count": 22,
     "metadata": {},
     "output_type": "execute_result"
    }
   ],
   "source": [
    "kMostFrequent_w_heap(strs, k)"
   ]
  },
  {
   "cell_type": "markdown",
   "metadata": {},
   "source": [
    "`Simplified Code:`"
   ]
  },
  {
   "cell_type": "code",
   "execution_count": 23,
   "metadata": {},
   "outputs": [
    {
     "name": "stdout",
     "output_type": "stream",
     "text": [
      "['go', 'byte']\n",
      "['go', 'byte']\n"
     ]
    }
   ],
   "source": [
    "from heapq import heappush, heappop, heapify\n",
    "\n",
    "arr = ['go', 'coding', 'byte', 'byte', 'go', 'interview', 'go']\n",
    "k = 2\n",
    "\n",
    "def top_freq(arr, k):\n",
    "    wrd_freq = {}\n",
    "    for wrd in arr:\n",
    "        wrd_freq[wrd] = wrd_freq.get(wrd, 0) + 1\n",
    "    \n",
    "    result = [(freq, wrd) for wrd, freq in wrd_freq.items()]\n",
    "    result = sorted(result, key=lambda x: (-x[0], x[1]))\n",
    "    \n",
    "    return [x[1] for x in result[:k]]\n",
    "    \n",
    "print(top_freq(arr, k))\n",
    "\n",
    "def top_freq_heap(arr, k):\n",
    "    wrd_freq = {}\n",
    "    for wrd in arr:\n",
    "        wrd_freq[wrd] = wrd_freq.get(wrd, 0) + 1\n",
    "        \n",
    "    pq = [(-freq, wrd) for wrd, freq in wrd_freq.items()]\n",
    "    heapify(pq)\n",
    "    \n",
    "    return [heappop(pq)[1] for _ in range(k)]\n",
    "\n",
    "print(top_freq_heap(arr, k))"
   ]
  },
  {
   "cell_type": "code",
   "execution_count": 24,
   "metadata": {},
   "outputs": [],
   "source": [
    "# from collections import Counter\n",
    "# from heapq import heappush, heappop\n",
    "\n",
    "# def kMostFrequent_w_heap(strs, k):\n",
    "#     # Count frequency of each string\n",
    "#     freq = Counter(strs)\n",
    "    \n",
    "#     # Create a min heap\n",
    "#     heap = []\n",
    "    \n",
    "#     # Process each string and its frequency\n",
    "#     for word, count in freq.items():\n",
    "#         # Store as tuple of (-count, word) for correct ordering\n",
    "#         heappush(heap, (-count, word))                              # REMEMBER\n",
    "    \n",
    "#     # Extract k most frequent strings\n",
    "#     result = []\n",
    "#     for _ in range(k):\n",
    "#         count, word = heappop(heap)\n",
    "#         result.append(word)\n",
    "    \n",
    "#     return result"
   ]
  }
 ],
 "metadata": {
  "kernelspec": {
   "display_name": ".aiop-venv",
   "language": "python",
   "name": "python3"
  },
  "language_info": {
   "codemirror_mode": {
    "name": "ipython",
    "version": 3
   },
   "file_extension": ".py",
   "mimetype": "text/x-python",
   "name": "python",
   "nbconvert_exporter": "python",
   "pygments_lexer": "ipython3",
   "version": "3.11.9"
  }
 },
 "nbformat": 4,
 "nbformat_minor": 2
}
