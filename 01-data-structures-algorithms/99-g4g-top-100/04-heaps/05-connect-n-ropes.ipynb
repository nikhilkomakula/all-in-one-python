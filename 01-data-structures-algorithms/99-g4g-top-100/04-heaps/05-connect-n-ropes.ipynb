{
 "cells": [
  {
   "cell_type": "markdown",
   "metadata": {},
   "source": [
    "## [Connect n ropes with minimum cost](https://www.geeksforgeeks.org/connect-n-ropes-minimum-cost/)"
   ]
  },
  {
   "cell_type": "markdown",
   "metadata": {},
   "source": [
    "#### Given are N ropes of different lengths, the task is to connect these ropes into one rope with minimum cost, such that the cost to connect two ropes is equal to the sum of their lengths."
   ]
  },
  {
   "cell_type": "markdown",
   "metadata": {},
   "source": [
    "- Example 1:\n",
    "    - Input: arr[] = {4,3,2,6} , N = 4\n",
    "    - Output: 29\n",
    "    - Explanation: First, connect ropes of lengths 2 and 3. Now we have three ropes of lengths 4, 6, and 5. Now connect ropes of lengths 4 and 5. Now we have two ropes of lengths 6 and 9. Finally connect the two ropes and all ropes have connected."
   ]
  },
  {
   "cell_type": "markdown",
   "metadata": {},
   "source": [
    "**Method #1:** Using Heap (min-heap)\n",
    "- Time Complexity: `O(n * log n)`\n",
    "    - The time complexity of this function is O(n log n), where n is the number of elements in the input array. This is because we are using a heap data structure to efficiently find and merge the two smallest elements in the array at each step. The heap operations of heappop and heappush have a time complexity of O(log n), and we perform these operations n-1 times in the worst case.\n",
    "- Space Complexity: `O(n)`\n",
    "    - The space complexity of this function is O(n) because we are using a heap data structure to store the elements of the input array. This heap will have a maximum size of n elements, as we are adding and removing elements from it during the execution of the function."
   ]
  },
  {
   "cell_type": "code",
   "execution_count": 1,
   "metadata": {},
   "outputs": [],
   "source": [
    "from heapq import heapify, heappush, heappop\n",
    "\n",
    "def connect_n_reports_min_cost(arr):\n",
    "    heapify(arr)                    # no return type\n",
    "    cost = 0\n",
    "    while len(arr) > 1:             # there should be at least 2 element to find the cost (a + b)\n",
    "        first = heappop(arr)\n",
    "        second = heappop(arr)\n",
    "        cost += first + second\n",
    "        heappush(arr, first + second)\n",
    "    return cost"
   ]
  },
  {
   "cell_type": "code",
   "execution_count": 2,
   "metadata": {},
   "outputs": [],
   "source": [
    "arr = [4, 3, 2, 6]"
   ]
  },
  {
   "cell_type": "code",
   "execution_count": 3,
   "metadata": {},
   "outputs": [
    {
     "data": {
      "text/plain": [
       "29"
      ]
     },
     "execution_count": 3,
     "metadata": {},
     "output_type": "execute_result"
    }
   ],
   "source": [
    "connect_n_reports_min_cost(arr)"
   ]
  },
  {
   "cell_type": "code",
   "execution_count": null,
   "metadata": {},
   "outputs": [],
   "source": []
  }
 ],
 "metadata": {
  "kernelspec": {
   "display_name": ".aiop-venv",
   "language": "python",
   "name": "python3"
  },
  "language_info": {
   "codemirror_mode": {
    "name": "ipython",
    "version": 3
   },
   "file_extension": ".py",
   "mimetype": "text/x-python",
   "name": "python",
   "nbconvert_exporter": "python",
   "pygments_lexer": "ipython3",
   "version": "3.11.9"
  }
 },
 "nbformat": 4,
 "nbformat_minor": 2
}
