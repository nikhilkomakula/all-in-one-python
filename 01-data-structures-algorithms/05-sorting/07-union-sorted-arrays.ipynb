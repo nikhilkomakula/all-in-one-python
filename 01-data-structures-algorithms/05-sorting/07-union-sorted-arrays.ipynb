{
 "cells": [
  {
   "cell_type": "markdown",
   "metadata": {},
   "source": [
    "## Union Sorted Arrays\n",
    "Given two sorted arrays containing duplicates, print unique elements in sorted order"
   ]
  },
  {
   "cell_type": "markdown",
   "metadata": {},
   "source": [
    "**Method #1:** Naive Approach\n",
    "- Time Complexity : `O(n * logn)`\n",
    "- Space Complexity : `O(n)`"
   ]
  },
  {
   "cell_type": "code",
   "execution_count": 3,
   "metadata": {},
   "outputs": [],
   "source": [
    "def union_sorted_arrays_na(arr1, arr2):\n",
    "    arr = arr1 + arr2\n",
    "    arr.sort()\n",
    "    for i in range(len(arr)):\n",
    "        if i == 0 or arr[i] != arr[i-1]:\n",
    "            print(arr[i], end=\" \")"
   ]
  },
  {
   "cell_type": "code",
   "execution_count": 4,
   "metadata": {},
   "outputs": [
    {
     "name": "stdout",
     "output_type": "stream",
     "text": [
      "2 3 4 "
     ]
    }
   ],
   "source": [
    "arr1 = [2, 4]\n",
    "arr2 = [3, 4]\n",
    "union_sorted_arrays_na(arr1, arr2)"
   ]
  },
  {
   "cell_type": "markdown",
   "metadata": {},
   "source": [
    "**Method #2:** Optimized Approach\n",
    "- Time Complexity: `O(m+n)`\n",
    "- Space Complexity: `O(1)`"
   ]
  },
  {
   "cell_type": "code",
   "execution_count": 13,
   "metadata": {},
   "outputs": [],
   "source": [
    "def union_sorted_arrays_opt(arr1, arr2):\n",
    "    i = j = 0\n",
    "    previous = None\n",
    "    while i < len(arr1) and j < len(arr2):\n",
    "        if arr1[i] < arr2[j]:\n",
    "            if previous != arr1[i]:\n",
    "                previous = arr1[i]\n",
    "                print(arr1[i], end=\" \")\n",
    "            i += 1\n",
    "        else:\n",
    "            if previous != arr2[j]:\n",
    "                previous = arr2[j]\n",
    "                print(arr2[j], end=\" \")\n",
    "            j += 1\n",
    "    while i < len(arr1):\n",
    "        if previous != arr1[i]:\n",
    "            previous = arr1[i]\n",
    "            print(arr1[i], end=\" \")\n",
    "            i += 1\n",
    "    while j < len(arr2):\n",
    "        if previous != arr2[j]:\n",
    "            previous = arr2[j]\n",
    "            print(arr2[j], end=\" \")\n",
    "            j += 1"
   ]
  },
  {
   "cell_type": "code",
   "execution_count": 14,
   "metadata": {},
   "outputs": [
    {
     "name": "stdout",
     "output_type": "stream",
     "text": [
      "1 2 3 4 6 7 "
     ]
    }
   ],
   "source": [
    "arr1 = [1, 3, 3, 7]\n",
    "arr2 = [2, 4, 6, 6]\n",
    "union_sorted_arrays_opt(arr1, arr2)"
   ]
  },
  {
   "cell_type": "code",
   "execution_count": null,
   "metadata": {},
   "outputs": [],
   "source": []
  }
 ],
 "metadata": {
  "kernelspec": {
   "display_name": ".aiop-venv",
   "language": "python",
   "name": "python3"
  },
  "language_info": {
   "codemirror_mode": {
    "name": "ipython",
    "version": 3
   },
   "file_extension": ".py",
   "mimetype": "text/x-python",
   "name": "python",
   "nbconvert_exporter": "python",
   "pygments_lexer": "ipython3",
   "version": "3.12.1"
  }
 },
 "nbformat": 4,
 "nbformat_minor": 2
}
