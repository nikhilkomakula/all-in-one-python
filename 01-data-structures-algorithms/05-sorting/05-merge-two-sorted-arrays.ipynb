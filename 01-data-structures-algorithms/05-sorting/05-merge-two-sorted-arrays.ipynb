{
 "cells": [
  {
   "cell_type": "markdown",
   "metadata": {},
   "source": [
    "## Merge two sorted arrays"
   ]
  },
  {
   "cell_type": "markdown",
   "metadata": {},
   "source": [
    "**Method #1:** Naive Approach\n",
    "- Time Complexity: `O(n * log n)`\n",
    "- Space Complexity: `O(n)`"
   ]
  },
  {
   "cell_type": "code",
   "execution_count": 22,
   "metadata": {},
   "outputs": [],
   "source": [
    "def merge_two_sorted_arrays_na(arr1: list, arr2: list) -> list:\n",
    "    result = arr1 + arr2\n",
    "    result.sort()\n",
    "    return result"
   ]
  },
  {
   "cell_type": "code",
   "execution_count": 23,
   "metadata": {},
   "outputs": [
    {
     "data": {
      "text/plain": [
       "[1, 2, 3, 4, 5, 6, 7, 8, 9]"
      ]
     },
     "execution_count": 23,
     "metadata": {},
     "output_type": "execute_result"
    }
   ],
   "source": [
    "arr1 = [1, 3, 5, 7, 9]\n",
    "arr2 = [2, 4, 6, 8]\n",
    "merge_two_sorted_arrays_na(arr1, arr2)"
   ]
  },
  {
   "cell_type": "markdown",
   "metadata": {},
   "source": [
    "**Method #2:** Better Approach\n",
    "- Time Complexity: `O(n+m)`\n",
    "- Space Complexity: `O(n+m)`"
   ]
  },
  {
   "cell_type": "code",
   "execution_count": 24,
   "metadata": {},
   "outputs": [],
   "source": [
    "def merge_two_sorted_arrays_ba(arr1: list, arr2: list) -> list:\n",
    "    result = []\n",
    "    i, j = 0, 0\n",
    "    for _ in range(len(arr1)+len(arr2)):\n",
    "        if i < len(arr1) and j < len(arr2):\n",
    "            if arr1[i] < arr2[j]:\n",
    "                result.append(arr1[i])\n",
    "                i += 1\n",
    "            else:\n",
    "                result.append(arr2[j])\n",
    "                j += 1\n",
    "        else:\n",
    "            if i == len(arr1):\n",
    "                result.append(arr2[j])\n",
    "                j += 1\n",
    "            elif j == len(arr2):\n",
    "                result.append(arr1[i])\n",
    "                i += 1\n",
    "    return result"
   ]
  },
  {
   "cell_type": "code",
   "execution_count": 25,
   "metadata": {},
   "outputs": [
    {
     "data": {
      "text/plain": [
       "[1, 2, 3, 4, 5, 6, 7, 8, 9]"
      ]
     },
     "execution_count": 25,
     "metadata": {},
     "output_type": "execute_result"
    }
   ],
   "source": [
    "arr1 = [1, 3, 5, 7, 9]\n",
    "arr2 = [2, 4, 6, 8]\n",
    "merge_two_sorted_arrays_ba(arr1, arr2)"
   ]
  },
  {
   "cell_type": "markdown",
   "metadata": {},
   "source": [
    "**Method #3:** Optimized Approach\n",
    "- Time Complexity: `O(n+m)`\n",
    "- Space Complexity: `O(n)`"
   ]
  },
  {
   "cell_type": "code",
   "execution_count": 31,
   "metadata": {},
   "outputs": [],
   "source": [
    "def merge_two_sorted_arrays_opt(arr1: list, arr2: list) -> list:\n",
    "    p1, p2 = len(arr1)-1, len(arr2)-1\n",
    "    arr1 += [0] * len(arr2)\n",
    "    p = len(arr1)-1\n",
    "    for i in range(len(arr1)):\n",
    "        if p2 < 0:                          # IMPORTANT\n",
    "            break\n",
    "        if p1 >=0 and arr1[p1] > arr2[p2]:  # IMPORTANT\n",
    "            arr1[p] = arr1[p1]\n",
    "            p1 -= 1\n",
    "        else:\n",
    "            arr1[p] = arr2[p2]\n",
    "            p2 -= 1\n",
    "        p -= 1\n",
    "    return arr1"
   ]
  },
  {
   "cell_type": "code",
   "execution_count": 32,
   "metadata": {},
   "outputs": [
    {
     "data": {
      "text/plain": [
       "[23, 32, 33, 35, 41, 44, 47, 49, 50, 51, 56, 61, 91, 99, 105]"
      ]
     },
     "execution_count": 32,
     "metadata": {},
     "output_type": "execute_result"
    }
   ],
   "source": [
    "arr1 = [23, 33, 35, 41, 44, 47, 56, 91, 105]\n",
    "arr2 = [32, 49, 50, 51, 61, 99]\n",
    "merge_two_sorted_arrays_opt(arr1, arr2)"
   ]
  },
  {
   "cell_type": "code",
   "execution_count": null,
   "metadata": {},
   "outputs": [],
   "source": []
  }
 ],
 "metadata": {
  "kernelspec": {
   "display_name": ".aiop-venv",
   "language": "python",
   "name": "python3"
  },
  "language_info": {
   "codemirror_mode": {
    "name": "ipython",
    "version": 3
   },
   "file_extension": ".py",
   "mimetype": "text/x-python",
   "name": "python",
   "nbconvert_exporter": "python",
   "pygments_lexer": "ipython3",
   "version": "3.12.1"
  }
 },
 "nbformat": 4,
 "nbformat_minor": 2
}
