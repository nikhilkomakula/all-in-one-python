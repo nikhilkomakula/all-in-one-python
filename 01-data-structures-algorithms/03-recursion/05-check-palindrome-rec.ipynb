{
 "cells": [
  {
   "cell_type": "markdown",
   "metadata": {},
   "source": [
    "## Check if a given `string` is a palindrome using recursion"
   ]
  },
  {
   "cell_type": "markdown",
   "metadata": {},
   "source": [
    "- Time Complexity : `O(n)`\n",
    "    - The time complexity of this function is O(n) where n is the length of the substring being checked for palindrome. This is because the function recursively checks each character in the substring once.\n",
    "- Space Complexity: `O(n)`\n",
    "    - The space complexity of this function is also O(n) because the function uses recursion and each recursive call adds a new frame to the call stack, which takes up space. The maximum depth of the call stack is equal to the length of the substring being checked for palindrome.\n"
   ]
  },
  {
   "cell_type": "code",
   "execution_count": 9,
   "metadata": {},
   "outputs": [],
   "source": [
    "def is_palindrome_str(string: str, start: int, end: int) -> bool:\n",
    "    if start >= end:\n",
    "        return True\n",
    "    return (string[start] == string[end]) and is_palindrome_str(string, start+1, end-1)"
   ]
  },
  {
   "cell_type": "code",
   "execution_count": 10,
   "metadata": {},
   "outputs": [
    {
     "data": {
      "text/plain": [
       "True"
      ]
     },
     "execution_count": 10,
     "metadata": {},
     "output_type": "execute_result"
    }
   ],
   "source": [
    "string = \"abba\"\n",
    "is_palindrome_str(string, 0, len(string)-1)"
   ]
  },
  {
   "cell_type": "code",
   "execution_count": 11,
   "metadata": {},
   "outputs": [
    {
     "data": {
      "text/plain": [
       "True"
      ]
     },
     "execution_count": 11,
     "metadata": {},
     "output_type": "execute_result"
    }
   ],
   "source": [
    "string = \"abcba\"\n",
    "is_palindrome_str(string, 0, len(string)-1)"
   ]
  },
  {
   "cell_type": "code",
   "execution_count": 12,
   "metadata": {},
   "outputs": [
    {
     "data": {
      "text/plain": [
       "False"
      ]
     },
     "execution_count": 12,
     "metadata": {},
     "output_type": "execute_result"
    }
   ],
   "source": [
    "string = \"abc\"\n",
    "is_palindrome_str(string, 0, len(string)-1)"
   ]
  },
  {
   "cell_type": "markdown",
   "metadata": {},
   "source": [
    "## Check if a given `number` is a palindrome using recursion"
   ]
  },
  {
   "cell_type": "markdown",
   "metadata": {},
   "source": [
    "- Time Complexity : `O(log n)`\n",
    "    - The time complexity of this function is O(log n) where n is the input number. This is because the function recursively divides the input number by 10 until it reaches 0, which requires log n recursive calls.\n",
    "- Space Complexity : `O(log n)`\n",
    "    - The space complexity of this function is also O(log n) because the function uses recursion and each recursive call adds a new frame to the call stack, which requires O(log n) space."
   ]
  },
  {
   "cell_type": "code",
   "execution_count": 29,
   "metadata": {},
   "outputs": [],
   "source": [
    "def reverse_num(num: int, temp: int = 0): \n",
    " \n",
    "    if (num == 0): \n",
    "        return temp; \n",
    "    \n",
    "    # stores the reverse of a number \n",
    "    temp = (temp * 10) + (num % 10); \n",
    "    \n",
    "    return reverse_num(num // 10, temp);"
   ]
  },
  {
   "cell_type": "code",
   "execution_count": 30,
   "metadata": {},
   "outputs": [
    {
     "data": {
      "text/plain": [
       "True"
      ]
     },
     "execution_count": 30,
     "metadata": {},
     "output_type": "execute_result"
    }
   ],
   "source": [
    "num = 1221\n",
    "num == reverse_num(num)"
   ]
  },
  {
   "cell_type": "code",
   "execution_count": 32,
   "metadata": {},
   "outputs": [
    {
     "data": {
      "text/plain": [
       "False"
      ]
     },
     "execution_count": 32,
     "metadata": {},
     "output_type": "execute_result"
    }
   ],
   "source": [
    "num = 1234\n",
    "num == reverse_num(num)"
   ]
  },
  {
   "cell_type": "code",
   "execution_count": null,
   "metadata": {},
   "outputs": [],
   "source": []
  }
 ],
 "metadata": {
  "kernelspec": {
   "display_name": ".aiop-venv",
   "language": "python",
   "name": "python3"
  },
  "language_info": {
   "codemirror_mode": {
    "name": "ipython",
    "version": 3
   },
   "file_extension": ".py",
   "mimetype": "text/x-python",
   "name": "python",
   "nbconvert_exporter": "python",
   "pygments_lexer": "ipython3",
   "version": "3.12.1"
  }
 },
 "nbformat": 4,
 "nbformat_minor": 2
}
