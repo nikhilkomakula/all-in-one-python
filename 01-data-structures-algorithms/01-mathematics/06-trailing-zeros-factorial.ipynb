{
 "cells": [
  {
   "cell_type": "markdown",
   "metadata": {},
   "source": [
    "## Trailing Zeros in Factorial"
   ]
  },
  {
   "cell_type": "markdown",
   "metadata": {},
   "source": [
    "**Examples :**\n",
    "```\n",
    "Input: n = 5\n",
    "Output: 1 \n",
    "Factorial of 5 is 120 which has one trailing 0.\n",
    "\n",
    "Input: n = 20\n",
    "Output: 4\n",
    "Factorial of 20 is 2432902008176640000 which has 4 trailing zeroes.\n",
    "\n",
    "Input: n = 100\n",
    "Output: 24\n",
    "```"
   ]
  },
  {
   "cell_type": "markdown",
   "metadata": {},
   "source": [
    "**Catch :**\n",
    "- Trailing 0s in n! \n",
    "    - = Count of 5s in prime factors of n!\n",
    "    - = floor(n/5) + floor(n/25) + floor(n/125) + ...."
   ]
  },
  {
   "cell_type": "code",
   "execution_count": 1,
   "metadata": {},
   "outputs": [],
   "source": [
    "def find_trailing_zeros(n):\n",
    "\t\n",
    "\t# Initialize result\n",
    "\tcount = 0\n",
    "\n",
    "\t# Keep dividing n by\n",
    "\t# powers of 5 and\n",
    "\t# update Count\n",
    "\ti = 5\n",
    "\twhile (n / i >= 1):\n",
    "\t\tcount += int(n / i)\n",
    "\t\ti *= 5\n",
    "\n",
    "\treturn int(count)"
   ]
  },
  {
   "cell_type": "code",
   "execution_count": 3,
   "metadata": {},
   "outputs": [
    {
     "name": "stdout",
     "output_type": "stream",
     "text": [
      "0\n",
      "0\n",
      "1\n",
      "2\n",
      "4\n",
      "6\n"
     ]
    }
   ],
   "source": [
    "print(find_trailing_zeros(0))\n",
    "print(find_trailing_zeros(1))\n",
    "print(find_trailing_zeros(5))\n",
    "print(find_trailing_zeros(10))\n",
    "print(find_trailing_zeros(20))\n",
    "print(find_trailing_zeros(25))"
   ]
  },
  {
   "cell_type": "code",
   "execution_count": null,
   "metadata": {},
   "outputs": [],
   "source": []
  }
 ],
 "metadata": {
  "kernelspec": {
   "display_name": ".aiop-venv",
   "language": "python",
   "name": "python3"
  },
  "language_info": {
   "codemirror_mode": {
    "name": "ipython",
    "version": 3
   },
   "file_extension": ".py",
   "mimetype": "text/x-python",
   "name": "python",
   "nbconvert_exporter": "python",
   "pygments_lexer": "ipython3",
   "version": "3.12.1"
  }
 },
 "nbformat": 4,
 "nbformat_minor": 2
}
