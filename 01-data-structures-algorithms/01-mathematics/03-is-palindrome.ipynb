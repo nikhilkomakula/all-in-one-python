{
 "cells": [
  {
   "cell_type": "markdown",
   "metadata": {},
   "source": [
    "## Check if a given \"number\" is palindrome"
   ]
  },
  {
   "cell_type": "markdown",
   "metadata": {},
   "source": [
    "- Time Complexity - `O(log n)`\n",
    "    - Note: It is `O(log n)` because the number of iterations required to reverse a number is dependent on the number of digits in the given number. For example, if number is 123, then the below code would run for 3 iterations. As 100 (multiples of 10) is closest to 123, then if you do `(log10 100) + 1`, then you get `3`.\n",
    "    - Q: if the number of iterations is directly related to the number of digits, why can't we just say that it's O(n) where n is the number of digits and not the number itself?\n",
    "    - A: You could. But the big O notation was expressed in terms of the number, not the number of digits. So to get the number of digits you need to take the Log of the number.\n",
    "    - https://stackoverflow.com/questions/59851998/why-is-this-solution-to-reverse-integer-leet-code-olog10n\n",
    "- Space Complexity - `O(1)`"
   ]
  },
  {
   "cell_type": "code",
   "execution_count": 1,
   "metadata": {},
   "outputs": [],
   "source": [
    "def is_palindrome_num(num: int) -> bool:\n",
    "    if num is None:\n",
    "        return False\n",
    "    \n",
    "    temp = num\n",
    "    num_reverse = 0\n",
    "    while temp != 0:\n",
    "        last_digit = temp % 10\n",
    "        num_reverse = num_reverse * 10 + last_digit\n",
    "        temp = temp // 10\n",
    "        # print(last_digit, num_reverse, temp)\n",
    "    \n",
    "    return (num_reverse == num)"
   ]
  },
  {
   "cell_type": "code",
   "execution_count": 2,
   "metadata": {},
   "outputs": [
    {
     "name": "stdout",
     "output_type": "stream",
     "text": [
      "True\n",
      "True\n",
      "True\n",
      "False\n"
     ]
    }
   ],
   "source": [
    "print(is_palindrome_num(1221))\n",
    "print(is_palindrome_num(0))\n",
    "print(is_palindrome_num(1))\n",
    "print(is_palindrome_num(1234))"
   ]
  },
  {
   "cell_type": "code",
   "execution_count": null,
   "metadata": {},
   "outputs": [],
   "source": [
    "# Method 1: Simple and readable - using string slicing\n",
    "def is_palindrome_simple(s: str) -> bool:\n",
    "  # Convert to lowercase and remove non-alphanumeric characters\n",
    "  s = ''.join(c.lower() for c in s if c.isalnum())\n",
    "  return s == s[::-1]\n",
    "\n",
    "# Method 2: Two-pointer approach - more memory efficient\n",
    "def is_palindrome_optimal(s: str) -> bool:\n",
    "  # Convert to lowercase and remove non-alphanumeric characters\n",
    "  s = ''.join(c.lower() for c in s if c.isalnum())\n",
    "  left, right = 0, len(s) - 1\n",
    "  \n",
    "  while left < right:\n",
    "      if s[left] != s[right]:\n",
    "          return False\n",
    "      left += 1\n",
    "      right -= 1\n",
    "  return True\n",
    "\n",
    "# Method 3: Most memory efficient - no string creation\n",
    "def is_palindrome_memory_efficient(s: str) -> bool:\n",
    "  left, right = 0, len(s) - 1\n",
    "  \n",
    "  while left < right:\n",
    "      # Skip non-alphanumeric characters from left\n",
    "      while left < right and not s[left].isalnum():\n",
    "          left += 1\n",
    "      # Skip non-alphanumeric characters from right\n",
    "      while left < right and not s[right].isalnum():\n",
    "          right -= 1\n",
    "          \n",
    "      if s[left].lower() != s[right].lower():\n",
    "          return False\n",
    "      left += 1\n",
    "      right -= 1\n",
    "  return True\n",
    "\n",
    "# Test cases\n",
    "test_cases = [\n",
    "  \"A man, a plan, a canal: Panama\",\n",
    "  \"race a car\",\n",
    "  \"Was it a car or a cat I saw?\",\n",
    "  \"hello\",\n",
    "  \"\",\n",
    "  \"12321\"\n",
    "]\n",
    "\n",
    "# Test all implementations\n",
    "for test in test_cases:\n",
    "  print(f\"\\nTesting: '{test}'\")\n",
    "  print(f\"Simple method: {is_palindrome_simple(test)}\")\n",
    "  print(f\"Optimal method: {is_palindrome_optimal(test)}\")\n",
    "  print(f\"Memory efficient method: {is_palindrome_memory_efficient(test)}\")"
   ]
  },
  {
   "cell_type": "markdown",
   "metadata": {},
   "source": [
    "\n",
    "\n",
    "Here's a breakdown of the three implementations:\n",
    "\n",
    "1. **Simple Method (`is_palindrome_simple`)**:\n",
    "   - Uses string slicing\n",
    "   - Easy to read and understand\n",
    "   - Creates a new string for comparison\n",
    "   - Time complexity: O(n)\n",
    "   - Space complexity: O(n)\n",
    "\n",
    "2. **Two-Pointer Method (`is_palindrome_optimal`)**:\n",
    "   - Uses two pointers moving from both ends\n",
    "   - Still creates a cleaned string\n",
    "   - Time complexity: O(n)\n",
    "   - Space complexity: O(n)\n",
    "\n",
    "3. **Memory Efficient Method (`is_palindrome_memory_efficient`)**:\n",
    "   - Most efficient in terms of memory usage\n",
    "   - Handles non-alphanumeric characters in-place\n",
    "   - No additional string creation\n",
    "   - Time complexity: O(n)\n",
    "   - Space complexity: O(1)\n",
    "\n",
    "The memory-efficient version is the most optimal in terms of space complexity, as it doesn't create any new strings. However, the simple version might be more readable and maintainable for most use cases where performance isn't critical.\n",
    "\n",
    "Choose the implementation based on your specific needs:\n",
    "- If readability is priority: use `is_palindrome_simple`\n",
    "- If memory is constrained: use `is_palindrome_memory_efficient`\n",
    "- If you want a balance: use `is_palindrome_optimal`\n",
    "\n",
    "All methods handle:\n",
    "- Case insensitivity\n",
    "- Non-alphanumeric characters\n",
    "- Empty strings\n",
    "- Single characters\n",
    "- Numbers"
   ]
  },
  {
   "cell_type": "markdown",
   "metadata": {},
   "source": []
  }
 ],
 "metadata": {
  "kernelspec": {
   "display_name": ".aiop-venv",
   "language": "python",
   "name": "python3"
  },
  "language_info": {
   "codemirror_mode": {
    "name": "ipython",
    "version": 3
   },
   "file_extension": ".py",
   "mimetype": "text/x-python",
   "name": "python",
   "nbconvert_exporter": "python",
   "pygments_lexer": "ipython3",
   "version": "3.12.1"
  }
 },
 "nbformat": 4,
 "nbformat_minor": 2
}
