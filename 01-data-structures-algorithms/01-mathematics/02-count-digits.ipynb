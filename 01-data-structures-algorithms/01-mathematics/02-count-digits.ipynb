{
 "cells": [
  {
   "cell_type": "markdown",
   "metadata": {},
   "source": [
    "## Count Digits in a given number"
   ]
  },
  {
   "cell_type": "markdown",
   "metadata": {},
   "source": [
    "**Method #1:** Brute force\n",
    "- Time Complexity - `O(log n)`\n",
    "    - Note: It is `O(log n)` because the number of iterations required to reverse a number is dependent on the number of digits in the given number. For example, if number is 123, then the below code would run for 3 iterations. As 100 (multiples of 10) is closest to 123, then if you do `(log10 100) + 1`, then you get `3`.\n",
    "    - Q: if the number of iterations is directly related to the number of digits, why can't we just say that it's O(n) where n is the number of digits and not the number itself?\n",
    "    - A: You could. But the big O notation was expressed in terms of the number, not the number of digits. So to get the number of digits you need to take the Log of the number.\n",
    "    - https://stackoverflow.com/questions/59851998/why-is-this-solution-to-reverse-integer-leet-code-olog10n\n",
    "- Space Complexity - `O(1)`"
   ]
  },
  {
   "cell_type": "code",
   "execution_count": 1,
   "metadata": {},
   "outputs": [],
   "source": [
    "def count_digits_bf(num: int) -> int:\n",
    "    \n",
    "    if num is not None and num < 0:\n",
    "        num = -1 * num\n",
    "        \n",
    "    if num is None:\n",
    "        return 0\n",
    "    elif num == 0:\n",
    "        return 1\n",
    "    else:\n",
    "        count = 0\n",
    "        while num > 0:\n",
    "            num = num // 10\n",
    "            count += 1\n",
    "        return count  "
   ]
  },
  {
   "cell_type": "code",
   "execution_count": 2,
   "metadata": {},
   "outputs": [
    {
     "name": "stdout",
     "output_type": "stream",
     "text": [
      "3\n",
      "2\n",
      "1\n",
      "1\n",
      "2\n",
      "3\n",
      "5\n"
     ]
    }
   ],
   "source": [
    "print(count_digits_bf(-100))\n",
    "print(count_digits_bf(-10))\n",
    "print(count_digits_bf(0))\n",
    "print(count_digits_bf(1))\n",
    "print(count_digits_bf(10))\n",
    "print(count_digits_bf(100))\n",
    "print(count_digits_bf(58964))"
   ]
  },
  {
   "cell_type": "markdown",
   "metadata": {},
   "source": [
    "**Method 2:** Optimized\n",
    "- Time Complexity - `O(1)`\n",
    "- Space Complexity - `O(1)`"
   ]
  },
  {
   "cell_type": "code",
   "execution_count": 8,
   "metadata": {},
   "outputs": [],
   "source": [
    "import math\n",
    "\n",
    "def count_digits_opt(number):\n",
    "    # Handle case when number is 0\n",
    "    if number == 0:\n",
    "        return 1\n",
    "    \n",
    "    # Use logarithm base 10 to count number of digits\n",
    "    num_digits = int(math.log10(abs(number))) + 1\n",
    "    return num_digits\n"
   ]
  },
  {
   "cell_type": "code",
   "execution_count": 9,
   "metadata": {},
   "outputs": [
    {
     "name": "stdout",
     "output_type": "stream",
     "text": [
      "3\n",
      "2\n",
      "1\n",
      "1\n",
      "2\n",
      "3\n",
      "5\n"
     ]
    }
   ],
   "source": [
    "print(count_digits_opt(-100))\n",
    "print(count_digits_opt(-10))\n",
    "print(count_digits_opt(0))\n",
    "print(count_digits_opt(1))\n",
    "print(count_digits_opt(10))\n",
    "print(count_digits_opt(100))\n",
    "print(count_digits_opt(58964))"
   ]
  },
  {
   "cell_type": "code",
   "execution_count": null,
   "metadata": {},
   "outputs": [],
   "source": []
  }
 ],
 "metadata": {
  "kernelspec": {
   "display_name": ".aiop-venv",
   "language": "python",
   "name": "python3"
  },
  "language_info": {
   "codemirror_mode": {
    "name": "ipython",
    "version": 3
   },
   "file_extension": ".py",
   "mimetype": "text/x-python",
   "name": "python",
   "nbconvert_exporter": "python",
   "pygments_lexer": "ipython3",
   "version": "3.12.1"
  }
 },
 "nbformat": 4,
 "nbformat_minor": 2
}
