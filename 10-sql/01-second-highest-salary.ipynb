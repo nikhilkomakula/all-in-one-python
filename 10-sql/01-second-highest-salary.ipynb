{
 "cells": [
  {
   "cell_type": "markdown",
   "id": "32e0af3b",
   "metadata": {},
   "source": [
    "## Second highest salary"
   ]
  },
  {
   "cell_type": "markdown",
   "id": "3fc69cd3",
   "metadata": {},
   "source": [
    "### Write a query to find the second highest salary from an employee table."
   ]
  },
  {
   "cell_type": "markdown",
   "id": "773aebd7",
   "metadata": {},
   "source": [
    "```sql\n",
    "SELECT MAX(salary) AS second_highest_salary\n",
    "FROM Employees\n",
    "WHERE salary < (\n",
    "    SELECT MAX(salary) FROM Employees\n",
    ");\n",
    "```"
   ]
  },
  {
   "cell_type": "markdown",
   "id": "68e83599",
   "metadata": {},
   "source": [
    "***"
   ]
  }
 ],
 "metadata": {
  "language_info": {
   "name": "python"
  }
 },
 "nbformat": 4,
 "nbformat_minor": 5
}
