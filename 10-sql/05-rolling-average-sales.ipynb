{
 "cells": [
  {
   "cell_type": "markdown",
   "id": "8b70c2e5",
   "metadata": {},
   "source": [
    "## Rolling averages sales"
   ]
  },
  {
   "cell_type": "markdown",
   "id": "38b501e7",
   "metadata": {},
   "source": [
    "### Calculate the Rolling Average Sales Over the Last 7 Days"
   ]
  },
  {
   "cell_type": "markdown",
   "id": "22765486",
   "metadata": {},
   "source": [
    "```sql\n",
    "SELECT sale_date, sales_amount, \n",
    "    AVG(sales_amount) OVER (ORDER BY sale_date ROWS BETWEEN 6 PRECEDING AND CURRENT ROW) AS rolling_avg_7_days\n",
    "FROM daily_sales;\n",
    "```"
   ]
  },
  {
   "cell_type": "markdown",
   "id": "f50fde58",
   "metadata": {},
   "source": [
    "***"
   ]
  }
 ],
 "metadata": {
  "language_info": {
   "name": "python"
  }
 },
 "nbformat": 4,
 "nbformat_minor": 5
}
