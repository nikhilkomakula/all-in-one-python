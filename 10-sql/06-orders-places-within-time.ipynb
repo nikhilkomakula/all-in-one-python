{
 "cells": [
  {
   "cell_type": "markdown",
   "id": "e2c70bf9",
   "metadata": {},
   "source": [
    "## Orders Placed Within a Specific Timeframe"
   ]
  },
  {
   "cell_type": "markdown",
   "id": "aabf0f97",
   "metadata": {},
   "source": [
    "### Retrieve all orders placed between 9:00 AM and 5:00 PM."
   ]
  },
  {
   "cell_type": "markdown",
   "id": "3b42afb7",
   "metadata": {},
   "source": [
    "```sql\n",
    "SELECT order_id, order_time\n",
    "FROM orders\n",
    "WHERE CAST(order_time AS TIME) BETWEEN '09:00:00' AND '17:00:00';\n",
    "```"
   ]
  },
  {
   "cell_type": "markdown",
   "id": "cca4ba46",
   "metadata": {},
   "source": [
    "***"
   ]
  }
 ],
 "metadata": {
  "language_info": {
   "name": "python"
  }
 },
 "nbformat": 4,
 "nbformat_minor": 5
}
