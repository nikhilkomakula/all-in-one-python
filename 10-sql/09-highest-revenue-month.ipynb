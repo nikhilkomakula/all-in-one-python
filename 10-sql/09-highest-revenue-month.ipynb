{
 "cells": [
  {
   "cell_type": "markdown",
   "id": "ffd7a372",
   "metadata": {},
   "source": [
    "## Month with the Highest Revenue in Each Year"
   ]
  },
  {
   "cell_type": "markdown",
   "id": "c3c52d85",
   "metadata": {},
   "source": [
    "### Write a query to find the month with the highest revenue for each year."
   ]
  },
  {
   "cell_type": "markdown",
   "id": "52e3e39d",
   "metadata": {},
   "source": [
    "```sql\n",
    "SELECT year, month, revenue\n",
    "FROM (\n",
    "    SELECT year, month, revenue,\n",
    "    RANK() OVER (PARTITION BY year ORDER BY revenue DESC) AS rank\n",
    "    FROM monthly_revenue\n",
    ") AS yearly_revenue\n",
    "WHERE rank = 1;\n",
    "```"
   ]
  },
  {
   "cell_type": "markdown",
   "id": "6120691a",
   "metadata": {},
   "source": [
    "***"
   ]
  }
 ],
 "metadata": {
  "language_info": {
   "name": "python"
  }
 },
 "nbformat": 4,
 "nbformat_minor": 5
}
