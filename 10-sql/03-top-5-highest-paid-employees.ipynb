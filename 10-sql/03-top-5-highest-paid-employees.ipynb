{
 "cells": [
  {
   "cell_type": "markdown",
   "id": "6e68a7fd",
   "metadata": {},
   "source": [
    "## Top 5 highest paid employees"
   ]
  },
  {
   "cell_type": "markdown",
   "id": "9879b079",
   "metadata": {},
   "source": [
    "### Write a query to retrieve the top 5 highest-paid employees from an employee table?"
   ]
  },
  {
   "cell_type": "markdown",
   "id": "83794c3c",
   "metadata": {},
   "source": [
    "```sql\n",
    "SELECT emp_id, emp_name, salary\n",
    "FROM Employees\n",
    "ORDER BY salary DESC\n",
    "LIMIT 5;\n",
    "```"
   ]
  },
  {
   "cell_type": "markdown",
   "id": "acbc944f",
   "metadata": {},
   "source": [
    "***"
   ]
  }
 ],
 "metadata": {
  "language_info": {
   "name": "python"
  }
 },
 "nbformat": 4,
 "nbformat_minor": 5
}
