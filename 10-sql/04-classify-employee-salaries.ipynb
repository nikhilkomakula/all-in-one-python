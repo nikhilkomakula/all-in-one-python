{
 "cells": [
  {
   "cell_type": "markdown",
   "id": "fa520894",
   "metadata": {},
   "source": [
    "## Classify employee salaries"
   ]
  },
  {
   "cell_type": "markdown",
   "id": "87af8e9c",
   "metadata": {},
   "source": [
    "### Write a query to classify employee salaries as High, Medium, Low"
   ]
  },
  {
   "cell_type": "markdown",
   "id": "5d0e10ea",
   "metadata": {},
   "source": [
    "```sql\n",
    "SELECT emp_name,\n",
    "salary,\n",
    "CASE\n",
    "    WHEN salary >= 100000 THEN 'High'\n",
    "    WHEN salary >= 50000 THEN 'Medium'\n",
    "    ELSE 'Low'\n",
    "END AS salary_band\n",
    "FROM Employees;\n",
    "```"
   ]
  },
  {
   "cell_type": "markdown",
   "id": "3cc30cd5",
   "metadata": {},
   "source": [
    "***"
   ]
  }
 ],
 "metadata": {
  "language_info": {
   "name": "python"
  }
 },
 "nbformat": 4,
 "nbformat_minor": 5
}
