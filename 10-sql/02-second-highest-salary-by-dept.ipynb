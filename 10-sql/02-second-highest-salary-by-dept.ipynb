{
 "cells": [
  {
   "cell_type": "markdown",
   "id": "99721293",
   "metadata": {},
   "source": [
    "## Second highest salary by Department"
   ]
  },
  {
   "cell_type": "markdown",
   "id": "cd4aef5f",
   "metadata": {},
   "source": [
    "### Write a query to find the second-highest salary in each department."
   ]
  },
  {
   "cell_type": "markdown",
   "id": "18faff8e",
   "metadata": {},
   "source": [
    "```sql\n",
    "SELECT department_id, MAX(salary) AS second_highest_salary\n",
    "FROM employees\n",
    "WHERE salary < (\n",
    "        SELECT MAX(salary)\n",
    "        FROM employees e\n",
    "        WHERE e.department_id = employees.department_id\n",
    "    )\n",
    "GROUP BY department_id;\n",
    "```"
   ]
  },
  {
   "cell_type": "markdown",
   "id": "104e70b7",
   "metadata": {},
   "source": [
    "***"
   ]
  }
 ],
 "metadata": {
  "language_info": {
   "name": "python"
  }
 },
 "nbformat": 4,
 "nbformat_minor": 5
}
