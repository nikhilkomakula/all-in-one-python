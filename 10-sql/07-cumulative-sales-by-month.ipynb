{
 "cells": [
  {
   "cell_type": "markdown",
   "id": "5d534e46",
   "metadata": {},
   "source": [
    "## Cumulative sales by month"
   ]
  },
  {
   "cell_type": "markdown",
   "id": "aca99c40",
   "metadata": {},
   "source": [
    "### Calculate the cumulative sales by month."
   ]
  },
  {
   "cell_type": "markdown",
   "id": "36f5c694",
   "metadata": {},
   "source": [
    "```sql\n",
    "SELECT month, sales_amount,\n",
    "       SUM(sales_amount) OVER (ORDER BY month) AS cumulative_sales\n",
    "FROM monthly_sales;\n",
    "```"
   ]
  },
  {
   "cell_type": "markdown",
   "id": "a7df1785",
   "metadata": {},
   "source": [
    "***"
   ]
  },
  {
   "cell_type": "markdown",
   "id": "feccd7c5",
   "metadata": {},
   "source": [
    "#### **What is a Cumulative Sum by Month?**\n",
    "\n",
    "A **cumulative sum** (also called a running total) is the progressive total of a sequence of numbers, where each new value is added to the sum of all previous values. When applied to sales data by month, it means that for each month, you sum up all sales from the beginning up to that month. This is useful for tracking growth and trends over time .\n",
    "\n",
    "#### **How to Calculate Cumulative Sales by Month in SQL**\n",
    "\n",
    "The most efficient and modern way to calculate a cumulative sum in SQL is by using the `SUM()` window function with the `OVER()` clause. Here’s a step-by-step explanation:\n",
    "\n",
    "1. **Select the relevant columns**: Typically, you want the month and the sales amount.\n",
    "2. **Apply the window function**: Use `SUM(sales_amount) OVER (ORDER BY month)` to calculate the running total.\n",
    "3. **Order the results**: The `ORDER BY` inside the `OVER()` clause ensures the cumulative sum is calculated in chronological order.\n",
    "\n",
    "**Example SQL Query:**\n",
    "```sql\n",
    "SELECT\n",
    "  month,\n",
    "  sales_amount,\n",
    "  SUM(sales_amount) OVER (ORDER BY month) AS cumulative_sales\n",
    "FROM\n",
    "  monthly_sales;\n",
    "```\n",
    "- `month`: The month for each sales record.\n",
    "- `sales_amount`: The sales amount for that month.\n",
    "- `SUM(sales_amount) OVER (ORDER BY month)`: Calculates the cumulative sales up to and including the current month  .\n",
    "\n",
    "#### **How Does This Work?**\n",
    "\n",
    "- The `SUM()` function is an aggregate function that adds up values.\n",
    "- The `OVER (ORDER BY month)` clause tells SQL to calculate the sum in the order of months, so each row’s cumulative sum includes all previous months’ sales.\n",
    "- The result is a new column, `cumulative_sales`, showing the running total for each month.\n",
    "\n",
    "**Sample Output:**\n",
    "| month   | sales_amount | cumulative_sales |\n",
    "|---------|--------------|-----------------|\n",
    "| January | 100          | 100             |\n",
    "| February| 200          | 300             |\n",
    "| March   | 300          | 600             |\n",
    "\n",
    "#### **Why Use Window Functions?**\n",
    "\n",
    "- **Simplicity**: No need for complex subqueries or self-joins.\n",
    "- **Performance**: Window functions are optimized for these calculations.\n",
    "- **Flexibility**: Easily extend to other time periods (weeks, quarters) or add partitions (e.g., by product or region)  .\n",
    "\n",
    "#### **Summary**\n",
    "\n",
    "To calculate cumulative sales by month, use:\n",
    "```sql\n",
    "SELECT month, sales_amount,\n",
    "       SUM(sales_amount) OVER (ORDER BY month) AS cumulative_sales\n",
    "FROM monthly_sales;\n",
    "```\n",
    "This approach is efficient, easy to read, and works in most modern SQL databases  ."
   ]
  }
 ],
 "metadata": {
  "language_info": {
   "name": "python"
  }
 },
 "nbformat": 4,
 "nbformat_minor": 5
}
