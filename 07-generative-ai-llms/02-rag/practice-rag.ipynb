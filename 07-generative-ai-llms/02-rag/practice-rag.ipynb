{
 "cells": [
  {
   "cell_type": "markdown",
   "metadata": {},
   "source": [
    "## Hands-on Practice RAG"
   ]
  },
  {
   "cell_type": "code",
   "execution_count": null,
   "metadata": {},
   "outputs": [],
   "source": [
    "# step 1: load pdf\n",
    "from langchain.document_loaders import PyPDFLoader\n",
    "def load_pdf(pdf_path):\n",
    "    loader = PyPDFLoader(pdf_path)\n",
    "    documents = loader.load()\n",
    "    return documents\n",
    "\n",
    "# step 2: split pdf into chunks\n",
    "from langchain.text_splitter import RecursiveCharacterTextSplitter\n",
    "def split_chunks(documents):\n",
    "    text_splitter = RecursiveCharacterTextSplitter(\n",
    "        chunk_size=1000,\n",
    "        chunk_overlap=100,\n",
    "        length_function=len\n",
    "    )\n",
    "    chunks = text_splitter.split_documents(documents)\n",
    "    return chunks\n",
    "\n",
    "# step 3: initialize vector store\n",
    "import os\n",
    "from langchain_chroma import Chroma\n",
    "from langchain_huggingface import HuggingFaceEmbeddings\n",
    "def get_vector_store(pdf_path):\n",
    "    embeddings = HuggingFaceEmbeddings(\n",
    "        model_name=\"BAAI/bge-small-en-v1.5\",\n",
    "        model_kwargs={\"device\": \"cpu\"},\n",
    "        encode_kwargs={\"normalize_embeddings\": True}\n",
    "    )\n",
    "    persist_directory = \"./chroma_db\"\n",
    "    if os.path.exists(persist_directory) and os.listdir(persist_directory):\n",
    "        vector_store = Chroma(\n",
    "            persist_directory=persist_directory,\n",
    "            embedding_function=embeddings\n",
    "        )\n",
    "    else:\n",
    "        documents = load_pdf(pdf_path)\n",
    "        chunks = split_chunks(documents)\n",
    "        vector_store = Chroma.from_documents(\n",
    "            persist_directory=persist_directory,\n",
    "            embedding=embeddings,\n",
    "            documents=chunks\n",
    "        )\n",
    "    return vector_store\n",
    "\n",
    "# step 4: initialize llm\n",
    "from langchain_huggingface import HuggingFaceEndpoint\n",
    "def initialize_llm():\n",
    "    llm = HuggingFaceEndpoint(\n",
    "        repo_id=\"mistralai/Mistral-7B-Instruct-v0.2\"\n",
    "    )\n",
    "    return llm\n",
    "\n",
    "# step 5: initialize retreival chain\n",
    "from langchain.chains import RetrievalQA\n",
    "def get_rag_chain(vector_store, llm):\n",
    "    retriever = vector_store.as_retriever(\n",
    "        search_kwargs={\"k\": 3}\n",
    "    )\n",
    "    rag_chain = RetrievalQA.from_chain_type(\n",
    "        retriever=retriever,\n",
    "        llm=llm\n",
    "    )\n",
    "    return rag_chain"
   ]
  },
  {
   "cell_type": "code",
   "execution_count": null,
   "metadata": {},
   "outputs": [],
   "source": [
    "vector_store = get_vector_store(\"Trigger_Developer_Guide.pdf\")"
   ]
  },
  {
   "cell_type": "code",
   "execution_count": null,
   "metadata": {},
   "outputs": [],
   "source": [
    "llm = initialize_llm()"
   ]
  },
  {
   "cell_type": "code",
   "execution_count": null,
   "metadata": {},
   "outputs": [],
   "source": [
    "rag_chain = get_rag_chain(vector_store, llm)"
   ]
  },
  {
   "cell_type": "code",
   "execution_count": null,
   "metadata": {},
   "outputs": [],
   "source": [
    "rag_chain.invoke({\"query\": \"what is a trigger?\"})"
   ]
  },
  {
   "cell_type": "code",
   "execution_count": null,
   "metadata": {},
   "outputs": [],
   "source": []
  }
 ],
 "metadata": {
  "kernelspec": {
   "display_name": ".aiop-venv",
   "language": "python",
   "name": "python3"
  },
  "language_info": {
   "codemirror_mode": {
    "name": "ipython",
    "version": 3
   },
   "file_extension": ".py",
   "mimetype": "text/x-python",
   "name": "python",
   "nbconvert_exporter": "python",
   "pygments_lexer": "ipython3",
   "version": "3.11.9"
  }
 },
 "nbformat": 4,
 "nbformat_minor": 2
}
