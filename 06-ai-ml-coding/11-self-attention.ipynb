{
 "cells": [
  {
   "cell_type": "markdown",
   "metadata": {},
   "source": [
    "### Self-Attention in Transformers"
   ]
  },
  {
   "cell_type": "code",
   "execution_count": null,
   "metadata": {},
   "outputs": [],
   "source": [
    "import torch\n",
    "import torch.nn as nn\n",
    "import torch.nn.functional as F\n",
    "\n",
    "class SelfAttention(nn.Module):\n",
    "    def __init__(self, embed_size, heads):\n",
    "        super(SelfAttention, self).__init__()\n",
    "        self.embed_size = embed_size\n",
    "        self.heads = heads\n",
    "        self.head_dim = embed_size // heads\n",
    "\n",
    "        assert (self.head_dim * heads == embed_size), \"Embed size must be divisible by number of heads\"\n",
    "\n",
    "        self.values = nn.Linear(self.head_dim, self.head_dim, bias=False)\n",
    "        self.keys = nn.Linear(self.head_dim, self.head_dim, bias=False)\n",
    "        self.queries = nn.Linear(self.head_dim, self.head_dim, bias=False)\n",
    "        self.fc_out = nn.Linear(heads * self.head_dim, embed_size)\n",
    "\n",
    "    def forward(self, values, keys, query, mask):\n",
    "        # Number of training examples\n",
    "        N = query.shape[0]\n",
    "\n",
    "        value_len, key_len, query_len = values.shape[1], keys.shape[1], query.shape[1]\n",
    "\n",
    "        # Split the embedding into self.heads different pieces\n",
    "        values = values.view(N, value_len, self.heads, self.head_dim)\n",
    "        keys = keys.view(N, key_len, self.heads, self.head_dim)\n",
    "        queries = query.view(N, query_len, self.heads, self.head_dim)\n",
    "\n",
    "        values = self.values(values)\n",
    "        keys = self.keys(keys)\n",
    "        queries = self.queries(queries)\n",
    "\n",
    "        # Calculate attention scores\n",
    "        energy = torch.einsum(\"nqhd,nkhd->nhqk\", [queries, keys])\n",
    "\n",
    "        if mask is not None:\n",
    "            energy = energy.masked_fill(mask == 0, float(\"-1e20\"))\n",
    "\n",
    "        # Apply softmax to get attention weights\n",
    "        attention = torch.nn.functional.softmax(energy / (self.embed_size ** (1/2)), dim=3)\n",
    "\n",
    "        # Calculate the weighted sum of the values\n",
    "        out = torch.einsum(\"nhql,nlhd->nqhd\", [attention, values]).reshape(\n",
    "            N, query_len, self.heads * self.head_dim\n",
    "        )\n",
    "\n",
    "        out = self.fc_out(out)\n",
    "        return out\n",
    "\n",
    "# Example usage\n",
    "if __name__ == \"__main__\":\n",
    "    embed_size = 256\n",
    "    heads = 8\n",
    "    seq_len = 10\n",
    "    batch_size = 32\n",
    "\n",
    "    # Create random input tensors\n",
    "    values = torch.rand((batch_size, seq_len, embed_size))\n",
    "    keys = torch.rand((batch_size, seq_len, embed_size))\n",
    "    query = torch.rand((batch_size, seq_len, embed_size))\n",
    "    mask = None  # You can define a mask if needed\n",
    "\n",
    "    # Initialize the self-attention layer\n",
    "    self_attention = SelfAttention(embed_size, heads)\n",
    "\n",
    "    # Forward pass\n",
    "    output = self_attention(values, keys, query, mask)\n",
    "    print(output.shape)  # Should be (batch_size, seq_len, embed_size)"
   ]
  },
  {
   "cell_type": "markdown",
   "metadata": {},
   "source": [
    "### Explanation:\n",
    "1. **Initialization**:\n",
    "   - `embed_size`: The size of the embeddings.\n",
    "   - `heads`: The number of attention heads.\n",
    "   - `head_dim`: The dimension of each head, which is `embed_size // heads`.\n",
    "\n",
    "2. **Forward Pass**:\n",
    "   - The input tensors (`values`, `keys`, `query`) are reshaped to split them into multiple heads.\n",
    "   - Linear transformations are applied to `values`, `keys`, and `queries`.\n",
    "   - The attention scores are computed using the dot product of `queries` and `keys`.\n",
    "   - If a mask is provided, it is applied to the attention scores.\n",
    "   - The softmax function is applied to the attention scores to get the attention weights.\n",
    "   - The weighted sum of the `values` is computed using the attention weights.\n",
    "   - The output is reshaped and passed through a final linear layer to get the final output."
   ]
  },
  {
   "cell_type": "markdown",
   "metadata": {},
   "source": []
  }
 ],
 "metadata": {
  "kernelspec": {
   "display_name": ".aiop-venv",
   "language": "python",
   "name": "python3"
  },
  "language_info": {
   "name": "python",
   "version": "3.11.9"
  }
 },
 "nbformat": 4,
 "nbformat_minor": 2
}
