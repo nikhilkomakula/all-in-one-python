{
 "cells": [
  {
   "cell_type": "markdown",
   "metadata": {},
   "source": [
    "### Compute Accuracy, Precision, Recall in Classification"
   ]
  },
  {
   "cell_type": "markdown",
   "metadata": {},
   "source": [
    "`Accuracy:`"
   ]
  },
  {
   "cell_type": "code",
   "execution_count": 2,
   "metadata": {},
   "outputs": [
    {
     "name": "stdout",
     "output_type": "stream",
     "text": [
      "Accuracy: 0.83\n"
     ]
    }
   ],
   "source": [
    "# Example true labels and predicted labels\n",
    "true_labels = [0, 1, 2, 2, 1, 0]\n",
    "predicted_labels = [0, 0, 2, 2, 1, 0]\n",
    "\n",
    "# Compute accuracy manually\n",
    "correct_predictions = sum(t == p for t, p in zip(true_labels, predicted_labels))\n",
    "total_predictions = len(true_labels)\n",
    "accuracy = correct_predictions / total_predictions\n",
    "\n",
    "print(f\"Accuracy: {accuracy:.2f}\")"
   ]
  },
  {
   "cell_type": "markdown",
   "metadata": {},
   "source": [
    "`Precision:`"
   ]
  },
  {
   "cell_type": "code",
   "execution_count": 3,
   "metadata": {},
   "outputs": [
    {
     "name": "stdout",
     "output_type": "stream",
     "text": [
      "Precision: 1.00\n"
     ]
    }
   ],
   "source": [
    "# Example true labels and predicted labels\n",
    "true_labels = [0, 1, 2, 2, 1, 0]\n",
    "predicted_labels = [0, 0, 2, 2, 1, 0]\n",
    "\n",
    "true_positives = 0\n",
    "false_positives = 0\n",
    "\n",
    "for true_label, predicted_label in zip(true_labels, predicted_labels):\n",
    "    if predicted_label == 1:\n",
    "        if true_label == 1:\n",
    "            true_positives += 1\n",
    "        else:\n",
    "            false_positives += 1\n",
    "\n",
    "# Handle division by zero\n",
    "if true_positives + false_positives == 0:\n",
    "    precision = 0.0\n",
    "else:\n",
    "    precision = true_positives / (true_positives + false_positives)\n",
    "\n",
    "print(f\"Precision: {precision:.2f}\")"
   ]
  },
  {
   "cell_type": "markdown",
   "metadata": {},
   "source": [
    "`Recall:`"
   ]
  },
  {
   "cell_type": "code",
   "execution_count": 4,
   "metadata": {},
   "outputs": [
    {
     "name": "stdout",
     "output_type": "stream",
     "text": [
      "Recall: 0.50\n"
     ]
    }
   ],
   "source": [
    "# Example true labels and predicted labels\n",
    "true_labels = [0, 1, 2, 2, 1, 0]\n",
    "predicted_labels = [0, 0, 2, 2, 1, 0]\n",
    "\n",
    "true_positives = 0\n",
    "false_negatives = 0\n",
    "\n",
    "for true_label, predicted_label in zip(true_labels, predicted_labels):\n",
    "    if true_label == 1:\n",
    "        if predicted_label == 1:\n",
    "            true_positives += 1\n",
    "        else:\n",
    "            false_negatives += 1\n",
    "\n",
    "# Handle division by zero for recall\n",
    "if true_positives + false_negatives == 0:\n",
    "    recall = 0.0\n",
    "else:\n",
    "    recall = true_positives / (true_positives + false_negatives)\n",
    "\n",
    "print(f\"Recall: {recall:.2f}\")"
   ]
  }
 ],
 "metadata": {
  "kernelspec": {
   "display_name": ".aiop-venv",
   "language": "python",
   "name": "python3"
  },
  "language_info": {
   "codemirror_mode": {
    "name": "ipython",
    "version": 3
   },
   "file_extension": ".py",
   "mimetype": "text/x-python",
   "name": "python",
   "nbconvert_exporter": "python",
   "pygments_lexer": "ipython3",
   "version": "3.11.9"
  }
 },
 "nbformat": 4,
 "nbformat_minor": 2
}
