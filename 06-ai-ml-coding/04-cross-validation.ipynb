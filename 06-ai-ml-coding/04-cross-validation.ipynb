{
 "cells": [
  {
   "cell_type": "markdown",
   "metadata": {},
   "source": [
    "### Cross Validation"
   ]
  },
  {
   "cell_type": "markdown",
   "metadata": {},
   "source": [
    "Write a Python function that performs k-fold cross-validation data splitting from scratch. The function should take a dataset (as a 2D NumPy array where each row represents a data sample and each column represents a feature) and an integer k representing the number of folds. The function should split the dataset into k parts, systematically use one part as the test set and the remaining as the training set, and return a list where each element is a tuple containing the training set and test set for each fold."
   ]
  },
  {
   "cell_type": "markdown",
   "metadata": {},
   "source": [
    "Example:\n",
    "- input: data = np.array([[1, 2], [3, 4], [5, 6], [7, 8], [9, 10]]), k = 5\n",
    "- output: [[[[3, 4], [5, 6], [7, 8], [9, 10]], [[1, 2]]],\n",
    "        [[[1, 2], [5, 6], [7, 8], [9, 10]], [[3, 4]]],\n",
    "        [[[1, 2], [3, 4], [7, 8], [9, 10]], [[5, 6]]], \n",
    "        [[[1, 2], [3, 4], [5, 6], [9, 10]], [[7, 8]]], \n",
    "        [[[1, 2], [3, 4], [5, 6], [7, 8]], [[9, 10]]]]\n",
    "- reasoning: The dataset is divided into 5 parts, each being used once as a test set while the remaining parts serve as the training set."
   ]
  },
  {
   "cell_type": "code",
   "execution_count": null,
   "metadata": {},
   "outputs": [],
   "source": [
    "import numpy as np\n",
    "\n",
    "def cross_validation_split(data: np.ndarray, k: int, seed=42) -> list:\n",
    "    np.random.seed(seed)\n",
    "    np.random.shuffle(data)\n",
    "\n",
    "    n, m = data.shape\n",
    "    sub_size = int(np.ceil(n / k))              # REMEMBER\n",
    "    folds = []\n",
    "\n",
    "    for i in range(k):\n",
    "        start = i * sub_size                    # REMEMBER\n",
    "        end = min((i + 1) * sub_size, n)        # REMEMBER\n",
    "        validation = data[start:end]\n",
    "        training = np.concatenate([data[:start], data[end:]], axis=0)\n",
    "        folds.append((training, validation))\n",
    "\n",
    "    return folds"
   ]
  },
  {
   "cell_type": "code",
   "execution_count": 2,
   "metadata": {},
   "outputs": [],
   "source": [
    "data = np.array([[1, 2], [3, 4], [5, 6], [7, 8], [9, 10]])\n",
    "k = 5"
   ]
  },
  {
   "cell_type": "code",
   "execution_count": 3,
   "metadata": {},
   "outputs": [
    {
     "data": {
      "text/plain": [
       "[(array([[ 9, 10],\n",
       "         [ 5,  6],\n",
       "         [ 1,  2],\n",
       "         [ 7,  8]]),\n",
       "  array([[3, 4]])),\n",
       " (array([[3, 4],\n",
       "         [5, 6],\n",
       "         [1, 2],\n",
       "         [7, 8]]),\n",
       "  array([[ 9, 10]])),\n",
       " (array([[ 3,  4],\n",
       "         [ 9, 10],\n",
       "         [ 1,  2],\n",
       "         [ 7,  8]]),\n",
       "  array([[5, 6]])),\n",
       " (array([[ 3,  4],\n",
       "         [ 9, 10],\n",
       "         [ 5,  6],\n",
       "         [ 7,  8]]),\n",
       "  array([[1, 2]])),\n",
       " (array([[ 3,  4],\n",
       "         [ 9, 10],\n",
       "         [ 5,  6],\n",
       "         [ 1,  2]]),\n",
       "  array([[7, 8]]))]"
      ]
     },
     "execution_count": 3,
     "metadata": {},
     "output_type": "execute_result"
    }
   ],
   "source": [
    "cross_validation_split(data, k)"
   ]
  }
 ],
 "metadata": {
  "kernelspec": {
   "display_name": ".aiop-venv",
   "language": "python",
   "name": "python3"
  },
  "language_info": {
   "codemirror_mode": {
    "name": "ipython",
    "version": 3
   },
   "file_extension": ".py",
   "mimetype": "text/x-python",
   "name": "python",
   "nbconvert_exporter": "python",
   "pygments_lexer": "ipython3",
   "version": "3.11.9"
  }
 },
 "nbformat": 4,
 "nbformat_minor": 2
}
