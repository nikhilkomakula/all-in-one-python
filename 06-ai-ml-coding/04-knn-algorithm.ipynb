{
 "cells": [
  {
   "cell_type": "markdown",
   "metadata": {},
   "source": [
    "### Write a function to implement KNN algorithm"
   ]
  },
  {
   "cell_type": "code",
   "execution_count": null,
   "metadata": {},
   "outputs": [
    {
     "name": "stdout",
     "output_type": "stream",
     "text": [
      "distances [1.0, 1.0, 2.23606797749979, 3.605551275463989]\n",
      "k_indices [0 1 2]\n",
      "k_nearest_labels [0, 0, 1]\n",
      "most_common [(0, 2)]\n",
      "distances [2.23606797749979, 1.0, 1.0, 2.23606797749979]\n",
      "k_indices [1 2 0]\n",
      "k_nearest_labels [0, 1, 0]\n",
      "most_common [(0, 2)]\n",
      "Predictions: [0, 0]\n"
     ]
    }
   ],
   "source": [
    "import numpy as np\n",
    "from collections import Counter\n",
    "\n",
    "def knn(X_train, y_train, X_test, k=3):\n",
    "    predictions = []\n",
    "    for x in X_test:\n",
    "        distances = [np.linalg.norm(x - x_train) for x_train in X_train]    # calculates the Euclidean norm (L2 norm)\n",
    "        k_indices = np.argsort(distances)[:k]                               # returns the positions of sorted values\n",
    "        k_nearest_labels = [y_train[i] for i in k_indices]                  # returns the labels from the positions\n",
    "        most_common = Counter(k_nearest_labels).most_common(1)              # returns only the top 1 most common element as a tuple [(element, frequency)]\n",
    "        predictions.append(most_common[0][0])\n",
    "    return predictions\n",
    "\n",
    "# Example usage\n",
    "X_train = np.array([[1, 2], [2, 3], [3, 4], [4, 5]])\n",
    "y_train = np.array([0, 0, 1, 1])\n",
    "X_test = np.array([[2, 2], [3, 3]])\n",
    "predictions = knn(X_train, y_train, X_test, k=3)\n",
    "print(\"Predictions:\", predictions)"
   ]
  },
  {
   "cell_type": "code",
   "execution_count": null,
   "metadata": {},
   "outputs": [],
   "source": [
    "import numpy as np\n",
    "from collections import Counter\n",
    "\n",
    "predictions = []\n",
    "\n",
    "def test(X_train, y_train, X_test, k=3):\n",
    "    for x in X_test:\n",
    "        distances = [np.linalg.norm(x - x_train) for x_train in X_train]\n",
    "        k_indices = np.argsort(distances)[:k]\n",
    "        labels = [y_train[i] for i in k_indices]\n",
    "        most_common = Counter(labels).most_common(1)\n",
    "        predictions.append( most_common[0][0])"
   ]
  }
 ],
 "metadata": {
  "kernelspec": {
   "display_name": ".aiop-venv",
   "language": "python",
   "name": "python3"
  },
  "language_info": {
   "codemirror_mode": {
    "name": "ipython",
    "version": 3
   },
   "file_extension": ".py",
   "mimetype": "text/x-python",
   "name": "python",
   "nbconvert_exporter": "python",
   "pygments_lexer": "ipython3",
   "version": "3.11.9"
  }
 },
 "nbformat": 4,
 "nbformat_minor": 2
}
