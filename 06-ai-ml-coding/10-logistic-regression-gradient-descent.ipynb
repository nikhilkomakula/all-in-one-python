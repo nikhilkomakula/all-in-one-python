{
 "cells": [
  {
   "cell_type": "markdown",
   "metadata": {},
   "source": [
    "### Write a function to implement logistic regression from scratch using gradient descent."
   ]
  },
  {
   "cell_type": "markdown",
   "metadata": {},
   "source": [
    "Key changes made from linear regression to logistic regression:\n",
    "\n",
    "- Added sigmoid activation function\n",
    "- Changed the cost function from MSE to Binary Cross-Entropy\n",
    "- Modified the forward pass to use sigmoid activation\n",
    "- Updated the example to use binary labels (0 and 1)\n",
    "- Added probability and class predictions at the end\n",
    "- Added epsilon to avoid log(0) in cost calculation"
   ]
  },
  {
   "cell_type": "markdown",
   "metadata": {},
   "source": [
    "The main differences in the math are:\n",
    "\n",
    "- Linear regression predicts continuous values, while logistic regression predicts probabilities between 0 and 1\n",
    "- The cost function is now binary cross-entropy instead of mean squared error\n",
    "- The predictions go through a sigmoid function to squash them between 0 and 1\n",
    "- The final predictions can be either probabilities or binary classes (using 0.5 as threshold)"
   ]
  },
  {
   "cell_type": "code",
   "execution_count": null,
   "metadata": {},
   "outputs": [],
   "source": [
    "import numpy as np\n",
    "\n",
    "def sigmoid(z):\n",
    "  \"\"\"Sigmoid activation function\"\"\"\n",
    "  return 1 / (1 + np.exp(-z))\n",
    "\n",
    "def logistic_regression(X, y, learning_rate=0.01, num_iterations=1000, tolerance=1e-6):\n",
    "  # Get dimensions\n",
    "  n_samples, n_features = X.shape\n",
    "  \n",
    "  # Initialize parameters\n",
    "  weights = np.zeros(n_features)\n",
    "  bias = 0\n",
    "  \n",
    "  # Store costs for monitoring convergence\n",
    "  costs = []\n",
    "  \n",
    "  for iteration in range(num_iterations):\n",
    "      # Forward pass\n",
    "      z = np.dot(X, weights) + bias\n",
    "      y_pred = sigmoid(z)\n",
    "      \n",
    "      # Calculate cost (Binary Cross-Entropy)\n",
    "      eps = 1e-15\n",
    "      y_pred = np.clip(y_pred, eps, 1 - eps)\n",
    "      cost = - (1 / n_samples) * np.sum(y * np.log(y_pred) + (1 - y) * np.log(1 - y_pred))\n",
    "      costs.append(cost)\n",
    "      \n",
    "      # Calculate gradients\n",
    "      d_weights = (1/n_samples) * np.dot(X.T, (y_pred - y))\n",
    "      d_bias = (1/n_samples) * np.sum(y_pred - y)\n",
    "      \n",
    "      # Update parameters\n",
    "      weights -= learning_rate * d_weights\n",
    "      bias -= learning_rate * d_bias\n",
    "      \n",
    "      # Check convergence\n",
    "      if iteration > 0 and abs(costs[-1] - costs[-2]) < tolerance:\n",
    "          print(f\"Converged at iteration {iteration}\")\n",
    "          break\n",
    "          \n",
    "  return weights, bias, costs\n",
    "\n",
    "# Example usage with normalized features\n",
    "# Note: For logistic regression, y should be binary (0 or 1)\n",
    "X = np.array([[1, 2], [2, 3], [3, 4], [4, 5]])\n",
    "y = np.array([0, 0, 1, 1])  # Binary labels\n",
    "\n",
    "# Normalize features\n",
    "X_normalized = (X - X.mean(axis=0)) / X.std(axis=0)\n",
    "\n",
    "# Train model\n",
    "weights, bias, costs = logistic_regression(X_normalized, y)\n",
    "\n",
    "# Print results\n",
    "print(\"Weights:\", weights)\n",
    "print(\"Bias:\", bias)\n",
    "print(\"Final cost:\", costs[-1])\n",
    "\n",
    "# Make predictions\n",
    "z = np.dot(X_normalized, weights) + bias\n",
    "y_pred_prob = sigmoid(z)  # Probability predictions\n",
    "y_pred_class = (y_pred_prob >= 0.5).astype(int)  # Class predictions (0 or 1)\n",
    "print(\"Probability predictions:\", y_pred_prob)\n",
    "print(\"Class predictions:\", y_pred_class)"
   ]
  },
  {
   "cell_type": "code",
   "execution_count": null,
   "metadata": {},
   "outputs": [],
   "source": []
  }
 ],
 "metadata": {
  "kernelspec": {
   "display_name": ".aiop-venv",
   "language": "python",
   "name": "python3"
  },
  "language_info": {
   "name": "python",
   "version": "3.11.9"
  }
 },
 "nbformat": 4,
 "nbformat_minor": 2
}
