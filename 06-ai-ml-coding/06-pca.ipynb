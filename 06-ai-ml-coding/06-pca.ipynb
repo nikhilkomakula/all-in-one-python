{
 "cells": [
  {
   "cell_type": "markdown",
   "metadata": {},
   "source": [
    "### Principal Component Analysis (PCA)"
   ]
  },
  {
   "cell_type": "code",
   "execution_count": null,
   "metadata": {},
   "outputs": [
    {
     "name": "stdout",
     "output_type": "stream",
     "text": [
      "PCA Result: [[-2.12132034]\n",
      " [-0.70710678]\n",
      " [ 0.70710678]\n",
      " [ 2.12132034]]\n",
      "Components: [[0.70710678]\n",
      " [0.70710678]]\n",
      "Explained variance: [3.33333333 0.        ]\n"
     ]
    }
   ],
   "source": [
    "import numpy as np\n",
    "\n",
    "def pca(X, num_components):\n",
    "  # 1. Input validation\n",
    "  if num_components > X.shape[1]:\n",
    "      raise ValueError(\"num_components cannot be greater than the number of features\")\n",
    "  \n",
    "  # 2. Center the data\n",
    "  X_mean = np.mean(X, axis=0)\n",
    "  X_centered = X - X_mean\n",
    "  \n",
    "  # 3. Compute covariance matrix\n",
    "  # Using ddof=1 for unbiased estimation\n",
    "  cov_matrix = np.cov(X_centered.T, ddof=1)               # np.cov expect (n_features, n_samples) instead of reverse\n",
    "  \n",
    "  # 4. Compute eigenvalues and eigenvectors\n",
    "  eigenvalues, eigenvectors = np.linalg.eigh(cov_matrix)  # Using eigh instead of eig\n",
    "  \n",
    "  # 5. Sort eigenvalues and eigenvectors in descending order\n",
    "  idx = np.argsort(eigenvalues)[::-1]                     # sort on eigen\"values\"\n",
    "  eigenvalues = eigenvalues[idx]                          # Eigenvalues is a 1D array, Shape: (n_features,)\n",
    "  eigenvectors = eigenvectors[:, idx]                     # Eigenvectors is a 2D array, Shape: (n_features, n_features)\n",
    "  \n",
    "  # 6. Select top k eigenvectors\n",
    "  W = eigenvectors[:, :num_components]                    # select top-k eigen\"vectors\"\n",
    "  \n",
    "  # 7. Transform the data\n",
    "  X_transformed = np.dot(X_centered, W)\n",
    "  \n",
    "  return X_transformed, W, eigenvalues\n",
    "\n",
    "# Example usage\n",
    "X = np.array([[1, 2], [2, 3], [3, 4], [4, 5]])\n",
    "X_pca, components, explained_var = pca(X, 1)\n",
    "print(\"PCA Result:\", X_pca)\n",
    "print(\"Components:\", components)\n",
    "print(\"Explained variance:\", explained_var)"
   ]
  }
 ],
 "metadata": {
  "kernelspec": {
   "display_name": ".aiop-venv",
   "language": "python",
   "name": "python3"
  },
  "language_info": {
   "codemirror_mode": {
    "name": "ipython",
    "version": 3
   },
   "file_extension": ".py",
   "mimetype": "text/x-python",
   "name": "python",
   "nbconvert_exporter": "python",
   "pygments_lexer": "ipython3",
   "version": "3.11.9"
  }
 },
 "nbformat": 4,
 "nbformat_minor": 2
}
