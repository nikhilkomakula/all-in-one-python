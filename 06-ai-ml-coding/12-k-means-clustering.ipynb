{
 "cells": [
  {
   "cell_type": "markdown",
   "metadata": {},
   "source": [
    "## K-Means Clustering"
   ]
  },
  {
   "cell_type": "markdown",
   "metadata": {},
   "source": [
    "- Steps\n",
    "    - Randomly select 2 centroids\n",
    "    - For each iteration:\n",
    "        - Compute the distance of each data point to the centroids and find the centroid that is closest\n",
    "        - Determine new centroids by computing the mean of all the data points that belong to each centroid\n",
    "        - Check if previous iteration centroids are equal to the current iteration centroids, then the algorithm has reached convergence. Else continue to the next iteration."
   ]
  },
  {
   "cell_type": "markdown",
   "metadata": {},
   "source": [
    "- **`Steps of the K-means Algorithm`**\n",
    "\n",
    "    - **Randomly Select Initial Centroids:**\n",
    "        - Choose `k` data points from the dataset `X` to serve as the initial centroids. This is typically done randomly to ensure diversity in the initial centroids.\n",
    "    - **For Each Iteration:**\n",
    "        - **Compute Distances:**\n",
    "            - Calculate the distance (usually Euclidean distance) between each data point and each centroid.\n",
    "        - **Assign Clusters:**\n",
    "            - Assign each data point to the nearest centroid. This creates clusters where each data point belongs to the cluster defined by the nearest centroid.\n",
    "        - **Update Centroids:**\n",
    "            - Compute the new centroids by calculating the mean of all the data points that belong to each cluster. This updates the centroids to better represent the clusters.\n",
    "        - **Check for Convergence:**\n",
    "            - Compare the new centroids with the centroids from the previous iteration. If the centroids have not changed (or the change is below a certain threshold), the algorithm has converged and can be stopped. Otherwise, continue to the next iteration."
   ]
  },
  {
   "cell_type": "code",
   "execution_count": null,
   "metadata": {},
   "outputs": [
    {
     "name": "stdout",
     "output_type": "stream",
     "text": [
      "[0 0 1 0 0 1]\n",
      "[0 0 1 0 0 1]\n",
      "Convergence\n",
      "Centroids: [[2.5 3. ]\n",
      " [2.5 0. ]]\n",
      "Labels: [0 0 1 0 0 1]\n"
     ]
    }
   ],
   "source": [
    "import numpy as np\n",
    "\n",
    "def k_means(X, k=2, max_itr=100):\n",
    "    # Randomly initialize centroids\n",
    "    centroids = X[np.random.choice(X.shape[0], k, replace=False)]\n",
    "\n",
    "    for _ in range(max_itr):\n",
    "        # Calculate distances from each point to each centroid\n",
    "        distances = np.linalg.norm(X[:, np.newaxis] - centroids, axis=2)\n",
    "        # print(distances)\n",
    "\n",
    "        # Assign each point to the closest centroid\n",
    "        labels = np.argmin(distances, axis=1)                   # np.argmin([3, 1, 2]) returns 1\n",
    "        # print(labels)\n",
    "\n",
    "        # Calculate new centroids\n",
    "        new_centroids = np.array([X[labels == i].mean(axis=0) for i in range(k)])\n",
    "\n",
    "        # Check for convergence\n",
    "        # np.all() : Checks if all elements in an array evaluate to True.\n",
    "        # np.allclose() : Checks if all elements in two arrays are element-wise equal within a tolerance.\n",
    "        if np.allclose(centroids, new_centroids):\n",
    "            print(\"Convergence\")\n",
    "            break\n",
    "\n",
    "        centroids = new_centroids\n",
    "\n",
    "    return centroids, labels\n",
    "\n",
    "# Example usage:\n",
    "X = np.array([[1, 2], [1, 4], [1, 0], [4, 2], [4, 4], [4, 0]])\n",
    "centroids, labels = k_means(X, k=2, max_itr=100)\n",
    "print(\"Centroids:\", centroids)\n",
    "print(\"Labels:\", labels)"
   ]
  },
  {
   "cell_type": "code",
   "execution_count": 4,
   "metadata": {},
   "outputs": [],
   "source": [
    "# import numpy as np\n",
    "\n",
    "# def k_means(X, k, max_iters=100):\n",
    "#     # randomly selects k data points from X to serve as the initial centroids\n",
    "#     # The `replace=False` parameter ensures that the initial centroids are unique. This is important because if the same data point were selected multiple times, the initial centroids would not be distinct, which could lead to poor clustering results.\n",
    "#     centroids = X[np.random.choice(X.shape[0], k, replace=False)]                       \n",
    "\n",
    "#     for _ in range(max_iters):\n",
    "#         # This line assigns each data point to the nearest centroid. np.linalg.norm calculates the Euclidean distance between each data point and each centroid. np.argmin finds the index of the closest centroid for each data point.\n",
    "#         labels = np.argmin(np.linalg.norm(X[:, np.newaxis] - centroids, axis=2), axis=1)\n",
    "#         new_centroids = np.array([X[labels == i].mean(axis=0) for i in range(k)])       # calculates the new centroids as the mean of the data points assigned to each cluster\n",
    "#         if np.all(centroids == new_centroids):                                          # If the centroids do not change (i.e., the algorithm has converged), the loop breaks early.\n",
    "#             break\n",
    "#         centroids = new_centroids\n",
    "\n",
    "#     return labels, centroids\n",
    "\n",
    "# # Example usage\n",
    "# X = np.array([[1, 2], [2, 3], [3, 4], [4, 5]])\n",
    "# labels, centroids = k_means(X, 2)\n",
    "# print(\"Labels:\", labels)\n",
    "# print(\"Centroids:\", centroids)"
   ]
  },
  {
   "cell_type": "markdown",
   "metadata": {},
   "source": [
    "- `X[:, np.newaxis]`\n",
    "    - This operation adds a new axis to the array `X`. If `X` has shape `(n, d)` (where `n` is the number of data points and `d` is the number of features), `X[:, np.newaxis]` will have shape `(n, 1, d)`. This is done to facilitate broadcasting in the next step.\n",
    "- `X[:, np.newaxis] - centroids`\n",
    "    - Here, centroids has shape `(k, d)`, where `k` is the number of clusters. When you subtract centroids from `X[:, np.newaxis]`, NumPy broadcasts the arrays to perform element-wise subtraction. The resulting array has shape `(n, k, d)`, where each element is the difference between a data point and a centroid.\n",
    "- `np.linalg.norm(X[:, np.newaxis] - centroids, axis=2)`\n",
    "    - The `np.linalg.norm` function calculates the Euclidean distance (L2 norm) between each data point and each centroid. The `axis=2` argument specifies that the norm should be computed along the last axis (the feature dimension). The resulting array has shape `(n, k)`, where each element is the distance between a data point and a centroid.\n",
    "- `np.argmin(..., axis=1)`\n",
    "    - The `np.argmin` function finds the index of the minimum value along a specified axis. In this case, `axis=1` specifies that we want to find the index of the minimum distance for each data point. The resulting array has shape `(n,)`, where each element is the index of the nearest centroid for each data point."
   ]
  }
 ],
 "metadata": {
  "kernelspec": {
   "display_name": ".aiop-venv",
   "language": "python",
   "name": "python3"
  },
  "language_info": {
   "codemirror_mode": {
    "name": "ipython",
    "version": 3
   },
   "file_extension": ".py",
   "mimetype": "text/x-python",
   "name": "python",
   "nbconvert_exporter": "python",
   "pygments_lexer": "ipython3",
   "version": "3.11.9"
  }
 },
 "nbformat": 4,
 "nbformat_minor": 2
}
