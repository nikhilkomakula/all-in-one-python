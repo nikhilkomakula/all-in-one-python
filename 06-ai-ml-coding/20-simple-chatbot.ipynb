{
 "cells": [
  {
   "cell_type": "markdown",
   "metadata": {},
   "source": [
    "### Chatbot"
   ]
  },
  {
   "cell_type": "code",
   "execution_count": 1,
   "metadata": {},
   "outputs": [
    {
     "name": "stdout",
     "output_type": "stream",
     "text": [
      "Simple ChatBot: Type 'bye' to exit.\n",
      "Simple ChatBot: Hello! How can I assist you?\n",
      "Simple ChatBot: I'm just a bot, but I'm here to help you!\n",
      "Simple ChatBot: Goodbye! Have a great day!\n"
     ]
    }
   ],
   "source": [
    "class SimpleChatBot:\n",
    "    def __init__(self):\n",
    "        self.responses = {\n",
    "            \"hello\": \"Hi there! How can I help you today?\",\n",
    "            \"hi\": \"Hello! How can I assist you?\",\n",
    "            \"how are you\": \"I'm just a bot, but I'm here to help you!\",\n",
    "            \"what is your name\": \"I'm a simple chatbot. You can call me Bot!\",\n",
    "            \"bye\": \"Goodbye! Have a great day!\",\n",
    "            \"thank you\": \"You're welcome! Feel free to ask if you have more questions.\",\n",
    "            \"help\": \"I can help with basic questions. Just ask me something!\",\n",
    "        }\n",
    "\n",
    "    def get_response(self, user_input):\n",
    "        user_input = user_input.lower()\n",
    "        for key in self.responses:\n",
    "            if key in user_input:\n",
    "                return self.responses[key]\n",
    "        return \"I'm sorry, I don't understand that. Can you please rephrase?\"\n",
    "\n",
    "def main():\n",
    "    chatbot = SimpleChatBot()\n",
    "    print(\"Simple ChatBot: Type 'bye' to exit.\")\n",
    "\n",
    "    while True:\n",
    "        user_input = input(\"You: \")\n",
    "        if user_input.lower() == \"bye\":\n",
    "            print(\"Simple ChatBot: Goodbye! Have a great day!\")\n",
    "            break\n",
    "        response = chatbot.get_response(user_input)\n",
    "        print(f\"Simple ChatBot: {response}\")\n",
    "\n",
    "if __name__ == \"__main__\":\n",
    "    main()"
   ]
  },
  {
   "cell_type": "code",
   "execution_count": null,
   "metadata": {},
   "outputs": [],
   "source": []
  },
  {
   "cell_type": "code",
   "execution_count": null,
   "metadata": {},
   "outputs": [],
   "source": []
  }
 ],
 "metadata": {
  "kernelspec": {
   "display_name": ".aiop-venv",
   "language": "python",
   "name": "python3"
  },
  "language_info": {
   "codemirror_mode": {
    "name": "ipython",
    "version": 3
   },
   "file_extension": ".py",
   "mimetype": "text/x-python",
   "name": "python",
   "nbconvert_exporter": "python",
   "pygments_lexer": "ipython3",
   "version": "3.11.9"
  }
 },
 "nbformat": 4,
 "nbformat_minor": 2
}
