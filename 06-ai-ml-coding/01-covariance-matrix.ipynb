{
 "cells": [
  {
   "cell_type": "markdown",
   "metadata": {},
   "source": [
    "### Covariance Matrix"
   ]
  },
  {
   "cell_type": "markdown",
   "metadata": {},
   "source": [
    "Write a Python function that calculates the covariance matrix from a list of vectors. Assume that the input list represents a dataset where each vector is a feature, and vectors are of equal length.\n",
    "\n",
    "Example:\n",
    "- input: vectors = [[1, 2, 3], [4, 5, 6]]\n",
    "- output: [[1.0, 1.0], [1.0, 1.0]]\n",
    "- reasoning: The dataset has two features with three observations each. The covariance between each pair of features (including covariance with itself) is calculated and returned as a 2x2 matrix."
   ]
  },
  {
   "cell_type": "markdown",
   "metadata": {},
   "source": [
    "### Covariance between two random variables $X$ and $Y$. The formula is:\n",
    "\n",
    "$$\n",
    "Cov(X, Y) = \\frac{1}{N} \\sum_{i=1}^{N} (X_i - \\bar{X})(Y_i - \\bar{Y})\n",
    "$$\n",
    "\n",
    "Where:\n",
    "- $N$ is the number of data points.\n",
    "- $X_i$ and $Y_i$ are individual data points from the datasets $X$ and $Y$.\n",
    "- $\\bar{X}$ and $\\bar{Y}$ are the means (averages) of the $X$ and $Y$ datasets, respectively."
   ]
  },
  {
   "cell_type": "markdown",
   "metadata": {},
   "source": [
    "### Example\n",
    "\n",
    "Suppose we have a dataset with two variables, $X$ and $Y$, and we have 3 observations for each variable:\n",
    "\n",
    "$X = [1, 2, 3]$\n",
    "\n",
    "$Y = [4, 5, 6]$\n",
    "\n",
    "We want to calculate the covariance matrix for these two variables.\n",
    "\n",
    "### Step-by-Step Calculation\n",
    "\n",
    "1. **Calculate the means of $X$ and $Y$:**\n",
    "\n",
    "$\\mu_X = \\frac{1 + 2 + 3}{3} = 2$\n",
    "\n",
    "$\\mu_Y = \\frac{4 + 5 + 6}{3} = 5$\n",
    "\n",
    "2. **Subtract the means from each observation to get the deviations:**\n",
    "\n",
    "$X - \\mu_X = [1 - 2, 2 - 2, 3 - 2] = [-1, 0, 1]$\n",
    "\n",
    "$Y - \\mu_Y = [4 - 5, 5 - 5, 6 - 5] = [-1, 0, 1]$\n",
    "\n",
    "3. **Construct the deviation matrix:**\n",
    "\n",
    "$\\text{Deviation Matrix} = \\begin{bmatrix} -1 & -1 \\\\ 0 & 0 \\\\ 1 & 1 \\end{bmatrix}$\n",
    "\n",
    "4. **Calculate the covariance matrix:**\n",
    "\n",
    "The covariance matrix $Q$ is given by:\n",
    "\n",
    "$Q = \\frac{1}{m - 1} \\times (\\text{Deviation Matrix})^T \\times (\\text{Deviation Matrix})$\n",
    "\n",
    "Where $m$ is the number of observations (3 in this case).\n",
    "\n",
    "First, calculate the transpose of the deviation matrix:\n",
    "\n",
    "$(\\text{Deviation Matrix})^T = \\begin{bmatrix} -1 & 0 & 1 \\\\ -1 & 0 & 1 \\end{bmatrix}$\n",
    "\n",
    "Next, multiply the transpose by the original deviation matrix:\n",
    "\n",
    "$(\\text{Deviation Matrix})^T \\times (\\text{Deviation Matrix}) = \\begin{bmatrix} -1 & 0 & 1 \\\\ -1 & 0 & 1 \\end{bmatrix} \\times \\begin{bmatrix} -1 & -1 \\\\ 0 & 0 \\\\ 1 & 1 \\end{bmatrix}$\n",
    "\n",
    "$= \\begin{bmatrix} (-1 \\times -1) + (0 \\times 0) + (1 \\times 1) & (-1 \\times -1) + (0 \\times 0) + (1 \\times 1) \\\\ (-1 \\times -1) + (0 \\times 0) + (1 \\times 1) & (-1 \\times -1) + (0 \\times 0) + (1 \\times 1) \\end{bmatrix}$\n",
    "\n",
    "$= \\begin{bmatrix} 1 + 0 + 1 & 1 + 0 + 1 \\\\ 1 + 0 + 1 & 1 + 0 + 1 \\end{bmatrix}$\n",
    "\n",
    "$= \\begin{bmatrix} 2 & 2 \\\\ 2 & 2 \\end{bmatrix}$\n",
    "\n",
    "Finally, divide by $m - 1$ (which is 2 in this case):\n",
    "\n",
    "$Q = \\frac{1}{2} \\times \\begin{bmatrix} 2 & 2 \\\\ 2 & 2 \\end{bmatrix}$\n",
    "\n",
    "$Q = \\begin{bmatrix} 1 & 1 \\\\ 1 & 1 \\end{bmatrix}$\n",
    "\n",
    "### Interpretation\n",
    "\n",
    "The covariance matrix $Q$ is:\n",
    "\n",
    "$Q = \\begin{bmatrix} 1 & 1 \\\\ 1 & 1 \\end{bmatrix}$\n",
    "\n",
    "- The diagonal elements (1, 1) represent the variances of $X$ and $Y$, respectively.\n",
    "- The off-diagonal elements (1, 1) represent the covariance between $X$ and $Y$.\n",
    "\n",
    "In this example, the covariance between $X$ and $Y$ is 1, indicating that $X$ and $Y$ vary together perfectly positively."
   ]
  },
  {
   "cell_type": "code",
   "execution_count": 1,
   "metadata": {},
   "outputs": [
    {
     "name": "stdout",
     "output_type": "stream",
     "text": [
      "Covariance Matrix:\n",
      "[1.0, 1.0]\n",
      "[1.0, 1.0]\n"
     ]
    }
   ],
   "source": [
    "# Data\n",
    "X = [1, 2, 3]\n",
    "Y = [4, 5, 6]\n",
    "\n",
    "# Number of observations\n",
    "m = len(X)\n",
    "\n",
    "# Calculate means\n",
    "mean_X = sum(X) / m\n",
    "mean_Y = sum(Y) / m\n",
    "\n",
    "# Calculate deviations from the mean\n",
    "dev_X = [x - mean_X for x in X]\n",
    "dev_Y = [y - mean_Y for y in Y]\n",
    "\n",
    "# Construct the deviation matrix\n",
    "deviation_matrix = [[dev_X[i], dev_Y[i]] for i in range(m)]\n",
    "\n",
    "# Transpose of the deviation matrix\n",
    "deviation_matrix_T = [[deviation_matrix[j][i] for j in range(m)] for i in range(2)]\n",
    "\n",
    "# Multiply the transpose by the original deviation matrix\n",
    "cov_matrix = [[0, 0], [0, 0]]\n",
    "for i in range(2):\n",
    "    for j in range(2):\n",
    "        for k in range(m):\n",
    "            cov_matrix[i][j] += deviation_matrix_T[i][k] * deviation_matrix[k][j]\n",
    "\n",
    "# Divide by (m - 1) to get the covariance matrix\n",
    "for i in range(2):\n",
    "    for j in range(2):\n",
    "        cov_matrix[i][j] /= (m - 1)\n",
    "\n",
    "# Print the covariance matrix\n",
    "print(\"Covariance Matrix:\")\n",
    "for row in cov_matrix:\n",
    "    print(row)"
   ]
  },
  {
   "cell_type": "code",
   "execution_count": null,
   "metadata": {},
   "outputs": [],
   "source": []
  }
 ],
 "metadata": {
  "kernelspec": {
   "display_name": ".aiop-venv",
   "language": "python",
   "name": "python3"
  },
  "language_info": {
   "codemirror_mode": {
    "name": "ipython",
    "version": 3
   },
   "file_extension": ".py",
   "mimetype": "text/x-python",
   "name": "python",
   "nbconvert_exporter": "python",
   "pygments_lexer": "ipython3",
   "version": "3.11.9"
  }
 },
 "nbformat": 4,
 "nbformat_minor": 2
}
