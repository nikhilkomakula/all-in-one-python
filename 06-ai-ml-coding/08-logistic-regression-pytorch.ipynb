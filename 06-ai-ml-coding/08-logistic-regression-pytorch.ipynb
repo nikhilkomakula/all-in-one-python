{
 "cells": [
  {
   "cell_type": "markdown",
   "metadata": {},
   "source": [
    "### Logistic Regression using PyTorch"
   ]
  },
  {
   "cell_type": "code",
   "execution_count": null,
   "metadata": {},
   "outputs": [],
   "source": [
    "import torch\n",
    "import torch.nn as nn\n",
    "import torch.optim as optim\n",
    "import numpy as np\n",
    "from sklearn.metrics import accuracy_score\n",
    "from sklearn.model_selection import train_test_split\n",
    "\n",
    "# Set random seeds for reproducibility\n",
    "np.random.seed(42)\n",
    "torch.manual_seed(42)\n",
    "\n",
    "# Generate synthetic binary data\n",
    "X = 2 * np.random.rand(100, 1)  # generates numbers uniformly distributed between 0 and 1\n",
    "y = (4 + 3 * X + np.random.randn(100, 1) > 0.5).astype(int)  # generates binary target data\n",
    "\n",
    "# Split the data into training and test sets\n",
    "X_train, X_test, y_train, y_test = train_test_split(X, y, test_size=0.2, random_state=42)\n",
    "\n",
    "# Convert data to PyTorch tensors\n",
    "X_train_tensor = torch.tensor(X_train, dtype=torch.float32)\n",
    "y_train_tensor = torch.tensor(y_train, dtype=torch.float32)\n",
    "X_test_tensor = torch.tensor(X_test, dtype=torch.float32)\n",
    "y_test_tensor = torch.tensor(y_test, dtype=torch.float32)\n",
    "\n",
    "# Define the logistic regression model\n",
    "class LogisticRegressionModel(nn.Module):\n",
    "    def __init__(self, input_dim=1, output_dim=1):\n",
    "        super(LogisticRegressionModel, self).__init__()\n",
    "        self.linear = nn.Linear(input_dim, output_dim)  # creates a linear transformation: y = xW^T + b\n",
    "\n",
    "    def forward(self, x):\n",
    "        return torch.sigmoid(self.linear(x))  # applies the sigmoid function to output probabilities\n",
    "\n",
    "# Initialize the model, loss function, and optimizer\n",
    "model = LogisticRegressionModel()\n",
    "criterion = nn.BCELoss()  # Binary Cross-Entropy Loss\n",
    "optimizer = optim.SGD(model.parameters(), lr=0.01)  # model.parameters(): returns an iterator over all the parameters (weights and biases)\n",
    "\n",
    "# Training the model\n",
    "num_epochs = 1000\n",
    "model.train()  # Set the model to training mode\n",
    "for epoch in range(num_epochs):\n",
    "    # Forward pass\n",
    "    y_pred_train = model(X_train_tensor)\n",
    "    loss = criterion(y_pred_train, y_train_tensor)\n",
    "\n",
    "    # Backward pass and optimization\n",
    "    optimizer.zero_grad()   # gradients are reset to zero before the backward pass, so that the gradients are correctly computed for the current batch of data\n",
    "    loss.backward()     # computes the gradient of the loss with respect to the model parameters\n",
    "    optimizer.step()    # updates the model parameters using the computed gradients\n",
    "\n",
    "# Make predictions on the test set\n",
    "model.eval()  # Set the model to evaluation mode\n",
    "with torch.no_grad():  # No need to track gradients for predictions\n",
    "    y_pred_test = model(X_test_tensor).detach().numpy()\n",
    "    y_pred_test = (y_pred_test > 0.5).astype(int)  # Convert probabilities to binary predictions\n",
    "\n",
    "# Calculate performance metrics on the test set\n",
    "accuracy = accuracy_score(y_test, y_pred_test)\n",
    "print(f'Accuracy on test set: {accuracy:.4f}')"
   ]
  },
  {
   "cell_type": "code",
   "execution_count": null,
   "metadata": {},
   "outputs": [],
   "source": []
  }
 ],
 "metadata": {
  "kernelspec": {
   "display_name": ".aiop-venv",
   "language": "python",
   "name": "python3"
  },
  "language_info": {
   "name": "python",
   "version": "3.11.9"
  }
 },
 "nbformat": 4,
 "nbformat_minor": 2
}
