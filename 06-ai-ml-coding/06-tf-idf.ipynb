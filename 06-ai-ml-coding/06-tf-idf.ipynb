{
 "cells": [
  {
   "cell_type": "markdown",
   "metadata": {},
   "source": [
    "### TF-IDF (Term Frequency-Inverse Document Frequency)"
   ]
  },
  {
   "cell_type": "markdown",
   "metadata": {},
   "source": [
    "### Understanding TF-IDF (Term Frequency-Inverse Document Frequency)\n",
    "\n",
    "TF-IDF is a numerical statistic used to reflect the importance of a word in a document within a collection or corpus. It is commonly used in information retrieval and text mining.\n",
    "\n",
    "### Mathematical Formulation\n",
    "\n",
    "TF-IDF is the product of two statistics: Term Frequency (TF) and Inverse Document Frequency (IDF).\n",
    "\n",
    "### Term Frequency (TF):\n",
    "\n",
    "$\n",
    "TF(t, d) = \\frac{\\text{Number of times term } t \\text{ appears in document } d}{\\text{Total number of terms in document } d}\n",
    "$\n",
    "\n",
    "### Inverse Document Frequency (IDF):\n",
    "\n",
    "$\n",
    "IDF(t) = \\log \\left( \\frac{\\text{Total number of documents}}{\\text{Number of documents containing term } t} \\right)\n",
    "$\n",
    "\n",
    "### TF-IDF:\n",
    "\n",
    "$\n",
    "TFIDF(t, d) = TF(t, d) \\times IDF(t)\n",
    "$"
   ]
  },
  {
   "cell_type": "markdown",
   "metadata": {},
   "source": [
    "Step 1: Compute Term Frequency (TF)\n",
    "\n",
    "- Term Frequency (TF) measures how frequently a term occurs in a document.\n",
    "\n",
    "Step 2: Compute Document Frequency (DF)\n",
    "\n",
    "- Document Frequency (DF) measures the number of documents in which a term appears.\n",
    "\n",
    "Step 3: Compute Inverse Document Frequency (IDF)\n",
    "\n",
    "- Inverse Document Frequency (IDF) measures how important a term is. It is computed as the logarithm of the ratio of the total number of documents to the document frequency of the term.\n",
    "\n",
    "Step 4: Compute TF-IDF\n",
    "\n",
    "- TF-IDF is the product of TF and IDF."
   ]
  },
  {
   "cell_type": "markdown",
   "metadata": {},
   "source": [
    "Write a function compute_tf_idf(corpus, query) that takes the following inputs:\n",
    "\n",
    "- corpus: A list of documents, where each document is a list of words.\n",
    "- query: A list of words for which you want to compute the TF-IDF scores.\n",
    "\n",
    "The function should return a list of lists containing the TF-IDF scores for the query words in each document, rounded to five decimal places."
   ]
  },
  {
   "cell_type": "code",
   "execution_count": 4,
   "metadata": {},
   "outputs": [
    {
     "name": "stdout",
     "output_type": "stream",
     "text": [
      "TF-IDF scores for term 'cat':\n",
      "Document 0: 0.0\n",
      "Document 1: 0.0\n",
      "Document 2: 0.0\n"
     ]
    }
   ],
   "source": [
    "import math\n",
    "\n",
    "# Corpus and query\n",
    "corpus = [\n",
    "    [\"the\", \"cat\", \"sat\", \"on\", \"the\", \"mat\"],\n",
    "    [\"the\", \"dog\", \"chased\", \"the\", \"cat\"],\n",
    "    [\"the\", \"bird\", \"flew\", \"over\", \"the\", \"mat\"]\n",
    "]\n",
    "query = [\"cat\"]\n",
    "\n",
    "# Step 1: Compute Term Frequency (TF)\n",
    "def compute_tf(doc, term):\n",
    "    return doc.count(term) / len(doc)\n",
    "\n",
    "# Step 2: Compute Document Frequency (DF)\n",
    "def compute_df(corpus, term):\n",
    "    df = 0\n",
    "    for doc in corpus:\n",
    "        if term in doc:\n",
    "            df += 1\n",
    "    return df\n",
    "\n",
    "# Step 3: Compute Inverse Document Frequency (IDF)\n",
    "def compute_idf(corpus, term):\n",
    "    df = compute_df(corpus, term)\n",
    "    return math.log(len(corpus) / (1 + df))  # Adding 1 to avoid division by zero\n",
    "\n",
    "# Step 4: Compute TF-IDF\n",
    "def compute_tfidf(corpus, query):\n",
    "    tfidf_scores = {}\n",
    "    for term in query:\n",
    "        tfidf_scores[term] = {}\n",
    "        for doc_index, doc in enumerate(corpus):\n",
    "            tf = compute_tf(doc, term)\n",
    "            idf = compute_idf(corpus, term)\n",
    "            tfidf_scores[term][doc_index] = tf * idf\n",
    "    return tfidf_scores\n",
    "\n",
    "# Compute TF-IDF for the query\n",
    "tfidf_scores = compute_tfidf(corpus, query)\n",
    "\n",
    "# Print the results\n",
    "for term in query:\n",
    "    print(f\"TF-IDF scores for term '{term}':\")\n",
    "    for doc_index, score in tfidf_scores[term].items():\n",
    "        print(f\"Document {doc_index}: {score}\")"
   ]
  },
  {
   "cell_type": "code",
   "execution_count": 5,
   "metadata": {},
   "outputs": [],
   "source": [
    "import numpy as np\n",
    "\n",
    "def compute_tf_idf(corpus, query):\n",
    "    \"\"\"\n",
    "    Compute TF-IDF scores for a query against a corpus of documents using only NumPy.\n",
    "    The output TF-IDF scores retain five decimal places.\n",
    "    \"\"\"\n",
    "    vocab = sorted(set(word for document in corpus for word in document).union(query))\n",
    "    word_to_index = {word: idx for idx, word in enumerate(vocab)}\n",
    "\n",
    "    tf = np.zeros((len(corpus), len(vocab)))\n",
    "\n",
    "    for doc_idx, document in enumerate(corpus):\n",
    "        for word in document:\n",
    "            word_idx = word_to_index[word]\n",
    "            tf[doc_idx, word_idx] += 1\n",
    "        tf[doc_idx, :] /= len(document)\n",
    "\n",
    "    df = np.count_nonzero(tf > 0, axis=0)\n",
    "\n",
    "    num_docs = len(corpus)\n",
    "    idf = np.log((num_docs + 1) / (df + 1)) + 1\n",
    "\n",
    "    tf_idf = tf * idf\n",
    "\n",
    "    query_indices = [word_to_index[word] for word in query]\n",
    "    tf_idf_scores = tf_idf[:, query_indices]\n",
    "\n",
    "    tf_idf_scores = np.round(tf_idf_scores, 5)\n",
    "\n",
    "    return tf_idf_scores.tolist()"
   ]
  },
  {
   "cell_type": "code",
   "execution_count": 6,
   "metadata": {},
   "outputs": [
    {
     "name": "stdout",
     "output_type": "stream",
     "text": [
      "[[0.21461], [0.25754], [0.0]]\n"
     ]
    }
   ],
   "source": [
    "corpus = [\n",
    "    [\"the\", \"cat\", \"sat\", \"on\", \"the\", \"mat\"],\n",
    "    [\"the\", \"dog\", \"chased\", \"the\", \"cat\"],\n",
    "    [\"the\", \"bird\", \"flew\", \"over\", \"the\", \"mat\"]\n",
    "]\n",
    "query = [\"cat\"]\n",
    "\n",
    "print(compute_tf_idf(corpus, query))\n",
    "\n",
    "# Expected Output:\n",
    "# [[0.21461], [0.25754], [0.0]]"
   ]
  }
 ],
 "metadata": {
  "kernelspec": {
   "display_name": ".aiop-venv",
   "language": "python",
   "name": "python3"
  },
  "language_info": {
   "codemirror_mode": {
    "name": "ipython",
    "version": 3
   },
   "file_extension": ".py",
   "mimetype": "text/x-python",
   "name": "python",
   "nbconvert_exporter": "python",
   "pygments_lexer": "ipython3",
   "version": "3.11.9"
  }
 },
 "nbformat": 4,
 "nbformat_minor": 2
}
