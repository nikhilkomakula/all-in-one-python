{
 "cells": [
  {
   "cell_type": "markdown",
   "metadata": {},
   "source": [
    "### Inter-Quartile Range"
   ]
  },
  {
   "cell_type": "code",
   "execution_count": 1,
   "metadata": {},
   "outputs": [
    {
     "name": "stdout",
     "output_type": "stream",
     "text": [
      "The Interquartile Range (IQR) is: 4.5\n"
     ]
    }
   ],
   "source": [
    "import numpy as np\n",
    "\n",
    "def compute_iqr(data):\n",
    "    # Convert data to a numpy array\n",
    "    data = np.array(data)\n",
    "\n",
    "    # Compute the 25th and 75th percentiles\n",
    "    q1 = np.percentile(data, 25)\n",
    "    q3 = np.percentile(data, 75)\n",
    "\n",
    "    # Compute the IQR\n",
    "    iqr = q3 - q1\n",
    "\n",
    "    return iqr\n",
    "\n",
    "# Example usage\n",
    "data = [1, 2, 3, 4, 5, 6, 7, 8, 9, 10]\n",
    "iqr = compute_iqr(data)\n",
    "print(f\"The Interquartile Range (IQR) is: {iqr}\")"
   ]
  }
 ],
 "metadata": {
  "kernelspec": {
   "display_name": ".aiop-venv",
   "language": "python",
   "name": "python3"
  },
  "language_info": {
   "codemirror_mode": {
    "name": "ipython",
    "version": 3
   },
   "file_extension": ".py",
   "mimetype": "text/x-python",
   "name": "python",
   "nbconvert_exporter": "python",
   "pygments_lexer": "ipython3",
   "version": "3.11.9"
  }
 },
 "nbformat": 4,
 "nbformat_minor": 2
}
