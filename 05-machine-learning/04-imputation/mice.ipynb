{
 "cells": [
  {
   "cell_type": "markdown",
   "metadata": {},
   "source": [
    "# Multiple Imputation by Chained Equation (MICE)"
   ]
  },
  {
   "cell_type": "markdown",
   "metadata": {},
   "source": [
    "MICE is a sophisticated statistical technique used to handle missing data in datasets. Instead of filling in a single value for each missing data point, MICE generates multiple plausible values, creating several complete datasets. This approach accounts for the uncertainty inherent in estimating missing values, leading to more reliable and robust statistical analyses."
   ]
  },
  {
   "cell_type": "code",
   "execution_count": 3,
   "metadata": {},
   "outputs": [
    {
     "name": "stdout",
     "output_type": "stream",
     "text": [
      "    Age   Salary  Experience\n",
      "0  25.0  50000.0         2.0\n",
      "1  30.0  60000.0         5.0\n",
      "2  25.0  55000.0         3.0\n",
      "3  22.0  55000.0         1.0\n",
      "4  28.0  58000.0         3.0\n"
     ]
    }
   ],
   "source": [
    "import pandas as pd\n",
    "from statsmodels.imputation.mice import MICEData\n",
    "\n",
    "# Sample DataFrame with missing values\n",
    "df = pd.DataFrame({\n",
    "  'Age': [25, 30, None, 22, 28],\n",
    "  'Salary': [50000, 60000, 55000, None, 58000],\n",
    "  'Experience': [2, 5, 3, 1, None]\n",
    "})\n",
    "\n",
    "# Initialize MICE\n",
    "mice_data = MICEData(df)\n",
    "\n",
    "# Perform Imputation\n",
    "imputed_df = mice_data.data\n",
    "\n",
    "print(imputed_df)"
   ]
  },
  {
   "cell_type": "code",
   "execution_count": null,
   "metadata": {},
   "outputs": [],
   "source": []
  }
 ],
 "metadata": {
  "kernelspec": {
   "display_name": ".aiop-venv",
   "language": "python",
   "name": "python3"
  },
  "language_info": {
   "codemirror_mode": {
    "name": "ipython",
    "version": 3
   },
   "file_extension": ".py",
   "mimetype": "text/x-python",
   "name": "python",
   "nbconvert_exporter": "python",
   "pygments_lexer": "ipython3",
   "version": "3.11.9"
  }
 },
 "nbformat": 4,
 "nbformat_minor": 2
}
