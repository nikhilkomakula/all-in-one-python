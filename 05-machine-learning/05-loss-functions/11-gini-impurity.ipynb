{
 "cells": [
  {
   "cell_type": "markdown",
   "metadata": {},
   "source": [
    "### Implement Gini Impurity Calculation for a Set of Classes"
   ]
  },
  {
   "cell_type": "markdown",
   "metadata": {},
   "source": [
    "# Understanding Gini Impurity\n",
    "\n",
    "Gini impurity is a statistical measurement of the impurity or disorder in a list of elements. It is commonly used in decision tree algorithms to decide the optimal split at tree nodes. It is calculated as follows, where $ p_i $ is the probability of each class - $ \\frac{n_i}{n} $:\n",
    "\n",
    "$ \n",
    "\\text{Gini Impurity} = 1 - \\sum_{i=1}^{C} p_i^2 \n",
    "$\n",
    "\n",
    "A Gini impurity of 0 indicates a node where all elements belong to the same class, whereas a Gini impurity of 0.5 indicates maximum impurity, where elements are evenly distributed among each class. This means that a lower impurity implies a more homogeneous distribution of elements, suggesting a good split, as decision trees aim to minimize it at each node.\n",
    "\n",
    "## Advantages and Limitations\n",
    "\n",
    "**Advantages:**\n",
    "\n",
    "- Computationally efficient\n",
    "- Works for binary and multi-class classification\n",
    "\n",
    "**Limitations:**\n",
    "\n",
    "- Biased toward larger classes\n",
    "- May cause overfitting in deep decision trees\n",
    "\n",
    "## Example Calculation\n",
    "\n",
    "Suppose we have the set: [0, 1, 1, 1, 0]. The probability of each class is calculated as follows:\n",
    "\n",
    "$ \n",
    "p_0 = \\frac{2}{5} \\quad p_1 = \\frac{3}{5} \n",
    "$\n",
    "\n",
    "The Gini Impurity is then calculated as follows:\n",
    "\n",
    "$ \n",
    "\\text{Gini Impurity} = 1 - (p_0^2 + p_1^2) = 1 - \\left( \\left( \\frac{2}{5} \\right)^2 + \\left( \\frac{3}{5} \\right)^2 \\right) = 0.48 \n",
    "$"
   ]
  },
  {
   "cell_type": "markdown",
   "metadata": {},
   "source": [
    "Your task is to implement a function that calculates the Gini Impurity for a set of classes. Gini impurity is commonly used in decision tree algorithms to measure the impurity or disorder within a node.\n",
    "\n",
    "Write a function gini_impurity(y) that takes in a list of class labels y and returns the Gini Impurity rounded to three decimal places."
   ]
  },
  {
   "cell_type": "markdown",
   "metadata": {},
   "source": [
    "Example:\n",
    "y = [0, 1, 1, 1, 0]\n",
    "print(gini_impurity(y))\n",
    "\n",
    "Expected Output:\n",
    "0.48"
   ]
  },
  {
   "cell_type": "code",
   "execution_count": 5,
   "metadata": {},
   "outputs": [],
   "source": [
    "from collections import Counter\n",
    "\n",
    "def gini_impurity(y: list) -> float:\n",
    "  \"\"\"\n",
    "  Calculate Gini impurity for a set of labels.\n",
    "  \n",
    "  Args:\n",
    "      y: List of class labels\n",
    "      \n",
    "  Returns:\n",
    "      Gini impurity value between 0 (pure) and 1-1/k (impure)\n",
    "      where k is the number of classes\n",
    "  \"\"\"\n",
    "  if len(y) == 0:\n",
    "      raise ValueError(\"Input array cannot be empty\")\n",
    "      \n",
    "  # Count frequency of each class\n",
    "  class_freq = Counter(y)\n",
    "  \n",
    "  # Total number of samples\n",
    "  n_samples = len(y)\n",
    "  \n",
    "  # Calculate probability for each class\n",
    "  probabilities = [freq/n_samples for freq in class_freq.values()]\n",
    "  \n",
    "  # Calculate Gini impurity\n",
    "  return 1 - sum(p**2 for p in probabilities)"
   ]
  },
  {
   "cell_type": "code",
   "execution_count": 6,
   "metadata": {},
   "outputs": [
    {
     "name": "stdout",
     "output_type": "stream",
     "text": [
      "0.5\n"
     ]
    }
   ],
   "source": [
    "y = [0, 0, 0, 0, 1, 1, 1, 1]\n",
    "print(gini_impurity(y))"
   ]
  },
  {
   "cell_type": "code",
   "execution_count": 7,
   "metadata": {},
   "outputs": [
    {
     "name": "stdout",
     "output_type": "stream",
     "text": [
      "0.2777777777777777\n"
     ]
    }
   ],
   "source": [
    "y = [0, 0, 0, 0, 0, 1]\n",
    "print(gini_impurity(y))"
   ]
  },
  {
   "cell_type": "code",
   "execution_count": 8,
   "metadata": {},
   "outputs": [
    {
     "name": "stdout",
     "output_type": "stream",
     "text": [
      "0.5714285714285714\n"
     ]
    }
   ],
   "source": [
    "y = [0, 1, 2, 2, 2, 1, 2]\n",
    "print(gini_impurity(y))"
   ]
  }
 ],
 "metadata": {
  "kernelspec": {
   "display_name": ".aiop-venv",
   "language": "python",
   "name": "python3"
  },
  "language_info": {
   "codemirror_mode": {
    "name": "ipython",
    "version": 3
   },
   "file_extension": ".py",
   "mimetype": "text/x-python",
   "name": "python",
   "nbconvert_exporter": "python",
   "pygments_lexer": "ipython3",
   "version": "3.11.9"
  }
 },
 "nbformat": 4,
 "nbformat_minor": 2
}
