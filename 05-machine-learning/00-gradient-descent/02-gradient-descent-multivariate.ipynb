{
 "cells": [
  {
   "cell_type": "markdown",
   "metadata": {},
   "source": [
    "# Gradient Descent (Multivariate)"
   ]
  },
  {
   "cell_type": "markdown",
   "metadata": {},
   "source": [
    "Multivariate Example: x^2 + Y^2"
   ]
  },
  {
   "cell_type": "code",
   "execution_count": 1,
   "metadata": {},
   "outputs": [],
   "source": [
    "import pandas as pd\n",
    "import numpy as np\n",
    "\n",
    "def C(vals):\n",
    "    x, y = vals[0], vals[1]\n",
    "\n",
    "    return x**2 + y**2\n",
    "\n",
    "# Gradient of cost function\n",
    "def dC(vals):\n",
    "    x, y = vals[0], vals[1]\n",
    "\n",
    "    return np.array([2*x, 2*y])\n",
    "\n",
    "# Gradient descent algorithm\n",
    "def gradient_descent(initial_q, learning_rate, num_iterations):\n",
    "    q_values = [initial_q]\n",
    "    cost_values = [C(initial_q)]\n",
    "\n",
    "    # Perform gradient descent\n",
    "    for i in range(num_iterations):\n",
    "        current_q = q_values[-1]\n",
    "        delta_q = -learning_rate * dC(current_q)\n",
    "        new_q = current_q + delta_q\n",
    "        q_values.append(new_q)\n",
    "        cost_values.append(C(new_q))\n",
    "\n",
    "    return pd.DataFrame({'q_values': q_values, 'cost_values': cost_values})\n",
    "\n",
    "# Define parameters\n",
    "initial_q = [1,2]\n",
    "learning_rate = 0.05\n",
    "num_iterations = 100\n",
    "\n",
    "# Perform gradient descent\n",
    "df = gradient_descent(initial_q, learning_rate, num_iterations)"
   ]
  },
  {
   "cell_type": "code",
   "execution_count": 2,
   "metadata": {},
   "outputs": [
    {
     "data": {
      "text/html": [
       "<div>\n",
       "<style scoped>\n",
       "    .dataframe tbody tr th:only-of-type {\n",
       "        vertical-align: middle;\n",
       "    }\n",
       "\n",
       "    .dataframe tbody tr th {\n",
       "        vertical-align: top;\n",
       "    }\n",
       "\n",
       "    .dataframe thead th {\n",
       "        text-align: right;\n",
       "    }\n",
       "</style>\n",
       "<table border=\"1\" class=\"dataframe\">\n",
       "  <thead>\n",
       "    <tr style=\"text-align: right;\">\n",
       "      <th></th>\n",
       "      <th>q_values</th>\n",
       "      <th>cost_values</th>\n",
       "    </tr>\n",
       "  </thead>\n",
       "  <tbody>\n",
       "    <tr>\n",
       "      <th>0</th>\n",
       "      <td>[1, 2]</td>\n",
       "      <td>5.000000e+00</td>\n",
       "    </tr>\n",
       "    <tr>\n",
       "      <th>1</th>\n",
       "      <td>[0.9, 1.8]</td>\n",
       "      <td>4.050000e+00</td>\n",
       "    </tr>\n",
       "    <tr>\n",
       "      <th>2</th>\n",
       "      <td>[0.81, 1.62]</td>\n",
       "      <td>3.280500e+00</td>\n",
       "    </tr>\n",
       "    <tr>\n",
       "      <th>3</th>\n",
       "      <td>[0.7290000000000001, 1.4580000000000002]</td>\n",
       "      <td>2.657205e+00</td>\n",
       "    </tr>\n",
       "    <tr>\n",
       "      <th>4</th>\n",
       "      <td>[0.6561000000000001, 1.3122000000000003]</td>\n",
       "      <td>2.152336e+00</td>\n",
       "    </tr>\n",
       "    <tr>\n",
       "      <th>...</th>\n",
       "      <td>...</td>\n",
       "      <td>...</td>\n",
       "    </tr>\n",
       "    <tr>\n",
       "      <th>96</th>\n",
       "      <td>[4.048376602284325e-05, 8.09675320456865e-05]</td>\n",
       "      <td>8.194677e-09</td>\n",
       "    </tr>\n",
       "    <tr>\n",
       "      <th>97</th>\n",
       "      <td>[3.643538942055893e-05, 7.287077884111786e-05]</td>\n",
       "      <td>6.637688e-09</td>\n",
       "    </tr>\n",
       "    <tr>\n",
       "      <th>98</th>\n",
       "      <td>[3.279185047850304e-05, 6.558370095700607e-05]</td>\n",
       "      <td>5.376527e-09</td>\n",
       "    </tr>\n",
       "    <tr>\n",
       "      <th>99</th>\n",
       "      <td>[2.9512665430652733e-05, 5.902533086130547e-05]</td>\n",
       "      <td>4.354987e-09</td>\n",
       "    </tr>\n",
       "    <tr>\n",
       "      <th>100</th>\n",
       "      <td>[2.656139888758746e-05, 5.312279777517492e-05]</td>\n",
       "      <td>3.527540e-09</td>\n",
       "    </tr>\n",
       "  </tbody>\n",
       "</table>\n",
       "<p>101 rows × 2 columns</p>\n",
       "</div>"
      ],
      "text/plain": [
       "                                            q_values   cost_values\n",
       "0                                             [1, 2]  5.000000e+00\n",
       "1                                         [0.9, 1.8]  4.050000e+00\n",
       "2                                       [0.81, 1.62]  3.280500e+00\n",
       "3           [0.7290000000000001, 1.4580000000000002]  2.657205e+00\n",
       "4           [0.6561000000000001, 1.3122000000000003]  2.152336e+00\n",
       "..                                               ...           ...\n",
       "96     [4.048376602284325e-05, 8.09675320456865e-05]  8.194677e-09\n",
       "97    [3.643538942055893e-05, 7.287077884111786e-05]  6.637688e-09\n",
       "98    [3.279185047850304e-05, 6.558370095700607e-05]  5.376527e-09\n",
       "99   [2.9512665430652733e-05, 5.902533086130547e-05]  4.354987e-09\n",
       "100   [2.656139888758746e-05, 5.312279777517492e-05]  3.527540e-09\n",
       "\n",
       "[101 rows x 2 columns]"
      ]
     },
     "execution_count": 2,
     "metadata": {},
     "output_type": "execute_result"
    }
   ],
   "source": [
    "df"
   ]
  },
  {
   "cell_type": "code",
   "execution_count": null,
   "metadata": {},
   "outputs": [],
   "source": []
  }
 ],
 "metadata": {
  "kernelspec": {
   "display_name": ".aiop-venv",
   "language": "python",
   "name": "python3"
  },
  "language_info": {
   "codemirror_mode": {
    "name": "ipython",
    "version": 3
   },
   "file_extension": ".py",
   "mimetype": "text/x-python",
   "name": "python",
   "nbconvert_exporter": "python",
   "pygments_lexer": "ipython3",
   "version": "3.12.1"
  }
 },
 "nbformat": 4,
 "nbformat_minor": 2
}
