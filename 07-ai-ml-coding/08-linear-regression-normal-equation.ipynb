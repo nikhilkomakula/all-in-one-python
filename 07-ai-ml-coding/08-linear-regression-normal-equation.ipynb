{
 "cells": [
  {
   "cell_type": "markdown",
   "metadata": {},
   "source": [
    "### Linear Regression Using Normal Equation"
   ]
  },
  {
   "cell_type": "markdown",
   "metadata": {},
   "source": [
    "**Normal Equation:**\n",
    "$$\n",
    "\\mathbf{\\theta} = (\\mathbf{X}^T \\mathbf{X})^{-1} \\mathbf{X}^T \\mathbf{y}\n",
    "$$\n",
    "\n",
    "Where:\n",
    "\n",
    "- $\\mathbf{X}^T$ is the transpose of $\\mathbf{X}$,\n",
    "- $(\\mathbf{X}^T \\mathbf{X})^{-1}$ is the inverse of the matrix $\\mathbf{X}^T\\mathbf{X}$,\n",
    "- $y$ is the vector of target values."
   ]
  },
  {
   "cell_type": "markdown",
   "metadata": {},
   "source": [
    "Write a Python function that performs linear regression using the normal equation. The function should take a matrix X (features) and a vector y (target) as input, and return the coefficients of the linear regression model. Round your answer to four decimal places, -0.0 is a valid result for rounding a very small number."
   ]
  },
  {
   "cell_type": "markdown",
   "metadata": {},
   "source": [
    "Example:\n",
    "- input: X = [[1, 1], [1, 2], [1, 3]], y = [1, 2, 3]\n",
    "- output: [0.0, 1.0]\n",
    "- reasoning: The linear model is y = 0.0 + 1.0*x, perfectly fitting the input data."
   ]
  },
  {
   "cell_type": "code",
   "execution_count": null,
   "metadata": {},
   "outputs": [],
   "source": [
    "import numpy as np\n",
    "\n",
    "def linear_regression_normal_equation(X: list[list[float]], y: list[float]) -> list[float]:\n",
    "    X = np.array(X)\n",
    "    y = np.array(y).reshape(-1, 1)\n",
    "    X_transpose = X.T\n",
    "    weights = np.linalg.inv(X_transpose.dot(X)).dot(X_transpose).dot(y)\n",
    "    weights = np.round(weights, 4).flatten().tolist()\n",
    "    return weights"
   ]
  },
  {
   "cell_type": "code",
   "execution_count": 4,
   "metadata": {},
   "outputs": [],
   "source": [
    "X = [[1, 1], [1, 2], [1, 3]]\n",
    "y = [1, 2, 3]"
   ]
  },
  {
   "cell_type": "code",
   "execution_count": 5,
   "metadata": {},
   "outputs": [
    {
     "data": {
      "text/plain": [
       "[-0.0, 1.0]"
      ]
     },
     "execution_count": 5,
     "metadata": {},
     "output_type": "execute_result"
    }
   ],
   "source": [
    "linear_regression_normal_equation(X, y)"
   ]
  },
  {
   "cell_type": "code",
   "execution_count": null,
   "metadata": {},
   "outputs": [],
   "source": [
    "import numpy as np\n",
    "\n",
    "def linear_regression_normal_equation(X: list[list[float]], y: list[float]) -> tuple[list[float], float]:\n",
    "    # Convert the input lists to numpy arrays\n",
    "    X = np.array(X)\n",
    "    y = np.array(y).reshape(-1, 1)\n",
    "\n",
    "    # Add a column of ones to X to account for the bias term\n",
    "    ones = np.ones((X.shape[0], 1))\n",
    "    X = np.hstack((ones, X))\n",
    "\n",
    "    # Compute the transpose of X\n",
    "    X_transpose = X.T\n",
    "\n",
    "    # Compute the weights using the normal equation\n",
    "    theta = np.linalg.inv(X_transpose.dot(X)).dot(X_transpose).dot(y)\n",
    "\n",
    "    # Round the weights to 4 decimal places and convert to a list\n",
    "    theta = np.round(theta, 4).flatten().tolist()\n",
    "\n",
    "    # Separate the bias term from the weights\n",
    "    bias = theta[0]\n",
    "    weights = theta[1:]\n",
    "\n",
    "    return weights, bias\n",
    "\n",
    "# Example usage\n",
    "X = [[1, 2], [2, 3], [3, 4]]  # Input features (without bias term)\n",
    "y = [6, 8, 10]  # Target values\n",
    "weights, bias = linear_regression_normal_equation(X, y)\n",
    "print(f\"Weights: {weights}\")\n",
    "print(f\"Bias: {bias}\")"
   ]
  }
 ],
 "metadata": {
  "kernelspec": {
   "display_name": ".aiop-venv",
   "language": "python",
   "name": "python3"
  },
  "language_info": {
   "codemirror_mode": {
    "name": "ipython",
    "version": 3
   },
   "file_extension": ".py",
   "mimetype": "text/x-python",
   "name": "python",
   "nbconvert_exporter": "python",
   "pygments_lexer": "ipython3",
   "version": "3.11.9"
  }
 },
 "nbformat": 4,
 "nbformat_minor": 2
}
