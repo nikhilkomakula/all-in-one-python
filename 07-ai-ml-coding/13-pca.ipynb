{
 "cells": [
  {
   "cell_type": "markdown",
   "metadata": {},
   "source": [
    "### Principal Component Analysis (PCA)"
   ]
  },
  {
   "cell_type": "code",
   "execution_count": null,
   "metadata": {},
   "outputs": [
    {
     "name": "stdout",
     "output_type": "stream",
     "text": [
      "[[0.6855, 0.0776], [0.6202, 0.4586], [-0.3814, 0.8853]]\n",
      "[[0.7071], [0.7071]]\n"
     ]
    }
   ],
   "source": [
    "import numpy as np\n",
    "\n",
    "def pca(data, k):\n",
    "    # Standardize the data\n",
    "    data_standardized = (data - np.mean(data, axis=0)) / np.std(data, axis=0)\n",
    "    \n",
    "    # Compute the covariance matrix\n",
    "    covariance_matrix = np.cov(data_standardized, rowvar=False) # `rowvar` means each column of the input data represents a variable, and each row represents an observation\n",
    "    \n",
    "    # Eigen decomposition\n",
    "    eigenvalues, eigenvectors = np.linalg.eig(covariance_matrix)\n",
    "    \n",
    "    # Sort the eigenvectors by decreasing eigenvalues\n",
    "    idx = np.argsort(eigenvalues)[::-1]\n",
    "    eigenvalues_sorted = eigenvalues[idx]\n",
    "    eigenvectors_sorted = eigenvectors[:,idx]\n",
    "    \n",
    "    # Select the top k eigenvectors (principal components)\n",
    "    principal_components = eigenvectors_sorted[:, :k]\n",
    "    \n",
    "    return np.round(principal_components, 4).tolist()\n",
    "\n",
    "# Example usage\n",
    "print(pca(np.array([[4,2,1],[5,6,7],[9,12,1],[4,6,7]]),2))\n",
    "print(pca(np.array([[1, 2], [3, 4], [5, 6]]), k = 1))"
   ]
  },
  {
   "cell_type": "code",
   "execution_count": 5,
   "metadata": {},
   "outputs": [],
   "source": [
    "# import numpy as np\n",
    "\n",
    "# def pca(X, num_components):\n",
    "#     # 1. Input validation\n",
    "#     if num_components > X.shape[1]:\n",
    "#         raise ValueError(\"num_components cannot be greater than the number of features\")\n",
    "\n",
    "#     # 2. Center the data\n",
    "#     X_mean = np.mean(X, axis=0)\n",
    "#     X_centered = X - X_mean\n",
    "\n",
    "#     # 3. Compute covariance matrix\n",
    "#     cov_matrix = np.cov(X_centered, rowvar=False)  # rowvar=False indicates that each column represents a variable\n",
    "\n",
    "#     # 4. Compute eigenvalues and eigenvectors\n",
    "#     eigenvalues, eigenvectors = np.linalg.eigh(cov_matrix)  # Using eigh ensures that the eigenvalues are sorted in ascending order\n",
    "\n",
    "#     # 5. Sort eigenvalues and eigenvectors in descending order\n",
    "#     idx = np.argsort(eigenvalues)[::-1]   # Sort eigenvalues in descending order\n",
    "#     eigenvalues = eigenvalues[idx]        # Eigenvalues is a 1D array, Shape: (n_features,)\n",
    "#     eigenvectors = eigenvectors[:, idx]   # Eigenvectors is a 2D array, Shape: (n_features, n_features)\n",
    "\n",
    "#     # 6. Select top k eigenvectors\n",
    "#     principal_components = eigenvectors[:, :num_components]  # Select top-k eigenvectors\n",
    "\n",
    "#     # 7. Transform the data\n",
    "#     X_transformed = np.dot(X_centered, principal_components)\n",
    "\n",
    "#     return X_transformed, principal_components, eigenvalues\n",
    "\n",
    "# # Example usage\n",
    "# X = np.array([[1, 2], [2, 3], [3, 4], [4, 5]])\n",
    "# X_pca, components, explained_var = pca(X, 1)\n",
    "# print(\"PCA Result:\", X_pca)\n",
    "# print(\"Components:\", components)\n",
    "# print(\"Explained variance:\", explained_var)"
   ]
  }
 ],
 "metadata": {
  "kernelspec": {
   "display_name": ".aiop-venv",
   "language": "python",
   "name": "python3"
  },
  "language_info": {
   "codemirror_mode": {
    "name": "ipython",
    "version": 3
   },
   "file_extension": ".py",
   "mimetype": "text/x-python",
   "name": "python",
   "nbconvert_exporter": "python",
   "pygments_lexer": "ipython3",
   "version": "3.11.9"
  }
 },
 "nbformat": 4,
 "nbformat_minor": 2
}
