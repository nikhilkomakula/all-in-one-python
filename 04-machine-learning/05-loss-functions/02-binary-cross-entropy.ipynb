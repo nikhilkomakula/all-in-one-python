{
 "cells": [
  {
   "cell_type": "markdown",
   "metadata": {},
   "source": [
    "## Binary Cross Entropy"
   ]
  },
  {
   "cell_type": "markdown",
   "metadata": {},
   "source": [
    "- binary_cross_entropy(y_true, y_pred, epsilon=1e-15):\n",
    "    - Calculates binary cross-entropy loss for binary classification.\n",
    "    - Uses binary true labels (0 or 1) and predicted probabilities.\n",
    "    - Applies clipping to avoid log(0) errors."
   ]
  },
  {
   "cell_type": "code",
   "execution_count": 1,
   "metadata": {},
   "outputs": [],
   "source": [
    "import numpy as np\n",
    "\n",
    "def binary_cross_entropy(y_true, y_pred, epsilon=1e-15):\n",
    "    \"\"\"\n",
    "    Calculate Binary Cross Entropy loss.\n",
    "    \n",
    "    Args:\n",
    "    y_true (numpy.ndarray): True labels (0 or 1)\n",
    "    y_pred (numpy.ndarray): Predicted probabilities\n",
    "    epsilon (float): Small value to avoid log(0)\n",
    "    \n",
    "    Returns:\n",
    "    float: Binary Cross Entropy loss\n",
    "    \"\"\"\n",
    "    # Clip predictions to avoid log(0)\n",
    "    y_pred = np.clip(y_pred, epsilon, 1 - epsilon)\n",
    "    \n",
    "    # Calculate binary cross entropy\n",
    "    bce = -np.mean(y_true * np.log(y_pred) + (1 - y_true) * np.log(1 - y_pred))\n",
    "    return bce"
   ]
  },
  {
   "cell_type": "code",
   "execution_count": 3,
   "metadata": {},
   "outputs": [],
   "source": [
    "# Binary Cross Entropy\n",
    "y_true_binary = np.array([1, 0, 1])\n",
    "y_pred_binary = np.array([0.7, 0.3, 0.8])"
   ]
  },
  {
   "cell_type": "code",
   "execution_count": 4,
   "metadata": {},
   "outputs": [
    {
     "name": "stdout",
     "output_type": "stream",
     "text": [
      "Binary Cross Entropy Loss: 0.3122\n"
     ]
    }
   ],
   "source": [
    "bce_loss = binary_cross_entropy(y_true_binary, y_pred_binary)\n",
    "print(f\"Binary Cross Entropy Loss: {bce_loss:.4f}\")"
   ]
  },
  {
   "cell_type": "code",
   "execution_count": null,
   "metadata": {},
   "outputs": [],
   "source": []
  }
 ],
 "metadata": {
  "kernelspec": {
   "display_name": ".aiop-venv",
   "language": "python",
   "name": "python3"
  },
  "language_info": {
   "codemirror_mode": {
    "name": "ipython",
    "version": 3
   },
   "file_extension": ".py",
   "mimetype": "text/x-python",
   "name": "python",
   "nbconvert_exporter": "python",
   "pygments_lexer": "ipython3",
   "version": "3.11.9"
  }
 },
 "nbformat": 4,
 "nbformat_minor": 2
}
