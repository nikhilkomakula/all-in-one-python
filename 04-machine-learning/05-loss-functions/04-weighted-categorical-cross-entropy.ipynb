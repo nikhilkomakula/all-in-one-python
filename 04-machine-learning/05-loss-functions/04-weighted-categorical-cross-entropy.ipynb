{
 "cells": [
  {
   "cell_type": "markdown",
   "metadata": {},
   "source": [
    "## Weighted Categorical Cross Entropy"
   ]
  },
  {
   "cell_type": "code",
   "execution_count": 16,
   "metadata": {},
   "outputs": [],
   "source": [
    "import numpy as np\n",
    "\n",
    "def weighted_categorical_cross_entropy(y_true, y_pred, weights=None):\n",
    "    \"\"\"\n",
    "    Calculate weighted categorical cross-entropy loss.\n",
    "    \n",
    "    Args:\n",
    "    y_true (numpy.ndarray): True labels (one-hot encoded)\n",
    "    y_pred (numpy.ndarray): Predicted probabilities\n",
    "    weights (numpy.ndarray, optional): Weights for each class. If None, all classes are weighted equally.\n",
    "    \n",
    "    Returns:\n",
    "    float: Weighted categorical cross-entropy loss\n",
    "    \"\"\"\n",
    "    # Clip predicted probabilities to avoid log(0)\n",
    "    epsilon = 1e-15\n",
    "    y_pred = np.clip(y_pred, epsilon, 1 - epsilon)\n",
    "    \n",
    "    # Number of samples\n",
    "    N = y_true.shape[0]\n",
    "    \n",
    "    if weights is None:\n",
    "        weights = np.ones(y_true.shape[1])\n",
    "    \n",
    "    # Ensure weights is a 1D array\n",
    "    weights = np.array(weights).ravel()\n",
    "    \n",
    "    # Calculate weighted categorical cross-entropy\n",
    "    wcce = -np.sum(y_true * np.log(y_pred) * weights) / N\n",
    "    \n",
    "    return wcce"
   ]
  },
  {
   "cell_type": "code",
   "execution_count": 17,
   "metadata": {},
   "outputs": [],
   "source": [
    "# Example data\n",
    "y_true = np.array([[1, 0, 0], [0, 1, 0], [0, 0, 1]])\n",
    "y_pred = np.array([[0.7, 0.2, 0.1], [0.1, 0.8, 0.1], [0.2, 0.2, 0.6]])\n",
    "class_weights = np.array([1.0, 2.0, 3.0])  # Example: higher weight for less frequent classes"
   ]
  },
  {
   "cell_type": "code",
   "execution_count": 18,
   "metadata": {},
   "outputs": [
    {
     "name": "stdout",
     "output_type": "stream",
     "text": [
      "1\n",
      "[1]\n",
      "Weighted Categorical Cross-Entropy Loss: 0.3635480396729776\n"
     ]
    }
   ],
   "source": [
    "# Calculate weighted loss\n",
    "weighted_loss = weighted_categorical_cross_entropy(y_true, y_pred, weights=class_weights)\n",
    "print(f\"Weighted Categorical Cross-Entropy Loss: {weighted_loss}\")"
   ]
  }
 ],
 "metadata": {
  "kernelspec": {
   "display_name": ".aiop-venv",
   "language": "python",
   "name": "python3"
  },
  "language_info": {
   "codemirror_mode": {
    "name": "ipython",
    "version": 3
   },
   "file_extension": ".py",
   "mimetype": "text/x-python",
   "name": "python",
   "nbconvert_exporter": "python",
   "pygments_lexer": "ipython3",
   "version": "3.11.9"
  }
 },
 "nbformat": 4,
 "nbformat_minor": 2
}
