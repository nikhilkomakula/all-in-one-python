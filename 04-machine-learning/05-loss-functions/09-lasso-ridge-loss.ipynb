{
 "cells": [
  {
   "cell_type": "markdown",
   "metadata": {},
   "source": [
    "### Lasso & Ridge Losses"
   ]
  },
  {
   "cell_type": "markdown",
   "metadata": {},
   "source": [
    "`Lasso Loss:`"
   ]
  },
  {
   "cell_type": "markdown",
   "metadata": {},
   "source": [
    "**Without bias:**\n",
    "$$\\text{lasso\\_loss} = \\frac{1}{n} \\sum_{i=1}^{n} (y_i - \\mathbf{X}_i \\mathbf{w})^2 + \\alpha \\sum_{j=1}^{p} |w_j|$$\n",
    "\n",
    "**With bias:**\n",
    "$$\\text{lasso\\_loss} = \\frac{1}{n} \\sum_{i=1}^{n} (y_i - (\\mathbf{X}_i \\mathbf{w} + b))^2 + \\alpha \\sum_{j=1}^{p} |w_j|$$\n",
    "\n",
    "This KaTeX expression represents the loss function for Lasso regression, where:\n",
    "\n",
    "- $b$ is the bias term.\n",
    "- $n$ is the number of samples.\n",
    "- $p$ is the number of features.\n",
    "- $\\mathbf{X}$ is the feature matrix.\n",
    "- $\\mathbf{w}$ is the vector of coefficients.\n",
    "- $y$ is the vector of true values.\n",
    "- $\\alpha$ is the regularization parameter.\n",
    "\n",
    "The first term is the mean squared error, and the second term is the L1 regularization term."
   ]
  },
  {
   "cell_type": "code",
   "execution_count": null,
   "metadata": {},
   "outputs": [],
   "source": [
    "import numpy as np\n",
    "\n",
    "def lasso_loss(y_true: np.ndarray, \n",
    "             features: np.ndarray, \n",
    "             weights: np.ndarray, \n",
    "             bias: float, \n",
    "             lambda_param: float) -> float:\n",
    "  \"\"\"\n",
    "  Calculate LASSO loss with L1 regularization.\n",
    "  \n",
    "  Args:\n",
    "      y_true: Target values\n",
    "      features: Input features matrix\n",
    "      weights: Model weights\n",
    "      bias: Model bias term\n",
    "      lambda_param: L1 regularization strength\n",
    "      \n",
    "  Returns:\n",
    "      Total loss (MSE + L1 penalty)\n",
    "  \"\"\"\n",
    "  if lambda_param < 0:\n",
    "      raise ValueError(\"lambda_param must be non-negative\")\n",
    "      \n",
    "  predictions = np.dot(features, weights) + bias\n",
    "  mse = np.mean((y_true - predictions) ** 2)\n",
    "  l1_penalty = lambda_param * np.sum(np.abs(weights))\n",
    "  \n",
    "  return mse + l1_penalty"
   ]
  },
  {
   "cell_type": "code",
   "execution_count": null,
   "metadata": {},
   "outputs": [],
   "source": [
    "# import numpy as np\n",
    "\n",
    "# def lasso_loss(X: np.ndarray, w: np.ndarray, y_true: np.ndarray, alpha: float) -> float:\n",
    "#     loss = np.mean((y_true - np.dot(X, w))**2) + alpha * np.sum(np.abs(w))\n",
    "#     return loss"
   ]
  },
  {
   "cell_type": "code",
   "execution_count": null,
   "metadata": {},
   "outputs": [
    {
     "name": "stdout",
     "output_type": "stream",
     "text": [
      "2.0200000000000005\n"
     ]
    }
   ],
   "source": [
    "# X = np.array([[1, 1], [2, 1], [3, 1], [4, 1]])\n",
    "# w = np.array([0.2, 2])\n",
    "# y_true = np.array([2, 3, 4, 5])\n",
    "# alpha = 0.1\n",
    "\n",
    "# loss = lasso_loss(X, w, y_true, alpha)\n",
    "# print(loss)"
   ]
  },
  {
   "cell_type": "markdown",
   "metadata": {},
   "source": [
    "`Ridge Loss:`"
   ]
  },
  {
   "cell_type": "markdown",
   "metadata": {},
   "source": [
    "**Without bias:**\n",
    "$$\\text{ridge\\_loss} = \\frac{1}{n} \\sum_{i=1}^{n} (y_i - \\mathbf{X}_i \\mathbf{w})^2 + \\alpha \\sum_{j=1}^{p} w_j^2$$\n",
    "\n",
    "**With bias:**\n",
    "$$\\text{ridge\\_loss} = \\frac{1}{n} \\sum_{i=1}^{n} (y_i - (\\mathbf{X}_i \\mathbf{w} + b))^2 + \\alpha \\sum_{j=1}^{p} w_j^2$$\n",
    "\n",
    "This KaTeX expression represents the loss function for Ridge regression, where:\n",
    "\n",
    "- $b$ is the bias term.\n",
    "- $n$ is the number of samples.\n",
    "- $p$ is the number of features.\n",
    "- $\\mathbf{X}$ is the feature matrix.\n",
    "- $\\mathbf{w}$ is the vector of coefficients.\n",
    "- $y$ is the vector of true values.\n",
    "- $\\alpha$ is the regularization parameter.\n",
    "\n",
    "The first term is the mean squared error, and the second term is the L2 regularization term."
   ]
  },
  {
   "cell_type": "code",
   "execution_count": 8,
   "metadata": {},
   "outputs": [],
   "source": [
    "import numpy as np\n",
    "\n",
    "def ridge_loss(X: np.ndarray, w: np.ndarray, y_true: np.ndarray, alpha: float) -> float:\n",
    "    loss = np.mean((y_true - np.dot(X, w))**2) + alpha * np.sum(w**2)\n",
    "    return loss"
   ]
  },
  {
   "cell_type": "code",
   "execution_count": 9,
   "metadata": {},
   "outputs": [
    {
     "name": "stdout",
     "output_type": "stream",
     "text": [
      "2.204\n"
     ]
    }
   ],
   "source": [
    "X = np.array([[1, 1], [2, 1], [3, 1], [4, 1]])\n",
    "w = np.array([0.2, 2])\n",
    "y_true = np.array([2, 3, 4, 5])\n",
    "alpha = 0.1\n",
    "\n",
    "loss = ridge_loss(X, w, y_true, alpha)\n",
    "print(loss)"
   ]
  },
  {
   "cell_type": "code",
   "execution_count": null,
   "metadata": {},
   "outputs": [],
   "source": []
  }
 ],
 "metadata": {
  "kernelspec": {
   "display_name": ".aiop-venv",
   "language": "python",
   "name": "python3"
  },
  "language_info": {
   "codemirror_mode": {
    "name": "ipython",
    "version": 3
   },
   "file_extension": ".py",
   "mimetype": "text/x-python",
   "name": "python",
   "nbconvert_exporter": "python",
   "pygments_lexer": "ipython3",
   "version": "3.11.9"
  }
 },
 "nbformat": 4,
 "nbformat_minor": 2
}
