{
 "cells": [
  {
   "cell_type": "markdown",
   "metadata": {},
   "source": [
    "## Cross Entropy for multi-class classification"
   ]
  },
  {
   "cell_type": "markdown",
   "metadata": {},
   "source": [
    "- cross_entropy(y_true, y_pred, epsilon=1e-15):\n",
    "    - Calculates the standard cross-entropy loss for multi-class classification.\n",
    "    - Uses one-hot encoded true labels and predicted probabilities.\n",
    "    - Applies clipping to avoid log(0) errors."
   ]
  },
  {
   "cell_type": "code",
   "execution_count": 1,
   "metadata": {},
   "outputs": [],
   "source": [
    "import numpy as np\n",
    "\n",
    "def cross_entropy(y_true, y_pred, epsilon=1e-15):\n",
    "  \"\"\"\n",
    "  Calculate Cross Entropy loss.\n",
    "  \n",
    "  Args:\n",
    "  y_true (numpy.ndarray): True labels (one-hot encoded)\n",
    "  y_pred (numpy.ndarray): Predicted probabilities\n",
    "  epsilon (float): Small value to avoid log(0)\n",
    "  \n",
    "  Returns:\n",
    "  float: Cross Entropy loss\n",
    "  \"\"\"\n",
    "  # Clip predictions to avoid log(0)\n",
    "  y_pred = np.clip(y_pred, epsilon, 1 - epsilon)\n",
    "  \n",
    "  # Calculate cross entropy\n",
    "  ce = -np.sum(y_true * np.log(y_pred)) / y_true.shape[0]\n",
    "  return ce"
   ]
  },
  {
   "cell_type": "code",
   "execution_count": 2,
   "metadata": {},
   "outputs": [],
   "source": [
    "# Example data\n",
    "y_true = np.array([[1, 0, 0], [0, 1, 0], [0, 0, 1]])\n",
    "y_pred = np.array([[0.7, 0.2, 0.1], [0.1, 0.8, 0.1], [0.2, 0.2, 0.6]])"
   ]
  },
  {
   "cell_type": "code",
   "execution_count": 3,
   "metadata": {},
   "outputs": [
    {
     "name": "stdout",
     "output_type": "stream",
     "text": [
      "Cross Entropy Loss: 0.3635\n"
     ]
    }
   ],
   "source": [
    "# Cross Entropy\n",
    "ce_loss = cross_entropy(y_true, y_pred)\n",
    "print(f\"Cross Entropy Loss: {ce_loss:.4f}\")"
   ]
  },
  {
   "cell_type": "code",
   "execution_count": null,
   "metadata": {},
   "outputs": [],
   "source": []
  }
 ],
 "metadata": {
  "kernelspec": {
   "display_name": ".aiop-venv",
   "language": "python",
   "name": "python3"
  },
  "language_info": {
   "codemirror_mode": {
    "name": "ipython",
    "version": 3
   },
   "file_extension": ".py",
   "mimetype": "text/x-python",
   "name": "python",
   "nbconvert_exporter": "python",
   "pygments_lexer": "ipython3",
   "version": "3.11.9"
  }
 },
 "nbformat": 4,
 "nbformat_minor": 2
}
