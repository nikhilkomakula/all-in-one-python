{
 "cells": [
  {
   "cell_type": "markdown",
   "metadata": {},
   "source": [
    "## Softmax"
   ]
  },
  {
   "cell_type": "markdown",
   "metadata": {},
   "source": [
    "The softmax function is defined as:\n",
    "\n",
    "$\\text{softmax}(x_i) = \\frac{e^{x_i}}{\\sum_{j=1}^{n} e^{x_j}}$\n",
    "\n",
    "For numerical stability, it is often implemented as:\n",
    "\n",
    "$\\text{softmax}(x_i) = \\frac{e^{x_i - \\max(x)}}{\\sum_{j=1}^{n} e^{x_j - \\max(x)}}$"
   ]
  },
  {
   "cell_type": "markdown",
   "metadata": {},
   "source": [
    "`For 1D array:`"
   ]
  },
  {
   "cell_type": "code",
   "execution_count": null,
   "metadata": {},
   "outputs": [
    {
     "name": "stdout",
     "output_type": "stream",
     "text": [
      "1D input: [0.65900114 0.24243297 0.09856589]\n"
     ]
    }
   ],
   "source": [
    "import numpy as np\n",
    "\n",
    "def softmax_1d(logits):\n",
    "    \"\"\"\n",
    "    Compute the softmax of a vector x.\n",
    "\n",
    "    Parameters:\n",
    "    logits (numpy array): Input vector of shape (n,)\n",
    "\n",
    "    Returns:\n",
    "    numpy array: Softmax of the input vector\n",
    "    \"\"\"\n",
    "    # Subtract the maximum value for numerical stability\n",
    "    e_logits = np.exp(logits - np.max(logits))\n",
    "    return e_logits / np.sum(e_logits)\n",
    "\n",
    "# Example usage for 1D array\n",
    "x = np.array([2.0, 1.0, 0.1])\n",
    "print(\"1D input:\", softmax_1d(x))"
   ]
  },
  {
   "cell_type": "markdown",
   "metadata": {},
   "source": [
    "`For 2D array:`"
   ]
  },
  {
   "cell_type": "code",
   "execution_count": 8,
   "metadata": {},
   "outputs": [
    {
     "name": "stdout",
     "output_type": "stream",
     "text": [
      "\n",
      "2D input: [[0.65900114 0.24243297 0.09856589]\n",
      " [0.65900114 0.24243297 0.09856589]]\n"
     ]
    }
   ],
   "source": [
    "import numpy as np\n",
    "\n",
    "def softmax_2d(logits):\n",
    "    \"\"\"\n",
    "    Compute the softmax of a vector x.\n",
    "\n",
    "    Parameters:\n",
    "    logits (numpy array): Input vector of shape (n,)\n",
    "\n",
    "    Returns:\n",
    "    numpy array: Softmax of the input vector\n",
    "    \"\"\"\n",
    "    # Subtract the max for numerical stability\n",
    "    # For 2D arrays, apply along rows (axis=1)\n",
    "    # Keep dims for proper broadcasting\n",
    "    max_logits = np.max(logits, axis=1, keepdims=True)\n",
    "    e_logits = np.exp(x - max_logits)\n",
    "    return e_logits / np.sum(e_logits, axis=1, keepdims=True)\n",
    "\n",
    "# Example usage for 2D array (batch)\n",
    "x_batch = np.array([[2.0, 1.0, 0.1],\n",
    "                  [3.0, 2.0, 1.0]])\n",
    "print(\"\\n2D input:\", softmax_2d(x_batch))"
   ]
  },
  {
   "cell_type": "code",
   "execution_count": null,
   "metadata": {},
   "outputs": [],
   "source": []
  }
 ],
 "metadata": {
  "kernelspec": {
   "display_name": ".aiop-venv",
   "language": "python",
   "name": "python3"
  },
  "language_info": {
   "codemirror_mode": {
    "name": "ipython",
    "version": 3
   },
   "file_extension": ".py",
   "mimetype": "text/x-python",
   "name": "python",
   "nbconvert_exporter": "python",
   "pygments_lexer": "ipython3",
   "version": "3.11.9"
  }
 },
 "nbformat": 4,
 "nbformat_minor": 2
}
