{
 "cells": [
  {
   "cell_type": "markdown",
   "metadata": {},
   "source": [
    "## Hinge Loss"
   ]
  },
  {
   "cell_type": "markdown",
   "metadata": {},
   "source": [
    "Hinge loss, also known as max-margin loss, is a loss function that is particularly useful for training models in binary classification problems. It is designed to maximize the margin between classes, making it especially effective for support vector machines. The key idea behind hinge loss is to penalize the model more when it misclassifies a sample that is closer to the decision boundary."
   ]
  },
  {
   "cell_type": "markdown",
   "metadata": {},
   "source": [
    "The hinge loss is commonly used in the context of Support Vector Machines (SVMs) for classification tasks. The hinge loss function is defined as:\n",
    "\n",
    "$$L(y, \\hat{y}) = \\max(0, 1 - y \\cdot \\hat{y})$$\n",
    "\n",
    "where $y$ is the true label (either +1 or -1), and $\\hat{y}$ is the predicted score."
   ]
  },
  {
   "cell_type": "code",
   "execution_count": 3,
   "metadata": {},
   "outputs": [
    {
     "name": "stdout",
     "output_type": "stream",
     "text": [
      "Hinge Loss: 0.35\n"
     ]
    }
   ],
   "source": [
    "import numpy as np\n",
    "\n",
    "def hinge_loss(y_true, y_pred):\n",
    "    \"\"\"\n",
    "    Compute the hinge loss.\n",
    "\n",
    "    Parameters:\n",
    "    y_true (array-like): True labels, should be +1 or -1.\n",
    "    y_pred (array-like): Predicted scores.\n",
    "\n",
    "    Returns:\n",
    "    float: The average hinge loss.\n",
    "    \"\"\"\n",
    "    # Ensure y_true and y_pred are numpy arrays\n",
    "    y_true = np.array(y_true)\n",
    "    y_pred = np.array(y_pred)\n",
    "\n",
    "    # Compute the hinge loss\n",
    "    loss = np.maximum(0, 1 - y_true * y_pred)\n",
    "\n",
    "    # Return the average loss\n",
    "    return np.mean(loss)\n",
    "\n",
    "# Example usage\n",
    "y_true = np.array([1, -1, 1, -1])\n",
    "y_pred = np.array([0.8, -0.6, 0.3, -0.9])\n",
    "\n",
    "loss = hinge_loss(y_true, y_pred)\n",
    "print(f\"Hinge Loss: {loss}\")"
   ]
  },
  {
   "cell_type": "markdown",
   "metadata": {},
   "source": [
    "In this code:\n",
    "- `y_true` is an array of true labels, which should be either +1 or -1.\n",
    "- `y_pred` is an array of predicted scores.\n",
    "- The `hinge_loss` function computes the hinge loss for each pair of true and predicted values and returns the average loss."
   ]
  },
  {
   "cell_type": "code",
   "execution_count": 4,
   "metadata": {},
   "outputs": [],
   "source": [
    "# from sklearn import datasets\n",
    "# from sklearn.model_selection import train_test_split\n",
    "# from sklearn.svm import SVC\n",
    "# from sklearn.metrics import hinge_loss\n",
    "\n",
    "# # Load the iris dataset for demonstration\n",
    "# iris = datasets.load_iris()\n",
    "# X_train, X_test, y_train, y_test = train_test_split(iris.data, iris.target, test_size=0.2, random_state=42)\n",
    "\n",
    "# # Create a support vector machine classifier with hinge loss\n",
    "# svm_classifier = SVC(kernel='linear', C=1.0, loss='hinge')\n",
    "# svm_classifier.fit(X_train, y_train)\n",
    "\n",
    "# # Make predictions on the test set\n",
    "# y_pred = svm_classifier.predict(X_test)\n",
    "\n",
    "# # Calculate hinge loss\n",
    "# loss = hinge_loss(y_test, y_pred)\n",
    "\n",
    "# print(f'Hinge Loss: {loss}')"
   ]
  }
 ],
 "metadata": {
  "kernelspec": {
   "display_name": ".aiop-venv",
   "language": "python",
   "name": "python3"
  },
  "language_info": {
   "codemirror_mode": {
    "name": "ipython",
    "version": 3
   },
   "file_extension": ".py",
   "mimetype": "text/x-python",
   "name": "python",
   "nbconvert_exporter": "python",
   "pygments_lexer": "ipython3",
   "version": "3.11.9"
  }
 },
 "nbformat": 4,
 "nbformat_minor": 2
}
