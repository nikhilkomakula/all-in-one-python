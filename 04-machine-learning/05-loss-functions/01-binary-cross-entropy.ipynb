{
 "cells": [
  {
   "cell_type": "markdown",
   "metadata": {},
   "source": [
    "## Binary Cross Entropy"
   ]
  },
  {
   "cell_type": "markdown",
   "metadata": {},
   "source": [
    "**Binary Cross-Entropy:**\n",
    "\n",
    "- `y_true` is an array of true labels (0 or 1).\n",
    "- `y_pred` is an array of predicted probabilities (between 0 and 1).\n",
    "- The formula for binary cross-entropy is: \n",
    "    - $\\text{BCE} = -\\frac{1}{N} \\sum_{i=1}^{N} \\left[ y_i \\log(p_i) + (1 - y_i) \\log(1 - p_i) \\right]$\n",
    "- Clipping is used to avoid taking the log of zero."
   ]
  },
  {
   "cell_type": "code",
   "execution_count": null,
   "metadata": {},
   "outputs": [
    {
     "name": "stdout",
     "output_type": "stream",
     "text": [
      "Binary Cross-Entropy Loss: 0.19763488164214868\n"
     ]
    }
   ],
   "source": [
    "import numpy as np\n",
    "\n",
    "def binary_cross_entropy(y_true, y_pred):\n",
    "    \"\"\"\n",
    "    Compute the binary cross-entropy loss.\n",
    "\n",
    "    Parameters:\n",
    "    y_true (np.ndarray): Array of true labels (0 or 1).\n",
    "    y_pred (np.ndarray): Array of predicted probabilities (between 0 and 1).\n",
    "\n",
    "    Returns:\n",
    "    float: Binary cross-entropy loss.\n",
    "    \"\"\"\n",
    "    # Clip the predictions to avoid log(0)\n",
    "    y_pred = np.clip(y_pred, 1e-15, 1 - 1e-15)\n",
    "\n",
    "    # Compute the binary cross-entropy\n",
    "    bce = -np.mean(y_true * np.log(y_pred) + (1 - y_true) * np.log(1 - y_pred)) # REMEMBER `np.mean()`\n",
    "\n",
    "    return bce\n",
    "\n",
    "# Example usage\n",
    "y_true = np.array([1, 0, 1, 1])\n",
    "y_pred = np.array([0.9, 0.1, 0.8, 0.7])\n",
    "\n",
    "print(\"Binary Cross-Entropy Loss:\", binary_cross_entropy(y_true, y_pred))"
   ]
  },
  {
   "cell_type": "code",
   "execution_count": null,
   "metadata": {},
   "outputs": [],
   "source": []
  }
 ],
 "metadata": {
  "kernelspec": {
   "display_name": ".aiop-venv",
   "language": "python",
   "name": "python3"
  },
  "language_info": {
   "codemirror_mode": {
    "name": "ipython",
    "version": 3
   },
   "file_extension": ".py",
   "mimetype": "text/x-python",
   "name": "python",
   "nbconvert_exporter": "python",
   "pygments_lexer": "ipython3",
   "version": "3.11.9"
  }
 },
 "nbformat": 4,
 "nbformat_minor": 2
}
