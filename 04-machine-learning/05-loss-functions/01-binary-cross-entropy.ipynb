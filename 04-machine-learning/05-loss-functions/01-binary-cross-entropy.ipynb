{
 "cells": [
  {
   "cell_type": "markdown",
   "metadata": {},
   "source": [
    "## Binary Cross Entropy"
   ]
  },
  {
   "cell_type": "markdown",
   "metadata": {},
   "source": [
    "- binary_cross_entropy(y_true, y_pred, epsilon=1e-15):\n",
    "    - Calculates binary cross-entropy loss for binary classification.\n",
    "    - Uses binary true labels (0 or 1) and predicted probabilities.\n",
    "    - Applies clipping to avoid log(0) errors."
   ]
  },
  {
   "cell_type": "code",
   "execution_count": 5,
   "metadata": {},
   "outputs": [],
   "source": [
    "import numpy as np\n",
    "\n",
    "def binary_cross_entropy_loss(y_true, y_pred):\n",
    "    \"\"\"\n",
    "    Calculate the binary cross entropy loss.\n",
    "    \n",
    "    Args:\n",
    "    y_true (numpy.ndarray): True labels (0 or 1)\n",
    "    y_pred (numpy.ndarray): Predicted probabilities\n",
    "    \n",
    "    Returns:\n",
    "    float: Binary cross entropy loss\n",
    "    \"\"\"\n",
    "    # We clip the predicted probabilities to be between `epsilon` and `1 - epsilon`. This prevents taking the log of 0, which would result in undefined behavior.\n",
    "    epsilon = 1e-15\n",
    "    y_pred = np.clip(y_pred, epsilon, 1 - epsilon)\n",
    "    \n",
    "    bce_loss = -(y_true * np.log(y_pred) + (1 - y_true) * np.log(1 - y_pred))\n",
    "    return np.mean(bce_loss)"
   ]
  },
  {
   "cell_type": "code",
   "execution_count": 6,
   "metadata": {},
   "outputs": [],
   "source": [
    "# Example usage\n",
    "y_true = np.array([1, 0, 1, 0, 1])\n",
    "y_pred = np.array([0.9, 0.1, 0.8, 0.2, 0.7])"
   ]
  },
  {
   "cell_type": "code",
   "execution_count": 7,
   "metadata": {},
   "outputs": [
    {
     "name": "stdout",
     "output_type": "stream",
     "text": [
      "Binary Cross Entropy Loss: 0.2027\n"
     ]
    }
   ],
   "source": [
    "loss = binary_cross_entropy_loss(y_true, y_pred)\n",
    "print(f\"Binary Cross Entropy Loss: {loss:.4f}\")"
   ]
  },
  {
   "cell_type": "code",
   "execution_count": null,
   "metadata": {},
   "outputs": [],
   "source": []
  }
 ],
 "metadata": {
  "kernelspec": {
   "display_name": ".aiop-venv",
   "language": "python",
   "name": "python3"
  },
  "language_info": {
   "codemirror_mode": {
    "name": "ipython",
    "version": 3
   },
   "file_extension": ".py",
   "mimetype": "text/x-python",
   "name": "python",
   "nbconvert_exporter": "python",
   "pygments_lexer": "ipython3",
   "version": "3.11.9"
  }
 },
 "nbformat": 4,
 "nbformat_minor": 2
}
