{
 "cells": [
  {
   "cell_type": "markdown",
   "metadata": {},
   "source": [
    "## Categorical Cross Entropy"
   ]
  },
  {
   "cell_type": "markdown",
   "metadata": {},
   "source": [
    "- cross_entropy_with_weights(y_true, y_pred, weights, epsilon=1e-15):\n",
    "    - Calculates weighted cross-entropy loss for multi-class classification with class weights.\n",
    "    - Uses one-hot encoded true labels, predicted probabilities, and class weights.\n",
    "    - Applies clipping to avoid log(0) errors."
   ]
  },
  {
   "cell_type": "code",
   "execution_count": 4,
   "metadata": {},
   "outputs": [],
   "source": [
    "import numpy as np\n",
    "\n",
    "def categorical_cross_entropy(y_true, y_pred):\n",
    "  \"\"\"\n",
    "  Calculate categorical cross-entropy loss.\n",
    "  \n",
    "  Args:\n",
    "  y_true (numpy.ndarray): True labels (one-hot encoded)\n",
    "  y_pred (numpy.ndarray): Predicted probabilities\n",
    "  \n",
    "  Returns:\n",
    "  float: Categorical cross-entropy loss\n",
    "  \"\"\"\n",
    "  # Clip predicted probabilities to avoid log(0)\n",
    "  epsilon = 1e-15\n",
    "  y_pred = np.clip(y_pred, epsilon, 1 - epsilon)\n",
    "  \n",
    "  # Number of samples\n",
    "  N = y_true.shape[0]\n",
    "  \n",
    "  # Calculate categorical cross-entropy\n",
    "  cce = -np.sum(y_true * np.log(y_pred)) / N\n",
    "  \n",
    "  return cce"
   ]
  },
  {
   "cell_type": "code",
   "execution_count": 5,
   "metadata": {},
   "outputs": [],
   "source": [
    "# Example usage\n",
    "y_true = np.array([\n",
    "  [1, 0, 0],\n",
    "  [0, 1, 0],\n",
    "  [0, 0, 1]\n",
    "])\n",
    "y_pred = np.array([\n",
    "  [0.7, 0.2, 0.1],\n",
    "  [0.1, 0.8, 0.1],\n",
    "  [0.2, 0.2, 0.6]\n",
    "])"
   ]
  },
  {
   "cell_type": "code",
   "execution_count": 6,
   "metadata": {},
   "outputs": [
    {
     "name": "stdout",
     "output_type": "stream",
     "text": [
      "Categorical Cross Entropy Loss: 0.3635\n"
     ]
    }
   ],
   "source": [
    "loss = categorical_cross_entropy(y_true, y_pred)\n",
    "print(f\"Categorical Cross Entropy Loss: {loss:.4f}\")"
   ]
  },
  {
   "cell_type": "code",
   "execution_count": null,
   "metadata": {},
   "outputs": [],
   "source": []
  }
 ],
 "metadata": {
  "kernelspec": {
   "display_name": ".aiop-venv",
   "language": "python",
   "name": "python3"
  },
  "language_info": {
   "codemirror_mode": {
    "name": "ipython",
    "version": 3
   },
   "file_extension": ".py",
   "mimetype": "text/x-python",
   "name": "python",
   "nbconvert_exporter": "python",
   "pygments_lexer": "ipython3",
   "version": "3.11.9"
  }
 },
 "nbformat": 4,
 "nbformat_minor": 2
}
