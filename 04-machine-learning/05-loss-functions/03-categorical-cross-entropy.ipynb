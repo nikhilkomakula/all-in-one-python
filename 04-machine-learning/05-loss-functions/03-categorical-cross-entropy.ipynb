{
 "cells": [
  {
   "cell_type": "markdown",
   "metadata": {},
   "source": [
    "## Categorical Cross Entropy"
   ]
  },
  {
   "cell_type": "markdown",
   "metadata": {},
   "source": [
    "**Categorical Cross-Entropy:**\n",
    "\n",
    "- `y_true` is an array of one-hot encoded true labels.\n",
    "- `y_pred` is an array of predicted probabilities for each class (sum to 1 across classes).\n",
    "- The formula for categorical cross-entropy is: \n",
    "    - $\\text{CCE} = -\\frac{1}{N} \\sum_{i=1}^{N} \\sum_{j=1}^{C} y_{ij} \\log(p_{ij})$\n",
    "- Clipping is used to avoid taking the log of zero."
   ]
  },
  {
   "cell_type": "code",
   "execution_count": 2,
   "metadata": {},
   "outputs": [
    {
     "name": "stdout",
     "output_type": "stream",
     "text": [
      "Categorical Cross-Entropy Loss: 0.16367433215660365\n"
     ]
    }
   ],
   "source": [
    "import numpy as np\n",
    "\n",
    "def categorical_cross_entropy(y_true, y_pred):\n",
    "    \"\"\"\n",
    "    Compute the categorical cross-entropy loss.\n",
    "\n",
    "    Parameters:\n",
    "    y_true (np.ndarray): Array of true labels (one-hot encoded).\n",
    "    y_pred (np.ndarray): Array of predicted probabilities (sum to 1 across classes).\n",
    "\n",
    "    Returns:\n",
    "    float: Categorical cross-entropy loss.\n",
    "    \"\"\"\n",
    "    # Clip the predictions to avoid log(0)\n",
    "    y_pred = np.clip(y_pred, 1e-15, 1 - 1e-15)\n",
    "\n",
    "    # Compute the categorical cross-entropy\n",
    "    cce = -np.mean(np.sum(y_true * np.log(y_pred), axis=1))   # REMEMBER `np.mean() + np.sum()`\n",
    "\n",
    "    return cce\n",
    "\n",
    "# Example usage\n",
    "y_true = np.array([\n",
    "    [1, 0, 0],\n",
    "    [0, 1, 0],\n",
    "    [0, 0, 1]\n",
    "])\n",
    "y_pred = np.array([\n",
    "    [0.9, 0.05, 0.05],\n",
    "    [0.1, 0.8, 0.1],\n",
    "    [0.05, 0.1, 0.85]\n",
    "])\n",
    "\n",
    "print(\"Categorical Cross-Entropy Loss:\", categorical_cross_entropy(y_true, y_pred))"
   ]
  }
 ],
 "metadata": {
  "kernelspec": {
   "display_name": ".aiop-venv",
   "language": "python",
   "name": "python3"
  },
  "language_info": {
   "codemirror_mode": {
    "name": "ipython",
    "version": 3
   },
   "file_extension": ".py",
   "mimetype": "text/x-python",
   "name": "python",
   "nbconvert_exporter": "python",
   "pygments_lexer": "ipython3",
   "version": "3.11.9"
  }
 },
 "nbformat": 4,
 "nbformat_minor": 2
}
