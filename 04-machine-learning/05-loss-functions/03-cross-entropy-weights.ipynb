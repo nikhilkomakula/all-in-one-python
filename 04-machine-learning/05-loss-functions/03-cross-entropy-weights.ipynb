{
 "cells": [
  {
   "cell_type": "markdown",
   "metadata": {},
   "source": [
    "## Cross Entropy with Weights"
   ]
  },
  {
   "cell_type": "markdown",
   "metadata": {},
   "source": [
    "- cross_entropy_with_weights(y_true, y_pred, weights, epsilon=1e-15):\n",
    "    - Calculates weighted cross-entropy loss for multi-class classification with class weights.\n",
    "    - Uses one-hot encoded true labels, predicted probabilities, and class weights.\n",
    "    - Applies clipping to avoid log(0) errors."
   ]
  },
  {
   "cell_type": "code",
   "execution_count": 1,
   "metadata": {},
   "outputs": [],
   "source": [
    "import numpy as np\n",
    "\n",
    "def cross_entropy_with_weights(y_true, y_pred, weights, epsilon=1e-15):\n",
    "    \"\"\"\n",
    "    Calculate Cross Entropy loss with class weights.\n",
    "    \n",
    "    Args:\n",
    "    y_true (numpy.ndarray): True labels (one-hot encoded)\n",
    "    y_pred (numpy.ndarray): Predicted probabilities\n",
    "    weights (numpy.ndarray): Class weights\n",
    "    epsilon (float): Small value to avoid log(0)\n",
    "    \n",
    "    Returns:\n",
    "    float: Weighted Cross Entropy loss\n",
    "    \"\"\"\n",
    "    # Clip predictions to avoid log(0)\n",
    "    y_pred = np.clip(y_pred, epsilon, 1 - epsilon)\n",
    "    \n",
    "    # Calculate weighted cross entropy\n",
    "    ce_weighted = -np.sum(weights * y_true * np.log(y_pred)) / y_true.shape[0]\n",
    "    return ce_weighted"
   ]
  },
  {
   "cell_type": "code",
   "execution_count": 2,
   "metadata": {},
   "outputs": [],
   "source": [
    "# Example data\n",
    "y_true = np.array([[1, 0, 0], [0, 1, 0], [0, 0, 1]])\n",
    "y_pred = np.array([[0.7, 0.2, 0.1], [0.1, 0.8, 0.1], [0.2, 0.2, 0.6]])"
   ]
  },
  {
   "cell_type": "code",
   "execution_count": 3,
   "metadata": {},
   "outputs": [
    {
     "name": "stdout",
     "output_type": "stream",
     "text": [
      "Weighted Cross Entropy Loss: 0.4744\n"
     ]
    }
   ],
   "source": [
    "# Cross Entropy with weights\n",
    "weights = np.array([0.5, 1.0, 2.0])  # Example weights\n",
    "ce_weighted_loss = cross_entropy_with_weights(y_true, y_pred, weights)\n",
    "print(f\"Weighted Cross Entropy Loss: {ce_weighted_loss:.4f}\")"
   ]
  },
  {
   "cell_type": "code",
   "execution_count": null,
   "metadata": {},
   "outputs": [],
   "source": []
  }
 ],
 "metadata": {
  "kernelspec": {
   "display_name": ".aiop-venv",
   "language": "python",
   "name": "python3"
  },
  "language_info": {
   "codemirror_mode": {
    "name": "ipython",
    "version": 3
   },
   "file_extension": ".py",
   "mimetype": "text/x-python",
   "name": "python",
   "nbconvert_exporter": "python",
   "pygments_lexer": "ipython3",
   "version": "3.11.9"
  }
 },
 "nbformat": 4,
 "nbformat_minor": 2
}
