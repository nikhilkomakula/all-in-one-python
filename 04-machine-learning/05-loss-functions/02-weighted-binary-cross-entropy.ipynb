{
 "cells": [
  {
   "cell_type": "markdown",
   "metadata": {},
   "source": [
    "## Weighted Binary Cross Entropy"
   ]
  },
  {
   "cell_type": "code",
   "execution_count": 16,
   "metadata": {},
   "outputs": [],
   "source": [
    "import numpy as np\n",
    "\n",
    "def weighted_binary_cross_entropy(y_true, y_pred, weights=None):\n",
    "  \"\"\"\n",
    "  Calculate weighted binary cross-entropy loss.\n",
    "  \n",
    "  Args:\n",
    "  y_true (numpy.ndarray): True labels (0 or 1)\n",
    "  y_pred (numpy.ndarray): Predicted probabilities\n",
    "  weights (numpy.ndarray, optional): Weights for each sample. If None, all samples are weighted equally.\n",
    "  \n",
    "  Returns:\n",
    "  float: Weighted binary cross-entropy loss\n",
    "  \"\"\"\n",
    "  epsilon = 1e-15\n",
    "  y_pred = np.clip(y_pred, epsilon, 1 - epsilon)\n",
    "  \n",
    "  if weights is None:\n",
    "      weights = np.ones_like(y_true)                # Return an array of ones with the same shape and type as a given array.\n",
    "  \n",
    "  # Calculate binary cross-entropy for each sample\n",
    "  bce_loss = - y_true * np.log(y_pred) - (1 - y_true) * np.log(1 - y_pred)\n",
    "  \n",
    "  # Apply weights\n",
    "  weighted_bce = weights * bce_loss\n",
    "  \n",
    "  # Calculate mean loss\n",
    "  return np.mean(weighted_bce)"
   ]
  },
  {
   "cell_type": "code",
   "execution_count": 17,
   "metadata": {},
   "outputs": [],
   "source": [
    "# Example usage\n",
    "y_true = np.array([1, 0, 1, 0, 1])\n",
    "y_pred = np.array([0.9, 0.1, 0.8, 0.2, 0.7])\n",
    "weights = np.array([1.0, 2.0, 0.5, 1.0, 1.5])"
   ]
  },
  {
   "cell_type": "code",
   "execution_count": 18,
   "metadata": {},
   "outputs": [
    {
     "name": "stdout",
     "output_type": "stream",
     "text": [
      "Weighted Binary Cross Entropy Loss: 0.2372\n"
     ]
    }
   ],
   "source": [
    "loss = weighted_binary_cross_entropy(y_true, y_pred, weights)\n",
    "print(f\"Weighted Binary Cross Entropy Loss: {loss:.4f}\")"
   ]
  }
 ],
 "metadata": {
  "kernelspec": {
   "display_name": ".aiop-venv",
   "language": "python",
   "name": "python3"
  },
  "language_info": {
   "codemirror_mode": {
    "name": "ipython",
    "version": 3
   },
   "file_extension": ".py",
   "mimetype": "text/x-python",
   "name": "python",
   "nbconvert_exporter": "python",
   "pygments_lexer": "ipython3",
   "version": "3.11.9"
  }
 },
 "nbformat": 4,
 "nbformat_minor": 2
}
