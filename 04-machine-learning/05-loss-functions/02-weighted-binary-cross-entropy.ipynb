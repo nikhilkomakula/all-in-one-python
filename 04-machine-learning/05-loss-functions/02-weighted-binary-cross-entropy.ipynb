{
 "cells": [
  {
   "cell_type": "markdown",
   "metadata": {},
   "source": [
    "## Weighted Binary Cross Entropy"
   ]
  },
  {
   "cell_type": "markdown",
   "metadata": {},
   "source": [
    "- **Binary Cross-Entropy with Class Weights**:\n",
    "  - `class_weights` is a dictionary with class weights for each class (0 and 1).\n",
    "  - The formula for binary cross-entropy with class weights is:\n",
    "    $$\n",
    "    \\text{BCE} = -\\frac{1}{N} \\sum_{i=1}^{N} \\left[ w_1 y_i \\log(p_i) + w_0 (1 - y_i) \\log(1 - p_i) \\right]\n",
    "    $$\n",
    "  - Where \\( w_1 \\) and \\( w_0 \\) are the weights for the positive and negative classes, respectively."
   ]
  },
  {
   "cell_type": "code",
   "execution_count": 1,
   "metadata": {},
   "outputs": [
    {
     "name": "stdout",
     "output_type": "stream",
     "text": [
      "Binary Cross-Entropy Loss with Weights: 0.2701121935487665\n"
     ]
    }
   ],
   "source": [
    "import numpy as np\n",
    "\n",
    "def binary_cross_entropy_with_weights(y_true, y_pred, class_weights):\n",
    "    \"\"\"\n",
    "    Compute the binary cross-entropy loss with class weights.\n",
    "\n",
    "    Parameters:\n",
    "    y_true (np.ndarray): Array of true labels (0 or 1).\n",
    "    y_pred (np.ndarray): Array of predicted probabilities (between 0 and 1).\n",
    "    class_weights (dict): Dictionary with class weights, e.g., {0: weight_0, 1: weight_1}.\n",
    "\n",
    "    Returns:\n",
    "    float: Binary cross-entropy loss with class weights.\n",
    "    \"\"\"\n",
    "    # Clip the predictions to avoid log(0)\n",
    "    y_pred = np.clip(y_pred, 1e-15, 1 - 1e-15)\n",
    "\n",
    "    # Compute the binary cross-entropy with class weights\n",
    "    bce = -np.mean(class_weights[1] * y_true * np.log(y_pred) + class_weights[0] * (1 - y_true) * np.log(1 - y_pred))\n",
    "\n",
    "    return bce\n",
    "\n",
    "# Example usage\n",
    "y_true = np.array([1, 0, 1, 1])\n",
    "y_pred = np.array([0.9, 0.1, 0.8, 0.7])\n",
    "class_weights = {0: 0.5, 1: 1.5}\n",
    "\n",
    "print(\"Binary Cross-Entropy Loss with Weights:\", binary_cross_entropy_with_weights(y_true, y_pred, class_weights))"
   ]
  }
 ],
 "metadata": {
  "kernelspec": {
   "display_name": ".aiop-venv",
   "language": "python",
   "name": "python3"
  },
  "language_info": {
   "codemirror_mode": {
    "name": "ipython",
    "version": 3
   },
   "file_extension": ".py",
   "mimetype": "text/x-python",
   "name": "python",
   "nbconvert_exporter": "python",
   "pygments_lexer": "ipython3",
   "version": "3.11.9"
  }
 },
 "nbformat": 4,
 "nbformat_minor": 2
}
