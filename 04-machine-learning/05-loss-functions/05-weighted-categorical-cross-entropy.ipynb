{
 "cells": [
  {
   "cell_type": "markdown",
   "metadata": {},
   "source": [
    "## Weighted Categorical Cross Entropy"
   ]
  },
  {
   "cell_type": "markdown",
   "metadata": {},
   "source": [
    "- **Categorical Cross-Entropy with Class Weights**:\n",
    "  - `class_weights` is an array of class weights for each class.\n",
    "  - The formula for categorical cross-entropy with class weights is:\n",
    "    $$\n",
    "    \\text{CCE} = -\\frac{1}{N} \\sum_{i=1}^{N} \\sum_{j=1}^{C} w_j y_{ij} \\log(p_{ij})\n",
    "    $$\n",
    "  - Where \\( w_j \\) is the weight for class \\( j \\)."
   ]
  },
  {
   "cell_type": "code",
   "execution_count": null,
   "metadata": {},
   "outputs": [
    {
     "name": "stdout",
     "output_type": "stream",
     "text": [
      "Categorical Cross-Entropy Loss with Weights: 0.25503790054156356\n"
     ]
    }
   ],
   "source": [
    "import numpy as np\n",
    "\n",
    "def categorical_cross_entropy_with_weights(y_true, y_pred, class_weights):\n",
    "    \"\"\"\n",
    "    Compute the categorical cross-entropy loss with class weights.\n",
    "\n",
    "    Parameters:\n",
    "    y_true (np.ndarray): Array of true labels (one-hot encoded).\n",
    "    y_pred (np.ndarray): Array of predicted probabilities (sum to 1 across classes).\n",
    "    class_weights (np.ndarray): Array of class weights.\n",
    "\n",
    "    Returns:\n",
    "    float: Categorical cross-entropy loss with class weights.\n",
    "    \"\"\"\n",
    "    # Clip the predictions to avoid log(0)\n",
    "    eps = 1e-15\n",
    "    y_pred = np.clip(y_pred, eps, 1 - eps)\n",
    "\n",
    "    # Compute the categorical cross-entropy with class weights\n",
    "    cce = -np.mean(np.sum(y_true * class_weights * np.log(y_pred), axis=1))\n",
    "\n",
    "    return cce\n",
    "\n",
    "# Example usage\n",
    "y_true = np.array([\n",
    "    [1, 0, 0],\n",
    "    [0, 1, 0],\n",
    "    [0, 0, 1]\n",
    "])\n",
    "y_pred = np.array([\n",
    "    [0.9, 0.05, 0.05],\n",
    "    [0.1, 0.8, 0.1],\n",
    "    [0.05, 0.1, 0.85]\n",
    "])\n",
    "class_weights = np.array([1.0, 1.5, 2.0])\n",
    "\n",
    "print(\"Categorical Cross-Entropy Loss with Weights:\", categorical_cross_entropy_with_weights(y_true, y_pred, class_weights))"
   ]
  }
 ],
 "metadata": {
  "kernelspec": {
   "display_name": ".aiop-venv",
   "language": "python",
   "name": "python3"
  },
  "language_info": {
   "codemirror_mode": {
    "name": "ipython",
    "version": 3
   },
   "file_extension": ".py",
   "mimetype": "text/x-python",
   "name": "python",
   "nbconvert_exporter": "python",
   "pygments_lexer": "ipython3",
   "version": "3.11.9"
  }
 },
 "nbformat": 4,
 "nbformat_minor": 2
}
