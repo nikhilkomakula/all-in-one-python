{
 "cells": [
  {
   "cell_type": "markdown",
   "metadata": {},
   "source": [
    "### R-Squared & Adjusted R-Squared"
   ]
  },
  {
   "cell_type": "markdown",
   "metadata": {},
   "source": [
    "### Explanation:\n",
    "1. **Mean Calculation**: \n",
    "    - The `mean` function calculates the average of a list of values.\n",
    "2. **Total Sum of Squares (SS_Total)**: \n",
    "    - This measures the total variance in the true values. It is calculated as the sum of the squared differences between each true value and the mean of the true values.\n",
    "3. **Sum of Squares of Residuals (SS_Res)**: \n",
    "    - This measures the variance that is not explained by the model. It is calculated as the sum of the squared differences between each true value and the corresponding predicted value.\n",
    "4. **R-squared Calculation**: \n",
    "    - R-squared is calculated as $1 - \\frac{SS_{Res}}{SS_{Total}}$ or $1 - \\frac{rss}{tss}$."
   ]
  },
  {
   "cell_type": "markdown",
   "metadata": {},
   "source": [
    "`R-Squared:`"
   ]
  },
  {
   "cell_type": "code",
   "execution_count": 2,
   "metadata": {},
   "outputs": [
    {
     "name": "stdout",
     "output_type": "stream",
     "text": [
      "R-squared value: 0.9890\n"
     ]
    }
   ],
   "source": [
    "import numpy as np\n",
    "\n",
    "def calculate_r_squared(y_true, y_pred):\n",
    "  \"\"\"\n",
    "  Calculate R-squared (coefficient of determination) from scratch.\n",
    "  \n",
    "  Parameters:\n",
    "  y_true: array-like, true values\n",
    "  y_pred: array-like, predicted values\n",
    "  \n",
    "  Returns:\n",
    "  float: R-squared value\n",
    "  \"\"\"\n",
    "  # Convert inputs to numpy arrays\n",
    "  y_true = np.array(y_true)\n",
    "  y_pred = np.array(y_pred)\n",
    "  \n",
    "  # Calculate mean of true values\n",
    "  y_true_mean = np.mean(y_true)\n",
    "  \n",
    "  # Calculate total sum of squares (TSS)\n",
    "  tss = np.sum((y_true - y_true_mean) ** 2)\n",
    "  \n",
    "  # Calculate residual sum of squares (RSS)\n",
    "  rss = np.sum((y_true - y_pred) ** 2)\n",
    "  \n",
    "  # Calculate R-squared\n",
    "  r_squared = 1 - (rss / tss)\n",
    "  \n",
    "  return r_squared\n",
    "\n",
    "# Example usage\n",
    "if __name__ == \"__main__\":\n",
    "  # Sample data\n",
    "  y_true = [1, 2, 3, 4, 5]\n",
    "  y_pred = [1.1, 2.2, 2.9, 3.8, 5.1]\n",
    "  \n",
    "  # Calculate R-squared\n",
    "  r2 = calculate_r_squared(y_true, y_pred)\n",
    "  print(f\"R-squared value: {r2:.4f}\")"
   ]
  },
  {
   "cell_type": "markdown",
   "metadata": {},
   "source": [
    "`Adjusted R-Squared:`"
   ]
  },
  {
   "cell_type": "code",
   "execution_count": 3,
   "metadata": {},
   "outputs": [
    {
     "name": "stdout",
     "output_type": "stream",
     "text": [
      "R-squared value: 0.9890\n",
      "Adjusted R-squared value: 0.9780\n"
     ]
    }
   ],
   "source": [
    "import numpy as np\n",
    "\n",
    "def calculate_adjusted_r_squared(y_true, y_pred, n_predictors):\n",
    "  \"\"\"\n",
    "  Calculate both R-squared and Adjusted R-squared from scratch.\n",
    "  \n",
    "  Parameters:\n",
    "  y_true: array-like, true values\n",
    "  y_pred: array-like, predicted values\n",
    "  n_predictors: int, number of predictor variables (features) in the model\n",
    "  \n",
    "  Returns:\n",
    "  tuple: (R-squared value, Adjusted R-squared value)\n",
    "  \"\"\"\n",
    "  # Convert inputs to numpy arrays\n",
    "  y_true = np.array(y_true)\n",
    "  y_pred = np.array(y_pred)\n",
    "  \n",
    "  # Get number of observations\n",
    "  n = len(y_true)\n",
    "  \n",
    "  # Calculate mean of true values\n",
    "  y_mean = np.mean(y_true)\n",
    "  \n",
    "  # Calculate total sum of squares (TSS)\n",
    "  tss = np.sum((y_true - y_mean) ** 2)\n",
    "  \n",
    "  # Calculate residual sum of squares (RSS)\n",
    "  rss = np.sum((y_true - y_pred) ** 2)\n",
    "  \n",
    "  # Calculate R-squared\n",
    "  r_squared = 1 - (rss / tss)\n",
    "  \n",
    "  # Calculate Adjusted R-squared\n",
    "  # Formula: 1 - [(1 - R²)(n - 1)/(n - p - 1)]\n",
    "  # where n is number of observations and p is number of predictors\n",
    "  adjusted_r_squared = 1 - ((1 - r_squared) * (n - 1) / (n - n_predictors - 1))\n",
    "  \n",
    "  return r_squared, adjusted_r_squared\n",
    "\n",
    "# Example usage\n",
    "if __name__ == \"__main__\":\n",
    "  # Sample data\n",
    "  y_true = [1, 2, 3, 4, 5]\n",
    "  y_pred = [1.1, 2.2, 2.9, 3.8, 5.1]\n",
    "  n_predictors = 2  # Example: model uses 2 features\n",
    "  \n",
    "  # Calculate R-squared and Adjusted R-squared\n",
    "  r2, adj_r2 = calculate_adjusted_r_squared(y_true, y_pred, n_predictors)\n",
    "  print(f\"R-squared value: {r2:.4f}\")\n",
    "  print(f\"Adjusted R-squared value: {adj_r2:.4f}\")"
   ]
  }
 ],
 "metadata": {
  "kernelspec": {
   "display_name": ".aiop-venv",
   "language": "python",
   "name": "python3"
  },
  "language_info": {
   "codemirror_mode": {
    "name": "ipython",
    "version": 3
   },
   "file_extension": ".py",
   "mimetype": "text/x-python",
   "name": "python",
   "nbconvert_exporter": "python",
   "pygments_lexer": "ipython3",
   "version": "3.11.9"
  }
 },
 "nbformat": 4,
 "nbformat_minor": 2
}
