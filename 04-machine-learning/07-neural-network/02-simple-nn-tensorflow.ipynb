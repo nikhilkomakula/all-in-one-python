{
 "cells": [
  {
   "cell_type": "markdown",
   "metadata": {},
   "source": [
    "## Simple Neural Network using Tensorflow"
   ]
  },
  {
   "cell_type": "markdown",
   "metadata": {},
   "source": [
    "This guide explains how to create and train a simple feedforward neural network using Tensorflow. The network consists of one hidden layer and uses ReLU activation. This example is a basic introduction to neural networks in Tensorflow."
   ]
  },
  {
   "cell_type": "markdown",
   "metadata": {},
   "source": [
    "### Imports and Setup"
   ]
  },
  {
   "cell_type": "code",
   "execution_count": 2,
   "metadata": {},
   "outputs": [],
   "source": [
    "import tensorflow as tf\n",
    "from tensorflow import keras\n",
    "import numpy as np\n",
    "\n",
    "tf.random.set_seed(42)\n",
    "np.random.seed(42)"
   ]
  },
  {
   "cell_type": "markdown",
   "metadata": {},
   "source": [
    "- We import TensorFlow, Keras (TensorFlow's high-level API), and NumPy.\n",
    "- We set random seeds for both TensorFlow and NumPy to ensure reproducibility."
   ]
  },
  {
   "cell_type": "markdown",
   "metadata": {},
   "source": [
    "### Model Architecture"
   ]
  },
  {
   "cell_type": "code",
   "execution_count": 3,
   "metadata": {},
   "outputs": [
    {
     "name": "stderr",
     "output_type": "stream",
     "text": [
      "/Volumes/My Data/My GitHub/all-in-one-python/.aiop-venv/lib/python3.11/site-packages/keras/src/layers/core/dense.py:87: UserWarning: Do not pass an `input_shape`/`input_dim` argument to a layer. When using Sequential models, prefer using an `Input(shape)` object as the first layer in the model instead.\n",
      "  super().__init__(activity_regularizer=activity_regularizer, **kwargs)\n"
     ]
    }
   ],
   "source": [
    "model = keras.Sequential([\n",
    "  keras.layers.Dense(20, activation='relu', input_shape=(10,)),\n",
    "  keras.layers.Dense(2)\n",
    "])"
   ]
  },
  {
   "cell_type": "markdown",
   "metadata": {},
   "source": [
    "- We create a `Sequential` model, which is a linear stack of layers.\n",
    "- The first layer is a `Dense` (fully connected) layer with 20 neurons and ReLU activation. The `input_shape=(10,)` specifies that the input has 10 features.\n",
    "- The second layer is another `Dense` layer with 2 neurons (our output size), with no activation function (linear activation by default)."
   ]
  },
  {
   "cell_type": "markdown",
   "metadata": {},
   "source": [
    "### Model Compilation"
   ]
  },
  {
   "cell_type": "code",
   "execution_count": 4,
   "metadata": {},
   "outputs": [],
   "source": [
    "model.compile(optimizer='adam', loss='mse')"
   ]
  },
  {
   "cell_type": "markdown",
   "metadata": {},
   "source": [
    "- We compile the model, specifying:\n",
    "    - Optimizer: 'adam' (Adam optimization algorithm)\n",
    "    - Loss function: 'mse' (Mean Squared Error)"
   ]
  },
  {
   "cell_type": "markdown",
   "metadata": {},
   "source": [
    "### Data Generation"
   ]
  },
  {
   "cell_type": "code",
   "execution_count": 5,
   "metadata": {},
   "outputs": [],
   "source": [
    "X = np.random.randn(100, 10)\n",
    "y = np.random.randn(100, 2)"
   ]
  },
  {
   "cell_type": "markdown",
   "metadata": {},
   "source": [
    "- We generate random dummy data:\n",
    "    - `X`: 100 samples, each with 10 features\n",
    "    - `y`: 100 corresponding outputs, each with 2 values"
   ]
  },
  {
   "cell_type": "markdown",
   "metadata": {},
   "source": [
    "### Model Training"
   ]
  },
  {
   "cell_type": "code",
   "execution_count": 6,
   "metadata": {},
   "outputs": [],
   "source": [
    "history = model.fit(X, y, epochs=100, verbose=0)"
   ]
  },
  {
   "cell_type": "markdown",
   "metadata": {},
   "source": [
    "- We train the model using the fit method:\n",
    "    - `X` and `y` are our input and target data\n",
    "    - `epochs=100` specifies 100 training iterations\n",
    "    - `verbose=0` suppresses the output during training"
   ]
  },
  {
   "cell_type": "markdown",
   "metadata": {},
   "source": [
    "### Printing Results"
   ]
  },
  {
   "cell_type": "code",
   "execution_count": 7,
   "metadata": {},
   "outputs": [
    {
     "name": "stdout",
     "output_type": "stream",
     "text": [
      "Final loss: 0.9701\n"
     ]
    }
   ],
   "source": [
    "print(f\"Final loss: {history.history['loss'][-1]:.4f}\")"
   ]
  },
  {
   "cell_type": "markdown",
   "metadata": {},
   "source": [
    "- We print the final loss value after training."
   ]
  },
  {
   "cell_type": "markdown",
   "metadata": {},
   "source": [
    "### Model Testing"
   ]
  },
  {
   "cell_type": "code",
   "execution_count": 8,
   "metadata": {},
   "outputs": [
    {
     "name": "stdout",
     "output_type": "stream",
     "text": [
      "\u001b[1m1/1\u001b[0m \u001b[32m━━━━━━━━━━━━━━━━━━━━\u001b[0m\u001b[37m\u001b[0m \u001b[1m0s\u001b[0m 23ms/step\n",
      "Test input: [[ 0.1252245  -0.42940554  0.1222975   0.54329803  0.04886007  0.04059169\n",
      "  -0.70199169 -0.66290092 -1.40260527  1.74957674]]\n",
      "Model prediction: [[-0.16475922  0.455615  ]]\n"
     ]
    }
   ],
   "source": [
    "test_input = np.random.randn(1, 10)\n",
    "prediction = model.predict(test_input)\n",
    "print(\"Test input:\", test_input)\n",
    "print(\"Model prediction:\", prediction)"
   ]
  },
  {
   "cell_type": "markdown",
   "metadata": {},
   "source": [
    "- We generate a random test input.\n",
    "- We use the trained model to make a prediction.\n",
    "- We print both the test input and the model's prediction."
   ]
  },
  {
   "cell_type": "markdown",
   "metadata": {},
   "source": [
    "### Consolidated Code"
   ]
  },
  {
   "cell_type": "code",
   "execution_count": 9,
   "metadata": {},
   "outputs": [
    {
     "name": "stdout",
     "output_type": "stream",
     "text": [
      "Final loss: 0.9458\n",
      "\u001b[1m1/1\u001b[0m \u001b[32m━━━━━━━━━━━━━━━━━━━━\u001b[0m\u001b[37m\u001b[0m \u001b[1m0s\u001b[0m 12ms/step\n",
      "Test input: [[ 0.1252245  -0.42940554  0.1222975   0.54329803  0.04886007  0.04059169\n",
      "  -0.70199169 -0.66290092 -1.40260527  1.74957674]]\n",
      "Model prediction: [[ 0.1805391  -0.03424017]]\n"
     ]
    }
   ],
   "source": [
    "import tensorflow as tf\n",
    "from tensorflow import keras\n",
    "import numpy as np\n",
    "\n",
    "# Set random seed for reproducibility\n",
    "tf.random.set_seed(42)\n",
    "np.random.seed(42)\n",
    "\n",
    "# Define the neural network architecture\n",
    "model = keras.Sequential([\n",
    "  keras.layers.Dense(20, activation='relu', input_shape=(10,)),\n",
    "  keras.layers.Dense(2)\n",
    "])\n",
    "\n",
    "# Compile the model\n",
    "model.compile(optimizer='adam', loss='mse')\n",
    "\n",
    "# Generate some dummy data\n",
    "X = np.random.randn(100, 10)\n",
    "y = np.random.randn(100, 2)\n",
    "\n",
    "# Train the model\n",
    "history = model.fit(X, y, epochs=100, verbose=0)\n",
    "\n",
    "# Print final loss\n",
    "print(f\"Final loss: {history.history['loss'][-1]:.4f}\")\n",
    "\n",
    "# Test the model\n",
    "test_input = np.random.randn(1, 10)\n",
    "prediction = model.predict(test_input)\n",
    "print(\"Test input:\", test_input)\n",
    "print(\"Model prediction:\", prediction)"
   ]
  }
 ],
 "metadata": {
  "kernelspec": {
   "display_name": ".aiop-venv",
   "language": "python",
   "name": "python3"
  },
  "language_info": {
   "codemirror_mode": {
    "name": "ipython",
    "version": 3
   },
   "file_extension": ".py",
   "mimetype": "text/x-python",
   "name": "python",
   "nbconvert_exporter": "python",
   "pygments_lexer": "ipython3",
   "version": "3.11.9"
  }
 },
 "nbformat": 4,
 "nbformat_minor": 2
}
